{
 "cells": [
  {
   "cell_type": "markdown",
   "metadata": {},
   "source": [
    "## Setup\n",
    "\n",
    "Just as in the first lab, we have to prepare our environment by importing dependencies and creating clients.\n",
    "\n",
    "### Import dependencies\n",
    "\n",
    "The following libraries are needed for this lab."
   ]
  },
  {
   "cell_type": "code",
   "execution_count": 3,
   "metadata": {},
   "outputs": [],
   "source": [
    "import boto3\n",
    "import json\n",
    "import uuid\n",
    "import time\n",
    "import pandas as pd\n",
    "from botocore.exceptions import ClientError\n",
    "\n",
    "bucket = 'octank-recommendation'\n",
    "prefix = 'dataset'"
   ]
  },
  {
   "cell_type": "markdown",
   "metadata": {},
   "source": [
    "### Create clients\n",
    "\n",
    "We will need the following AWS service clients in this lab."
   ]
  },
  {
   "cell_type": "code",
   "execution_count": 54,
   "metadata": {},
   "outputs": [],
   "source": [
    "personalize = boto3.client('personalize')\n",
    "\n",
    "s3_client = boto3.client('s3')"
   ]
  },
  {
   "cell_type": "markdown",
   "metadata": {},
   "source": [
    "### Reviewing the dataset"
   ]
  },
  {
   "cell_type": "code",
   "execution_count": 34,
   "metadata": {},
   "outputs": [
    {
     "data": {
      "text/html": [
       "<div>\n",
       "<style scoped>\n",
       "    .dataframe tbody tr th:only-of-type {\n",
       "        vertical-align: middle;\n",
       "    }\n",
       "\n",
       "    .dataframe tbody tr th {\n",
       "        vertical-align: top;\n",
       "    }\n",
       "\n",
       "    .dataframe thead th {\n",
       "        text-align: right;\n",
       "    }\n",
       "</style>\n",
       "<table border=\"1\" class=\"dataframe\">\n",
       "  <thead>\n",
       "    <tr style=\"text-align: right;\">\n",
       "      <th></th>\n",
       "      <th>USER_ID</th>\n",
       "      <th>AGE</th>\n",
       "      <th>GENDER</th>\n",
       "    </tr>\n",
       "  </thead>\n",
       "  <tbody>\n",
       "    <tr>\n",
       "      <th>0</th>\n",
       "      <td>1</td>\n",
       "      <td>31</td>\n",
       "      <td>M</td>\n",
       "    </tr>\n",
       "    <tr>\n",
       "      <th>1</th>\n",
       "      <td>2</td>\n",
       "      <td>58</td>\n",
       "      <td>F</td>\n",
       "    </tr>\n",
       "    <tr>\n",
       "      <th>2</th>\n",
       "      <td>3</td>\n",
       "      <td>43</td>\n",
       "      <td>M</td>\n",
       "    </tr>\n",
       "    <tr>\n",
       "      <th>3</th>\n",
       "      <td>4</td>\n",
       "      <td>38</td>\n",
       "      <td>M</td>\n",
       "    </tr>\n",
       "    <tr>\n",
       "      <th>4</th>\n",
       "      <td>5</td>\n",
       "      <td>24</td>\n",
       "      <td>M</td>\n",
       "    </tr>\n",
       "    <tr>\n",
       "      <th>...</th>\n",
       "      <td>...</td>\n",
       "      <td>...</td>\n",
       "      <td>...</td>\n",
       "    </tr>\n",
       "    <tr>\n",
       "      <th>5245</th>\n",
       "      <td>5246</td>\n",
       "      <td>37</td>\n",
       "      <td>M</td>\n",
       "    </tr>\n",
       "    <tr>\n",
       "      <th>5246</th>\n",
       "      <td>5247</td>\n",
       "      <td>46</td>\n",
       "      <td>M</td>\n",
       "    </tr>\n",
       "    <tr>\n",
       "      <th>5247</th>\n",
       "      <td>5248</td>\n",
       "      <td>50</td>\n",
       "      <td>M</td>\n",
       "    </tr>\n",
       "    <tr>\n",
       "      <th>5248</th>\n",
       "      <td>5249</td>\n",
       "      <td>33</td>\n",
       "      <td>M</td>\n",
       "    </tr>\n",
       "    <tr>\n",
       "      <th>5249</th>\n",
       "      <td>5250</td>\n",
       "      <td>34</td>\n",
       "      <td>F</td>\n",
       "    </tr>\n",
       "  </tbody>\n",
       "</table>\n",
       "<p>5250 rows × 3 columns</p>\n",
       "</div>"
      ],
      "text/plain": [
       "      USER_ID  AGE GENDER\n",
       "0           1   31      M\n",
       "1           2   58      F\n",
       "2           3   43      M\n",
       "3           4   38      M\n",
       "4           5   24      M\n",
       "...       ...  ...    ...\n",
       "5245     5246   37      M\n",
       "5246     5247   46      M\n",
       "5247     5248   50      M\n",
       "5248     5249   33      M\n",
       "5249     5250   34      F\n",
       "\n",
       "[5250 rows x 3 columns]"
      ]
     },
     "execution_count": 34,
     "metadata": {},
     "output_type": "execute_result"
    }
   ],
   "source": [
    "users = 'users.csv'\n",
    "\n",
    "users_filename = f'{prefix}/{users}'\n",
    "s3_client.upload_file(users, bucket, users_filename)\n",
    "\n",
    "product = pd.read_csv(users)\n",
    "product"
   ]
  },
  {
   "cell_type": "code",
   "execution_count": 36,
   "metadata": {},
   "outputs": [
    {
     "data": {
      "text/html": [
       "<div>\n",
       "<style scoped>\n",
       "    .dataframe tbody tr th:only-of-type {\n",
       "        vertical-align: middle;\n",
       "    }\n",
       "\n",
       "    .dataframe tbody tr th {\n",
       "        vertical-align: top;\n",
       "    }\n",
       "\n",
       "    .dataframe thead th {\n",
       "        text-align: right;\n",
       "    }\n",
       "</style>\n",
       "<table border=\"1\" class=\"dataframe\">\n",
       "  <thead>\n",
       "    <tr style=\"text-align: right;\">\n",
       "      <th></th>\n",
       "      <th>ITEM_ID</th>\n",
       "      <th>PRICE</th>\n",
       "      <th>CATEGORY_L1</th>\n",
       "      <th>CATEGORY_L2</th>\n",
       "      <th>PRODUCT_DESCRIPTION</th>\n",
       "      <th>GENDER</th>\n",
       "    </tr>\n",
       "  </thead>\n",
       "  <tbody>\n",
       "    <tr>\n",
       "      <th>0</th>\n",
       "      <td>e1669081-8ffc-4dec-97a6-e9176d7f6651</td>\n",
       "      <td>124.99</td>\n",
       "      <td>apparel</td>\n",
       "      <td>scarf</td>\n",
       "      <td>Sans pareil scarf for women</td>\n",
       "      <td>F</td>\n",
       "    </tr>\n",
       "    <tr>\n",
       "      <th>1</th>\n",
       "      <td>cfafd627-7d6b-43a5-be05-4c7937be417d</td>\n",
       "      <td>57.99</td>\n",
       "      <td>housewares</td>\n",
       "      <td>kitchen</td>\n",
       "      <td>A must-have for your kitchen</td>\n",
       "      <td>Any</td>\n",
       "    </tr>\n",
       "    <tr>\n",
       "      <th>2</th>\n",
       "      <td>6e6ad102-7510-4a02-b8ce-5a0cd6f431d1</td>\n",
       "      <td>133.99</td>\n",
       "      <td>apparel</td>\n",
       "      <td>jacket</td>\n",
       "      <td>This gainsboro jacket for women is perfect for...</td>\n",
       "      <td>F</td>\n",
       "    </tr>\n",
       "    <tr>\n",
       "      <th>3</th>\n",
       "      <td>49b89871-5fe7-4898-b99d-953e15fb42b2</td>\n",
       "      <td>196.99</td>\n",
       "      <td>electronics</td>\n",
       "      <td>speaker</td>\n",
       "      <td>High definition speakers to fill the house wit...</td>\n",
       "      <td>Any</td>\n",
       "    </tr>\n",
       "    <tr>\n",
       "      <th>4</th>\n",
       "      <td>5cb18925-3a3c-4867-8f1c-46efd7eba067</td>\n",
       "      <td>9.99</td>\n",
       "      <td>footwear</td>\n",
       "      <td>sandals</td>\n",
       "      <td>This spiffy pair of sandals for woman is perfe...</td>\n",
       "      <td>F</td>\n",
       "    </tr>\n",
       "    <tr>\n",
       "      <th>...</th>\n",
       "      <td>...</td>\n",
       "      <td>...</td>\n",
       "      <td>...</td>\n",
       "      <td>...</td>\n",
       "      <td>...</td>\n",
       "      <td>...</td>\n",
       "    </tr>\n",
       "    <tr>\n",
       "      <th>2460</th>\n",
       "      <td>36cfd856-dd30-46a9-8654-1f1de77e674a</td>\n",
       "      <td>128.99</td>\n",
       "      <td>floral</td>\n",
       "      <td>wreath</td>\n",
       "      <td>Easter wreath grown sustainably on our organic...</td>\n",
       "      <td>Any</td>\n",
       "    </tr>\n",
       "    <tr>\n",
       "      <th>2461</th>\n",
       "      <td>1ea9439f-dff5-41cf-aac3-718a6b4e7af6</td>\n",
       "      <td>77.99</td>\n",
       "      <td>footwear</td>\n",
       "      <td>sneaker</td>\n",
       "      <td>An all-around voguish pair of white sneakers</td>\n",
       "      <td>F</td>\n",
       "    </tr>\n",
       "    <tr>\n",
       "      <th>2462</th>\n",
       "      <td>ccdf737c-c4fd-4c78-abd2-d5ef0428ef20</td>\n",
       "      <td>56.99</td>\n",
       "      <td>housewares</td>\n",
       "      <td>kitchen</td>\n",
       "      <td>Ideal for every kitchen</td>\n",
       "      <td>Any</td>\n",
       "    </tr>\n",
       "    <tr>\n",
       "      <th>2463</th>\n",
       "      <td>12f93a36-e282-4445-92ae-356eb6a560fd</td>\n",
       "      <td>98.99</td>\n",
       "      <td>floral</td>\n",
       "      <td>arrangement</td>\n",
       "      <td>Roses arrangement grown sustainably on our org...</td>\n",
       "      <td>Any</td>\n",
       "    </tr>\n",
       "    <tr>\n",
       "      <th>2464</th>\n",
       "      <td>23e77743-ff28-400a-811f-e08d3cab5e45</td>\n",
       "      <td>123.99</td>\n",
       "      <td>apparel</td>\n",
       "      <td>scarf</td>\n",
       "      <td>Ultrachic scarf for women for every occasion</td>\n",
       "      <td>F</td>\n",
       "    </tr>\n",
       "  </tbody>\n",
       "</table>\n",
       "<p>2465 rows × 6 columns</p>\n",
       "</div>"
      ],
      "text/plain": [
       "                                   ITEM_ID   PRICE  CATEGORY_L1  CATEGORY_L2  \\\n",
       "0     e1669081-8ffc-4dec-97a6-e9176d7f6651  124.99      apparel        scarf   \n",
       "1     cfafd627-7d6b-43a5-be05-4c7937be417d   57.99   housewares      kitchen   \n",
       "2     6e6ad102-7510-4a02-b8ce-5a0cd6f431d1  133.99      apparel       jacket   \n",
       "3     49b89871-5fe7-4898-b99d-953e15fb42b2  196.99  electronics      speaker   \n",
       "4     5cb18925-3a3c-4867-8f1c-46efd7eba067    9.99     footwear      sandals   \n",
       "...                                    ...     ...          ...          ...   \n",
       "2460  36cfd856-dd30-46a9-8654-1f1de77e674a  128.99       floral       wreath   \n",
       "2461  1ea9439f-dff5-41cf-aac3-718a6b4e7af6   77.99     footwear      sneaker   \n",
       "2462  ccdf737c-c4fd-4c78-abd2-d5ef0428ef20   56.99   housewares      kitchen   \n",
       "2463  12f93a36-e282-4445-92ae-356eb6a560fd   98.99       floral  arrangement   \n",
       "2464  23e77743-ff28-400a-811f-e08d3cab5e45  123.99      apparel        scarf   \n",
       "\n",
       "                                    PRODUCT_DESCRIPTION GENDER  \n",
       "0                           Sans pareil scarf for women      F  \n",
       "1                          A must-have for your kitchen    Any  \n",
       "2     This gainsboro jacket for women is perfect for...      F  \n",
       "3     High definition speakers to fill the house wit...    Any  \n",
       "4     This spiffy pair of sandals for woman is perfe...      F  \n",
       "...                                                 ...    ...  \n",
       "2460  Easter wreath grown sustainably on our organic...    Any  \n",
       "2461       An all-around voguish pair of white sneakers      F  \n",
       "2462                            Ideal for every kitchen    Any  \n",
       "2463  Roses arrangement grown sustainably on our org...    Any  \n",
       "2464       Ultrachic scarf for women for every occasion      F  \n",
       "\n",
       "[2465 rows x 6 columns]"
      ]
     },
     "execution_count": 36,
     "metadata": {},
     "output_type": "execute_result"
    }
   ],
   "source": [
    "items = 'items.csv'\n",
    "items_filename = f'{prefix}/{items}'\n",
    "s3_client.upload_file(items, bucket, items_filename)\n",
    "\n",
    "product = pd.read_csv(items)\n",
    "product"
   ]
  },
  {
   "cell_type": "code",
   "execution_count": 80,
   "metadata": {},
   "outputs": [
    {
     "data": {
      "text/html": [
       "<div>\n",
       "<style scoped>\n",
       "    .dataframe tbody tr th:only-of-type {\n",
       "        vertical-align: middle;\n",
       "    }\n",
       "\n",
       "    .dataframe tbody tr th {\n",
       "        vertical-align: top;\n",
       "    }\n",
       "\n",
       "    .dataframe thead th {\n",
       "        text-align: right;\n",
       "    }\n",
       "</style>\n",
       "<table border=\"1\" class=\"dataframe\">\n",
       "  <thead>\n",
       "    <tr style=\"text-align: right;\">\n",
       "      <th></th>\n",
       "      <th>ITEM_ID</th>\n",
       "      <th>USER_ID</th>\n",
       "      <th>EVENT_TYPE</th>\n",
       "      <th>TIMESTAMP</th>\n",
       "      <th>DISCOUNT</th>\n",
       "    </tr>\n",
       "  </thead>\n",
       "  <tbody>\n",
       "    <tr>\n",
       "      <th>0</th>\n",
       "      <td>26bb732f-9159-432f-91ef-bad14fedd298</td>\n",
       "      <td>3156</td>\n",
       "      <td>View</td>\n",
       "      <td>1591803788</td>\n",
       "      <td>No</td>\n",
       "    </tr>\n",
       "    <tr>\n",
       "      <th>1</th>\n",
       "      <td>26bb732f-9159-432f-91ef-bad14fedd298</td>\n",
       "      <td>3156</td>\n",
       "      <td>View</td>\n",
       "      <td>1591803788</td>\n",
       "      <td>No</td>\n",
       "    </tr>\n",
       "    <tr>\n",
       "      <th>2</th>\n",
       "      <td>dc073623-4b95-47d9-93cb-0171c20baa04</td>\n",
       "      <td>332</td>\n",
       "      <td>View</td>\n",
       "      <td>1591803812</td>\n",
       "      <td>Yes</td>\n",
       "    </tr>\n",
       "    <tr>\n",
       "      <th>3</th>\n",
       "      <td>dc073623-4b95-47d9-93cb-0171c20baa04</td>\n",
       "      <td>332</td>\n",
       "      <td>View</td>\n",
       "      <td>1591803812</td>\n",
       "      <td>Yes</td>\n",
       "    </tr>\n",
       "    <tr>\n",
       "      <th>4</th>\n",
       "      <td>31efcfea-47d6-43f3-97f7-2704a5397e22</td>\n",
       "      <td>3981</td>\n",
       "      <td>View</td>\n",
       "      <td>1591803830</td>\n",
       "      <td>Yes</td>\n",
       "    </tr>\n",
       "    <tr>\n",
       "      <th>...</th>\n",
       "      <td>...</td>\n",
       "      <td>...</td>\n",
       "      <td>...</td>\n",
       "      <td>...</td>\n",
       "      <td>...</td>\n",
       "    </tr>\n",
       "    <tr>\n",
       "      <th>674999</th>\n",
       "      <td>9bc87696-e9bd-4241-86b0-234e054a607b</td>\n",
       "      <td>5165</td>\n",
       "      <td>View</td>\n",
       "      <td>1598204678</td>\n",
       "      <td>Yes</td>\n",
       "    </tr>\n",
       "    <tr>\n",
       "      <th>675000</th>\n",
       "      <td>9bc87696-e9bd-4241-86b0-234e054a607b</td>\n",
       "      <td>5165</td>\n",
       "      <td>AddToCart</td>\n",
       "      <td>1598204681</td>\n",
       "      <td>Yes</td>\n",
       "    </tr>\n",
       "    <tr>\n",
       "      <th>675001</th>\n",
       "      <td>9bc87696-e9bd-4241-86b0-234e054a607b</td>\n",
       "      <td>5165</td>\n",
       "      <td>ViewCart</td>\n",
       "      <td>1598204686</td>\n",
       "      <td>Yes</td>\n",
       "    </tr>\n",
       "    <tr>\n",
       "      <th>675002</th>\n",
       "      <td>9bc87696-e9bd-4241-86b0-234e054a607b</td>\n",
       "      <td>5165</td>\n",
       "      <td>StartCheckout</td>\n",
       "      <td>1598204686</td>\n",
       "      <td>Yes</td>\n",
       "    </tr>\n",
       "    <tr>\n",
       "      <th>675003</th>\n",
       "      <td>9bc87696-e9bd-4241-86b0-234e054a607b</td>\n",
       "      <td>5165</td>\n",
       "      <td>Purchase</td>\n",
       "      <td>1598204689</td>\n",
       "      <td>Yes</td>\n",
       "    </tr>\n",
       "  </tbody>\n",
       "</table>\n",
       "<p>675004 rows × 5 columns</p>\n",
       "</div>"
      ],
      "text/plain": [
       "                                     ITEM_ID  USER_ID     EVENT_TYPE  \\\n",
       "0       26bb732f-9159-432f-91ef-bad14fedd298     3156           View   \n",
       "1       26bb732f-9159-432f-91ef-bad14fedd298     3156           View   \n",
       "2       dc073623-4b95-47d9-93cb-0171c20baa04      332           View   \n",
       "3       dc073623-4b95-47d9-93cb-0171c20baa04      332           View   \n",
       "4       31efcfea-47d6-43f3-97f7-2704a5397e22     3981           View   \n",
       "...                                      ...      ...            ...   \n",
       "674999  9bc87696-e9bd-4241-86b0-234e054a607b     5165           View   \n",
       "675000  9bc87696-e9bd-4241-86b0-234e054a607b     5165      AddToCart   \n",
       "675001  9bc87696-e9bd-4241-86b0-234e054a607b     5165       ViewCart   \n",
       "675002  9bc87696-e9bd-4241-86b0-234e054a607b     5165  StartCheckout   \n",
       "675003  9bc87696-e9bd-4241-86b0-234e054a607b     5165       Purchase   \n",
       "\n",
       "         TIMESTAMP DISCOUNT  \n",
       "0       1591803788       No  \n",
       "1       1591803788       No  \n",
       "2       1591803812      Yes  \n",
       "3       1591803812      Yes  \n",
       "4       1591803830      Yes  \n",
       "...            ...      ...  \n",
       "674999  1598204678      Yes  \n",
       "675000  1598204681      Yes  \n",
       "675001  1598204686      Yes  \n",
       "675002  1598204686      Yes  \n",
       "675003  1598204689      Yes  \n",
       "\n",
       "[675004 rows x 5 columns]"
      ]
     },
     "execution_count": 80,
     "metadata": {},
     "output_type": "execute_result"
    }
   ],
   "source": [
    "interactions = 'interactions.csv'\n",
    "\n",
    "interactions_filename = f'{prefix}/{interactions}'\n",
    "s3_client.upload_file(interactions, bucket, interactions_filename)\n",
    "\n",
    "df_interactions = pd.read_csv(interactions)\n",
    "df_interactions"
   ]
  },
  {
   "cell_type": "code",
   "execution_count": 82,
   "metadata": {},
   "outputs": [
    {
     "data": {
      "text/plain": [
       "{'No', 'Yes'}"
      ]
     },
     "execution_count": 82,
     "metadata": {},
     "output_type": "execute_result"
    }
   ],
   "source": [
    "set(df_interactions['DISCOUNT'])"
   ]
  },
  {
   "cell_type": "markdown",
   "metadata": {},
   "source": [
    "## Configure Amazon Personalize\n",
    "\n",
    "Now that we've prepared our three datasets and uploaded them to S3 we'll need to configure the Amazon Personalize service to understand our data so that it can be used to train models for generating recommendations.\n",
    "\n",
    "Note: if you deployed the Retail Demo Store with the \"auto create Personalize resources\" flag set to \"Yes\", the following steps have already been automatically completed for you."
   ]
  },
  {
   "cell_type": "markdown",
   "metadata": {},
   "source": [
    "### Create Schemas for Datasets\n",
    "\n",
    "Amazon Personalize requires a schema for each dataset so it can map the columns in our CSVs to fields for model training. Each schema is declared in JSON using the [Apache Avro](https://avro.apache.org/) format.\n",
    "\n",
    "Let's define and create schemas in Personalize for our datasets.\n",
    "\n",
    "Note that categorical fields include an additional attribute of `\"categorical\": true` and the textual field has an additional attribute of `\"textual\": true`. Categorical fields are those where one or more values can be specified for the field value (i.e. enumerated values). For example, one or more category names/codes for the `CATEGORY_L1` field. A textual field indicates that Personalize should apply a natural language processing (NLP) model to the field's value to extract model features from unstructured text. In this case, we're using the product description as the textual field. You can only have one textual field in the items dataset. \n",
    "\n",
    "Another detail to note is that when we call the [CreateSchema](https://docs.aws.amazon.com/personalize/latest/dg/API_CreateSchema.html) API, we pass an optional `domain` parameter with a value of `ECOMMERCE`. This tells Personalize that we are creating a schema for Retail/E-commerce domain. We will do this for all three schemas."
   ]
  },
  {
   "cell_type": "markdown",
   "metadata": {},
   "source": [
    "#### Items Datsaset Schema"
   ]
  },
  {
   "cell_type": "code",
   "execution_count": 13,
   "metadata": {},
   "outputs": [
    {
     "name": "stdout",
     "output_type": "stream",
     "text": [
      "{\n",
      "  \"schemaArn\": \"arn:aws:personalize:us-east-1:913089978341:schema/octank-products\",\n",
      "  \"ResponseMetadata\": {\n",
      "    \"RequestId\": \"b95fc66c-9457-45d1-bb50-d7379848cb6a\",\n",
      "    \"HTTPStatusCode\": 200,\n",
      "    \"HTTPHeaders\": {\n",
      "      \"date\": \"Thu, 14 Apr 2022 17:47:51 GMT\",\n",
      "      \"content-type\": \"application/x-amz-json-1.1\",\n",
      "      \"content-length\": \"81\",\n",
      "      \"connection\": \"keep-alive\",\n",
      "      \"x-amzn-requestid\": \"b95fc66c-9457-45d1-bb50-d7379848cb6a\"\n",
      "    },\n",
      "    \"RetryAttempts\": 0\n",
      "  }\n",
      "}\n"
     ]
    }
   ],
   "source": [
    "items_schema = {\n",
    "    \"type\": \"record\",\n",
    "    \"name\": \"Items\",\n",
    "    \"namespace\": \"com.amazonaws.personalize.schema\",\n",
    "    \"fields\": [\n",
    "        {\n",
    "            \"name\": \"ITEM_ID\",\n",
    "            \"type\": \"string\"\n",
    "        },\n",
    "        {\n",
    "            \"name\": \"PRICE\",\n",
    "            \"type\": \"float\"\n",
    "        },\n",
    "        {\n",
    "            \"name\": \"CATEGORY_L1\",\n",
    "            \"type\": \"string\",\n",
    "            \"categorical\": True,\n",
    "        },\n",
    "        {\n",
    "            \"name\": \"CATEGORY_L2\",\n",
    "            \"type\": \"string\",\n",
    "            \"categorical\": True,\n",
    "        },\n",
    "        {\n",
    "            \"name\": \"PRODUCT_DESCRIPTION\",\n",
    "            \"type\": \"string\",\n",
    "            \"textual\": True\n",
    "        },\n",
    "        {\n",
    "            \"name\": \"GENDER\",\n",
    "            \"type\": \"string\",\n",
    "            \"categorical\": True,\n",
    "        },\n",
    "    ],\n",
    "    \"version\": \"1.0\"\n",
    "}\n",
    "\n",
    "try:\n",
    "    create_schema_response = personalize.create_schema(\n",
    "        name = \"octank-products\",\n",
    "        domain = 'ECOMMERCE',\n",
    "        schema = json.dumps(items_schema)\n",
    "    )\n",
    "    items_schema_arn = create_schema_response['schemaArn']\n",
    "    print(json.dumps(create_schema_response, indent=2))\n",
    "except personalize.exceptions.ResourceAlreadyExistsException:\n",
    "    print('You aready created this schema, seemingly')\n",
    "    paginator = personalize.get_paginator('list_schemas')\n",
    "    for paginate_result in paginator.paginate():\n",
    "        for schema in paginate_result['schemas']:\n",
    "            if schema['name'] == 'retaildemostore-products-items':\n",
    "                items_schema_arn = schema['schemaArn']\n",
    "                print(f\"Using existing schema: {items_schema_arn}\")\n",
    "                break"
   ]
  },
  {
   "cell_type": "markdown",
   "metadata": {},
   "source": [
    "#### Users Dataset Schema"
   ]
  },
  {
   "cell_type": "code",
   "execution_count": 14,
   "metadata": {},
   "outputs": [
    {
     "name": "stdout",
     "output_type": "stream",
     "text": [
      "{\n",
      "  \"schemaArn\": \"arn:aws:personalize:us-east-1:913089978341:schema/octank-users\",\n",
      "  \"ResponseMetadata\": {\n",
      "    \"RequestId\": \"0c20fbe1-be36-43a3-b3c4-1f084c0840bd\",\n",
      "    \"HTTPStatusCode\": 200,\n",
      "    \"HTTPHeaders\": {\n",
      "      \"date\": \"Thu, 14 Apr 2022 17:48:16 GMT\",\n",
      "      \"content-type\": \"application/x-amz-json-1.1\",\n",
      "      \"content-length\": \"78\",\n",
      "      \"connection\": \"keep-alive\",\n",
      "      \"x-amzn-requestid\": \"0c20fbe1-be36-43a3-b3c4-1f084c0840bd\"\n",
      "    },\n",
      "    \"RetryAttempts\": 0\n",
      "  }\n",
      "}\n"
     ]
    }
   ],
   "source": [
    "users_schema = {\n",
    "    \"type\": \"record\",\n",
    "    \"name\": \"Users\",\n",
    "    \"namespace\": \"com.amazonaws.personalize.schema\",\n",
    "    \"fields\": [\n",
    "        {\n",
    "            \"name\": \"USER_ID\",\n",
    "            \"type\": \"string\"\n",
    "        },\n",
    "        {\n",
    "            \"name\": \"AGE\",\n",
    "            \"type\": \"int\"\n",
    "        },\n",
    "        {\n",
    "            \"name\": \"GENDER\",\n",
    "            \"type\": \"string\",\n",
    "            \"categorical\": True,\n",
    "        }\n",
    "    ],\n",
    "    \"version\": \"1.0\"\n",
    "}\n",
    "\n",
    "try:\n",
    "    create_schema_response = personalize.create_schema(\n",
    "        name = \"octank-users\",\n",
    "        domain = \"ECOMMERCE\",\n",
    "        schema = json.dumps(users_schema)\n",
    "    )\n",
    "    print(json.dumps(create_schema_response, indent=2))\n",
    "    users_schema_arn = create_schema_response['schemaArn']\n",
    "except personalize.exceptions.ResourceAlreadyExistsException:\n",
    "    print('You aready created this schema, seemingly')\n",
    "    paginator = personalize.get_paginator('list_schemas')\n",
    "    for paginate_result in paginator.paginate():\n",
    "        for schema in paginate_result['schemas']:\n",
    "            if schema['name'] == 'retaildemostore-products-users':\n",
    "                users_schema_arn = schema['schemaArn']\n",
    "                print(f\"Using existing schema: {users_schema_arn}\")\n",
    "                break"
   ]
  },
  {
   "cell_type": "markdown",
   "metadata": {},
   "source": [
    "#### Interactions Dataset Schema"
   ]
  },
  {
   "cell_type": "code",
   "execution_count": 15,
   "metadata": {},
   "outputs": [
    {
     "name": "stdout",
     "output_type": "stream",
     "text": [
      "{\n",
      "  \"schemaArn\": \"arn:aws:personalize:us-east-1:913089978341:schema/octank-products-interactions\",\n",
      "  \"ResponseMetadata\": {\n",
      "    \"RequestId\": \"1a3ebb3c-c89e-40b2-a2d6-de22b0d9476b\",\n",
      "    \"HTTPStatusCode\": 200,\n",
      "    \"HTTPHeaders\": {\n",
      "      \"date\": \"Thu, 14 Apr 2022 17:48:35 GMT\",\n",
      "      \"content-type\": \"application/x-amz-json-1.1\",\n",
      "      \"content-length\": \"94\",\n",
      "      \"connection\": \"keep-alive\",\n",
      "      \"x-amzn-requestid\": \"1a3ebb3c-c89e-40b2-a2d6-de22b0d9476b\"\n",
      "    },\n",
      "    \"RetryAttempts\": 0\n",
      "  }\n",
      "}\n"
     ]
    }
   ],
   "source": [
    "interactions_schema = {\n",
    "    \"type\": \"record\",\n",
    "    \"name\": \"Interactions\",\n",
    "    \"namespace\": \"com.amazonaws.personalize.schema\",\n",
    "    \"fields\": [\n",
    "        {\n",
    "            \"name\": \"ITEM_ID\",\n",
    "            \"type\": \"string\"\n",
    "        },\n",
    "        {\n",
    "            \"name\": \"USER_ID\",\n",
    "            \"type\": \"string\"\n",
    "        },\n",
    "        {\n",
    "            \"name\": \"EVENT_TYPE\",  # \"View\", \"Purchase\", etc.\n",
    "            \"type\": \"string\"\n",
    "        },\n",
    "        {\n",
    "            \"name\": \"TIMESTAMP\",\n",
    "            \"type\": \"long\"\n",
    "        },\n",
    "        {\n",
    "            \"name\": \"DISCOUNT\",  # This is the contextual metadata - \"Yes\" or \"No\".\n",
    "            \"type\": \"string\"\n",
    "        },\n",
    "    ],\n",
    "    \"version\": \"1.0\"\n",
    "}\n",
    "\n",
    "try:\n",
    "    create_schema_response = personalize.create_schema(\n",
    "        name = \"octank-products-interactions\",\n",
    "        domain = \"ECOMMERCE\",\n",
    "        schema = json.dumps(interactions_schema)\n",
    "    )\n",
    "    print(json.dumps(create_schema_response, indent=2))\n",
    "    interactions_schema_arn = create_schema_response['schemaArn']\n",
    "except personalize.exceptions.ResourceAlreadyExistsException:\n",
    "    print('You aready created this schema, seemingly')\n",
    "    paginator = personalize.get_paginator('list_schemas')\n",
    "    for paginate_result in paginator.paginate():\n",
    "        for schema in paginate_result['schemas']:\n",
    "            if schema['name'] == 'retaildemostore-products-interactions':\n",
    "                interactions_schema_arn = schema['schemaArn']\n",
    "                print(f\"Using existing schema: {interactions_schema_arn}\")\n",
    "                break"
   ]
  },
  {
   "cell_type": "markdown",
   "metadata": {},
   "source": [
    "### Create and Wait for Dataset Group\n",
    "\n",
    "Next we need to create the dataset group that will contain our three datasets. This is one of many Personalize operations that are asynchronous. That is, we call an API to create a resource and have to wait for it to become active."
   ]
  },
  {
   "cell_type": "markdown",
   "metadata": {},
   "source": [
    "#### Create Dataset Group\n",
    "\n",
    "Note that we are also passing `ECOMMERCE` for the `domain` parameter here too."
   ]
  },
  {
   "cell_type": "code",
   "execution_count": 16,
   "metadata": {},
   "outputs": [
    {
     "name": "stdout",
     "output_type": "stream",
     "text": [
      "{\n",
      "  \"datasetGroupArn\": \"arn:aws:personalize:us-east-1:913089978341:dataset-group/octank-products\",\n",
      "  \"domain\": \"ECOMMERCE\",\n",
      "  \"ResponseMetadata\": {\n",
      "    \"RequestId\": \"01adbd9d-97ff-4b12-93c7-e972e6313e96\",\n",
      "    \"HTTPStatusCode\": 200,\n",
      "    \"HTTPHeaders\": {\n",
      "      \"date\": \"Thu, 14 Apr 2022 17:49:00 GMT\",\n",
      "      \"content-type\": \"application/x-amz-json-1.1\",\n",
      "      \"content-length\": \"115\",\n",
      "      \"connection\": \"keep-alive\",\n",
      "      \"x-amzn-requestid\": \"01adbd9d-97ff-4b12-93c7-e972e6313e96\"\n",
      "    },\n",
      "    \"RetryAttempts\": 0\n",
      "  }\n",
      "}\n",
      "DatasetGroupArn = arn:aws:personalize:us-east-1:913089978341:dataset-group/octank-products\n"
     ]
    }
   ],
   "source": [
    "try:\n",
    "    create_dataset_group_response = personalize.create_dataset_group(\n",
    "        name = 'octank-products',\n",
    "        domain = 'ECOMMERCE'\n",
    "    )\n",
    "    dataset_group_arn = create_dataset_group_response['datasetGroupArn']\n",
    "    print(json.dumps(create_dataset_group_response, indent=2))\n",
    "except personalize.exceptions.ResourceAlreadyExistsException:\n",
    "    print('You aready created this dataset group, seemingly')\n",
    "    paginator = personalize.get_paginator('list_dataset_groups')\n",
    "    for paginate_result in paginator.paginate():\n",
    "        for dataset_group in paginate_result['datasetGroups']:\n",
    "            if dataset_group['name'] == 'retaildemostore-products':\n",
    "                dataset_group_arn = dataset_group['datasetGroupArn']\n",
    "                break\n",
    "                \n",
    "print(f'DatasetGroupArn = {dataset_group_arn}')"
   ]
  },
  {
   "cell_type": "markdown",
   "metadata": {},
   "source": [
    "#### Wait for Dataset Group to Have ACTIVE Status"
   ]
  },
  {
   "cell_type": "code",
   "execution_count": 17,
   "metadata": {},
   "outputs": [
    {
     "name": "stdout",
     "output_type": "stream",
     "text": [
      "DatasetGroup: ACTIVE\n"
     ]
    }
   ],
   "source": [
    "status = None\n",
    "max_time = time.time() + 3*60*60 # 3 hours\n",
    "while time.time() < max_time:\n",
    "    describe_dataset_group_response = personalize.describe_dataset_group(\n",
    "        datasetGroupArn = dataset_group_arn\n",
    "    )\n",
    "    status = describe_dataset_group_response[\"datasetGroup\"][\"status\"]\n",
    "    print(\"DatasetGroup: {}\".format(status))\n",
    "    \n",
    "    if status == \"ACTIVE\" or status == \"CREATE FAILED\":\n",
    "        break\n",
    "        \n",
    "    time.sleep(15)"
   ]
  },
  {
   "cell_type": "markdown",
   "metadata": {},
   "source": [
    "### Create Items Dataset\n",
    "\n",
    "Next we will create the datasets in Personalize for our three dataset types. Let's start with the items dataset."
   ]
  },
  {
   "cell_type": "code",
   "execution_count": 18,
   "metadata": {},
   "outputs": [
    {
     "name": "stdout",
     "output_type": "stream",
     "text": [
      "{\n",
      "  \"datasetArn\": \"arn:aws:personalize:us-east-1:913089978341:dataset/octank-products/ITEMS\",\n",
      "  \"ResponseMetadata\": {\n",
      "    \"RequestId\": \"90cf5f9f-6ec2-4ea4-a696-3085213de7c2\",\n",
      "    \"HTTPStatusCode\": 200,\n",
      "    \"HTTPHeaders\": {\n",
      "      \"date\": \"Thu, 14 Apr 2022 17:50:35 GMT\",\n",
      "      \"content-type\": \"application/x-amz-json-1.1\",\n",
      "      \"content-length\": \"89\",\n",
      "      \"connection\": \"keep-alive\",\n",
      "      \"x-amzn-requestid\": \"90cf5f9f-6ec2-4ea4-a696-3085213de7c2\"\n",
      "    },\n",
      "    \"RetryAttempts\": 0\n",
      "  }\n",
      "}\n",
      "Items dataset ARN = arn:aws:personalize:us-east-1:913089978341:dataset/octank-products/ITEMS\n"
     ]
    }
   ],
   "source": [
    "try:\n",
    "    dataset_type = \"ITEMS\"\n",
    "    create_dataset_response = personalize.create_dataset(\n",
    "        name = \"octank-products-items\",\n",
    "        datasetType = dataset_type,\n",
    "        datasetGroupArn = dataset_group_arn,\n",
    "        schemaArn = items_schema_arn\n",
    "    )\n",
    "\n",
    "    items_dataset_arn = create_dataset_response['datasetArn']\n",
    "    print(json.dumps(create_dataset_response, indent=2))\n",
    "except personalize.exceptions.ResourceAlreadyExistsException:\n",
    "    print('You aready created this dataset, seemingly')\n",
    "    paginator = personalize.get_paginator('list_datasets')\n",
    "    for paginate_result in paginator.paginate(datasetGroupArn = dataset_group_arn):\n",
    "        for dataset in paginate_result['datasets']:\n",
    "            if dataset['name'] == 'retaildemostore-products-items':\n",
    "                items_dataset_arn = dataset['datasetArn']\n",
    "                break\n",
    "                \n",
    "print(f'Items dataset ARN = {items_dataset_arn}')"
   ]
  },
  {
   "cell_type": "markdown",
   "metadata": {},
   "source": [
    "### Create Users Dataset"
   ]
  },
  {
   "cell_type": "code",
   "execution_count": 19,
   "metadata": {},
   "outputs": [
    {
     "name": "stdout",
     "output_type": "stream",
     "text": [
      "{\n",
      "  \"datasetArn\": \"arn:aws:personalize:us-east-1:913089978341:dataset/octank-products/USERS\",\n",
      "  \"ResponseMetadata\": {\n",
      "    \"RequestId\": \"ece252e0-f7a5-4276-9ca3-9cf614710d6b\",\n",
      "    \"HTTPStatusCode\": 200,\n",
      "    \"HTTPHeaders\": {\n",
      "      \"date\": \"Thu, 14 Apr 2022 17:50:45 GMT\",\n",
      "      \"content-type\": \"application/x-amz-json-1.1\",\n",
      "      \"content-length\": \"89\",\n",
      "      \"connection\": \"keep-alive\",\n",
      "      \"x-amzn-requestid\": \"ece252e0-f7a5-4276-9ca3-9cf614710d6b\"\n",
      "    },\n",
      "    \"RetryAttempts\": 0\n",
      "  }\n",
      "}\n",
      "Users dataset ARN = arn:aws:personalize:us-east-1:913089978341:dataset/octank-products/USERS\n"
     ]
    }
   ],
   "source": [
    "try:\n",
    "    dataset_type = \"USERS\"\n",
    "    create_dataset_response = personalize.create_dataset(\n",
    "        name = \"octank-products-users\",\n",
    "        datasetType = dataset_type,\n",
    "        datasetGroupArn = dataset_group_arn,\n",
    "        schemaArn = users_schema_arn\n",
    "    )\n",
    "\n",
    "    users_dataset_arn = create_dataset_response['datasetArn']\n",
    "    print(json.dumps(create_dataset_response, indent=2))\n",
    "except personalize.exceptions.ResourceAlreadyExistsException:\n",
    "    print('You aready created this dataset, seemingly')\n",
    "    paginator = personalize.get_paginator('list_datasets')\n",
    "    for paginate_result in paginator.paginate(datasetGroupArn = dataset_group_arn):\n",
    "        for dataset in paginate_result['datasets']:\n",
    "            if dataset['name'] == 'retaildemostore-products-users':\n",
    "                users_dataset_arn = dataset['datasetArn']\n",
    "                break\n",
    "                \n",
    "print(f'Users dataset ARN = {users_dataset_arn}')"
   ]
  },
  {
   "cell_type": "markdown",
   "metadata": {},
   "source": [
    "### Create Interactions Dataset"
   ]
  },
  {
   "cell_type": "code",
   "execution_count": 20,
   "metadata": {},
   "outputs": [
    {
     "name": "stdout",
     "output_type": "stream",
     "text": [
      "{\n",
      "  \"datasetArn\": \"arn:aws:personalize:us-east-1:913089978341:dataset/octank-products/INTERACTIONS\",\n",
      "  \"ResponseMetadata\": {\n",
      "    \"RequestId\": \"de46f013-c414-414a-ac75-e65e6271753a\",\n",
      "    \"HTTPStatusCode\": 200,\n",
      "    \"HTTPHeaders\": {\n",
      "      \"date\": \"Thu, 14 Apr 2022 17:50:55 GMT\",\n",
      "      \"content-type\": \"application/x-amz-json-1.1\",\n",
      "      \"content-length\": \"96\",\n",
      "      \"connection\": \"keep-alive\",\n",
      "      \"x-amzn-requestid\": \"de46f013-c414-414a-ac75-e65e6271753a\"\n",
      "    },\n",
      "    \"RetryAttempts\": 0\n",
      "  }\n",
      "}\n",
      "Interactions dataset ARN = arn:aws:personalize:us-east-1:913089978341:dataset/octank-products/INTERACTIONS\n"
     ]
    }
   ],
   "source": [
    "try:\n",
    "    dataset_type = \"INTERACTIONS\"\n",
    "    create_dataset_response = personalize.create_dataset(\n",
    "        name = \"octank-products-interactions\",\n",
    "        datasetType = dataset_type,\n",
    "        datasetGroupArn = dataset_group_arn,\n",
    "        schemaArn = interactions_schema_arn\n",
    "    )\n",
    "\n",
    "    interactions_dataset_arn = create_dataset_response['datasetArn']\n",
    "    print(json.dumps(create_dataset_response, indent=2))\n",
    "except personalize.exceptions.ResourceAlreadyExistsException:\n",
    "    print('You aready created this dataset, seemingly')\n",
    "    paginator = personalize.get_paginator('list_datasets')\n",
    "    for paginate_result in paginator.paginate(datasetGroupArn = dataset_group_arn):\n",
    "        for dataset in paginate_result['datasets']:\n",
    "            if dataset['name'] == 'retaildemostore-products-interactions':\n",
    "                interactions_dataset_arn = dataset['datasetArn']\n",
    "                break\n",
    "                \n",
    "print(f'Interactions dataset ARN = {interactions_dataset_arn}')"
   ]
  },
  {
   "cell_type": "markdown",
   "metadata": {},
   "source": [
    "### Wait for datasets to become active\n",
    "\n",
    "It can take a minute or two for the datasets to be created. Let's wait for all three to become active."
   ]
  },
  {
   "cell_type": "code",
   "execution_count": 21,
   "metadata": {},
   "outputs": [
    {
     "name": "stdout",
     "output_type": "stream",
     "text": [
      "Dataset arn:aws:personalize:us-east-1:913089978341:dataset/octank-products/USERS successfully completed\n",
      "Dataset arn:aws:personalize:us-east-1:913089978341:dataset/octank-products/ITEMS successfully completed\n",
      "At least one dataset is still in progress\n",
      "Dataset arn:aws:personalize:us-east-1:913089978341:dataset/octank-products/INTERACTIONS successfully completed\n",
      "All datasets have completed\n",
      "CPU times: user 26.4 ms, sys: 1.02 ms, total: 27.4 ms\n",
      "Wall time: 1min\n"
     ]
    }
   ],
   "source": [
    "%%time\n",
    "\n",
    "dataset_arns = [ items_dataset_arn, users_dataset_arn, interactions_dataset_arn ]\n",
    "\n",
    "max_time = time.time() + 3*60*60 # 3 hours\n",
    "while time.time() < max_time:\n",
    "    for dataset_arn in reversed(dataset_arns):\n",
    "        response = personalize.describe_dataset(\n",
    "            datasetArn = dataset_arn\n",
    "        )\n",
    "        status = response[\"dataset\"][\"status\"]\n",
    "\n",
    "        if status == \"ACTIVE\":\n",
    "            print(f'Dataset {dataset_arn} successfully completed')\n",
    "            dataset_arns.remove(dataset_arn)\n",
    "        elif status == \"CREATE FAILED\":\n",
    "            print(f'Dataset {dataset_arn} failed')\n",
    "            if response.get('failureReason'):\n",
    "                print('   Reason: ' + response['failureReason'])\n",
    "            dataset_arns.remove(dataset_arn)\n",
    "\n",
    "    if len(dataset_arns) > 0:\n",
    "        print('At least one dataset is still in progress')\n",
    "        time.sleep(60)\n",
    "    else:\n",
    "        print(\"All datasets have completed\")\n",
    "        break"
   ]
  },
  {
   "cell_type": "markdown",
   "metadata": {},
   "source": [
    "## Import Datasets to Personalize\n",
    "\n",
    "Up to this point we have generated CSVs containing data for our users, items, and interactions and staged them in an S3 bucket. We also created schemas in Personalize that define the columns in our CSVs. Then we created a datset group and three datasets in Personalize that will receive our data. In the following steps we will create import jobs with Personalize that will import the datasets from our S3 bucket into the service."
   ]
  },
  {
   "cell_type": "markdown",
   "metadata": {},
   "source": [
    "### Inspect permissions\n",
    "\n",
    "By default, the Personalize service does not have permission to acccess the data we uploaded into the S3 bucket in our account. In order to grant access to the  Personalize service to read our CSVs, we need to set a Bucket Policy and create an IAM role that the Amazon Personalize service will assume.\n",
    "\n",
    "The deployment process for the Retail Demo Store has already setup these resources for you. However, let's take a look at the bucket policy and IAM role to see the required permissions.\n",
    "\n",
    "We'll start by displaying the bucket policy in the S3 staging bucket where we uploaded the CSVs. Note the service principal of `personalize.amazonaws.com` and the actions allowed on the staging bucket. The `s3:GetObject` is needed for import jobs to allow Personalize to read objects from the bucket and the `s3:PutObject` is used for export jobs, batch inference jobs, and batch segment jobs to allow Personalize to write output files to the bucket. The `s3:ListBucket` action allows Personalize to list the contents of a folder."
   ]
  },
  {
   "cell_type": "code",
   "execution_count": 23,
   "metadata": {},
   "outputs": [],
   "source": [
    "bucket = 'octank-recommendation'"
   ]
  },
  {
   "cell_type": "code",
   "execution_count": 25,
   "metadata": {},
   "outputs": [
    {
     "name": "stdout",
     "output_type": "stream",
     "text": [
      "{\n",
      "  \"Version\": \"2012-10-17\",\n",
      "  \"Statement\": [\n",
      "    {\n",
      "      \"Effect\": \"Allow\",\n",
      "      \"Principal\": {\n",
      "        \"Service\": \"personalize.amazonaws.com\"\n",
      "      },\n",
      "      \"Action\": [\n",
      "        \"s3:GetObject\",\n",
      "        \"s3:PutObject\",\n",
      "        \"s3:ListBucket\"\n",
      "      ],\n",
      "      \"Resource\": [\n",
      "        \"arn:aws:s3:::octank-recommendation\",\n",
      "        \"arn:aws:s3:::octank-recommendation/*\"\n",
      "      ]\n",
      "    }\n",
      "  ]\n",
      "}\n"
     ]
    }
   ],
   "source": [
    "s3 = boto3.client(\"s3\")\n",
    "\n",
    "response = s3.get_bucket_policy(Bucket = bucket)\n",
    "print(json.dumps(json.loads(response['Policy']), indent=2))"
   ]
  },
  {
   "cell_type": "markdown",
   "metadata": {},
   "source": [
    "Next, let's look at the IAM role that Personalize will need to assume to access the S3 bucket. Again, this role was created for you during the Retail Demo Store deployment. We'll start by inspecting the role itself. Notice the same service principal as the bucket policy."
   ]
  },
  {
   "cell_type": "code",
   "execution_count": 41,
   "metadata": {},
   "outputs": [
    {
     "name": "stdout",
     "output_type": "stream",
     "text": [
      "{\n",
      "  \"Path\": \"/\",\n",
      "  \"RoleName\": \"octank-us-east-1-PersonalizeS3\",\n",
      "  \"RoleId\": \"AROA5JGDHL7S66RVR24YA\",\n",
      "  \"Arn\": \"arn:aws:iam::913089978341:role/octank-us-east-1-PersonalizeS3\",\n",
      "  \"CreateDate\": \"2022-04-14 20:37:48+00:00\",\n",
      "  \"AssumeRolePolicyDocument\": {\n",
      "    \"Version\": \"2012-10-17\",\n",
      "    \"Statement\": [\n",
      "      {\n",
      "        \"Sid\": \"\",\n",
      "        \"Effect\": \"Allow\",\n",
      "        \"Principal\": {\n",
      "          \"Service\": \"personalize.amazonaws.com\"\n",
      "        },\n",
      "        \"Action\": \"sts:AssumeRole\"\n",
      "      }\n",
      "    ]\n",
      "  },\n",
      "  \"Description\": \"Allows Amazon Personalize to call AWS services on your behalf.\",\n",
      "  \"MaxSessionDuration\": 3600,\n",
      "  \"Tags\": [\n",
      "    {\n",
      "      \"Key\": \"project\",\n",
      "      \"Value\": \"awsome-builder\"\n",
      "    }\n",
      "  ],\n",
      "  \"RoleLastUsed\": {}\n",
      "}\n"
     ]
    }
   ],
   "source": [
    "iam = boto3.client(\"iam\")\n",
    "\n",
    "role_name = \"octank-us-east-1-PersonalizeS3\"\n",
    "\n",
    "response = iam.get_role(RoleName = role_name)\n",
    "role_arn = response['Role']['Arn']\n",
    "print(json.dumps(response['Role'], indent=2, default = str))"
   ]
  },
  {
   "cell_type": "markdown",
   "metadata": {},
   "source": [
    "Finally, we'll get the inline policy named `BucketAccess` that has the same S3 permissions as the bucket policy."
   ]
  },
  {
   "cell_type": "code",
   "execution_count": 28,
   "metadata": {},
   "outputs": [
    {
     "name": "stdout",
     "output_type": "stream",
     "text": [
      "{\n",
      "  \"RoleName\": \"retaildemostore-us-east-1-PersonalizeS3\",\n",
      "  \"PolicyName\": \"BucketAccess\",\n",
      "  \"PolicyDocument\": {\n",
      "    \"Version\": \"2012-10-17\",\n",
      "    \"Statement\": [\n",
      "      {\n",
      "        \"Action\": [\n",
      "          \"s3:GetObject\",\n",
      "          \"s3:ListBucket\"\n",
      "        ],\n",
      "        \"Resource\": [\n",
      "          \"arn:aws:s3:::retail-demo-store-us-east-1\",\n",
      "          \"arn:aws:s3:::retail-demo-store-us-east-1/*\",\n",
      "          \"arn:aws:s3:::retaildemostore-base-1bx0nddia67qd-bu-stackbucket-5p4v0i5gu2br\",\n",
      "          \"arn:aws:s3:::retaildemostore-base-1bx0nddia67qd-bu-stackbucket-5p4v0i5gu2br/*\"\n",
      "        ],\n",
      "        \"Effect\": \"Allow\"\n",
      "      },\n",
      "      {\n",
      "        \"Action\": [\n",
      "          \"s3:PutObject\"\n",
      "        ],\n",
      "        \"Resource\": [\n",
      "          \"arn:aws:s3:::retaildemostore-base-1bx0nddia67qd-bu-stackbucket-5p4v0i5gu2br\",\n",
      "          \"arn:aws:s3:::retaildemostore-base-1bx0nddia67qd-bu-stackbucket-5p4v0i5gu2br/*\"\n",
      "        ],\n",
      "        \"Effect\": \"Allow\"\n",
      "      }\n",
      "    ]\n",
      "  },\n",
      "  \"ResponseMetadata\": {\n",
      "    \"RequestId\": \"12d3e1bb-6664-4e42-b047-31e298c21b20\",\n",
      "    \"HTTPStatusCode\": 200,\n",
      "    \"HTTPHeaders\": {\n",
      "      \"x-amzn-requestid\": \"12d3e1bb-6664-4e42-b047-31e298c21b20\",\n",
      "      \"content-type\": \"text/xml\",\n",
      "      \"content-length\": \"1202\",\n",
      "      \"date\": \"Thu, 14 Apr 2022 20:21:19 GMT\"\n",
      "    },\n",
      "    \"RetryAttempts\": 0\n",
      "  }\n",
      "}\n"
     ]
    }
   ],
   "source": [
    "response = iam.get_role_policy(RoleName = role_name, PolicyName = 'BucketAccess')\n",
    "print(json.dumps(response, indent=2))"
   ]
  },
  {
   "cell_type": "markdown",
   "metadata": {},
   "source": [
    "### Create Import Jobs\n",
    "\n",
    "With the permissions in place to allow Personalize to access our CSV files, let's create three import jobs to import each file into its respective dataset. Each import job can take several minutes to complete so we'll create all three import jobs and then wait for them all to complete. This allows them to import in parallel."
   ]
  },
  {
   "cell_type": "markdown",
   "metadata": {},
   "source": [
    "#### Create Items Dataset Import Job"
   ]
  },
  {
   "cell_type": "code",
   "execution_count": 42,
   "metadata": {},
   "outputs": [
    {
     "name": "stdout",
     "output_type": "stream",
     "text": [
      "{\n",
      "  \"datasetImportJobArn\": \"arn:aws:personalize:us-east-1:913089978341:dataset-import-job/octank-products-04604ac4\",\n",
      "  \"ResponseMetadata\": {\n",
      "    \"RequestId\": \"9e95a2a1-d2c0-4c53-9f62-0cdba771f12d\",\n",
      "    \"HTTPStatusCode\": 200,\n",
      "    \"HTTPHeaders\": {\n",
      "      \"date\": \"Thu, 14 Apr 2022 20:38:24 GMT\",\n",
      "      \"content-type\": \"application/x-amz-json-1.1\",\n",
      "      \"content-length\": \"112\",\n",
      "      \"connection\": \"keep-alive\",\n",
      "      \"x-amzn-requestid\": \"9e95a2a1-d2c0-4c53-9f62-0cdba771f12d\"\n",
      "    },\n",
      "    \"RetryAttempts\": 0\n",
      "  }\n",
      "}\n"
     ]
    }
   ],
   "source": [
    "import_job_suffix = str(uuid.uuid4())[:8]\n",
    "\n",
    "items_create_dataset_import_job_response = personalize.create_dataset_import_job(\n",
    "    jobName = \"octank-products-\" + import_job_suffix,\n",
    "    datasetArn = items_dataset_arn,\n",
    "    dataSource = {\n",
    "        \"dataLocation\": \"s3://{}/{}\".format(bucket, items_filename)\n",
    "    },\n",
    "    roleArn = role_arn\n",
    ")\n",
    "\n",
    "items_dataset_import_job_arn = items_create_dataset_import_job_response['datasetImportJobArn']\n",
    "print(json.dumps(items_create_dataset_import_job_response, indent=2))"
   ]
  },
  {
   "cell_type": "markdown",
   "metadata": {},
   "source": [
    "#### Create Users Dataset Import Job"
   ]
  },
  {
   "cell_type": "code",
   "execution_count": 45,
   "metadata": {},
   "outputs": [
    {
     "name": "stdout",
     "output_type": "stream",
     "text": [
      "{\n",
      "  \"datasetImportJobArn\": \"arn:aws:personalize:us-east-1:913089978341:dataset-import-job/octank-products-7f1ae02b\",\n",
      "  \"ResponseMetadata\": {\n",
      "    \"RequestId\": \"8a4b55e4-3d4a-44a9-ae08-90365e502474\",\n",
      "    \"HTTPStatusCode\": 200,\n",
      "    \"HTTPHeaders\": {\n",
      "      \"date\": \"Thu, 14 Apr 2022 20:39:19 GMT\",\n",
      "      \"content-type\": \"application/x-amz-json-1.1\",\n",
      "      \"content-length\": \"112\",\n",
      "      \"connection\": \"keep-alive\",\n",
      "      \"x-amzn-requestid\": \"8a4b55e4-3d4a-44a9-ae08-90365e502474\"\n",
      "    },\n",
      "    \"RetryAttempts\": 0\n",
      "  }\n",
      "}\n"
     ]
    }
   ],
   "source": [
    "import_job_suffix = str(uuid.uuid4())[:8]\n",
    "\n",
    "users_create_dataset_import_job_response = personalize.create_dataset_import_job(\n",
    "    jobName = \"octank-products-\" + import_job_suffix,\n",
    "    datasetArn = users_dataset_arn,\n",
    "    dataSource = {\n",
    "        \"dataLocation\": \"s3://{}/{}\".format(bucket, users_filename)\n",
    "    },\n",
    "    roleArn = role_arn\n",
    ")\n",
    "\n",
    "users_dataset_import_job_arn = users_create_dataset_import_job_response['datasetImportJobArn']\n",
    "print(json.dumps(users_create_dataset_import_job_response, indent=2))"
   ]
  },
  {
   "cell_type": "markdown",
   "metadata": {},
   "source": [
    "#### Create Interactions Dataset Import Job"
   ]
  },
  {
   "cell_type": "code",
   "execution_count": 46,
   "metadata": {},
   "outputs": [
    {
     "name": "stdout",
     "output_type": "stream",
     "text": [
      "{\n",
      "  \"datasetImportJobArn\": \"arn:aws:personalize:us-east-1:913089978341:dataset-import-job/octank-products-405c936f\",\n",
      "  \"ResponseMetadata\": {\n",
      "    \"RequestId\": \"e3924086-43fd-4382-92ed-72213ae65f02\",\n",
      "    \"HTTPStatusCode\": 200,\n",
      "    \"HTTPHeaders\": {\n",
      "      \"date\": \"Thu, 14 Apr 2022 20:39:32 GMT\",\n",
      "      \"content-type\": \"application/x-amz-json-1.1\",\n",
      "      \"content-length\": \"112\",\n",
      "      \"connection\": \"keep-alive\",\n",
      "      \"x-amzn-requestid\": \"e3924086-43fd-4382-92ed-72213ae65f02\"\n",
      "    },\n",
      "    \"RetryAttempts\": 0\n",
      "  }\n",
      "}\n"
     ]
    }
   ],
   "source": [
    "import_job_suffix = str(uuid.uuid4())[:8]\n",
    "\n",
    "interactions_create_dataset_import_job_response = personalize.create_dataset_import_job(\n",
    "    jobName = \"octank-products-\" + import_job_suffix,\n",
    "    datasetArn = interactions_dataset_arn,\n",
    "    dataSource = {\n",
    "        \"dataLocation\": \"s3://{}/{}\".format(bucket, interactions_filename)\n",
    "    },\n",
    "    roleArn = role_arn\n",
    ")\n",
    "\n",
    "interactions_dataset_import_job_arn = interactions_create_dataset_import_job_response['datasetImportJobArn']\n",
    "print(json.dumps(interactions_create_dataset_import_job_response, indent=2))"
   ]
  },
  {
   "cell_type": "markdown",
   "metadata": {},
   "source": [
    "### Wait for Import Jobs to Complete\n",
    "\n",
    "It will take 10-15 minutes for the import jobs to complete, while you're waiting you can learn more about Datasets and Schemas here: https://docs.aws.amazon.com/personalize/latest/dg/how-it-works-dataset-schema.html\n",
    "\n",
    "We will wait for all three jobs to finish."
   ]
  },
  {
   "cell_type": "markdown",
   "metadata": {},
   "source": [
    "#### Wait for Items Import Job to Complete"
   ]
  },
  {
   "cell_type": "code",
   "execution_count": 47,
   "metadata": {},
   "outputs": [
    {
     "name": "stdout",
     "output_type": "stream",
     "text": [
      "At least one dataset import job still in progress\n",
      "At least one dataset import job still in progress\n",
      "At least one dataset import job still in progress\n",
      "At least one dataset import job still in progress\n",
      "At least one dataset import job still in progress\n",
      "At least one dataset import job still in progress\n",
      "Import job arn:aws:personalize:us-east-1:913089978341:dataset-import-job/octank-products-405c936f successfully completed\n",
      "At least one dataset import job still in progress\n",
      "Import job arn:aws:personalize:us-east-1:913089978341:dataset-import-job/octank-products-04604ac4 successfully completed\n",
      "At least one dataset import job still in progress\n",
      "Import job arn:aws:personalize:us-east-1:913089978341:dataset-import-job/octank-products-7f1ae02b successfully completed\n",
      "All import jobs have ended\n",
      "CPU times: user 162 ms, sys: 3.87 ms, total: 166 ms\n",
      "Wall time: 8min 1s\n"
     ]
    }
   ],
   "source": [
    "%%time\n",
    "\n",
    "import_job_arns = [ items_dataset_import_job_arn, users_dataset_import_job_arn, interactions_dataset_import_job_arn ]\n",
    "\n",
    "max_time = time.time() + 3*60*60 # 3 hours\n",
    "while time.time() < max_time:\n",
    "    for job_arn in reversed(import_job_arns):\n",
    "        import_job_response = personalize.describe_dataset_import_job(\n",
    "            datasetImportJobArn = job_arn\n",
    "        )\n",
    "        status = import_job_response[\"datasetImportJob\"]['status']\n",
    "\n",
    "        if status == \"ACTIVE\":\n",
    "            print(f'Import job {job_arn} successfully completed')\n",
    "            import_job_arns.remove(job_arn)\n",
    "        elif status == \"CREATE FAILED\":\n",
    "            print(f'Import job {job_arn} failed')\n",
    "            if import_job_response.get('failureReason'):\n",
    "                print('   Reason: ' + import_job_response['failureReason'])\n",
    "            import_job_arns.remove(job_arn)\n",
    "\n",
    "    if len(import_job_arns) > 0:\n",
    "        print('At least one dataset import job still in progress')\n",
    "        time.sleep(60)\n",
    "    else:\n",
    "        print(\"All import jobs have ended\")\n",
    "        break"
   ]
  },
  {
   "cell_type": "markdown",
   "metadata": {},
   "source": [
    "## Create Recommenders"
   ]
  },
  {
   "cell_type": "markdown",
   "metadata": {},
   "source": [
    "List all the recommendation Recipe for Ecommerce"
   ]
  },
  {
   "cell_type": "code",
   "execution_count": 55,
   "metadata": {
    "scrolled": false
   },
   "outputs": [
    {
     "name": "stdout",
     "output_type": "stream",
     "text": [
      "[\n",
      "  {\n",
      "    \"name\": \"aws-ecomm-customers-who-viewed-x-also-viewed\",\n",
      "    \"recipeArn\": \"arn:aws:personalize:::recipe/aws-ecomm-customers-who-viewed-x-also-viewed\",\n",
      "    \"status\": \"ACTIVE\",\n",
      "    \"creationDateTime\": \"2019-06-10 00:00:00+00:00\",\n",
      "    \"lastUpdatedDateTime\": \"2022-04-06 21:32:14.903000+00:00\",\n",
      "    \"domain\": \"ECOMMERCE\"\n",
      "  },\n",
      "  {\n",
      "    \"name\": \"aws-ecomm-frequently-bought-together\",\n",
      "    \"recipeArn\": \"arn:aws:personalize:::recipe/aws-ecomm-frequently-bought-together\",\n",
      "    \"status\": \"ACTIVE\",\n",
      "    \"creationDateTime\": \"2019-06-10 00:00:00+00:00\",\n",
      "    \"lastUpdatedDateTime\": \"2022-04-06 21:32:14.903000+00:00\",\n",
      "    \"domain\": \"ECOMMERCE\"\n",
      "  },\n",
      "  {\n",
      "    \"name\": \"aws-ecomm-popular-items-by-purchases\",\n",
      "    \"recipeArn\": \"arn:aws:personalize:::recipe/aws-ecomm-popular-items-by-purchases\",\n",
      "    \"status\": \"ACTIVE\",\n",
      "    \"creationDateTime\": \"2019-06-10 00:00:00+00:00\",\n",
      "    \"lastUpdatedDateTime\": \"2022-04-06 21:32:14.903000+00:00\",\n",
      "    \"domain\": \"ECOMMERCE\"\n",
      "  },\n",
      "  {\n",
      "    \"name\": \"aws-ecomm-popular-items-by-views\",\n",
      "    \"recipeArn\": \"arn:aws:personalize:::recipe/aws-ecomm-popular-items-by-views\",\n",
      "    \"status\": \"ACTIVE\",\n",
      "    \"creationDateTime\": \"2019-06-10 00:00:00+00:00\",\n",
      "    \"lastUpdatedDateTime\": \"2022-04-06 21:32:14.903000+00:00\",\n",
      "    \"domain\": \"ECOMMERCE\"\n",
      "  },\n",
      "  {\n",
      "    \"name\": \"aws-ecomm-recommended-for-you\",\n",
      "    \"recipeArn\": \"arn:aws:personalize:::recipe/aws-ecomm-recommended-for-you\",\n",
      "    \"status\": \"ACTIVE\",\n",
      "    \"creationDateTime\": \"2019-06-10 00:00:00+00:00\",\n",
      "    \"lastUpdatedDateTime\": \"2022-04-06 21:32:14.903000+00:00\",\n",
      "    \"domain\": \"ECOMMERCE\"\n",
      "  }\n",
      "]\n"
     ]
    }
   ],
   "source": [
    "response = personalize.list_recipes(domain = \"ECOMMERCE\")\n",
    "print(json.dumps(response['recipes'], indent=2, default=str))"
   ]
  },
  {
   "cell_type": "markdown",
   "metadata": {},
   "source": [
    "## Recommend For You Recommender\n",
    "\n",
    "aws-ecomm-recommended-for-you"
   ]
  },
  {
   "cell_type": "code",
   "execution_count": 52,
   "metadata": {},
   "outputs": [
    {
     "name": "stdout",
     "output_type": "stream",
     "text": [
      "arn:aws:personalize:::recipe/aws-ecomm-recommended-for-you\n"
     ]
    }
   ],
   "source": [
    "recipe_arn = ''\n",
    "for r in response['recipes']:\n",
    "    if r['name'] == 'aws-ecomm-recommended-for-you':\n",
    "        recipe_arn = r['recipeArn']\n",
    "print(recipe_arn)"
   ]
  },
  {
   "cell_type": "code",
   "execution_count": 53,
   "metadata": {},
   "outputs": [
    {
     "name": "stdout",
     "output_type": "stream",
     "text": [
      "{\n",
      "  \"recommenderArn\": \"arn:aws:personalize:us-east-1:913089978341:recommender/octank-recommended-for-you\",\n",
      "  \"ResponseMetadata\": {\n",
      "    \"RequestId\": \"5af700d3-1cf1-445f-aea8-bbb10ef39f0e\",\n",
      "    \"HTTPStatusCode\": 200,\n",
      "    \"HTTPHeaders\": {\n",
      "      \"date\": \"Mon, 18 Apr 2022 13:47:56 GMT\",\n",
      "      \"content-type\": \"application/x-amz-json-1.1\",\n",
      "      \"content-length\": \"102\",\n",
      "      \"connection\": \"keep-alive\",\n",
      "      \"x-amzn-requestid\": \"5af700d3-1cf1-445f-aea8-bbb10ef39f0e\"\n",
      "    },\n",
      "    \"RetryAttempts\": 0\n",
      "  }\n",
      "}\n",
      "Recommended For You recommender ARN = arn:aws:personalize:us-east-1:913089978341:recommender/octank-recommended-for-you\n"
     ]
    }
   ],
   "source": [
    "try:\n",
    "    response = personalize.create_recommender(\n",
    "      name = 'octank-recommended-for-you',\n",
    "      recipeArn = recipe_arn,\n",
    "      datasetGroupArn = dataset_group_arn\n",
    "    )\n",
    "    rfy_recommender_arn = response['recommenderArn']\n",
    "    print(json.dumps(response, indent=2))\n",
    "except personalize.exceptions.ResourceAlreadyExistsException:\n",
    "    print('You aready created this recommender, seemingly')\n",
    "    paginator = personalize.get_paginator('list_recommenders')\n",
    "    for paginate_result in paginator.paginate(datasetGroupArn = dataset_group_arn):\n",
    "        for recommender in paginate_result['recommenders']:\n",
    "            if recommender['name'] == 'octank-recommended-for-you':\n",
    "                rfy_recommender_arn = recommender['recommenderArn']\n",
    "                break\n",
    "                \n",
    "print(f'Recommended For You recommender ARN = {rfy_recommender_arn}')"
   ]
  },
  {
   "cell_type": "markdown",
   "metadata": {},
   "source": [
    "Other recommender recipes"
   ]
  },
  {
   "cell_type": "markdown",
   "metadata": {},
   "source": [
    "## Customers Who Viewed X Also Viewed"
   ]
  },
  {
   "cell_type": "code",
   "execution_count": 56,
   "metadata": {},
   "outputs": [
    {
     "name": "stdout",
     "output_type": "stream",
     "text": [
      "arn:aws:personalize:::recipe/aws-ecomm-customers-who-viewed-x-also-viewed\n"
     ]
    }
   ],
   "source": [
    "recipe_arn = ''\n",
    "for r in response['recipes']:\n",
    "    if r['name'] == 'aws-ecomm-customers-who-viewed-x-also-viewed':\n",
    "        recipe_arn = r['recipeArn']\n",
    "print(recipe_arn)"
   ]
  },
  {
   "cell_type": "code",
   "execution_count": 57,
   "metadata": {},
   "outputs": [
    {
     "name": "stdout",
     "output_type": "stream",
     "text": [
      "{\n",
      "  \"recommenderArn\": \"arn:aws:personalize:us-east-1:913089978341:recommender/octank-who-viewed-x-also-viewed\",\n",
      "  \"ResponseMetadata\": {\n",
      "    \"RequestId\": \"384f560d-8838-4a58-802e-51ba4b1c8b2e\",\n",
      "    \"HTTPStatusCode\": 200,\n",
      "    \"HTTPHeaders\": {\n",
      "      \"date\": \"Tue, 19 Apr 2022 00:40:37 GMT\",\n",
      "      \"content-type\": \"application/x-amz-json-1.1\",\n",
      "      \"content-length\": \"107\",\n",
      "      \"connection\": \"keep-alive\",\n",
      "      \"x-amzn-requestid\": \"384f560d-8838-4a58-802e-51ba4b1c8b2e\"\n",
      "    },\n",
      "    \"RetryAttempts\": 0\n",
      "  }\n",
      "}\n",
      "Recommended For You recommender ARN = arn:aws:personalize:us-east-1:913089978341:recommender/octank-who-viewed-x-also-viewed\n"
     ]
    }
   ],
   "source": [
    "dataset_group_arn='arn:aws:personalize:us-east-1:913089978341:dataset-group/octank-products'\n",
    "try:\n",
    "    response = personalize.create_recommender(\n",
    "      name = 'octank-who-viewed-x-also-viewed',\n",
    "      recipeArn = recipe_arn,\n",
    "      datasetGroupArn = dataset_group_arn\n",
    "    )\n",
    "    wvx_recommender_arn = response['recommenderArn']\n",
    "    print(json.dumps(response, indent=2))\n",
    "except personalize.exceptions.ResourceAlreadyExistsException:\n",
    "    print('You aready created this recommender, seemingly')\n",
    "    paginator = personalize.get_paginator('list_recommenders')\n",
    "    for paginate_result in paginator.paginate(datasetGroupArn = dataset_group_arn):\n",
    "        for recommender in paginate_result['recommenders']:\n",
    "            if recommender['name'] == 'octank-who-viewed-x-also-viewed':\n",
    "                wvx_recommender_arn = recommender['recommenderArn']\n",
    "                break\n",
    "                \n",
    "print(f'Recommended For You recommender ARN = {wvx_recommender_arn}')"
   ]
  },
  {
   "cell_type": "markdown",
   "metadata": {},
   "source": [
    "### Check if Recommender Solution Version is Ready"
   ]
  },
  {
   "cell_type": "code",
   "execution_count": 58,
   "metadata": {},
   "outputs": [
    {
     "name": "stdout",
     "output_type": "stream",
     "text": [
      "Recommender arn:aws:personalize:us-east-1:913089978341:recommender/octank-recommended-for-you successfully completed\n",
      "At least one recommender is still in progress\n",
      "At least one recommender is still in progress\n",
      "At least one recommender is still in progress\n",
      "At least one recommender is still in progress\n",
      "At least one recommender is still in progress\n",
      "At least one recommender is still in progress\n",
      "At least one recommender is still in progress\n",
      "At least one recommender is still in progress\n",
      "At least one recommender is still in progress\n",
      "At least one recommender is still in progress\n",
      "At least one recommender is still in progress\n",
      "At least one recommender is still in progress\n",
      "At least one recommender is still in progress\n",
      "At least one recommender is still in progress\n",
      "At least one recommender is still in progress\n",
      "At least one recommender is still in progress\n",
      "At least one recommender is still in progress\n",
      "At least one recommender is still in progress\n",
      "At least one recommender is still in progress\n",
      "At least one recommender is still in progress\n",
      "At least one recommender is still in progress\n",
      "At least one recommender is still in progress\n",
      "At least one recommender is still in progress\n",
      "At least one recommender is still in progress\n",
      "At least one recommender is still in progress\n",
      "At least one recommender is still in progress\n",
      "At least one recommender is still in progress\n",
      "At least one recommender is still in progress\n",
      "Recommender arn:aws:personalize:us-east-1:913089978341:recommender/octank-who-viewed-x-also-viewed successfully completed\n",
      "All recommenders have completed\n",
      "CPU times: user 426 ms, sys: 24.6 ms, total: 450 ms\n",
      "Wall time: 28min 3s\n"
     ]
    }
   ],
   "source": [
    "%%time\n",
    "\n",
    "recommender_arns = [rfy_recommender_arn, wvx_recommender_arn]\n",
    "\n",
    "max_time = time.time() + 3*60*60 # 3 hours\n",
    "while time.time() < max_time:\n",
    "    for recommender_arn in reversed(recommender_arns):\n",
    "        response = personalize.describe_recommender(\n",
    "            recommenderArn = recommender_arn\n",
    "        )\n",
    "        status = response[\"recommender\"][\"status\"]\n",
    "\n",
    "        if status == \"ACTIVE\":\n",
    "            print(f'Recommender {recommender_arn} successfully completed')\n",
    "            recommender_arns.remove(recommender_arn)\n",
    "        elif status == \"CREATE FAILED\":\n",
    "            print(f'Recommender {recommender_arn} failed')\n",
    "            if response.get('failureReason'):\n",
    "                print('   Reason: ' + response['failureReason'])\n",
    "            recommender_arns.remove(recommender_arn)\n",
    "\n",
    "    if len(recommender_arns) > 0:\n",
    "        print('At least one recommender is still in progress')\n",
    "        time.sleep(60)\n",
    "    else:\n",
    "        print(\"All recommenders have completed\")\n",
    "        break"
   ]
  },
  {
   "cell_type": "markdown",
   "metadata": {},
   "source": [
    "## Evaluate Recommender"
   ]
  },
  {
   "cell_type": "code",
   "execution_count": 6,
   "metadata": {},
   "outputs": [],
   "source": [
    "import requests\n",
    "servicediscovery = boto3.client('servicediscovery')\n",
    "personalize_runtime = boto3.client('personalize-runtime')\n"
   ]
  },
  {
   "cell_type": "code",
   "execution_count": 7,
   "metadata": {},
   "outputs": [
    {
     "name": "stdout",
     "output_type": "stream",
     "text": [
      "Products Service Instance IP: 10.215.10.136\n"
     ]
    }
   ],
   "source": [
    "# Pull product info\n",
    "response = servicediscovery.discover_instances(\n",
    "    NamespaceName='retaildemostore.local',\n",
    "    ServiceName='products',\n",
    "    MaxResults=1,\n",
    "    HealthStatus='HEALTHY'\n",
    ")\n",
    "\n",
    "assert len(response['Instances']) > 0, 'Products service instance not found; check ECS to ensure it launched cleanly'\n",
    "\n",
    "products_service_instance = response['Instances'][0]['Attributes']['AWS_INSTANCE_IPV4']\n",
    "print('Products Service Instance IP: {}'.format(products_service_instance))"
   ]
  },
  {
   "cell_type": "code",
   "execution_count": 8,
   "metadata": {},
   "outputs": [
    {
     "name": "stdout",
     "output_type": "stream",
     "text": [
      "Users Service Instance IP: 10.215.10.92\n"
     ]
    }
   ],
   "source": [
    "# Pull user info\n",
    "response = servicediscovery.discover_instances(\n",
    "    NamespaceName='retaildemostore.local',\n",
    "    ServiceName='users',\n",
    "    MaxResults=1,\n",
    "    HealthStatus='HEALTHY'\n",
    ")\n",
    "\n",
    "assert len(response['Instances']) > 0, 'Users service instance not found; check ECS to ensure it launched cleanly'\n",
    "\n",
    "users_service_instance = response['Instances'][0]['Attributes']['AWS_INSTANCE_IPV4']\n",
    "print('Users Service Instance IP: {}'.format(users_service_instance))"
   ]
  },
  {
   "cell_type": "markdown",
   "metadata": {},
   "source": [
    "### Get user persona"
   ]
  },
  {
   "cell_type": "code",
   "execution_count": 60,
   "metadata": {},
   "outputs": [
    {
     "name": "stdout",
     "output_type": "stream",
     "text": [
      "Shopper persona for user 100 is instruments_books_electronics\n"
     ]
    }
   ],
   "source": [
    "user_id = 100\n",
    "\n",
    "response = requests.get('http://{}/users/id/{}'.format(users_service_instance, user_id))\n",
    "user = response.json()\n",
    "persona = user['persona']\n",
    "\n",
    "print('Shopper persona for user {} is {}'.format(user_id, persona))"
   ]
  },
  {
   "cell_type": "markdown",
   "metadata": {},
   "source": [
    "### Load product Image and Product info"
   ]
  },
  {
   "cell_type": "code",
   "execution_count": 61,
   "metadata": {},
   "outputs": [],
   "source": [
    "from ipywidgets import widgets, HBox, VBox\n",
    "from IPython import display\n",
    "\n",
    "def evaluate_item_list(item_list):\n",
    "\n",
    "    Vbox_list = []\n",
    "    for item in item_list:\n",
    "        response = requests.get('http://{}/products/id/{}'.format(products_service_instance, item['itemId']))\n",
    "        item_details = response.json()\n",
    "        product_id = item_details[\"id\"]\n",
    "        product_name = item_details[\"name\"]\n",
    "        product_category = item_details[\"category\"]\n",
    "\n",
    "        Vbox_list.append(VBox([widgets.Label(f\"Product Id: {product_id}\"),\n",
    "                               widgets.Label(f\"Product Name: {product_name}\"),\n",
    "                               widgets.Label(f\"Product Category: {product_category}\"),\n",
    "                               widgets.Image(value=open(f\"../opensearch/images/{product_id}.jpg\", 'rb').read())]))\n",
    "    \n",
    "    hbox = HBox(Vbox_list)\n",
    "    display.display(hbox)"
   ]
  },
  {
   "cell_type": "markdown",
   "metadata": {},
   "source": [
    "### Get recommendation using Recommend For You"
   ]
  },
  {
   "cell_type": "code",
   "execution_count": 62,
   "metadata": {},
   "outputs": [
    {
     "name": "stdout",
     "output_type": "stream",
     "text": [
      "User persona: instruments_books_electronics\n"
     ]
    },
    {
     "data": {
      "application/vnd.jupyter.widget-view+json": {
       "model_id": "3b50cf74bd30496ab0260bb03890fdeb",
       "version_major": 2,
       "version_minor": 0
      },
      "text/plain": [
       "HBox(children=(VBox(children=(Label(value='Product Id: 5156955f-dda2-4e19-831e-752c92bd8f85'), Label(value='Pr…"
      ]
     },
     "metadata": {},
     "output_type": "display_data"
    }
   ],
   "source": [
    "rfy_recommender_arn = 'arn:aws:personalize:us-east-1:913089978341:recommender/octank-recommended-for-you'\n",
    "\n",
    "get_recommendations_response = personalize_runtime.get_recommendations(\n",
    "    recommenderArn = rfy_recommender_arn,\n",
    "    userId = str(user_id),\n",
    "    numResults = 5\n",
    ")\n",
    "\n",
    "item_list = get_recommendations_response['itemList']\n",
    "\n",
    "print('User persona: ' + persona)\n",
    "\n",
    "evaluate_item_list(item_list)"
   ]
  },
  {
   "cell_type": "markdown",
   "metadata": {},
   "source": [
    "### Get recommendation using Who Viewed X Also Viewed"
   ]
  },
  {
   "cell_type": "code",
   "execution_count": 68,
   "metadata": {},
   "outputs": [
    {
     "name": "stdout",
     "output_type": "stream",
     "text": [
      "User persona: instruments_books_electronics\n"
     ]
    },
    {
     "data": {
      "application/vnd.jupyter.widget-view+json": {
       "model_id": "870e39c61d0243cbad157a55eebe0697",
       "version_major": 2,
       "version_minor": 0
      },
      "text/plain": [
       "HBox(children=(VBox(children=(Label(value='Product Id: 8a94535e-4638-43ed-ab9a-2ac90849a98b'), Label(value='Pr…"
      ]
     },
     "metadata": {},
     "output_type": "display_data"
    }
   ],
   "source": [
    "wvx_recommender_arn = 'arn:aws:personalize:us-east-1:913089978341:recommender/octank-who-viewed-x-also-viewed'\n",
    "\n",
    "get_recommendations_response = personalize_runtime.get_recommendations(\n",
    "    recommenderArn = wvx_recommender_arn,\n",
    "    userId = str(user_id),\n",
    "    itemId = '5156955f-dda2-4e19-831e-752c92bd8f85',\n",
    "    numResults = 5\n",
    ")\n",
    "\n",
    "item_list = get_recommendations_response['itemList']\n",
    "\n",
    "print('User persona: ' + persona)\n",
    "\n",
    "evaluate_item_list(item_list)"
   ]
  },
  {
   "cell_type": "code",
   "execution_count": 67,
   "metadata": {},
   "outputs": [
    {
     "data": {
      "text/plain": [
       "{'ResponseMetadata': {'RequestId': 'db3d77cd-a00e-4222-a0e1-fb3f2005c67c',\n",
       "  'HTTPStatusCode': 200,\n",
       "  'HTTPHeaders': {'date': 'Tue, 19 Apr 2022 01:12:09 GMT',\n",
       "   'content-type': 'application/json',\n",
       "   'content-length': '486',\n",
       "   'connection': 'keep-alive',\n",
       "   'x-amzn-requestid': 'db3d77cd-a00e-4222-a0e1-fb3f2005c67c'},\n",
       "  'RetryAttempts': 0},\n",
       " 'itemList': [{'itemId': '8a94535e-4638-43ed-ab9a-2ac90849a98b'},\n",
       "  {'itemId': 'b884792f-6c44-478e-ae0b-eae89f284f3b'},\n",
       "  {'itemId': '9d1be460-7c75-4627-990d-1f1a6731dc3e'},\n",
       "  {'itemId': 'ab704911-0afe-4c60-bf22-134c9e45f6d5'},\n",
       "  {'itemId': '49b89871-5fe7-4898-b99d-953e15fb42b2'}],\n",
       " 'recommendationId': 'RID-d8ab48e4-37bd-498e-96e3-ab90db588a4f'}"
      ]
     },
     "execution_count": 67,
     "metadata": {},
     "output_type": "execute_result"
    }
   ],
   "source": [
    "get_recommendations_response"
   ]
  },
  {
   "cell_type": "markdown",
   "metadata": {},
   "source": [
    "### Create event tracker"
   ]
  },
  {
   "cell_type": "code",
   "execution_count": 74,
   "metadata": {},
   "outputs": [
    {
     "name": "stdout",
     "output_type": "stream",
     "text": [
      "Event Tracker ARN: arn:aws:personalize:us-east-1:913089978341:event-tracker/52b68856\n",
      "Event Tracking ID: dc968701-e8f1-4a7c-8e39-730fa9957247\n"
     ]
    }
   ],
   "source": [
    "try:\n",
    "    event_tracker_response = personalize.create_event_tracker(\n",
    "        datasetGroupArn=dataset_group_arn,\n",
    "        name='octank-event-tracker'\n",
    "    )\n",
    "\n",
    "    event_tracker_arn = event_tracker_response['eventTrackerArn']\n",
    "    event_tracking_id = event_tracker_response['trackingId']\n",
    "except personalize.exceptions.ResourceAlreadyExistsException:\n",
    "    print('You aready created an event tracker for this dataset group, seemingly')\n",
    "    paginator = personalize.get_paginator('list_event_trackers')\n",
    "    for paginate_result in paginator.paginate(datasetGroupArn = dataset_group_arn):\n",
    "        for event_tracker in paginate_result['eventTrackers']:\n",
    "            if event_tracker['name'] == 'retaildemostore-event-tracker':\n",
    "                event_tracker_arn = event_tracker['eventTrackerArn']\n",
    "                \n",
    "                response = personalize.describe_event_tracker(eventTrackerArn = event_tracker_arn)\n",
    "                event_tracking_id = response['eventTracker']['trackingId']\n",
    "                break\n",
    "\n",
    "print('Event Tracker ARN: ' + event_tracker_arn)\n",
    "print('Event Tracking ID: ' + event_tracking_id)"
   ]
  },
  {
   "cell_type": "markdown",
   "metadata": {},
   "source": [
    "### Check if event tracker is active"
   ]
  },
  {
   "cell_type": "code",
   "execution_count": 75,
   "metadata": {},
   "outputs": [
    {
     "name": "stdout",
     "output_type": "stream",
     "text": [
      "EventTracker: CREATE PENDING\n",
      "EventTracker: ACTIVE\n"
     ]
    }
   ],
   "source": [
    "status = None\n",
    "max_time = time.time() + 60*60 # 1 hours\n",
    "while time.time() < max_time:\n",
    "    describe_event_tracker_response = personalize.describe_event_tracker(\n",
    "        eventTrackerArn = event_tracker_arn\n",
    "    )\n",
    "    status = describe_event_tracker_response[\"eventTracker\"][\"status\"]\n",
    "    print(\"EventTracker: {}\".format(status))\n",
    "    \n",
    "    if status == \"ACTIVE\" or status == \"CREATE FAILED\":\n",
    "        break\n",
    "        \n",
    "    time.sleep(15)"
   ]
  },
  {
   "cell_type": "markdown",
   "metadata": {},
   "source": [
    "### Filter out purchased product"
   ]
  },
  {
   "cell_type": "code",
   "execution_count": 76,
   "metadata": {},
   "outputs": [
    {
     "name": "stdout",
     "output_type": "stream",
     "text": [
      "Filter ARN: arn:aws:personalize:us-east-1:913089978341:filter/octank-filter-exclude-purchased-products\n"
     ]
    }
   ],
   "source": [
    "response = personalize.create_filter(\n",
    "    name = 'octank-filter-exclude-purchased-products',\n",
    "    datasetGroupArn = dataset_group_arn,\n",
    "    filterExpression = 'EXCLUDE itemId WHERE INTERACTIONS.event_type in (\"Purchase\")'\n",
    ")\n",
    " \n",
    "filter_arn = response['filterArn']\n",
    "print(f'Filter ARN: {filter_arn}')"
   ]
  },
  {
   "cell_type": "code",
   "execution_count": 77,
   "metadata": {},
   "outputs": [
    {
     "name": "stdout",
     "output_type": "stream",
     "text": [
      "Filter: CREATE PENDING\n",
      "Filter: CREATE PENDING\n",
      "Filter: CREATE IN_PROGRESS\n",
      "Filter: CREATE IN_PROGRESS\n",
      "Filter: CREATE IN_PROGRESS\n",
      "Filter: CREATE IN_PROGRESS\n",
      "Filter: ACTIVE\n"
     ]
    }
   ],
   "source": [
    "status = None\n",
    "max_time = time.time() + 60*60 # 1 hours\n",
    "while time.time() < max_time:\n",
    "    describe_filter_response = personalize.describe_filter(\n",
    "        filterArn = filter_arn\n",
    "    )\n",
    "    status = describe_filter_response[\"filter\"][\"status\"]\n",
    "    print(\"Filter: {}\".format(status))\n",
    "    \n",
    "    if status == \"ACTIVE\" or status == \"CREATE FAILED\":\n",
    "        break\n",
    "        \n",
    "    time.sleep(15)"
   ]
  },
  {
   "cell_type": "markdown",
   "metadata": {},
   "source": [
    "## Test Kenisis Stream"
   ]
  },
  {
   "cell_type": "code",
   "execution_count": 48,
   "metadata": {},
   "outputs": [],
   "source": [
    "import random\n",
    "\n",
    "event_type_sample_set = {'AddToCart', 'Purchase', 'StartCheckout', 'View', 'ViewCart'}\n",
    "\n",
    "properties_sample_set = {'{\"discount\": \"No\"}', '{\"discount\": \"Yes\"}'}\n",
    "\n",
    "def generate_personalize_event(user_id, item_list, event_tracking_id):\n",
    "    event =dict()\n",
    "    event['trackingId'] = event_tracking_id\n",
    "    event['userId'] = str(user_id)\n",
    "    event['sessionId'] = str(uuid.uuid4())\n",
    "    \n",
    "    event_list = []\n",
    "    for item in item_list:\n",
    "        interaction = dict()\n",
    "        interaction['eventId'] = str(uuid.uuid4())\n",
    "        interaction['eventType'] = random.choice(tuple(event_type_sample_set))\n",
    "        interaction['itemId'] = item['itemId']\n",
    "        interaction['sentAt'] = int(time.time())\n",
    "        interaction['properties'] = random.choice(tuple(properties_sample_set))\n",
    "        \n",
    "        event_list.append(interaction)\n",
    "    \n",
    "    event['eventList'] = event_list\n",
    "    return event"
   ]
  },
  {
   "cell_type": "code",
   "execution_count": 52,
   "metadata": {},
   "outputs": [
    {
     "name": "stdout",
     "output_type": "stream",
     "text": [
      "{'ShardId': 'shardId-000000000003', 'SequenceNumber': '49628703383759293076014332483847751595863946765327663154', 'ResponseMetadata': {'RequestId': 'e615ea03-e649-0ae0-bcc2-45ee7ae3f852', 'HTTPStatusCode': 200, 'HTTPHeaders': {'x-amzn-requestid': 'e615ea03-e649-0ae0-bcc2-45ee7ae3f852', 'x-amz-id-2': 'PECLS/p/4qIwGhbl8eeO0mi5LTg/Bvplvt7j883OpZqfUjpRdhhXAibLTKX8rV3lfgh2bQKOdepEud+3Dw8K6R3HtoKqspNb', 'date': 'Mon, 18 Apr 2022 18:27:57 GMT', 'content-type': 'application/x-amz-json-1.1', 'content-length': '110'}, 'RetryAttempts': 0}}\n",
      "{'ShardId': 'shardId-000000000000', 'SequenceNumber': '49628703383692390840418740614424353366865616309984428034', 'ResponseMetadata': {'RequestId': 'f8ca599c-1839-3f9b-a21d-f6718493cd29', 'HTTPStatusCode': 200, 'HTTPHeaders': {'x-amzn-requestid': 'f8ca599c-1839-3f9b-a21d-f6718493cd29', 'x-amz-id-2': '23OP8febPu+dpWrynJdY472a7mNYWZcauu6kMbuZuIklbdVOVZ1I5pB0zZ9xwXPvJqGaMWpYG1VVfWgkhFm8ZXU5NtpBQ2Oz', 'date': 'Mon, 18 Apr 2022 18:27:57 GMT', 'content-type': 'application/x-amz-json-1.1', 'content-length': '110'}, 'RetryAttempts': 0}}\n",
      "{'ShardId': 'shardId-000000000000', 'SequenceNumber': '49628703383692390840418740614425562292685230939159134210', 'ResponseMetadata': {'RequestId': 'df3cbfda-4736-3d95-85eb-1037db9ccf27', 'HTTPStatusCode': 200, 'HTTPHeaders': {'x-amzn-requestid': 'df3cbfda-4736-3d95-85eb-1037db9ccf27', 'x-amz-id-2': 'bd5+4DeDlBRvFsCax4aTuI9ec67uE59ROpJhzr7VAmTPascmsqx7vDfJOGWMFLMRYRmheejsBzZBYwYVFEMFTNPr09JQBBep', 'date': 'Mon, 18 Apr 2022 18:27:57 GMT', 'content-type': 'application/x-amz-json-1.1', 'content-length': '110'}, 'RetryAttempts': 0}}\n",
      "{'ShardId': 'shardId-000000000003', 'SequenceNumber': '49628703383759293076014332483851378373322790652851781682', 'ResponseMetadata': {'RequestId': 'd9126464-9945-27a4-83c5-cb8905efd516', 'HTTPStatusCode': 200, 'HTTPHeaders': {'x-amzn-requestid': 'd9126464-9945-27a4-83c5-cb8905efd516', 'x-amz-id-2': 'qo7z8flTdRZskMFiv3GJvQ4jF8o0q7mAtHz9NG5cWcNEj8sp/YvWSLceTeRgmkqXrBxQS4qJ0ubWTkdIN+K2pq1Mam7G1joN', 'date': 'Mon, 18 Apr 2022 18:27:57 GMT', 'content-type': 'application/x-amz-json-1.1', 'content-length': '110'}, 'RetryAttempts': 0}}\n",
      "{'ShardId': 'shardId-000000000001', 'SequenceNumber': '49628703383714691585617271237569515862597108559014526994', 'ResponseMetadata': {'RequestId': 'd2fe220e-2d38-33a1-8829-8de3b192c113', 'HTTPStatusCode': 200, 'HTTPHeaders': {'x-amzn-requestid': 'd2fe220e-2d38-33a1-8829-8de3b192c113', 'x-amz-id-2': 'coV9zN3zXVaD/g0Qi82Km3eMbk75xk4Rao8XKcISUJf88Jn/Dzw1+tT52XytqIYQ03/PzVYZ7xk6dqkOEY0ZDv52qc6Cs6Y6', 'date': 'Mon, 18 Apr 2022 18:27:57 GMT', 'content-type': 'application/x-amz-json-1.1', 'content-length': '110'}, 'RetryAttempts': 0}}\n",
      "{'ShardId': 'shardId-000000000000', 'SequenceNumber': '49628703383692390840418740614429189070144074826683252738', 'ResponseMetadata': {'RequestId': 'c9837c16-fc73-1411-9354-d3fb60d9e6a3', 'HTTPStatusCode': 200, 'HTTPHeaders': {'x-amzn-requestid': 'c9837c16-fc73-1411-9354-d3fb60d9e6a3', 'x-amz-id-2': '4AoZY+iUBfdh1UIZuy5T4bF0flZdli+lZfEjPSdFFbDJ6IQLAcIGJj1geRMYlJJxKtPHWuPtqcNB0py1Ir/hNlAzAgB/E1uU', 'date': 'Mon, 18 Apr 2022 18:27:57 GMT', 'content-type': 'application/x-amz-json-1.1', 'content-length': '110'}, 'RetryAttempts': 0}}\n",
      "{'ShardId': 'shardId-000000000000', 'SequenceNumber': '49628703383692390840418740614430397995963689455857958914', 'ResponseMetadata': {'RequestId': 'd0a6a11c-2f55-e690-8a71-0ef1b3ff1422', 'HTTPStatusCode': 200, 'HTTPHeaders': {'x-amzn-requestid': 'd0a6a11c-2f55-e690-8a71-0ef1b3ff1422', 'x-amz-id-2': 'NeCTuFxPWFDaRinPQKUGZWKqQFtrSwEuGwKjel6Tsxy92ld+Plz4hzvMLukO/jvdznrrVTku56cQZKATTTocyhAQLMRsbfSL', 'date': 'Mon, 18 Apr 2022 18:27:57 GMT', 'content-type': 'application/x-amz-json-1.1', 'content-length': '110'}, 'RetryAttempts': 0}}\n",
      "{'ShardId': 'shardId-000000000001', 'SequenceNumber': '49628703383714691585617271237573142640055952446538645522', 'ResponseMetadata': {'RequestId': 'f261591b-10c8-6bf2-a8b6-f6f68c629940', 'HTTPStatusCode': 200, 'HTTPHeaders': {'x-amzn-requestid': 'f261591b-10c8-6bf2-a8b6-f6f68c629940', 'x-amz-id-2': 'yravFg3iaN15k2EdOTmF0+gbAeIrcEl/9lpC2xnY3QvQPMuM0Q087LVVFKLUUFED3wI493j2xnMIAGAEG2WlB51/Dxgv7Wnx', 'date': 'Mon, 18 Apr 2022 18:27:57 GMT', 'content-type': 'application/x-amz-json-1.1', 'content-length': '110'}, 'RetryAttempts': 0}}\n",
      "{'ShardId': 'shardId-000000000001', 'SequenceNumber': '49628703383714691585617271237574351565875567075713351698', 'ResponseMetadata': {'RequestId': 'e1796040-08fc-e7f0-bbae-cfad94561542', 'HTTPStatusCode': 200, 'HTTPHeaders': {'x-amzn-requestid': 'e1796040-08fc-e7f0-bbae-cfad94561542', 'x-amz-id-2': 'MutctH55Za5o7QAE2u6ZjWDJfTY5u5D0yosj613353ZILuc/vdoJVAjN267OZ4pIanvupLRhW5H+ekGFxMIRuOxWYl/XATRT', 'date': 'Mon, 18 Apr 2022 18:27:57 GMT', 'content-type': 'application/x-amz-json-1.1', 'content-length': '110'}, 'RetryAttempts': 0}}\n",
      "{'ShardId': 'shardId-000000000003', 'SequenceNumber': '49628703383759293076014332483858631928240478427900018738', 'ResponseMetadata': {'RequestId': 'f01e7e93-4a1b-be10-aac9-d17ed6b14ca2', 'HTTPStatusCode': 200, 'HTTPHeaders': {'x-amzn-requestid': 'f01e7e93-4a1b-be10-aac9-d17ed6b14ca2', 'x-amz-id-2': 'Mh2dSFdAdbdMWBe+fnHoBGJEx/dk+qYYZ20zZOprMtMLKJPvc7aoMyuJen6ru7fmWLTAKLGXO0dyiUJoiao9gouQki2hTcxi', 'date': 'Mon, 18 Apr 2022 18:27:57 GMT', 'content-type': 'application/x-amz-json-1.1', 'content-length': '110'}, 'RetryAttempts': 0}}\n",
      "{'ShardId': 'shardId-000000000000', 'SequenceNumber': '49628703383692390840418740614435233699242147972556783618', 'ResponseMetadata': {'RequestId': 'd05377b5-f43f-6f50-8a84-d85868959de2', 'HTTPStatusCode': 200, 'HTTPHeaders': {'x-amzn-requestid': 'd05377b5-f43f-6f50-8a84-d85868959de2', 'x-amz-id-2': 'e4Z0Q3uJ2xloM6Ti3s2kr+jtnfHneLZn4LHi8b9Nn025lWFTeWiaXBiHIFSKP3SaSux9bbkSsWtIGYHZit+wevCPI3TQ/pXn', 'date': 'Mon, 18 Apr 2022 18:27:57 GMT', 'content-type': 'application/x-amz-json-1.1', 'content-length': '110'}, 'RetryAttempts': 0}}\n",
      "{'ShardId': 'shardId-000000000001', 'SequenceNumber': '49628703383714691585617271237577978343334410963237470226', 'ResponseMetadata': {'RequestId': 'd5a93367-7812-2541-8f7e-9c8ae4b8d7f3', 'HTTPStatusCode': 200, 'HTTPHeaders': {'x-amzn-requestid': 'd5a93367-7812-2541-8f7e-9c8ae4b8d7f3', 'x-amz-id-2': 'ooPxG2fJVt6tjBuSMUeQI9MNK1syddzxHHDzAV7D/bvUBzLxgEN7tVxH8nMZ22qnpq4HPQU9cJ/dbj7XSLVQrSf8Vjwf5ia/', 'date': 'Mon, 18 Apr 2022 18:27:57 GMT', 'content-type': 'application/x-amz-json-1.1', 'content-length': '110'}, 'RetryAttempts': 0}}\n",
      "{'ShardId': 'shardId-000000000001', 'SequenceNumber': '49628703383714691585617271237579187269154025592412176402', 'ResponseMetadata': {'RequestId': 'c6f6eb0e-19a0-0ae3-9c21-44e3850af851', 'HTTPStatusCode': 200, 'HTTPHeaders': {'x-amzn-requestid': 'c6f6eb0e-19a0-0ae3-9c21-44e3850af851', 'x-amz-id-2': 'vQM3PI0dmfblpC8JrX+p5v5GCLQKVFkB4WmxsgTsTudkpXzHlEkmMj+L2GSUqWXrSkExoqUryxjds03Zax91Zjq+3BfQ96be', 'date': 'Mon, 18 Apr 2022 18:27:57 GMT', 'content-type': 'application/x-amz-json-1.1', 'content-length': '110'}, 'RetryAttempts': 0}}\n",
      "{'ShardId': 'shardId-000000000001', 'SequenceNumber': '49628703383714691585617271237580396194973640221586882578', 'ResponseMetadata': {'RequestId': 'db5e45d1-8d42-5dfe-8189-ea3c11e8af4c', 'HTTPStatusCode': 200, 'HTTPHeaders': {'x-amzn-requestid': 'db5e45d1-8d42-5dfe-8189-ea3c11e8af4c', 'x-amz-id-2': 'NRTU2He7H9KTiUxkN82WK6TZe6mciPfdlsb5avvAksz2USzqi6waBwZeS4vGabJW/RQSKgUdNDY2pclBuHhnstjKNPheiFzO', 'date': 'Mon, 18 Apr 2022 18:27:57 GMT', 'content-type': 'application/x-amz-json-1.1', 'content-length': '110'}, 'RetryAttempts': 0}}\n",
      "{'ShardId': 'shardId-000000000000', 'SequenceNumber': '49628703383692390840418740614440069402520606489255608322', 'ResponseMetadata': {'RequestId': 'ecbe064a-57b0-3839-b669-a9a7cb1aca8b', 'HTTPStatusCode': 200, 'HTTPHeaders': {'x-amzn-requestid': 'ecbe064a-57b0-3839-b669-a9a7cb1aca8b', 'x-amz-id-2': 'vLdOdz+Ua7upOPwgB1WFbhSJcUYX7EALBv0ICP/b0ZTTZwysKgShpLa2/UkQpQA/zoGImXDx1lgE90yOkcFaKjSnQy27XvkU', 'date': 'Mon, 18 Apr 2022 18:27:57 GMT', 'content-type': 'application/x-amz-json-1.1', 'content-length': '110'}, 'RetryAttempts': 0}}\n",
      "{'ShardId': 'shardId-000000000001', 'SequenceNumber': '49628703383714691585617271237582814046612869479936294930', 'ResponseMetadata': {'RequestId': 'f9cabb0d-c0ba-4c57-a31d-14e05c10bee5', 'HTTPStatusCode': 200, 'HTTPHeaders': {'x-amzn-requestid': 'f9cabb0d-c0ba-4c57-a31d-14e05c10bee5', 'x-amz-id-2': 'dOQl8z6EVQRke3T/eAqo/BPq0Y407JfvoASa4ZOT32/B8WiUBIM56341nlNYroISxI5+bzqoeAhzlVOegDDBFXPBP9l+/lQw', 'date': 'Mon, 18 Apr 2022 18:27:57 GMT', 'content-type': 'application/x-amz-json-1.1', 'content-length': '110'}, 'RetryAttempts': 0}}\n",
      "{'ShardId': 'shardId-000000000000', 'SequenceNumber': '49628703383692390840418740614442487254159835747605020674', 'ResponseMetadata': {'RequestId': 'ee8207c5-e624-e5c8-b455-a8287a8e177a', 'HTTPStatusCode': 200, 'HTTPHeaders': {'x-amzn-requestid': 'ee8207c5-e624-e5c8-b455-a8287a8e177a', 'x-amz-id-2': 'nyV5+6LA9fId0LRYhmh/P/TmQx44MFFPGMUgSa/6n49Rrz6Qf9aHARFaP+EmaRjKn6qulG0Dh50tF94KK9GsEr+qN0mnpm0O', 'date': 'Mon, 18 Apr 2022 18:27:57 GMT', 'content-type': 'application/x-amz-json-1.1', 'content-length': '110'}, 'RetryAttempts': 0}}\n",
      "{'ShardId': 'shardId-000000000000', 'SequenceNumber': '49628703383692390840418740614443696179979450376779726850', 'ResponseMetadata': {'RequestId': 'e06229fa-7332-8a20-bab5-8617ef987892', 'HTTPStatusCode': 200, 'HTTPHeaders': {'x-amzn-requestid': 'e06229fa-7332-8a20-bab5-8617ef987892', 'x-amz-id-2': 'Z4W06dMXTbmuBG/KnzwMJdRxRdABrd1GcFZnYxrbXTDWG+j7FYB/QSR9iIq0jDQIRFESrSQoQehRiAIerlieCmgxhZOpu65u', 'date': 'Mon, 18 Apr 2022 18:27:57 GMT', 'content-type': 'application/x-amz-json-1.1', 'content-length': '110'}, 'RetryAttempts': 0}}\n",
      "{'ShardId': 'shardId-000000000000', 'SequenceNumber': '49628703383692390840418740614444905105799065005954433026', 'ResponseMetadata': {'RequestId': 'fbbe2894-1559-8df5-a169-877989f37f47', 'HTTPStatusCode': 200, 'HTTPHeaders': {'x-amzn-requestid': 'fbbe2894-1559-8df5-a169-877989f37f47', 'x-amz-id-2': '67PGcVfNCDC5m6DlFLLLW2XLEh1WvRrQDQwfKvUOUl/v2vBWM66keB9FBwvhwGzLGm8QKcBUoJpQhxLP1bMEWzoCe9sK3o8X', 'date': 'Mon, 18 Apr 2022 18:27:57 GMT', 'content-type': 'application/x-amz-json-1.1', 'content-length': '110'}, 'RetryAttempts': 0}}\n",
      "{'ShardId': 'shardId-000000000002', 'SequenceNumber': '49628703383736992330815801860729185468163976358141100066', 'ResponseMetadata': {'RequestId': 'e23212fa-a875-5b13-b8e5-bd1734dfa9a1', 'HTTPStatusCode': 200, 'HTTPHeaders': {'x-amzn-requestid': 'e23212fa-a875-5b13-b8e5-bd1734dfa9a1', 'x-amz-id-2': '04oTFmlo4e6OpoYymkmzGhaugc2kp2+aMv5Wp4QWdK6bBVxYDWMOjyjM8dvmCUoftshkPtvL/UfakUWSQR83ifVlhEjU/WYz', 'date': 'Mon, 18 Apr 2022 18:27:57 GMT', 'content-type': 'application/x-amz-json-1.1', 'content-length': '110'}, 'RetryAttempts': 0}}\n",
      "{'ShardId': 'shardId-000000000001', 'SequenceNumber': '49628703383714691585617271237588858675710942625809825810', 'ResponseMetadata': {'RequestId': 'e0027946-8a1d-fd02-bad5-d6ab16b70fb0', 'HTTPStatusCode': 200, 'HTTPHeaders': {'x-amzn-requestid': 'e0027946-8a1d-fd02-bad5-d6ab16b70fb0', 'x-amz-id-2': 'wxvmjfUVVeNeZW/ghjqmdT8JcTpeEY5tQeJwBoja3jV1TQ+8FqejJ+wxvftCUCPQZJZtJFr8o8H9Hxw6rbnimroIAg8Ghts5', 'date': 'Mon, 18 Apr 2022 18:27:57 GMT', 'content-type': 'application/x-amz-json-1.1', 'content-length': '110'}, 'RetryAttempts': 0}}\n",
      "{'ShardId': 'shardId-000000000000', 'SequenceNumber': '49628703383692390840418740614448531883257908893478551554', 'ResponseMetadata': {'RequestId': 'ee12332e-2db6-2052-b4c5-9cc3b11cd2e0', 'HTTPStatusCode': 200, 'HTTPHeaders': {'x-amzn-requestid': 'ee12332e-2db6-2052-b4c5-9cc3b11cd2e0', 'x-amz-id-2': 'xYsbRbOrrc/OmJta+/kiKUR2DLESqII00xWj/X4FqWuZc22YNgXfRu+TxdAGFciL+/YDOfKcBQ0AIcC3vA2TldweT27OsRlq', 'date': 'Mon, 18 Apr 2022 18:27:57 GMT', 'content-type': 'application/x-amz-json-1.1', 'content-length': '110'}, 'RetryAttempts': 0}}\n",
      "{'ShardId': 'shardId-000000000001', 'SequenceNumber': '49628703383714691585617271237591276527350171884159238162', 'ResponseMetadata': {'RequestId': 'cdd7a5d2-b473-97e2-9700-0a3f28d96550', 'HTTPStatusCode': 200, 'HTTPHeaders': {'x-amzn-requestid': 'cdd7a5d2-b473-97e2-9700-0a3f28d96550', 'x-amz-id-2': '6eJryNRzlt1tV5meQtrVlknQgJQyQJBmqE+d52IDXnjCwcBXqXlYQDoVr/2vNfAd0Td7q+Ou938kvrG1jaN4ZiBnQM88I7IS', 'date': 'Mon, 18 Apr 2022 18:27:57 GMT', 'content-type': 'application/x-amz-json-1.1', 'content-length': '110'}, 'RetryAttempts': 0}}\n",
      "{'ShardId': 'shardId-000000000002', 'SequenceNumber': '49628703383736992330815801860734021171442434874839924770', 'ResponseMetadata': {'RequestId': 'eef1f3b6-163a-cb59-b426-5c5b8a9039eb', 'HTTPStatusCode': 200, 'HTTPHeaders': {'x-amzn-requestid': 'eef1f3b6-163a-cb59-b426-5c5b8a9039eb', 'x-amz-id-2': 'HuZatwuKfZs6/ggFUH8Ta5bGoQskW/L8YdICH1M2C49DCI6BYyL8WOa2sqC9iona0+YRzzsjLvTTxarwxwub/mVTcAEDaJTY', 'date': 'Mon, 18 Apr 2022 18:27:57 GMT', 'content-type': 'application/x-amz-json-1.1', 'content-length': '110'}, 'RetryAttempts': 0}}\n",
      "{'ShardId': 'shardId-000000000002', 'SequenceNumber': '49628703383736992330815801860735230097262049504014630946', 'ResponseMetadata': {'RequestId': 'de4be4ea-f8bf-d6a7-849c-4b0764152415', 'HTTPStatusCode': 200, 'HTTPHeaders': {'x-amzn-requestid': 'de4be4ea-f8bf-d6a7-849c-4b0764152415', 'x-amz-id-2': '3oMn0cWVge/l/5siSjsTqn26wrvQKo2MRlGpmKWrhUERAPSZPU0HUig2WhY5JSni82MXC8EJgY26TfG0ksIumbHHb7r9q+xx', 'date': 'Mon, 18 Apr 2022 18:27:57 GMT', 'content-type': 'application/x-amz-json-1.1', 'content-length': '110'}, 'RetryAttempts': 0}}\n"
     ]
    },
    {
     "name": "stdout",
     "output_type": "stream",
     "text": [
      "{'ShardId': 'shardId-000000000002', 'SequenceNumber': '49628703383736992330815801860736439023081664133189337122', 'ResponseMetadata': {'RequestId': 'e9f0531c-61d5-c54a-b327-fcf1fd7f37f8', 'HTTPStatusCode': 200, 'HTTPHeaders': {'x-amzn-requestid': 'e9f0531c-61d5-c54a-b327-fcf1fd7f37f8', 'x-amz-id-2': 'VyCNytq+uQZfEjWCQq12AieAUrdEg1zisWvDt/0nO6puIquBPPo4JOjoqQltKWDvN/w50QuPhmwNkpXuAnPZIg/vT9wDIASQ', 'date': 'Mon, 18 Apr 2022 18:27:57 GMT', 'content-type': 'application/x-amz-json-1.1', 'content-length': '110'}, 'RetryAttempts': 0}}\n",
      "{'ShardId': 'shardId-000000000001', 'SequenceNumber': '49628703383714691585617271237596112230628630400858062866', 'ResponseMetadata': {'RequestId': 'd5951d62-0b7d-acb0-8f42-b28f97d75e02', 'HTTPStatusCode': 200, 'HTTPHeaders': {'x-amzn-requestid': 'd5951d62-0b7d-acb0-8f42-b28f97d75e02', 'x-amz-id-2': '1er5Ycpw3GsYxCZqJZ+EkPRnkyYMF57+6Kz9QNieIei25pgTHClMlkEnohT1lV8wQMQ4TzX6wXsLeAIRxwctLazZrgLGpGF3', 'date': 'Mon, 18 Apr 2022 18:27:57 GMT', 'content-type': 'application/x-amz-json-1.1', 'content-length': '110'}, 'RetryAttempts': 0}}\n",
      "{'ShardId': 'shardId-000000000003', 'SequenceNumber': '49628703383759293076014332483880392592993541753044729906', 'ResponseMetadata': {'RequestId': 'f9b6be38-9c34-0f64-a361-11d5009efdd6', 'HTTPStatusCode': 200, 'HTTPHeaders': {'x-amzn-requestid': 'f9b6be38-9c34-0f64-a361-11d5009efdd6', 'x-amz-id-2': 'u2Y0h8f595kQDmY9j12o0h7NWyeGrUeqWmyCxr4rjjSdOuLdMLqH61W0AcZSVwmDGtGWHm0FfgItokCEjlZYkkDbIXu/RiN8', 'date': 'Mon, 18 Apr 2022 18:27:57 GMT', 'content-type': 'application/x-amz-json-1.1', 'content-length': '110'}, 'RetryAttempts': 0}}\n",
      "{'ShardId': 'shardId-000000000002', 'SequenceNumber': '49628703383736992330815801860740065800540508020713455650', 'ResponseMetadata': {'RequestId': 'e8397b12-3384-e9b6-b2ee-d4ffaf2e1b04', 'HTTPStatusCode': 200, 'HTTPHeaders': {'x-amzn-requestid': 'e8397b12-3384-e9b6-b2ee-d4ffaf2e1b04', 'x-amz-id-2': 'FnJZvJfMezNxyV3fifnIJ/WX2prraTcadnjqBRANWYdo9wV+tzm4n96BgalYVL85u9b3mRHcJMrDMmq1WzJ0wmkUiYDejxge', 'date': 'Mon, 18 Apr 2022 18:27:57 GMT', 'content-type': 'application/x-amz-json-1.1', 'content-length': '110'}, 'RetryAttempts': 0}}\n",
      "{'ShardId': 'shardId-000000000001', 'SequenceNumber': '49628703383714691585617271237599739008087474288382181394', 'ResponseMetadata': {'RequestId': 'ec68251f-0768-c7b4-b6bf-8af29bc23506', 'HTTPStatusCode': 200, 'HTTPHeaders': {'x-amzn-requestid': 'ec68251f-0768-c7b4-b6bf-8af29bc23506', 'x-amz-id-2': 'wn1ne+ZhYL9QQ2ljQuzUsAiComIUCWtZJ3iRx5MGD7SrdW3LMk/Pah9Q/hYRJsfgFpFGxKevzKW0hF4pr/Zb8fJvitebzixL', 'date': 'Mon, 18 Apr 2022 18:27:57 GMT', 'content-type': 'application/x-amz-json-1.1', 'content-length': '110'}, 'RetryAttempts': 0}}\n",
      "{'ShardId': 'shardId-000000000003', 'SequenceNumber': '49628703383759293076014332483884019370452385640568848434', 'ResponseMetadata': {'RequestId': 'd6df3f94-4968-02df-8c08-9079d5c2f06d', 'HTTPStatusCode': 200, 'HTTPHeaders': {'x-amzn-requestid': 'd6df3f94-4968-02df-8c08-9079d5c2f06d', 'x-amz-id-2': 'CzdLR4FFObHa9hFRF1obJT9ReIxefA9UzC+ZlIiqYWYcMdTkBV7KDTBwNVOtRn1LPtxwfcCpsIgo1GJKdeLDaoTTcHpTGLL4', 'date': 'Mon, 18 Apr 2022 18:27:57 GMT', 'content-type': 'application/x-amz-json-1.1', 'content-length': '110'}, 'RetryAttempts': 0}}\n",
      "{'ShardId': 'shardId-000000000001', 'SequenceNumber': '49628703383714691585617271237602156859726703546731593746', 'ResponseMetadata': {'RequestId': 'ebc76279-5c2d-42dc-b110-cd94c087b06e', 'HTTPStatusCode': 200, 'HTTPHeaders': {'x-amzn-requestid': 'ebc76279-5c2d-42dc-b110-cd94c087b06e', 'x-amz-id-2': 'ERjHyHHWTJcaX9gfDKRUZ+2CCpjEg7GVGAOr1VKXRMsFO/5uCaWQZoH067me1ZKanVG0DHGpUTeYkx8lQeGoaTP7Wnfa1TEX', 'date': 'Mon, 18 Apr 2022 18:27:57 GMT', 'content-type': 'application/x-amz-json-1.1', 'content-length': '110'}, 'RetryAttempts': 0}}\n",
      "{'ShardId': 'shardId-000000000001', 'SequenceNumber': '49628703383714691585617271237603365785546318175906299922', 'ResponseMetadata': {'RequestId': 'f812cd52-8453-3562-a2c5-62bf18f9c7d0', 'HTTPStatusCode': 200, 'HTTPHeaders': {'x-amzn-requestid': 'f812cd52-8453-3562-a2c5-62bf18f9c7d0', 'x-amz-id-2': 'NIz4tmMVa7A/9Opsqw6S31phlL9mpkyi3rcqXrBXNPdYtMdkN6c+2+ANNKwB2u0sBqAfNOYe8VczuD5u58dV7bsZcN6r8xK4', 'date': 'Mon, 18 Apr 2022 18:27:57 GMT', 'content-type': 'application/x-amz-json-1.1', 'content-length': '110'}, 'RetryAttempts': 0}}\n",
      "{'ShardId': 'shardId-000000000001', 'SequenceNumber': '49628703383714691585617271237604574711365932805081006098', 'ResponseMetadata': {'RequestId': 'd23e6d92-6da0-3501-88e9-c27ff10ac7b3', 'HTTPStatusCode': 200, 'HTTPHeaders': {'x-amzn-requestid': 'd23e6d92-6da0-3501-88e9-c27ff10ac7b3', 'x-amz-id-2': 'IaMh88aRl2mPmYh16V1e4lpMWNbrB2iSjfrjmAIVxGKZHfQboKq60LlMb07Tc8aeX/xrdND3zOSt0IckVBnaJ58KAip0tgDj', 'date': 'Mon, 18 Apr 2022 18:27:57 GMT', 'content-type': 'application/x-amz-json-1.1', 'content-length': '110'}, 'RetryAttempts': 0}}\n",
      "{'ShardId': 'shardId-000000000003', 'SequenceNumber': '49628703383759293076014332483888855073730844157267673138', 'ResponseMetadata': {'RequestId': 'cf7f3a3e-2bb2-bd2b-95a8-95d3b7184f99', 'HTTPStatusCode': 200, 'HTTPHeaders': {'x-amzn-requestid': 'cf7f3a3e-2bb2-bd2b-95a8-95d3b7184f99', 'x-amz-id-2': 'EimcYE10nwG+5sybmrGQfphCuotO9PxxstmCRyVIjhXhjxC61C9UGXBSs06Gxcf76/N9ohIBpIz3oaFk144+z3xH6n/BBLAN', 'date': 'Mon, 18 Apr 2022 18:27:57 GMT', 'content-type': 'application/x-amz-json-1.1', 'content-length': '110'}, 'RetryAttempts': 0}}\n",
      "{'ShardId': 'shardId-000000000002', 'SequenceNumber': '49628703383736992330815801860748528281277810424936398882', 'ResponseMetadata': {'RequestId': 'e5977074-2f68-040c-bf40-df99b3c2f6be', 'HTTPStatusCode': 200, 'HTTPHeaders': {'x-amzn-requestid': 'e5977074-2f68-040c-bf40-df99b3c2f6be', 'x-amz-id-2': 'R34vFwkV6wKafGZ66SNRSLwKNWA8VD/Pyt+9AcjyxCzFHlyWWMaGP+FJfkRU9mr/geoJ8okfdfyEEUB7VEjaogEheWVPwLaK', 'date': 'Mon, 18 Apr 2022 18:27:57 GMT', 'content-type': 'application/x-amz-json-1.1', 'content-length': '110'}, 'RetryAttempts': 0}}\n",
      "{'ShardId': 'shardId-000000000002', 'SequenceNumber': '49628703383736992330815801860749737207097425054111105058', 'ResponseMetadata': {'RequestId': 'ed5a9f8f-476b-2237-b78d-3062dbc1d085', 'HTTPStatusCode': 200, 'HTTPHeaders': {'x-amzn-requestid': 'ed5a9f8f-476b-2237-b78d-3062dbc1d085', 'x-amz-id-2': 'aOuoWADX2Wi4/TdaIa7Cn7RThmZDKAynQZqMwItyX6Jk7rKN73eTGU377PHmbcwBAHO+t9giXvltzm3TQp2vTTu+f7yjeF47', 'date': 'Mon, 18 Apr 2022 18:27:57 GMT', 'content-type': 'application/x-amz-json-1.1', 'content-length': '110'}, 'RetryAttempts': 0}}\n",
      "{'ShardId': 'shardId-000000000003', 'SequenceNumber': '49628703383759293076014332483892481851189688044791791666', 'ResponseMetadata': {'RequestId': 'e66229b2-1113-9450-bcb5-865f8db966e2', 'HTTPStatusCode': 200, 'HTTPHeaders': {'x-amzn-requestid': 'e66229b2-1113-9450-bcb5-865f8db966e2', 'x-amz-id-2': 'll3DtT7H9J4CDdktgjzxCrIoj3FGaiDTNPD2kECfQPpD23w7FEM02BEGZPGrL+ac0IvtKuP8aZLGWm2bigaD5+dFdgdWuor3', 'date': 'Mon, 18 Apr 2022 18:27:57 GMT', 'content-type': 'application/x-amz-json-1.1', 'content-length': '110'}, 'RetryAttempts': 0}}\n",
      "{'ShardId': 'shardId-000000000001', 'SequenceNumber': '49628703383714691585617271237610619340464005950954536978', 'ResponseMetadata': {'RequestId': 'fe1aa7cf-2c8f-7e0b-a4cd-0822b0258cb9', 'HTTPStatusCode': 200, 'HTTPHeaders': {'x-amzn-requestid': 'fe1aa7cf-2c8f-7e0b-a4cd-0822b0258cb9', 'x-amz-id-2': 'C9xanVLqsk/e+W8JVfA/A3leu5C/ZFndU0Ku/M2nrtSi6qjnWy5nk62Ffx0TqM17b5cYzeyE/lFBHPmvOoVA0c7V+1x8RlQ3', 'date': 'Mon, 18 Apr 2022 18:27:57 GMT', 'content-type': 'application/x-amz-json-1.1', 'content-length': '110'}, 'RetryAttempts': 0}}\n",
      "{'ShardId': 'shardId-000000000000', 'SequenceNumber': '49628703383692390840418740614470292548010972218623262722', 'ResponseMetadata': {'RequestId': 'ca59a015-521a-09a4-908e-0ff8ceb0fb16', 'HTTPStatusCode': 200, 'HTTPHeaders': {'x-amzn-requestid': 'ca59a015-521a-09a4-908e-0ff8ceb0fb16', 'x-amz-id-2': 'PUyyDEj/wYMvdpisjN2twQdbS793TT2O2Lg2eLtjvHaY66uQJMbwTgrrCIJVmEEaRDKVa8J7veP3w1G59J2TTk/iNfq2tw+O', 'date': 'Mon, 18 Apr 2022 18:27:57 GMT', 'content-type': 'application/x-amz-json-1.1', 'content-length': '110'}, 'RetryAttempts': 0}}\n",
      "{'ShardId': 'shardId-000000000002', 'SequenceNumber': '49628703383736992330815801860754572910375883570809929762', 'ResponseMetadata': {'RequestId': 'e8e0e97a-f6e1-a056-b237-46976a4b52e4', 'HTTPStatusCode': 200, 'HTTPHeaders': {'x-amzn-requestid': 'e8e0e97a-f6e1-a056-b237-46976a4b52e4', 'x-amz-id-2': 'rSSwhCoszAvGc7bQRmrDq+njr4/30Fs/b+DVlOUiXE2IQY6oJ6iiICx+y+2E2FH5iqPPJzE2Eplg3RLs+ZIipm5Lj/vhk3+L', 'date': 'Mon, 18 Apr 2022 18:27:57 GMT', 'content-type': 'application/x-amz-json-1.1', 'content-length': '110'}, 'RetryAttempts': 0}}\n",
      "{'ShardId': 'shardId-000000000000', 'SequenceNumber': '49628703383692390840418740614472710399650201476972675074', 'ResponseMetadata': {'RequestId': 'f315f21f-64f7-8f88-a9c2-5df2f85d7d3a', 'HTTPStatusCode': 200, 'HTTPHeaders': {'x-amzn-requestid': 'f315f21f-64f7-8f88-a9c2-5df2f85d7d3a', 'x-amz-id-2': 'hRkim5Lq4nNY0+SlUh/o65y4g8iEEo4qOUgIvEJ8OfCgrI1H7lxzoAPpLAXW2wIWV6w4YeOSSf5zm68F5uKtphIhLMgp0CXZ', 'date': 'Mon, 18 Apr 2022 18:27:57 GMT', 'content-type': 'application/x-amz-json-1.1', 'content-length': '110'}, 'RetryAttempts': 0}}\n",
      "{'ShardId': 'shardId-000000000003', 'SequenceNumber': '49628703383759293076014332483898526480287761190665322546', 'ResponseMetadata': {'RequestId': 'f48e5868-83c5-013c-ae59-f7851f6ff38e', 'HTTPStatusCode': 200, 'HTTPHeaders': {'x-amzn-requestid': 'f48e5868-83c5-013c-ae59-f7851f6ff38e', 'x-amz-id-2': 'rjxc609+/gEPniy1H4wfqNThfjCwE5RvElt+9F/Leo5GH8BAIXcIX36jIkUwKi/rKIEmKHlG+zRgwdBuBuTyKDlI537wGSlj', 'date': 'Mon, 18 Apr 2022 18:27:57 GMT', 'content-type': 'application/x-amz-json-1.1', 'content-length': '110'}, 'RetryAttempts': 0}}\n",
      "{'ShardId': 'shardId-000000000002', 'SequenceNumber': '49628703383736992330815801860758199687834727458334048290', 'ResponseMetadata': {'RequestId': 'e5d53116-7a20-4688-bf02-9efbe68ab43a', 'HTTPStatusCode': 200, 'HTTPHeaders': {'x-amzn-requestid': 'e5d53116-7a20-4688-bf02-9efbe68ab43a', 'x-amz-id-2': 'irMPwVEH8b1pLM9wDnhMi7FUQlsLneoP7jy+DVGFuZDVIUgCvTwHwzloWbzrEGAPQDFsomU542fiu1q94+igXjb9eRSre9Gm', 'date': 'Mon, 18 Apr 2022 18:27:57 GMT', 'content-type': 'application/x-amz-json-1.1', 'content-length': '110'}, 'RetryAttempts': 0}}\n",
      "{'ShardId': 'shardId-000000000001', 'SequenceNumber': '49628703383714691585617271237617872895381693726002774034', 'ResponseMetadata': {'RequestId': 'c3eec2cf-e992-73c8-9939-6d227538817a', 'HTTPStatusCode': 200, 'HTTPHeaders': {'x-amzn-requestid': 'c3eec2cf-e992-73c8-9939-6d227538817a', 'x-amz-id-2': 'E97F6rLvC0gW+mWcQd/426MIn48U5dvfj+GE6j1/Va3pGoUToXu4zINQkE4grN7ETsXMWivc+mgak/kjiaef7whMOYBV8epX', 'date': 'Mon, 18 Apr 2022 18:27:57 GMT', 'content-type': 'application/x-amz-json-1.1', 'content-length': '110'}, 'RetryAttempts': 0}}\n",
      "{'ShardId': 'shardId-000000000003', 'SequenceNumber': '49628703383759293076014332483902153257746605078189441074', 'ResponseMetadata': {'RequestId': 'e3d4ddeb-a988-6177-b903-7206352293c5', 'HTTPStatusCode': 200, 'HTTPHeaders': {'x-amzn-requestid': 'e3d4ddeb-a988-6177-b903-7206352293c5', 'x-amz-id-2': 'BNnpoA8gCDqPHsg2mt13H/h7ioqwTxVXa6LVeNgJiHz8vzh1xqTLlR6/ag2zG5LwiP0cEGpZFVACgS6VZpknodAs59gC80fV', 'date': 'Mon, 18 Apr 2022 18:27:57 GMT', 'content-type': 'application/x-amz-json-1.1', 'content-length': '110'}, 'RetryAttempts': 0}}\n",
      "{'ShardId': 'shardId-000000000001', 'SequenceNumber': '49628703383714691585617271237620290747020922984352186386', 'ResponseMetadata': {'RequestId': 'c01ed501-dc4f-d32d-9ac9-7aec40e5219f', 'HTTPStatusCode': 200, 'HTTPHeaders': {'x-amzn-requestid': 'c01ed501-dc4f-d32d-9ac9-7aec40e5219f', 'x-amz-id-2': 'zSv3vpY287YLCmBdvP9ID4jE7iEIEkKTEiHZgwodUvvp8QB/fQTZFNayE6WflRWg1UvKWAgXqNzYRISOidzMWarYWOU6BTNo', 'date': 'Mon, 18 Apr 2022 18:27:57 GMT', 'content-type': 'application/x-amz-json-1.1', 'content-length': '110'}, 'RetryAttempts': 0}}\n",
      "{'ShardId': 'shardId-000000000003', 'SequenceNumber': '49628703383759293076014332483904571109385834336538853426', 'ResponseMetadata': {'RequestId': 'e049a873-beae-8532-ba9e-079e22047780', 'HTTPStatusCode': 200, 'HTTPHeaders': {'x-amzn-requestid': 'e049a873-beae-8532-ba9e-079e22047780', 'x-amz-id-2': 'yM75XZfVeywrbdp0q7ZIhIe6X8Lv3VCdiaPrvdsD5KJ/x4Q0mrJdwUVJUHwZAnkzkGQpyE4T1D6+BBKKA709t5PrmEyJ/Bpw', 'date': 'Mon, 18 Apr 2022 18:27:57 GMT', 'content-type': 'application/x-amz-json-1.1', 'content-length': '110'}, 'RetryAttempts': 0}}\n",
      "{'ShardId': 'shardId-000000000003', 'SequenceNumber': '49628703383759293076014332483905780035205448965713559602', 'ResponseMetadata': {'RequestId': 'e9882f14-c2af-56de-b35f-80f95e05a46c', 'HTTPStatusCode': 200, 'HTTPHeaders': {'x-amzn-requestid': 'e9882f14-c2af-56de-b35f-80f95e05a46c', 'x-amz-id-2': 'XlMrlRpT+X2kMCl7xjTqbdsgeXQG57txRSyibZSuger50m1g6xUnRAKQnsnlHvFN5xN7j1UYOYxQoQxGTIdoAhAObD9NAbF5', 'date': 'Mon, 18 Apr 2022 18:27:57 GMT', 'content-type': 'application/x-amz-json-1.1', 'content-length': '110'}, 'RetryAttempts': 0}}\n",
      "{'ShardId': 'shardId-000000000001', 'SequenceNumber': '49628703383714691585617271237623917524479766871876304914', 'ResponseMetadata': {'RequestId': 'ed06a92b-d4de-f6e8-b7d1-06c64874045a', 'HTTPStatusCode': 200, 'HTTPHeaders': {'x-amzn-requestid': 'ed06a92b-d4de-f6e8-b7d1-06c64874045a', 'x-amz-id-2': '70A/qcj19pXARQbgwmGDVX2od64sM3xVqDWIZ2/OMzMbOS6L4GTKj+NO6T4+IPStSJQcIcjmZz1G8w/gHz1QATqRFGKmk5sB', 'date': 'Mon, 18 Apr 2022 18:27:57 GMT', 'content-type': 'application/x-amz-json-1.1', 'content-length': '110'}, 'RetryAttempts': 0}}\n"
     ]
    },
    {
     "name": "stdout",
     "output_type": "stream",
     "text": [
      "{'ShardId': 'shardId-000000000000', 'SequenceNumber': '49628703383692390840418740614483590732026733139545030658', 'ResponseMetadata': {'RequestId': 'c3d35e6a-c605-81a3-9904-f1875aaf7311', 'HTTPStatusCode': 200, 'HTTPHeaders': {'x-amzn-requestid': 'c3d35e6a-c605-81a3-9904-f1875aaf7311', 'x-amz-id-2': 'btcFEy9sv8YqsDzldYNCvrpYuJrwYfAoYR6oqIMwjLfklILSVkL19dUdQgRruzGzYzoLWWfFcu4koFfFsNOWadbXQgcTOQ+d', 'date': 'Mon, 18 Apr 2022 18:27:57 GMT', 'content-type': 'application/x-amz-json-1.1', 'content-length': '110'}, 'RetryAttempts': 0}}\n",
      "{'ShardId': 'shardId-000000000002', 'SequenceNumber': '49628703383736992330815801860767871094391644491731697698', 'ResponseMetadata': {'RequestId': 'd2fbed57-b7bb-8e41-882c-42ba2b117cf3', 'HTTPStatusCode': 200, 'HTTPHeaders': {'x-amzn-requestid': 'd2fbed57-b7bb-8e41-882c-42ba2b117cf3', 'x-amz-id-2': 'w7bKYlaWrQjYRkSr1+NveQb9a+4xj7l0mczleYawWf/diBB8lNOQXTkPXx0Fyvgh3rX0j3bGYsGwWu3vF2o7jXIT6W1NBFqm', 'date': 'Mon, 18 Apr 2022 18:27:57 GMT', 'content-type': 'application/x-amz-json-1.1', 'content-length': '110'}, 'RetryAttempts': 0}}\n",
      "{'ShardId': 'shardId-000000000002', 'SequenceNumber': '49628703383736992330815801860769080020211259120906403874', 'ResponseMetadata': {'RequestId': 'ffd9ae11-00e0-43d7-a50e-01fc9c4ab165', 'HTTPStatusCode': 200, 'HTTPHeaders': {'x-amzn-requestid': 'ffd9ae11-00e0-43d7-a50e-01fc9c4ab165', 'x-amz-id-2': 'P1WR9GIQwHIvc3Byb/9LkclEldYGvenxDLAu1bbtF9mi7VMn4svG2uZfnZRTkStXiSCTOkpwtwv5G17t5X1QEIxmwaNsjX+E', 'date': 'Mon, 18 Apr 2022 18:27:57 GMT', 'content-type': 'application/x-amz-json-1.1', 'content-length': '110'}, 'RetryAttempts': 0}}\n",
      "{'ShardId': 'shardId-000000000000', 'SequenceNumber': '49628703383692390840418740614487217509485577027069149186', 'ResponseMetadata': {'RequestId': 'ed0a7258-83d0-003b-b7dd-ddb51f7af289', 'HTTPStatusCode': 200, 'HTTPHeaders': {'x-amzn-requestid': 'ed0a7258-83d0-003b-b7dd-ddb51f7af289', 'x-amz-id-2': 'egd2B1Px0lqH3rnLwhucAV/IO0O2PZbOc0Cigc18Hx1aCk3zooEh01ZFinrHYKtf+yjj2XQepjStVDefx3qD0dsxiFe0V3a+', 'date': 'Mon, 18 Apr 2022 18:27:57 GMT', 'content-type': 'application/x-amz-json-1.1', 'content-length': '110'}, 'RetryAttempts': 0}}\n",
      "{'ShardId': 'shardId-000000000003', 'SequenceNumber': '49628703383759293076014332483913033590123136740761796658', 'ResponseMetadata': {'RequestId': 'd16d5b63-d4e7-6bc6-8bba-f48e484d9974', 'HTTPStatusCode': 200, 'HTTPHeaders': {'x-amzn-requestid': 'd16d5b63-d4e7-6bc6-8bba-f48e484d9974', 'x-amz-id-2': 'EkkdIqdl+ZK7iQaWs1GkS88ACVl10lx1wcu1XMCC8HFazD9lQ7TECHRTICizTEaW8qWCbq5+ErRYlYTLjXRwzW2EOu+Bu0gJ', 'date': 'Mon, 18 Apr 2022 18:27:57 GMT', 'content-type': 'application/x-amz-json-1.1', 'content-length': '110'}, 'RetryAttempts': 0}}\n",
      "{'ShardId': 'shardId-000000000001', 'SequenceNumber': '49628703383714691585617271237631171079397454646924541970', 'ResponseMetadata': {'RequestId': 'dfce73e6-7d2d-bce3-8519-dc0be1874e51', 'HTTPStatusCode': 200, 'HTTPHeaders': {'x-amzn-requestid': 'dfce73e6-7d2d-bce3-8519-dc0be1874e51', 'x-amz-id-2': 'JGGeONz8JCQhLYhZBlG/cVbicgarFFG9HkyAIGBG9jXoyiirWNUlD1GhMRmuOU9hv6yPzCXBPXnlA48fNEqD1LqNjbG0e3zn', 'date': 'Mon, 18 Apr 2022 18:27:57 GMT', 'content-type': 'application/x-amz-json-1.1', 'content-length': '110'}, 'RetryAttempts': 0}}\n",
      "{'ShardId': 'shardId-000000000003', 'SequenceNumber': '49628703383759293076014332483915451441762365999111209010', 'ResponseMetadata': {'RequestId': 'd39882b5-1ef7-5e5b-894f-2d58825dace9', 'HTTPStatusCode': 200, 'HTTPHeaders': {'x-amzn-requestid': 'd39882b5-1ef7-5e5b-894f-2d58825dace9', 'x-amz-id-2': 'sxlxuavb+s7C/CW/YVcmdJgF3QAdqKeB0tkhffPDVZX4i441LoOGIWuvjv4n7nuYCU8ULomwPaMF7+A64lHSkcCXCfnazvJz', 'date': 'Mon, 18 Apr 2022 18:27:57 GMT', 'content-type': 'application/x-amz-json-1.1', 'content-length': '110'}, 'RetryAttempts': 0}}\n",
      "{'ShardId': 'shardId-000000000002', 'SequenceNumber': '49628703383736992330815801860775124649309332266779934754', 'ResponseMetadata': {'RequestId': 'fe9f4d69-e112-0855-a448-e2847db8fae7', 'HTTPStatusCode': 200, 'HTTPHeaders': {'x-amzn-requestid': 'fe9f4d69-e112-0855-a448-e2847db8fae7', 'x-amz-id-2': 'R7EPAEqNaEXK9z3cHpLxLwH3wZR/ie9Ne9w2kv/TQV/QwpvaxzMfZg1zcnAN2TqSRpc2eeyZMPbKe51QXLEC+c9+rKSOnZC3', 'date': 'Mon, 18 Apr 2022 18:27:57 GMT', 'content-type': 'application/x-amz-json-1.1', 'content-length': '110'}, 'RetryAttempts': 0}}\n",
      "{'ShardId': 'shardId-000000000000', 'SequenceNumber': '49628703383692390840418740614493262138583650172942680066', 'ResponseMetadata': {'RequestId': 'f6f51c52-66d6-f438-ac22-b3bffa7c068a', 'HTTPStatusCode': 200, 'HTTPHeaders': {'x-amzn-requestid': 'f6f51c52-66d6-f438-ac22-b3bffa7c068a', 'x-amz-id-2': 'FCszyp2CjplqN807+T2UWN6KXAUdz4QlDaSFeIruOz89LKtWdYLrXdwUEtYq5tcP8ofAu/apgDlfD1K6J7dBCpCtconz/M+L', 'date': 'Mon, 18 Apr 2022 18:27:57 GMT', 'content-type': 'application/x-amz-json-1.1', 'content-length': '110'}, 'RetryAttempts': 0}}\n",
      "{'ShardId': 'shardId-000000000002', 'SequenceNumber': '49628703383736992330815801860777542500948561525129347106', 'ResponseMetadata': {'RequestId': 'e5a14a63-9b22-9e8c-bf76-e58e07886c3e', 'HTTPStatusCode': 200, 'HTTPHeaders': {'x-amzn-requestid': 'e5a14a63-9b22-9e8c-bf76-e58e07886c3e', 'x-amz-id-2': 'N/0j1A/3BKkuKEll9knCv7NfhBQRBMhM0ugB6O18WjX/cDd7JEgPyBCAdmSvkGWFHreUNTkGeOlh/XeRfEZfOV5qAmX9xSLo', 'date': 'Mon, 18 Apr 2022 18:27:57 GMT', 'content-type': 'application/x-amz-json-1.1', 'content-length': '110'}, 'RetryAttempts': 0}}\n",
      "{'ShardId': 'shardId-000000000002', 'SequenceNumber': '49628703383736992330815801860778751426768176154304053282', 'ResponseMetadata': {'RequestId': 'eeb7fd92-ac77-da76-b460-527f30dd28c4', 'HTTPStatusCode': 200, 'HTTPHeaders': {'x-amzn-requestid': 'eeb7fd92-ac77-da76-b460-527f30dd28c4', 'x-amz-id-2': 'a/njnIQNbrZ1S6xINxlaTYiV6EyxtX541yML3J1GmbNWJIfEtz1wdJ4MVXrwiFw+ubyNlA01gblx7tM46d0lkJh6mE18uT1h', 'date': 'Mon, 18 Apr 2022 18:27:57 GMT', 'content-type': 'application/x-amz-json-1.1', 'content-length': '110'}, 'RetryAttempts': 0}}\n",
      "{'ShardId': 'shardId-000000000002', 'SequenceNumber': '49628703383736992330815801860779960352587790783478759458', 'ResponseMetadata': {'RequestId': 'dbcad10a-796c-59ec-811d-7ee7e5c6ab5e', 'HTTPStatusCode': 200, 'HTTPHeaders': {'x-amzn-requestid': 'dbcad10a-796c-59ec-811d-7ee7e5c6ab5e', 'x-amz-id-2': 'poNRgBBg+lU2nzKou5s+HlNMSJhXoD0nQqOZrBoMFJD3/JSlEp212W+kbgYWFldX8B2rz5d2ZUsdXGNdboNZSfYLnfpWimq7', 'date': 'Mon, 18 Apr 2022 18:27:57 GMT', 'content-type': 'application/x-amz-json-1.1', 'content-length': '110'}, 'RetryAttempts': 0}}\n",
      "{'ShardId': 'shardId-000000000003', 'SequenceNumber': '49628703383759293076014332483922704996680053774159446066', 'ResponseMetadata': {'RequestId': 'e88d1582-4444-da7a-b25a-ba6fd8ee28c8', 'HTTPStatusCode': 200, 'HTTPHeaders': {'x-amzn-requestid': 'e88d1582-4444-da7a-b25a-ba6fd8ee28c8', 'x-amz-id-2': 'VtkWHw0XHkwPKeunZERoCMv8t9NBUw8XjHJYbzoxo66VMj8Qy9Kj8L8NiACC7z011yRazv5pZl2/RhFWm9Rzp9FqgSmWqrlY', 'date': 'Mon, 18 Apr 2022 18:27:57 GMT', 'content-type': 'application/x-amz-json-1.1', 'content-length': '110'}, 'RetryAttempts': 0}}\n",
      "{'ShardId': 'shardId-000000000002', 'SequenceNumber': '49628703383736992330815801860782378204227020110547648546', 'ResponseMetadata': {'RequestId': 'd44f7f4a-bbcc-81d6-8e98-d0a727667364', 'HTTPStatusCode': 200, 'HTTPHeaders': {'x-amzn-requestid': 'd44f7f4a-bbcc-81d6-8e98-d0a727667364', 'x-amz-id-2': 'Z6lVTN3NQcoA0LpYyo/f/qHmingW+iKd9YvHDDDBgFxket9OhzvgEvUiUtrQg7uhhUID22UI4ChGMctTAvhSmeExe/h5YCMD', 'date': 'Mon, 18 Apr 2022 18:27:57 GMT', 'content-type': 'application/x-amz-json-1.1', 'content-length': '110'}, 'RetryAttempts': 0}}\n",
      "{'ShardId': 'shardId-000000000000', 'SequenceNumber': '49628703383692390840418740614500515693501338016710393858', 'ResponseMetadata': {'RequestId': 'fab3bd55-c8b7-4522-a064-12bb541db790', 'HTTPStatusCode': 200, 'HTTPHeaders': {'x-amzn-requestid': 'fab3bd55-c8b7-4522-a064-12bb541db790', 'x-amz-id-2': 'OVpQnvWijfW4MvU4cXs1Q9HTA2vWaHgj/kjMU1T5YibLUEpSVeur+Wkk44C1tJHPIPzHBVwyx9oQhRwNe8qp9f98jTrwA1Mq', 'date': 'Mon, 18 Apr 2022 18:27:58 GMT', 'content-type': 'application/x-amz-json-1.1', 'content-length': '110'}, 'RetryAttempts': 0}}\n",
      "{'ShardId': 'shardId-000000000001', 'SequenceNumber': '49628703383714691585617271237643260337593601007391080466', 'ResponseMetadata': {'RequestId': 'ed9848f2-2697-53dd-b74f-e71cba3da16f', 'HTTPStatusCode': 200, 'HTTPHeaders': {'x-amzn-requestid': 'ed9848f2-2697-53dd-b74f-e71cba3da16f', 'x-amz-id-2': 'M8IwglZM0Cf9BDcYvt0OeIgipKlGbCrbE9JptoYs6XiaPXE7bMGZ021ZJlZUjViva73gz5MWrXRrKyjU+0AluJjC22p8bwzO', 'date': 'Mon, 18 Apr 2022 18:27:58 GMT', 'content-type': 'application/x-amz-json-1.1', 'content-length': '110'}, 'RetryAttempts': 0}}\n",
      "{'ShardId': 'shardId-000000000002', 'SequenceNumber': '49628703383736992330815801860786004981685863998071767074', 'ResponseMetadata': {'RequestId': 'fc1cad64-a672-7d24-a6cb-028a3ad88f96', 'HTTPStatusCode': 200, 'HTTPHeaders': {'x-amzn-requestid': 'fc1cad64-a672-7d24-a6cb-028a3ad88f96', 'x-amz-id-2': 'x2xWdK150R5tviLSb3uhQn1Y3vu2ZY4sxN/nifpNBsgje9bS7bvzWgRcEoG4dUPzhHQSHeKTCThTrXuvTWIluvj0gtBrkMmb', 'date': 'Mon, 18 Apr 2022 18:27:58 GMT', 'content-type': 'application/x-amz-json-1.1', 'content-length': '110'}, 'RetryAttempts': 0}}\n",
      "{'ShardId': 'shardId-000000000003', 'SequenceNumber': '49628703383759293076014332483928749625778126988752453682', 'ResponseMetadata': {'RequestId': 'c9ae6709-abbf-119f-9379-c8e73715e32d', 'HTTPStatusCode': 200, 'HTTPHeaders': {'x-amzn-requestid': 'c9ae6709-abbf-119f-9379-c8e73715e32d', 'x-amz-id-2': 'jU7Rj/qNcRTpVJIK64s8CZ5DlNWQ5wMaTGjcSYkBpP4MKCHwWqxWkLbu7tfzTXf6Dq97pZi7VC6qjr91K13WvAUU9PjHb0El', 'date': 'Mon, 18 Apr 2022 18:27:58 GMT', 'content-type': 'application/x-amz-json-1.1', 'content-length': '110'}, 'RetryAttempts': 0}}\n",
      "{'ShardId': 'shardId-000000000001', 'SequenceNumber': '49628703383714691585617271237646887115052444894915198994', 'ResponseMetadata': {'RequestId': 'e619edc2-54e9-a458-bcce-422cc84356ea', 'HTTPStatusCode': 200, 'HTTPHeaders': {'x-amzn-requestid': 'e619edc2-54e9-a458-bcce-422cc84356ea', 'x-amz-id-2': '6UADd5gmiE1rsh9yMakJl5Kqoxcj1GP3QtBcwZWQCBA6/XP8OT0CyQQwqopA03OYNJ6YJDOXE8ky2NiA9n3/yAhWHXyyDn0a', 'date': 'Mon, 18 Apr 2022 18:27:58 GMT', 'content-type': 'application/x-amz-json-1.1', 'content-length': '110'}, 'RetryAttempts': 0}}\n",
      "{'ShardId': 'shardId-000000000002', 'SequenceNumber': '49628703383736992330815801860789631759144707885595885602', 'ResponseMetadata': {'RequestId': 'cfb4c670-455b-2808-9563-699ed9f1daba', 'HTTPStatusCode': 200, 'HTTPHeaders': {'x-amzn-requestid': 'cfb4c670-455b-2808-9563-699ed9f1daba', 'x-amz-id-2': 'df1AEg+RF/e2XDd8gtEySuPcxH0JdZIFtJiPibXzdZb3E+bzX1oXW88/PyRHXpcCVq4GSpbJGBrp4gqLbTriONzcOx1tZpAl', 'date': 'Mon, 18 Apr 2022 18:27:58 GMT', 'content-type': 'application/x-amz-json-1.1', 'content-length': '110'}, 'RetryAttempts': 0}}\n",
      "{'ShardId': 'shardId-000000000001', 'SequenceNumber': '49628703383714691585617271237649304966691674153264611346', 'ResponseMetadata': {'RequestId': 'd14d0d5c-dae4-270c-8b9a-a2b2464ed5be', 'HTTPStatusCode': 200, 'HTTPHeaders': {'x-amzn-requestid': 'd14d0d5c-dae4-270c-8b9a-a2b2464ed5be', 'x-amz-id-2': 'D4FZkwvFY1e0BCwYrYbWU5JpvU1k7q5qw3b3OwER8xdBYgFIfPzqWrdidTL8TPZ67fcrBTX7dn3n8jO8fcPQBNFMZJhS6Znr', 'date': 'Mon, 18 Apr 2022 18:27:58 GMT', 'content-type': 'application/x-amz-json-1.1', 'content-length': '110'}, 'RetryAttempts': 0}}\n",
      "{'ShardId': 'shardId-000000000002', 'SequenceNumber': '49628703383736992330815801860792049610783937143945297954', 'ResponseMetadata': {'RequestId': 'cb26715b-3b7e-9aed-91f1-deb5a7d4685f', 'HTTPStatusCode': 200, 'HTTPHeaders': {'x-amzn-requestid': 'cb26715b-3b7e-9aed-91f1-deb5a7d4685f', 'x-amz-id-2': 'ozgPT3J70Eww4jNgsA0514Agil+czrRZ7PZ5RaUYtT72zDosNBEJoVvAOwl5E1f8tKeB7XJsp/mO62K+L+etf7+J/r3TtYpM', 'date': 'Mon, 18 Apr 2022 18:27:58 GMT', 'content-type': 'application/x-amz-json-1.1', 'content-length': '110'}, 'RetryAttempts': 0}}\n",
      "{'ShardId': 'shardId-000000000003', 'SequenceNumber': '49628703383759293076014332483934794254876200134625984562', 'ResponseMetadata': {'RequestId': 'f706c300-7e19-b1b9-add1-6ceee2b3430b', 'HTTPStatusCode': 200, 'HTTPHeaders': {'x-amzn-requestid': 'f706c300-7e19-b1b9-add1-6ceee2b3430b', 'x-amz-id-2': 'n+umkn4vkmrg4zODHeoWgiyDBirZyL/JZR7ePzWZx/RE7g3YYwswwoSEtTW2whp3NtkOwRSFX7qpLdCRQDS33cgszBH2ih1k', 'date': 'Mon, 18 Apr 2022 18:27:58 GMT', 'content-type': 'application/x-amz-json-1.1', 'content-length': '110'}, 'RetryAttempts': 0}}\n",
      "{'ShardId': 'shardId-000000000002', 'SequenceNumber': '49628703383736992330815801860794467462423166402294710306', 'ResponseMetadata': {'RequestId': 'e010c072-bc6f-fa08-bac7-6f9c20c508ba', 'HTTPStatusCode': 200, 'HTTPHeaders': {'x-amzn-requestid': 'e010c072-bc6f-fa08-bac7-6f9c20c508ba', 'x-amz-id-2': 'EHnEJhDzvHiYjuVngZG3IQMz5YPERsQBlWaJkjzmZrgkbYHen06b2vNrjOsNBMb4cdgQL654iCDzEvQ5xYpZFy0Vct/5CF6N', 'date': 'Mon, 18 Apr 2022 18:27:58 GMT', 'content-type': 'application/x-amz-json-1.1', 'content-length': '110'}, 'RetryAttempts': 0}}\n",
      "{'ShardId': 'shardId-000000000001', 'SequenceNumber': '49628703383714691585617271237654140669970132669963436050', 'ResponseMetadata': {'RequestId': 'c975fae2-e743-5c6c-93a2-550c7be9aede', 'HTTPStatusCode': 200, 'HTTPHeaders': {'x-amzn-requestid': 'c975fae2-e743-5c6c-93a2-550c7be9aede', 'x-amz-id-2': 'U9lZnJMn/23TIJzzISalC8pqDbMUF9e8pxYIjokI/iSylqjqinazoX9XCUrcnGctHsvc30bKv8847137II95frRmK8iYn4DK', 'date': 'Mon, 18 Apr 2022 18:27:58 GMT', 'content-type': 'application/x-amz-json-1.1', 'content-length': '110'}, 'RetryAttempts': 0}}\n"
     ]
    },
    {
     "name": "stdout",
     "output_type": "stream",
     "text": [
      "{'ShardId': 'shardId-000000000000', 'SequenceNumber': '49628703383692390840418740614513813877517098937632161794', 'ResponseMetadata': {'RequestId': 'd76036e1-78fc-50f6-8db7-990fe456a244', 'HTTPStatusCode': 200, 'HTTPHeaders': {'x-amzn-requestid': 'd76036e1-78fc-50f6-8db7-990fe456a244', 'x-amz-id-2': '8h0N5VQuy2Zm8c6qRpVLs9SujEWX6glYGWj06LiLUa/cI7ZpnM4NrKfvnx46fsC0z8OXtP1ZOzNBlM9n82NKZdijlDKIcGZ1', 'date': 'Mon, 18 Apr 2022 18:27:58 GMT', 'content-type': 'application/x-amz-json-1.1', 'content-length': '110'}, 'RetryAttempts': 0}}\n",
      "{'ShardId': 'shardId-000000000001', 'SequenceNumber': '49628703383714691585617271237656558521609361928312848402', 'ResponseMetadata': {'RequestId': 'f377946d-05e9-16b5-a9a0-3b839943e407', 'HTTPStatusCode': 200, 'HTTPHeaders': {'x-amzn-requestid': 'f377946d-05e9-16b5-a9a0-3b839943e407', 'x-amz-id-2': 'P7qpM3136LmZIsf5gMBXi5ieqcjNdjJwvoGJ3C9yikPvicZljLgE71kNQVeM3Rs/MbMY1M78xWI+XPf4/dp8LMBqCuaPfcbl', 'date': 'Mon, 18 Apr 2022 18:27:58 GMT', 'content-type': 'application/x-amz-json-1.1', 'content-length': '110'}, 'RetryAttempts': 0}}\n",
      "{'ShardId': 'shardId-000000000001', 'SequenceNumber': '49628703383714691585617271237657767447428976557487554578', 'ResponseMetadata': {'RequestId': 'c2946281-4da1-76d4-9843-cd6fd10b8466', 'HTTPStatusCode': 200, 'HTTPHeaders': {'x-amzn-requestid': 'c2946281-4da1-76d4-9843-cd6fd10b8466', 'x-amz-id-2': 'y+j4x+7mtgO4N1jWp/1tAOz8R/GMXBsJCVw+R2vWnajvNJ5wZJLBU1J9m7UfOoxnoRzNgd1U46iK2vFnS43XPLeocywwaA7l', 'date': 'Mon, 18 Apr 2022 18:27:58 GMT', 'content-type': 'application/x-amz-json-1.1', 'content-length': '110'}, 'RetryAttempts': 0}}\n",
      "{'ShardId': 'shardId-000000000001', 'SequenceNumber': '49628703383714691585617271237658976373248591186662260754', 'ResponseMetadata': {'RequestId': 'eda4ac3b-7a79-1e1e-b773-03d5e6d3ecac', 'HTTPStatusCode': 200, 'HTTPHeaders': {'x-amzn-requestid': 'eda4ac3b-7a79-1e1e-b773-03d5e6d3ecac', 'x-amz-id-2': '/5xS344m99Esa0fqzEN7ahZLgaIhNpJ1wExoE1qWIgym5xOTbljPmDCwZdFhTo8bD9rza380QTilL+E+hl7dDG0SJKFwuEY/', 'date': 'Mon, 18 Apr 2022 18:27:58 GMT', 'content-type': 'application/x-amz-json-1.1', 'content-length': '110'}, 'RetryAttempts': 0}}\n",
      "{'ShardId': 'shardId-000000000002', 'SequenceNumber': '49628703383736992330815801860801721017340854177342947362', 'ResponseMetadata': {'RequestId': 'd38d8060-05f8-0c89-895a-2f8e9952fe3b', 'HTTPStatusCode': 200, 'HTTPHeaders': {'x-amzn-requestid': 'd38d8060-05f8-0c89-895a-2f8e9952fe3b', 'x-amz-id-2': 'ms4V6FeAlhtvJgFd1ged8wAoBGkKubTyznAPQ3cTvXFm0RnM2/SuVEHGj3I2G6cmlQ2rEDLu3E7MnjSKl1ayBJtZDWCcDaUs', 'date': 'Mon, 18 Apr 2022 18:27:58 GMT', 'content-type': 'application/x-amz-json-1.1', 'content-length': '110'}, 'RetryAttempts': 0}}\n",
      "{'ShardId': 'shardId-000000000003', 'SequenceNumber': '49628703383759293076014332483944465661433117168023633970', 'ResponseMetadata': {'RequestId': 'f8479f33-1b53-65ad-a290-30dd87f9971f', 'HTTPStatusCode': 200, 'HTTPHeaders': {'x-amzn-requestid': 'f8479f33-1b53-65ad-a290-30dd87f9971f', 'x-amz-id-2': 'KU+2G1MZvy9CvdAFbFFn1gTprgDlKstdP6YXwqqoirbS4aT+k4hpRV5c/VkawASdPpNIxVceGMxgysHvPqTeTuqkNl2l07Lo', 'date': 'Mon, 18 Apr 2022 18:27:58 GMT', 'content-type': 'application/x-amz-json-1.1', 'content-length': '110'}, 'RetryAttempts': 0}}\n",
      "{'ShardId': 'shardId-000000000002', 'SequenceNumber': '49628703383736992330815801860804138868980083435692359714', 'ResponseMetadata': {'RequestId': 'c3407a68-7eff-609d-9997-d586e255922f', 'HTTPStatusCode': 200, 'HTTPHeaders': {'x-amzn-requestid': 'c3407a68-7eff-609d-9997-d586e255922f', 'x-amz-id-2': 'vKEmWmurlqmyGPDnwIlyJ8bIIbAckVdmmwHrgH5Wtlq+2vk/f8k7aADO6Tj5LbC69WQYxGuZqTXuU9WzLSMNCzgmEKbPFWmx', 'date': 'Mon, 18 Apr 2022 18:27:58 GMT', 'content-type': 'application/x-amz-json-1.1', 'content-length': '110'}, 'RetryAttempts': 0}}\n",
      "{'ShardId': 'shardId-000000000002', 'SequenceNumber': '49628703383736992330815801860805347794799698064867065890', 'ResponseMetadata': {'RequestId': 'e830c758-1b34-1d06-b2e7-68b6879eefb4', 'HTTPStatusCode': 200, 'HTTPHeaders': {'x-amzn-requestid': 'e830c758-1b34-1d06-b2e7-68b6879eefb4', 'x-amz-id-2': 'iAgZB7ovdUBr9tto7pOQ96qPiIgmysqgxYFvQFRzyuWFAaBjQYGKxQI5FBnYSPr5Kge3mmP8iadmteNVzfVx1g3n8ffYwpoZ', 'date': 'Mon, 18 Apr 2022 18:27:58 GMT', 'content-type': 'application/x-amz-json-1.1', 'content-length': '110'}, 'RetryAttempts': 0}}\n",
      "{'ShardId': 'shardId-000000000000', 'SequenceNumber': '49628703383692390840418740614523485284074015971029811202', 'ResponseMetadata': {'RequestId': 'fc0294c2-a55f-5e1c-a6d5-3b2c39f5acae', 'HTTPStatusCode': 200, 'HTTPHeaders': {'x-amzn-requestid': 'fc0294c2-a55f-5e1c-a6d5-3b2c39f5acae', 'x-amz-id-2': 'zX2zE3okFoylxC7UeBIpt4v8g918s7AI0ydlTeqCsf/233NtR1ZsFuBF1kwzfzjG1ZiWUpbz/T5egvu1we0W7Jco091rONAl', 'date': 'Mon, 18 Apr 2022 18:27:58 GMT', 'content-type': 'application/x-amz-json-1.1', 'content-length': '110'}, 'RetryAttempts': 0}}\n",
      "{'ShardId': 'shardId-000000000002', 'SequenceNumber': '49628703383736992330815801860807765646438927323216478242', 'ResponseMetadata': {'RequestId': 'da23743d-21c0-6134-80f4-dbd3bd6a9386', 'HTTPStatusCode': 200, 'HTTPHeaders': {'x-amzn-requestid': 'da23743d-21c0-6134-80f4-dbd3bd6a9386', 'x-amz-id-2': 'HJrrZ/Qb4S0NEizMfN3rvzWMMYMY4UlPCBInNhwxRUpcNTzyDCDQx4ksO/9hPy7BY6zVRCrb+ObeK82pseXGoXDN31HZ6tlr', 'date': 'Mon, 18 Apr 2022 18:27:58 GMT', 'content-type': 'application/x-amz-json-1.1', 'content-length': '110'}, 'RetryAttempts': 0}}\n",
      "{'ShardId': 'shardId-000000000001', 'SequenceNumber': '49628703383714691585617271237667438853985893590885203986', 'ResponseMetadata': {'RequestId': 'f7f3e620-5f90-2c1b-ad24-49cec33adea9', 'HTTPStatusCode': 200, 'HTTPHeaders': {'x-amzn-requestid': 'f7f3e620-5f90-2c1b-ad24-49cec33adea9', 'x-amz-id-2': 'IC0OYYRG+8Q55/8ktGj57AIfD/p/TCm4Y4PtYEnGKF8p9k+GUVvvr2nvyIsNSBEoI5zrdk8WYhN4vrjP4D/oLeHEWu3OjSku', 'date': 'Mon, 18 Apr 2022 18:27:58 GMT', 'content-type': 'application/x-amz-json-1.1', 'content-length': '110'}, 'RetryAttempts': 0}}\n",
      "{'ShardId': 'shardId-000000000000', 'SequenceNumber': '49628703383692390840418740614527112061532859858553929730', 'ResponseMetadata': {'RequestId': 'd02553e5-b88f-f2ae-8af2-fc0b2425001c', 'HTTPStatusCode': 200, 'HTTPHeaders': {'x-amzn-requestid': 'd02553e5-b88f-f2ae-8af2-fc0b2425001c', 'x-amz-id-2': '0nVClwOW3YI2hu+CrYOiV36wq/eQgwKouAYehFL6OPBt8ZsvDptHuoyRcqHUdzvY8n0nz6hN1r9eM/qy7EzMsDjVXDdryiLt', 'date': 'Mon, 18 Apr 2022 18:27:58 GMT', 'content-type': 'application/x-amz-json-1.1', 'content-length': '110'}, 'RetryAttempts': 0}}\n",
      "{'ShardId': 'shardId-000000000001', 'SequenceNumber': '49628703383714691585617271237669856705625122849234616338', 'ResponseMetadata': {'RequestId': 'd04b3b98-b215-c936-8a9c-94762ebf3b84', 'HTTPStatusCode': 200, 'HTTPHeaders': {'x-amzn-requestid': 'd04b3b98-b215-c936-8a9c-94762ebf3b84', 'x-amz-id-2': 'yCgt9dXsrawHvHONJ35Erz5JS1fSskRBQN0X/amQquMUqpA9Hp2Hshj3hxnfVvDKMPqxlv6V+/AmL+//W4JVjTKEYyvjP7tK', 'date': 'Mon, 18 Apr 2022 18:27:58 GMT', 'content-type': 'application/x-amz-json-1.1', 'content-length': '110'}, 'RetryAttempts': 0}}\n",
      "{'ShardId': 'shardId-000000000002', 'SequenceNumber': '49628703383736992330815801860812601349717385839915302946', 'ResponseMetadata': {'RequestId': 'f942bdc9-cc8b-2a3a-a395-12275021d888', 'HTTPStatusCode': 200, 'HTTPHeaders': {'x-amzn-requestid': 'f942bdc9-cc8b-2a3a-a395-12275021d888', 'x-amz-id-2': 'l8d+NaFBtRXMJudKvrMox2IoWQi14Ku+KlS8qCRkOgyH3axF3FSwhbkLLIiracbg6x9R+Q3s/75mDuV7dQo8NUTDBjv3ihcS', 'date': 'Mon, 18 Apr 2022 18:27:58 GMT', 'content-type': 'application/x-amz-json-1.1', 'content-length': '110'}, 'RetryAttempts': 0}}\n",
      "{'ShardId': 'shardId-000000000000', 'SequenceNumber': '49628703383692390840418740614530738838991703746078048258', 'ResponseMetadata': {'RequestId': 'e727325c-316a-3860-bdf0-9db2adc0cad2', 'HTTPStatusCode': 200, 'HTTPHeaders': {'x-amzn-requestid': 'e727325c-316a-3860-bdf0-9db2adc0cad2', 'x-amz-id-2': 'UDe+MYaLfp7+OwlJUtdnQzHUq8HWkQcsXJ/6ZiDblasTocEFGodzXHXDBxkR0XtiOmyv0ex/yM4lLb+K0IcYsEVS+myEhnVO', 'date': 'Mon, 18 Apr 2022 18:27:58 GMT', 'content-type': 'application/x-amz-json-1.1', 'content-length': '110'}, 'RetryAttempts': 0}}\n",
      "{'ShardId': 'shardId-000000000001', 'SequenceNumber': '49628703383714691585617271237673483483083966736758734866', 'ResponseMetadata': {'RequestId': 'd5671ac1-aa53-5bd4-8fb0-b52f36f9a966', 'HTTPStatusCode': 200, 'HTTPHeaders': {'x-amzn-requestid': 'd5671ac1-aa53-5bd4-8fb0-b52f36f9a966', 'x-amz-id-2': 'FmVb3P1Tm9E/zsttRTbUhqyY+maGKjHM/fII/nlL7q+7pv9qLh3U6gMC1TNw9v8V4sqVm7ugwtHhCjl+Vrf9GfnAClowuOfd', 'date': 'Mon, 18 Apr 2022 18:27:58 GMT', 'content-type': 'application/x-amz-json-1.1', 'content-length': '110'}, 'RetryAttempts': 0}}\n",
      "{'ShardId': 'shardId-000000000000', 'SequenceNumber': '49628703383692390840418740614533156690630933004427460610', 'ResponseMetadata': {'RequestId': 'd0400d88-1967-b659-8a97-a26685cd44eb', 'HTTPStatusCode': 200, 'HTTPHeaders': {'x-amzn-requestid': 'd0400d88-1967-b659-8a97-a26685cd44eb', 'x-amz-id-2': '46mh9r1fvjgU6VAhZzXH0MrsBoVSoWTgaABc+G3g1tRXexqvy/83LoV3Q5yX8tdTDm0Z1C/SGBf6i9WhzrsCM+JRKOTpSl6B', 'date': 'Mon, 18 Apr 2022 18:27:58 GMT', 'content-type': 'application/x-amz-json-1.1', 'content-length': '110'}, 'RetryAttempts': 0}}\n",
      "{'ShardId': 'shardId-000000000001', 'SequenceNumber': '49628703383714691585617271237675901334723195995108147218', 'ResponseMetadata': {'RequestId': 'c7a217d5-e648-af31-9d75-b83b7ae25d83', 'HTTPStatusCode': 200, 'HTTPHeaders': {'x-amzn-requestid': 'c7a217d5-e648-af31-9d75-b83b7ae25d83', 'x-amz-id-2': 'kcst7F2kTbCAeqtSS/y/mKlx7jquZk908qRAFgGCZ3ee75n/tRCz0HOYzPXZk3WPyff5YWVCMsvrMcZzTAiS6ICKYAvz+KrT', 'date': 'Mon, 18 Apr 2022 18:27:58 GMT', 'content-type': 'application/x-amz-json-1.1', 'content-length': '110'}, 'RetryAttempts': 0}}\n",
      "{'ShardId': 'shardId-000000000002', 'SequenceNumber': '49628703383736992330815801860818645978815458985788833826', 'ResponseMetadata': {'RequestId': 'c445031c-0295-057e-9e92-acf29e3ff7cc', 'HTTPStatusCode': 200, 'HTTPHeaders': {'x-amzn-requestid': 'c445031c-0295-057e-9e92-acf29e3ff7cc', 'x-amz-id-2': 'CgZ21Sy0eyfRTzZahUt4LL8LgZIkw52RcV3RIq+wYhWh2Snaqn/eBv4soAm2iCYtuxjsd4YlFRTfnsRhiJ4TKN1oUaHDgl5f', 'date': 'Mon, 18 Apr 2022 18:27:58 GMT', 'content-type': 'application/x-amz-json-1.1', 'content-length': '110'}, 'RetryAttempts': 0}}\n",
      "{'ShardId': 'shardId-000000000002', 'SequenceNumber': '49628703383736992330815801860819854904635073614963540002', 'ResponseMetadata': {'RequestId': 'e4964db2-34d0-08e6-be41-e25ca87afa54', 'HTTPStatusCode': 200, 'HTTPHeaders': {'x-amzn-requestid': 'e4964db2-34d0-08e6-be41-e25ca87afa54', 'x-amz-id-2': 'XO8U7Ra+M4O5kbx5sA3HoTxKaHqhB048G6uo1moRWkj8rrMfF1UZC9/Bt3Qr2tu4meR9KNHGirU/giy/nVWwaAZmlG3OsTO5', 'date': 'Mon, 18 Apr 2022 18:27:58 GMT', 'content-type': 'application/x-amz-json-1.1', 'content-length': '110'}, 'RetryAttempts': 0}}\n",
      "{'ShardId': 'shardId-000000000000', 'SequenceNumber': '49628703383692390840418740614537992393909391521126285314', 'ResponseMetadata': {'RequestId': 'd4864183-3d71-425d-8e51-ee6da1dbb0ef', 'HTTPStatusCode': 200, 'HTTPHeaders': {'x-amzn-requestid': 'd4864183-3d71-425d-8e51-ee6da1dbb0ef', 'x-amz-id-2': '9esRngByVmoTQm/YH16bkdaQiXPs7zO8YwmOB9jgyNOBkPWjmZe63+IarfsFAatf4sMuhdIM8o0NwBS/pmuJTDMLpYUx85oM', 'date': 'Mon, 18 Apr 2022 18:27:58 GMT', 'content-type': 'application/x-amz-json-1.1', 'content-length': '110'}, 'RetryAttempts': 0}}\n",
      "{'ShardId': 'shardId-000000000000', 'SequenceNumber': '49628703383692390840418740614539201319729006150300991490', 'ResponseMetadata': {'RequestId': 'c7705c4f-5452-10ad-9da7-f3a1c8f8e21f', 'HTTPStatusCode': 200, 'HTTPHeaders': {'x-amzn-requestid': 'c7705c4f-5452-10ad-9da7-f3a1c8f8e21f', 'x-amz-id-2': 'r8j454LFo9tMCpsfT0SZw1RgASho94V1xmCXgf6beihEntdMGyJZ3TAxTJjX4UcAyLYgLz6VjA9UIa4/IKYDjLyzx6YveWB4', 'date': 'Mon, 18 Apr 2022 18:27:58 GMT', 'content-type': 'application/x-amz-json-1.1', 'content-length': '110'}, 'RetryAttempts': 0}}\n",
      "{'ShardId': 'shardId-000000000000', 'SequenceNumber': '49628703383692390840418740614540410245548620779475697666', 'ResponseMetadata': {'RequestId': 'f4489f9b-5940-6884-ae9f-3075c5ea9a36', 'HTTPStatusCode': 200, 'HTTPHeaders': {'x-amzn-requestid': 'f4489f9b-5940-6884-ae9f-3075c5ea9a36', 'x-amz-id-2': 't2Xf5GysfV1XS1Oh9EUDkm4Z6tKd+lnvjejZX/qrVSOmzH52gDOgpPPYgSRHzYsvX+M7LpCgogznxx0uRYq6z4smxoFfNnMX', 'date': 'Mon, 18 Apr 2022 18:27:58 GMT', 'content-type': 'application/x-amz-json-1.1', 'content-length': '110'}, 'RetryAttempts': 0}}\n",
      "{'ShardId': 'shardId-000000000001', 'SequenceNumber': '49628703383714691585617271237683154889640883770156384274', 'ResponseMetadata': {'RequestId': 'c95f4094-205b-6dac-9388-ef7abcf19f1e', 'HTTPStatusCode': 200, 'HTTPHeaders': {'x-amzn-requestid': 'c95f4094-205b-6dac-9388-ef7abcf19f1e', 'x-amz-id-2': 'bppVnE9ZeLV4jsBLoINmUKpVgtRkhMvBqajBGJJDpLIzL6BqWkX0+IKe9HF7Sghe5E51WYErwWMNcGBejJQVx/WuoR6kFsY8', 'date': 'Mon, 18 Apr 2022 18:27:58 GMT', 'content-type': 'application/x-amz-json-1.1', 'content-length': '110'}, 'RetryAttempts': 0}}\n"
     ]
    },
    {
     "name": "stdout",
     "output_type": "stream",
     "text": [
      "{'ShardId': 'shardId-000000000001', 'SequenceNumber': '49628703383714691585617271237684363815460498399331090450', 'ResponseMetadata': {'RequestId': 'd2fff93a-fe38-8db5-8828-56d462927f07', 'HTTPStatusCode': 200, 'HTTPHeaders': {'x-amzn-requestid': 'd2fff93a-fe38-8db5-8828-56d462927f07', 'x-amz-id-2': 'zKsuXrp5Qi5z2Y9C7lWvpmLrFOdwVgff3YRg1j7amXybAoxas9BiAjgpITZwxS8yzt3S8s7hLZPAjzRw5vSjq7LdnFgAj8YM', 'date': 'Mon, 18 Apr 2022 18:27:58 GMT', 'content-type': 'application/x-amz-json-1.1', 'content-length': '110'}, 'RetryAttempts': 0}}\n"
     ]
    }
   ],
   "source": [
    "kds = boto3.client('kinesis')\n",
    "\n",
    "stream_name = 'octank-event-stream'\n",
    "\n",
    "event_tracking_id = 'dc968701-e8f1-4a7c-8e39-730fa9957247'\n",
    "\n",
    "item_list = [\n",
    "    {'itemId': '988dde6a-b4a7-45a5-9e05-78dd796b6851'},\n",
    "    {'itemId': '124db2fa-17c0-4e94-9844-d1b64a081df5'},\n",
    "    {'itemId': '56dcfc2b-01d2-42d1-8002-32fdbe1a034a'},\n",
    "]\n",
    "\n",
    "for i in range(100):\n",
    "    event = generate_personalize_event(100, item_list, event_tracking_id)\n",
    "\n",
    "    response = kds.put_record(\n",
    "        StreamName=stream_name,\n",
    "        Data=json.dumps(event),\n",
    "        PartitionKey=str(uuid.uuid4())\n",
    "    )\n",
    "\n",
    "    print(response)"
   ]
  },
  {
   "cell_type": "code",
   "execution_count": null,
   "metadata": {},
   "outputs": [],
   "source": []
  },
  {
   "cell_type": "code",
   "execution_count": null,
   "metadata": {},
   "outputs": [],
   "source": []
  }
 ],
 "metadata": {
  "kernelspec": {
   "display_name": "conda_python3",
   "language": "python",
   "name": "conda_python3"
  },
  "language_info": {
   "codemirror_mode": {
    "name": "ipython",
    "version": 3
   },
   "file_extension": ".py",
   "mimetype": "text/x-python",
   "name": "python",
   "nbconvert_exporter": "python",
   "pygments_lexer": "ipython3",
   "version": "3.6.13"
  }
 },
 "nbformat": 4,
 "nbformat_minor": 4
}
