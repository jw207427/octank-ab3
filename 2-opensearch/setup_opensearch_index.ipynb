{
 "cells": [
  {
   "cell_type": "markdown",
   "id": "acf9009a",
   "metadata": {},
   "source": [
    "## Set Up"
   ]
  },
  {
   "cell_type": "code",
   "execution_count": 1,
   "id": "178049bb",
   "metadata": {},
   "outputs": [],
   "source": [
    "import sagemaker, boto3, json\n",
    "from sagemaker import get_execution_role\n",
    "\n",
    "aws_role = get_execution_role()\n",
    "aws_region = boto3.Session().region_name\n",
    "sess = sagemaker.Session()"
   ]
  },
  {
   "cell_type": "markdown",
   "id": "13af33bb",
   "metadata": {},
   "source": [
    "## Configure the Image Embedding Endpoint"
   ]
  },
  {
   "cell_type": "code",
   "execution_count": 2,
   "id": "893a6b1d",
   "metadata": {},
   "outputs": [],
   "source": [
    "from sagemaker.predictor import Predictor\n",
    "\n",
    "endpoint_name = 'jumpstart-example-infer-tensorflow-icem-2022-06-21-17-42-58-843'\n",
    "model_predictor = Predictor(endpoint_name = endpoint_name,\n",
    "                           sagemaker_session = sess)"
   ]
  },
  {
   "cell_type": "markdown",
   "id": "d2dd3dc5",
   "metadata": {},
   "source": [
    "## Query Endpoint & Parse Inference Results"
   ]
  },
  {
   "cell_type": "code",
   "execution_count": 3,
   "id": "015a9a28",
   "metadata": {},
   "outputs": [],
   "source": [
    "def query(model_predictor, image_file_name):\n",
    "    \"\"\"Query the model predictor.\"\"\"\n",
    "\n",
    "    with open(image_file_name, \"rb\") as file:\n",
    "        input_img_rb = file.read()\n",
    "\n",
    "    query_response = model_predictor.predict(\n",
    "        input_img_rb,\n",
    "        {\n",
    "            \"ContentType\": \"application/x-image\",\n",
    "            \"Accept\": \"application/json\",\n",
    "        },\n",
    "    )\n",
    "    return query_response\n",
    "\n",
    "\n",
    "def parse_response(query_response):\n",
    "    \"\"\"Parse response and return the embedding.\"\"\"\n",
    "\n",
    "    model_predictions = json.loads(query_response)\n",
    "    translation_text = model_predictions[\"embedding\"]\n",
    "    return translation_text"
   ]
  },
  {
   "cell_type": "markdown",
   "id": "b97e98bd",
   "metadata": {},
   "source": [
    "## Quick Test"
   ]
  },
  {
   "cell_type": "code",
   "execution_count": 4,
   "id": "34fa9cae",
   "metadata": {},
   "outputs": [
    {
     "data": {
      "text/html": [
       "<img src=images/00096972-5f6b-44df-917b-f7d21ae5644c.jpg alt=images/00096972-5f6b-44df-917b-f7d21ae5644c.jpg align=\"left\" style=\"width: 250px;\"/><figcaption>First-5 elements of the feature vector (embedding) are: {-0.0415844731, 0.157631248, -0.111207433, -0.0583068393, 0.833677113}</figcaption><figcaption>Total length of the feature vector (embedding) is: 1280</figcaption>"
      ],
      "text/plain": [
       "<IPython.core.display.HTML object>"
      ]
     },
     "metadata": {},
     "output_type": "display_data"
    }
   ],
   "source": [
    "from IPython.core.display import HTML\n",
    "\n",
    "img_name = 'images/00096972-5f6b-44df-917b-f7d21ae5644c.jpg'\n",
    "query_response = query(model_predictor, img_name)\n",
    "embedding = parse_response(query_response)\n",
    "\n",
    "first_5element_embeddings = \"{\" + \", \".join([str(id) for id in embedding[:5]]) + \"}\"\n",
    "\n",
    "display(\n",
    "    HTML(\n",
    "        f'<img src={img_name} alt={img_name} align=\"left\" style=\"width: 250px;\"/>'\n",
    "        f\"<figcaption>First-5 elements of the feature vector (embedding) are: {first_5element_embeddings}</figcaption>\"\n",
    "        f\"<figcaption>Total length of the feature vector (embedding) is: {len(embedding)}</figcaption>\"\n",
    "    )\n",
    ")"
   ]
  },
  {
   "cell_type": "markdown",
   "id": "7d7e493b",
   "metadata": {},
   "source": [
    "## Setup OpenSearch Knn search index"
   ]
  },
  {
   "cell_type": "code",
   "execution_count": 5,
   "id": "061a64c5",
   "metadata": {},
   "outputs": [],
   "source": [
    "import pandas as pd\n",
    "import time\n",
    "import requests\n",
    "import csv\n",
    "\n",
    "from random import randint\n",
    "from botocore.exceptions import ClientError\n",
    "\n",
    "# Setup Clients\n",
    "os_service = boto3.client('opensearch')"
   ]
  },
  {
   "cell_type": "markdown",
   "id": "608beeb2",
   "metadata": {},
   "source": [
    "Opensearch is pretty new, especially some of the newer features with latest version.  Please update your libraries to make sure you are using the latest.  You need at least opensearch v1.12 to use `faiss`"
   ]
  },
  {
   "cell_type": "code",
   "execution_count": 6,
   "id": "7c73a59d",
   "metadata": {
    "scrolled": true
   },
   "outputs": [
    {
     "name": "stdout",
     "output_type": "stream",
     "text": [
      "Looking in indexes: https://pypi.org/simple, https://pip.repos.neuron.amazonaws.com\n",
      "Collecting opensearch-py\n",
      "  Downloading opensearch_py-2.0.0-py2.py3-none-any.whl (204 kB)\n",
      "\u001b[2K     \u001b[90m━━━━━━━━━━━━━━━━━━━━━━━━━━━━━━━━━━━━━━━\u001b[0m \u001b[32m204.6/204.6 KB\u001b[0m \u001b[31m6.3 MB/s\u001b[0m eta \u001b[36m0:00:00\u001b[0m\n",
      "\u001b[?25hRequirement already satisfied: requests<3.0.0,>=2.4.0 in /home/ec2-user/anaconda3/envs/python3/lib/python3.8/site-packages (from opensearch-py) (2.26.0)\n",
      "Requirement already satisfied: certifi in /home/ec2-user/anaconda3/envs/python3/lib/python3.8/site-packages (from opensearch-py) (2021.10.8)\n",
      "Requirement already satisfied: urllib3<2,>=1.21.1 in /home/ec2-user/anaconda3/envs/python3/lib/python3.8/site-packages (from opensearch-py) (1.26.8)\n",
      "Requirement already satisfied: idna<4,>=2.5 in /home/ec2-user/anaconda3/envs/python3/lib/python3.8/site-packages (from requests<3.0.0,>=2.4.0->opensearch-py) (3.1)\n",
      "Requirement already satisfied: charset-normalizer~=2.0.0 in /home/ec2-user/anaconda3/envs/python3/lib/python3.8/site-packages (from requests<3.0.0,>=2.4.0->opensearch-py) (2.0.8)\n",
      "Installing collected packages: opensearch-py\n",
      "Successfully installed opensearch-py-2.0.0\n",
      "\u001b[33mWARNING: You are using pip version 22.0.4; however, version 22.1.2 is available.\n",
      "You should consider upgrading via the '/home/ec2-user/anaconda3/envs/python3/bin/python -m pip install --upgrade pip' command.\u001b[0m\u001b[33m\n",
      "\u001b[0mLooking in indexes: https://pypi.org/simple, https://pip.repos.neuron.amazonaws.com\n",
      "Requirement already satisfied: requests in /home/ec2-user/anaconda3/envs/python3/lib/python3.8/site-packages (2.26.0)\n",
      "Requirement already satisfied: charset-normalizer~=2.0.0 in /home/ec2-user/anaconda3/envs/python3/lib/python3.8/site-packages (from requests) (2.0.8)\n",
      "Requirement already satisfied: idna<4,>=2.5 in /home/ec2-user/anaconda3/envs/python3/lib/python3.8/site-packages (from requests) (3.1)\n",
      "Requirement already satisfied: urllib3<1.27,>=1.21.1 in /home/ec2-user/anaconda3/envs/python3/lib/python3.8/site-packages (from requests) (1.26.8)\n",
      "Requirement already satisfied: certifi>=2017.4.17 in /home/ec2-user/anaconda3/envs/python3/lib/python3.8/site-packages (from requests) (2021.10.8)\n",
      "\u001b[33mWARNING: You are using pip version 22.0.4; however, version 22.1.2 is available.\n",
      "You should consider upgrading via the '/home/ec2-user/anaconda3/envs/python3/bin/python -m pip install --upgrade pip' command.\u001b[0m\u001b[33m\n",
      "\u001b[0mLooking in indexes: https://pypi.org/simple, https://pip.repos.neuron.amazonaws.com\n",
      "Collecting requests-aws4auth\n",
      "  Downloading requests_aws4auth-1.1.2-py2.py3-none-any.whl (24 kB)\n",
      "Requirement already satisfied: six in /home/ec2-user/anaconda3/envs/python3/lib/python3.8/site-packages (from requests-aws4auth) (1.16.0)\n",
      "Requirement already satisfied: requests in /home/ec2-user/anaconda3/envs/python3/lib/python3.8/site-packages (from requests-aws4auth) (2.26.0)\n",
      "Requirement already satisfied: idna<4,>=2.5 in /home/ec2-user/anaconda3/envs/python3/lib/python3.8/site-packages (from requests->requests-aws4auth) (3.1)\n",
      "Requirement already satisfied: urllib3<1.27,>=1.21.1 in /home/ec2-user/anaconda3/envs/python3/lib/python3.8/site-packages (from requests->requests-aws4auth) (1.26.8)\n",
      "Requirement already satisfied: certifi>=2017.4.17 in /home/ec2-user/anaconda3/envs/python3/lib/python3.8/site-packages (from requests->requests-aws4auth) (2021.10.8)\n",
      "Requirement already satisfied: charset-normalizer~=2.0.0 in /home/ec2-user/anaconda3/envs/python3/lib/python3.8/site-packages (from requests->requests-aws4auth) (2.0.8)\n",
      "Installing collected packages: requests-aws4auth\n",
      "Successfully installed requests-aws4auth-1.1.2\n",
      "\u001b[33mWARNING: You are using pip version 22.0.4; however, version 22.1.2 is available.\n",
      "You should consider upgrading via the '/home/ec2-user/anaconda3/envs/python3/bin/python -m pip install --upgrade pip' command.\u001b[0m\u001b[33m\n",
      "\u001b[0m"
     ]
    }
   ],
   "source": [
    "!pip install opensearch-py\n",
    "!pip install requests\n",
    "!pip install requests-aws4auth"
   ]
  },
  {
   "cell_type": "markdown",
   "id": "a291dc82",
   "metadata": {},
   "source": [
    "## Get the domain name for our image-search cluster"
   ]
  },
  {
   "cell_type": "code",
   "execution_count": 16,
   "id": "173174b9",
   "metadata": {},
   "outputs": [
    {
     "name": "stdout",
     "output_type": "stream",
     "text": [
      "Elasticsearch domain endpoint: search-jingswu-ab-image-search-objkrip5ozc6tafoc7qnnkkhpq.us-west-2.es.amazonaws.com\n"
     ]
    }
   ],
   "source": [
    "domains_response = os_service.list_domain_names()\n",
    "\n",
    "for domain_name in domains_response['DomainNames']:\n",
    "    \n",
    "    if domain_name['DomainName'] == 'jingswu-ab-image-search': \n",
    "        describe_response = os_service.describe_domain(\n",
    "            DomainName=domain_name['DomainName']\n",
    "        )\n",
    "        \n",
    "        opensearch_domain_endpoint = describe_response['DomainStatus']['Endpoint']\n",
    "\n",
    "print('Elasticsearch domain endpoint: ' + str(opensearch_domain_endpoint))\n",
    "\n",
    "assert opensearch_domain_endpoint, 'Elasticsearch domain endpoint could not be determined. Ensure Elasticsearch domain has been successfully created and has \"retaildemostore\" tag before continuing.'"
   ]
  },
  {
   "cell_type": "markdown",
   "id": "dc99766c",
   "metadata": {},
   "source": [
    "## Connect and Authenticate to our cluster"
   ]
  },
  {
   "cell_type": "code",
   "execution_count": 17,
   "id": "dee91a57",
   "metadata": {},
   "outputs": [
    {
     "data": {
      "text/plain": [
       "<OpenSearch([{'host': 'search-jingswu-ab-image-search-objkrip5ozc6tafoc7qnnkkhpq.us-west-2.es.amazonaws.com', 'port': 443, 'scheme': 'https'}])>"
      ]
     },
     "execution_count": 17,
     "metadata": {},
     "output_type": "execute_result"
    }
   ],
   "source": [
    "from opensearchpy import OpenSearch, RequestsHttpConnection, AWSV4SignerAuth\n",
    "\n",
    "credentials = boto3.Session().get_credentials()\n",
    "auth = AWSV4SignerAuth(credentials, aws_region)\n",
    "\n",
    "opensearch_host = {\n",
    "    'host' : opensearch_domain_endpoint,\n",
    "    'port' : 443,\n",
    "    'scheme' : 'https',\n",
    "}\n",
    "\n",
    "opensearch = OpenSearch(hosts = [opensearch_host],\n",
    "               http_auth = auth,\n",
    "                use_ssl = True,\n",
    "                verify_certs = True,\n",
    "                connection_class = RequestsHttpConnection)\n",
    "\n",
    "opensearch"
   ]
  },
  {
   "cell_type": "markdown",
   "id": "d28e5409",
   "metadata": {},
   "source": [
    "## Clean out the previous search index"
   ]
  },
  {
   "cell_type": "code",
   "execution_count": 18,
   "id": "e59b29f8",
   "metadata": {},
   "outputs": [
    {
     "name": "stdout",
     "output_type": "stream",
     "text": [
      "Index does not exist. Nothing to do.\n"
     ]
    }
   ],
   "source": [
    "index_name = 'image_embedding'\n",
    "\n",
    "if opensearch.indices.exists(index_name):\n",
    "    print(\"Deleting '%s' index...\" % (index_name))\n",
    "    res = opensearch.indices.delete(index = index_name)\n",
    "    print(\" response: '%s'\" % (res))\n",
    "else:\n",
    "    print('Index does not exist. Nothing to do.')"
   ]
  },
  {
   "cell_type": "markdown",
   "id": "65bd2510",
   "metadata": {},
   "source": [
    "## Configure the KNN search index"
   ]
  },
  {
   "cell_type": "code",
   "execution_count": 19,
   "id": "b7f7756a",
   "metadata": {},
   "outputs": [
    {
     "data": {
      "text/plain": [
       "{'acknowledged': True, 'shards_acknowledged': True, 'index': 'image_embedding'}"
      ]
     },
     "execution_count": 19,
     "metadata": {},
     "output_type": "execute_result"
    }
   ],
   "source": [
    "settings = {\n",
    "    \"settings\": {\n",
    "        \"number_of_shards\":2,\n",
    "        \"number_of_replicas\":1,\n",
    "        \"index.knn\": True\n",
    "  },\n",
    "  \"mappings\": {\n",
    "      \"dynamic\":\"true\",\n",
    "      \"_source\":{\n",
    "          \"enabled\":\"true\"\n",
    "      },\n",
    "      \"properties\": {\n",
    "        \"embedding\": {\n",
    "            \"type\": \"knn_vector\",\n",
    "            \"dimension\": 1280,\n",
    "            \"method\":{\n",
    "                \"name\":\"hnsw\",\n",
    "                \"space_type\":\"innerproduct\",\n",
    "                \"engine\": \"faiss\",\n",
    "#                   \"parameters\": {\n",
    "#                       \"ef_construction\": 128,\n",
    "#                       \"m\": 24\n",
    "#                   }\n",
    "            }\n",
    "        },\n",
    "        \"product_id\": {\n",
    "            \"type\": \"text\"\n",
    "        },\n",
    "        \"product_category\": {\n",
    "            \"type\": \"text\"\n",
    "        }\n",
    "      }\n",
    "  }\n",
    "}\n",
    "\n",
    "res = opensearch.indices.create(index = index_name, body = settings)\n",
    "res"
   ]
  },
  {
   "cell_type": "markdown",
   "id": "d54b0b31",
   "metadata": {},
   "source": [
    "## Load product images from Amazon retail store demo\n",
    "\n",
    "We will be using data from this [Personalize github](https://github.com/aws-samples/retail-demo-store). download all the product images, run embedding, and then store the data into opensearch and build the search index."
   ]
  },
  {
   "cell_type": "code",
   "execution_count": 22,
   "id": "fd9aba93",
   "metadata": {},
   "outputs": [
    {
     "data": {
      "text/html": [
       "<div>\n",
       "<style scoped>\n",
       "    .dataframe tbody tr th:only-of-type {\n",
       "        vertical-align: middle;\n",
       "    }\n",
       "\n",
       "    .dataframe tbody tr th {\n",
       "        vertical-align: top;\n",
       "    }\n",
       "\n",
       "    .dataframe thead th {\n",
       "        text-align: right;\n",
       "    }\n",
       "</style>\n",
       "<table border=\"1\" class=\"dataframe\">\n",
       "  <thead>\n",
       "    <tr style=\"text-align: right;\">\n",
       "      <th></th>\n",
       "      <th>id</th>\n",
       "      <th>url</th>\n",
       "      <th>sk</th>\n",
       "      <th>name</th>\n",
       "      <th>category</th>\n",
       "      <th>style</th>\n",
       "      <th>description</th>\n",
       "      <th>aliases</th>\n",
       "      <th>price</th>\n",
       "      <th>image</th>\n",
       "      <th>gender_affinity</th>\n",
       "      <th>current_stock</th>\n",
       "      <th>featured</th>\n",
       "    </tr>\n",
       "  </thead>\n",
       "  <tbody>\n",
       "    <tr>\n",
       "      <th>0</th>\n",
       "      <td>e1669081-8ffc-4dec-97a6-e9176d7f6651</td>\n",
       "      <td>http://d23ar2gbu3zcc4.cloudfront.net/#/product...</td>\n",
       "      <td>NaN</td>\n",
       "      <td>Sans Pareil Scarf</td>\n",
       "      <td>apparel</td>\n",
       "      <td>scarf</td>\n",
       "      <td>Sans pareil scarf for women</td>\n",
       "      <td>NaN</td>\n",
       "      <td>124.99</td>\n",
       "      <td>http://d23ar2gbu3zcc4.cloudfront.net/images/ap...</td>\n",
       "      <td>F</td>\n",
       "      <td>12</td>\n",
       "      <td>NaN</td>\n",
       "    </tr>\n",
       "    <tr>\n",
       "      <th>1</th>\n",
       "      <td>cfafd627-7d6b-43a5-be05-4c7937be417d</td>\n",
       "      <td>http://d23ar2gbu3zcc4.cloudfront.net/#/product...</td>\n",
       "      <td>NaN</td>\n",
       "      <td>Chef Knife</td>\n",
       "      <td>housewares</td>\n",
       "      <td>kitchen</td>\n",
       "      <td>A must-have for your kitchen</td>\n",
       "      <td>NaN</td>\n",
       "      <td>57.99</td>\n",
       "      <td>http://d23ar2gbu3zcc4.cloudfront.net/images/ho...</td>\n",
       "      <td>NaN</td>\n",
       "      <td>9</td>\n",
       "      <td>NaN</td>\n",
       "    </tr>\n",
       "    <tr>\n",
       "      <th>2</th>\n",
       "      <td>6e6ad102-7510-4a02-b8ce-5a0cd6f431d1</td>\n",
       "      <td>http://d23ar2gbu3zcc4.cloudfront.net/#/product...</td>\n",
       "      <td>NaN</td>\n",
       "      <td>Gainsboro Jacket</td>\n",
       "      <td>apparel</td>\n",
       "      <td>jacket</td>\n",
       "      <td>This gainsboro jacket for women is perfect for...</td>\n",
       "      <td>NaN</td>\n",
       "      <td>133.99</td>\n",
       "      <td>http://d23ar2gbu3zcc4.cloudfront.net/images/ap...</td>\n",
       "      <td>F</td>\n",
       "      <td>13</td>\n",
       "      <td>NaN</td>\n",
       "    </tr>\n",
       "    <tr>\n",
       "      <th>3</th>\n",
       "      <td>49b89871-5fe7-4898-b99d-953e15fb42b2</td>\n",
       "      <td>http://d23ar2gbu3zcc4.cloudfront.net/#/product...</td>\n",
       "      <td>NaN</td>\n",
       "      <td>High Definition Speakers</td>\n",
       "      <td>electronics</td>\n",
       "      <td>speaker</td>\n",
       "      <td>High definition speakers to fill the house wit...</td>\n",
       "      <td>NaN</td>\n",
       "      <td>196.99</td>\n",
       "      <td>http://d23ar2gbu3zcc4.cloudfront.net/images/el...</td>\n",
       "      <td>NaN</td>\n",
       "      <td>6</td>\n",
       "      <td>NaN</td>\n",
       "    </tr>\n",
       "    <tr>\n",
       "      <th>4</th>\n",
       "      <td>5cb18925-3a3c-4867-8f1c-46efd7eba067</td>\n",
       "      <td>http://d23ar2gbu3zcc4.cloudfront.net/#/product...</td>\n",
       "      <td>NaN</td>\n",
       "      <td>Spiffy Sandals</td>\n",
       "      <td>footwear</td>\n",
       "      <td>sandals</td>\n",
       "      <td>This spiffy pair of sandals for woman is perfe...</td>\n",
       "      <td>NaN</td>\n",
       "      <td>9.99</td>\n",
       "      <td>http://d23ar2gbu3zcc4.cloudfront.net/images/fo...</td>\n",
       "      <td>F</td>\n",
       "      <td>14</td>\n",
       "      <td>NaN</td>\n",
       "    </tr>\n",
       "    <tr>\n",
       "      <th>...</th>\n",
       "      <td>...</td>\n",
       "      <td>...</td>\n",
       "      <td>...</td>\n",
       "      <td>...</td>\n",
       "      <td>...</td>\n",
       "      <td>...</td>\n",
       "      <td>...</td>\n",
       "      <td>...</td>\n",
       "      <td>...</td>\n",
       "      <td>...</td>\n",
       "      <td>...</td>\n",
       "      <td>...</td>\n",
       "      <td>...</td>\n",
       "    </tr>\n",
       "    <tr>\n",
       "      <th>2460</th>\n",
       "      <td>36cfd856-dd30-46a9-8654-1f1de77e674a</td>\n",
       "      <td>http://d23ar2gbu3zcc4.cloudfront.net/#/product...</td>\n",
       "      <td>NaN</td>\n",
       "      <td>Easter Wreath</td>\n",
       "      <td>floral</td>\n",
       "      <td>wreath</td>\n",
       "      <td>Easter wreath grown sustainably on our organic...</td>\n",
       "      <td>NaN</td>\n",
       "      <td>128.99</td>\n",
       "      <td>http://d23ar2gbu3zcc4.cloudfront.net/images/fl...</td>\n",
       "      <td>NaN</td>\n",
       "      <td>13</td>\n",
       "      <td>NaN</td>\n",
       "    </tr>\n",
       "    <tr>\n",
       "      <th>2461</th>\n",
       "      <td>1ea9439f-dff5-41cf-aac3-718a6b4e7af6</td>\n",
       "      <td>http://d23ar2gbu3zcc4.cloudfront.net/#/product...</td>\n",
       "      <td>NaN</td>\n",
       "      <td>White Sneakers</td>\n",
       "      <td>footwear</td>\n",
       "      <td>sneaker</td>\n",
       "      <td>An all-around voguish pair of white sneakers</td>\n",
       "      <td>NaN</td>\n",
       "      <td>77.99</td>\n",
       "      <td>http://d23ar2gbu3zcc4.cloudfront.net/images/fo...</td>\n",
       "      <td>F</td>\n",
       "      <td>19</td>\n",
       "      <td>NaN</td>\n",
       "    </tr>\n",
       "    <tr>\n",
       "      <th>2462</th>\n",
       "      <td>ccdf737c-c4fd-4c78-abd2-d5ef0428ef20</td>\n",
       "      <td>http://d23ar2gbu3zcc4.cloudfront.net/#/product...</td>\n",
       "      <td>NaN</td>\n",
       "      <td>Wine Glass</td>\n",
       "      <td>housewares</td>\n",
       "      <td>kitchen</td>\n",
       "      <td>Ideal for every kitchen</td>\n",
       "      <td>NaN</td>\n",
       "      <td>56.99</td>\n",
       "      <td>http://d23ar2gbu3zcc4.cloudfront.net/images/ho...</td>\n",
       "      <td>NaN</td>\n",
       "      <td>8</td>\n",
       "      <td>NaN</td>\n",
       "    </tr>\n",
       "    <tr>\n",
       "      <th>2463</th>\n",
       "      <td>12f93a36-e282-4445-92ae-356eb6a560fd</td>\n",
       "      <td>http://d23ar2gbu3zcc4.cloudfront.net/#/product...</td>\n",
       "      <td>NaN</td>\n",
       "      <td>Roses Arrangement</td>\n",
       "      <td>floral</td>\n",
       "      <td>arrangement</td>\n",
       "      <td>Roses arrangement grown sustainably on our org...</td>\n",
       "      <td>NaN</td>\n",
       "      <td>98.99</td>\n",
       "      <td>http://d23ar2gbu3zcc4.cloudfront.net/images/fl...</td>\n",
       "      <td>NaN</td>\n",
       "      <td>19</td>\n",
       "      <td>NaN</td>\n",
       "    </tr>\n",
       "    <tr>\n",
       "      <th>2464</th>\n",
       "      <td>23e77743-ff28-400a-811f-e08d3cab5e45</td>\n",
       "      <td>http://d23ar2gbu3zcc4.cloudfront.net/#/product...</td>\n",
       "      <td>NaN</td>\n",
       "      <td>Ultrachic Scarf</td>\n",
       "      <td>apparel</td>\n",
       "      <td>scarf</td>\n",
       "      <td>Ultrachic scarf for women for every occasion</td>\n",
       "      <td>NaN</td>\n",
       "      <td>123.99</td>\n",
       "      <td>http://d23ar2gbu3zcc4.cloudfront.net/images/ap...</td>\n",
       "      <td>F</td>\n",
       "      <td>7</td>\n",
       "      <td>NaN</td>\n",
       "    </tr>\n",
       "  </tbody>\n",
       "</table>\n",
       "<p>2465 rows × 13 columns</p>\n",
       "</div>"
      ],
      "text/plain": [
       "                                        id  \\\n",
       "0     e1669081-8ffc-4dec-97a6-e9176d7f6651   \n",
       "1     cfafd627-7d6b-43a5-be05-4c7937be417d   \n",
       "2     6e6ad102-7510-4a02-b8ce-5a0cd6f431d1   \n",
       "3     49b89871-5fe7-4898-b99d-953e15fb42b2   \n",
       "4     5cb18925-3a3c-4867-8f1c-46efd7eba067   \n",
       "...                                    ...   \n",
       "2460  36cfd856-dd30-46a9-8654-1f1de77e674a   \n",
       "2461  1ea9439f-dff5-41cf-aac3-718a6b4e7af6   \n",
       "2462  ccdf737c-c4fd-4c78-abd2-d5ef0428ef20   \n",
       "2463  12f93a36-e282-4445-92ae-356eb6a560fd   \n",
       "2464  23e77743-ff28-400a-811f-e08d3cab5e45   \n",
       "\n",
       "                                                    url  sk  \\\n",
       "0     http://d23ar2gbu3zcc4.cloudfront.net/#/product... NaN   \n",
       "1     http://d23ar2gbu3zcc4.cloudfront.net/#/product... NaN   \n",
       "2     http://d23ar2gbu3zcc4.cloudfront.net/#/product... NaN   \n",
       "3     http://d23ar2gbu3zcc4.cloudfront.net/#/product... NaN   \n",
       "4     http://d23ar2gbu3zcc4.cloudfront.net/#/product... NaN   \n",
       "...                                                 ...  ..   \n",
       "2460  http://d23ar2gbu3zcc4.cloudfront.net/#/product... NaN   \n",
       "2461  http://d23ar2gbu3zcc4.cloudfront.net/#/product... NaN   \n",
       "2462  http://d23ar2gbu3zcc4.cloudfront.net/#/product... NaN   \n",
       "2463  http://d23ar2gbu3zcc4.cloudfront.net/#/product... NaN   \n",
       "2464  http://d23ar2gbu3zcc4.cloudfront.net/#/product... NaN   \n",
       "\n",
       "                          name     category        style  \\\n",
       "0            Sans Pareil Scarf      apparel        scarf   \n",
       "1                   Chef Knife   housewares      kitchen   \n",
       "2             Gainsboro Jacket      apparel       jacket   \n",
       "3     High Definition Speakers  electronics      speaker   \n",
       "4               Spiffy Sandals     footwear      sandals   \n",
       "...                        ...          ...          ...   \n",
       "2460             Easter Wreath       floral       wreath   \n",
       "2461            White Sneakers     footwear      sneaker   \n",
       "2462                Wine Glass   housewares      kitchen   \n",
       "2463         Roses Arrangement       floral  arrangement   \n",
       "2464           Ultrachic Scarf      apparel        scarf   \n",
       "\n",
       "                                            description aliases   price  \\\n",
       "0                           Sans pareil scarf for women     NaN  124.99   \n",
       "1                          A must-have for your kitchen     NaN   57.99   \n",
       "2     This gainsboro jacket for women is perfect for...     NaN  133.99   \n",
       "3     High definition speakers to fill the house wit...     NaN  196.99   \n",
       "4     This spiffy pair of sandals for woman is perfe...     NaN    9.99   \n",
       "...                                                 ...     ...     ...   \n",
       "2460  Easter wreath grown sustainably on our organic...     NaN  128.99   \n",
       "2461       An all-around voguish pair of white sneakers     NaN   77.99   \n",
       "2462                            Ideal for every kitchen     NaN   56.99   \n",
       "2463  Roses arrangement grown sustainably on our org...     NaN   98.99   \n",
       "2464       Ultrachic scarf for women for every occasion     NaN  123.99   \n",
       "\n",
       "                                                  image gender_affinity  \\\n",
       "0     http://d23ar2gbu3zcc4.cloudfront.net/images/ap...               F   \n",
       "1     http://d23ar2gbu3zcc4.cloudfront.net/images/ho...             NaN   \n",
       "2     http://d23ar2gbu3zcc4.cloudfront.net/images/ap...               F   \n",
       "3     http://d23ar2gbu3zcc4.cloudfront.net/images/el...             NaN   \n",
       "4     http://d23ar2gbu3zcc4.cloudfront.net/images/fo...               F   \n",
       "...                                                 ...             ...   \n",
       "2460  http://d23ar2gbu3zcc4.cloudfront.net/images/fl...             NaN   \n",
       "2461  http://d23ar2gbu3zcc4.cloudfront.net/images/fo...               F   \n",
       "2462  http://d23ar2gbu3zcc4.cloudfront.net/images/ho...             NaN   \n",
       "2463  http://d23ar2gbu3zcc4.cloudfront.net/images/fl...             NaN   \n",
       "2464  http://d23ar2gbu3zcc4.cloudfront.net/images/ap...               F   \n",
       "\n",
       "      current_stock featured  \n",
       "0                12      NaN  \n",
       "1                 9      NaN  \n",
       "2                13      NaN  \n",
       "3                 6      NaN  \n",
       "4                14      NaN  \n",
       "...             ...      ...  \n",
       "2460             13      NaN  \n",
       "2461             19      NaN  \n",
       "2462              8      NaN  \n",
       "2463             19      NaN  \n",
       "2464              7      NaN  \n",
       "\n",
       "[2465 rows x 13 columns]"
      ]
     },
     "execution_count": 22,
     "metadata": {},
     "output_type": "execute_result"
    }
   ],
   "source": [
    "products_df = pd.read_csv('products.csv')\n",
    "products_df"
   ]
  },
  {
   "cell_type": "code",
   "execution_count": 23,
   "id": "0997da41",
   "metadata": {},
   "outputs": [
    {
     "name": "stdout",
     "output_type": "stream",
     "text": [
      "Product image url ============\n"
     ]
    },
    {
     "data": {
      "text/plain": [
       "'http://d23ar2gbu3zcc4.cloudfront.net/images/furniture/489dee3d-6abf-4470-bb94-8b9c0d12f18e.jpg'"
      ]
     },
     "execution_count": 23,
     "metadata": {},
     "output_type": "execute_result"
    }
   ],
   "source": [
    "print('Product image url ============')\n",
    "products_df['image'][100]"
   ]
  },
  {
   "cell_type": "code",
   "execution_count": 24,
   "id": "a7bb5353",
   "metadata": {},
   "outputs": [
    {
     "name": "stdout",
     "output_type": "stream",
     "text": [
      "Product id ============\n"
     ]
    },
    {
     "data": {
      "text/plain": [
       "'e1669081-8ffc-4dec-97a6-e9176d7f6651'"
      ]
     },
     "execution_count": 24,
     "metadata": {},
     "output_type": "execute_result"
    }
   ],
   "source": [
    "print('Product id ============')\n",
    "products_df['id'][0]"
   ]
  },
  {
   "cell_type": "code",
   "execution_count": 25,
   "id": "b154e834",
   "metadata": {},
   "outputs": [
    {
     "name": "stdout",
     "output_type": "stream",
     "text": [
      "Number of images 2465\n",
      "The new directory images is created!\n",
      "wrong size count: 6\n"
     ]
    }
   ],
   "source": [
    "import PIL.Image as PILImage\n",
    "import requests\n",
    "from io import BytesIO\n",
    "import os\n",
    "\n",
    "product_image = products_df['image'].to_list()\n",
    "print(f\"Number of images {len(product_image)}\")\n",
    "\n",
    "image_dir = 'images'\n",
    "# Check whether the specified path exists or not\n",
    "isExist = os.path.exists(image_dir)\n",
    "\n",
    "if not isExist:\n",
    "    os.makedirs(image_dir)\n",
    "    print(f'The new directory {image_dir} is created!')\n",
    "    \n",
    "#bulk upload data to opensearch\n",
    "bulk_datas = [] \n",
    "bulk_data = []\n",
    "\n",
    "bulk_datas.append(bulk_data)\n",
    "\n",
    "# max batch size is 100\n",
    "max_data_len = 100\n",
    "\n",
    "\n",
    "# at the same time building dictionary to map id to image for testing purpose\n",
    "id_to_name = dict()\n",
    "id_to_embedding = dict()\n",
    "    \n",
    "count = 0\n",
    "wrong_size = 0\n",
    "for index, row in products_df.iterrows():\n",
    "    \n",
    "    if row['image'] is not None:\n",
    "        response = requests.get(row['image'])\n",
    "        im = PILImage.open(BytesIO(response.content))\n",
    "        if im.mode != 'RGB':\n",
    "            im = im.convert('RGB')\n",
    "            \n",
    "        if im.size[0]!=600 or im.size[1]!=400:\n",
    "            wrong_size+=1\n",
    "            pass\n",
    "        else:\n",
    "            \n",
    "            # generate the embedding using severless infernece endpoint\n",
    "            query_response = model_predictor.predict(\n",
    "                BytesIO(response.content),\n",
    "                {\n",
    "                    \"ContentType\": \"application/x-image\",\n",
    "                    \"Accept\": \"application/json\",\n",
    "                },\n",
    "            )\n",
    "            embedding = parse_response(query_response)\n",
    "            \n",
    "            #building the index data for opensearch for bulk upload\n",
    "            op_dict = {\n",
    "                \"index\":{\n",
    "                    \"_index\":index_name,\n",
    "                    \"_id\":row[\"id\"]\n",
    "                }\n",
    "            }\n",
    "\n",
    "            data_dict = {\n",
    "                \"embedding\": embedding,\n",
    "                \"product_id\": row[\"id\"],\n",
    "                \"product_category\": row[\"category\"],\n",
    "            }\n",
    "\n",
    "            bulk_data.append(op_dict)\n",
    "            bulk_data.append(data_dict)\n",
    "\n",
    "            if len(bulk_data) >= max_data_len:\n",
    "                bulk_data = []\n",
    "                bulk_datas.append(bulk_data)\n",
    "            \n",
    "            # Saving the images\n",
    "            image_file = f\"{image_dir}/{row['id']}.jpg\"\n",
    "            \n",
    "            if not os.path.exists(image_file):\n",
    "                im = im.save(image_file)\n",
    "            \n",
    "            #Generating the mapping\n",
    "            id_to_name[index] = image_file\n",
    "            id_to_embedding[index] = embedding\n",
    "            \n",
    "#             print(f'Processed {count + 1} images ========')\n",
    "            \n",
    "            count +=1\n",
    "\n",
    "print(f'wrong size count: {wrong_size}')"
   ]
  },
  {
   "cell_type": "code",
   "execution_count": 26,
   "id": "0aa2b915",
   "metadata": {},
   "outputs": [
    {
     "name": "stdout",
     "output_type": "stream",
     "text": [
      "Bulk indexing...\n",
      "Done\n"
     ]
    }
   ],
   "source": [
    "print(\"Bulk indexing...\")\n",
    "for bulk_data in bulk_datas:\n",
    "    res = opensearch.bulk(index = index_name, body = bulk_data, refresh = True)\n",
    "    \n",
    "print(\"Done\")"
   ]
  },
  {
   "cell_type": "code",
   "execution_count": 66,
   "id": "22160849",
   "metadata": {},
   "outputs": [],
   "source": [
    "from IPython.display import Image, display\n",
    "from ipywidgets import widgets, HBox, VBox\n",
    "import matplotlib.pyplot as plt\n",
    "import matplotlib.image as mpimg\n",
    "\n",
    "%matplotlib inline\n",
    "\n",
    "def display_picture(image_name):\n",
    "#     subdir = image_name.split('-')[0]\n",
    "    display(Image(filename=image_name))\n",
    "\n",
    "def display_results(results):\n",
    "    Vbox_list = []\n",
    "    for distance, product_id, product_category in results:\n",
    "        Vbox_list.append(VBox([widgets.Label(f\"Score: {distance:.2f}\"),\n",
    "                               widgets.Label(f\"Product ID: {product_id}\"),\n",
    "                               widgets.Label(f\"Product Category: {product_category}\"),\n",
    "                               widgets.Image(value=open(f\"images/{product_id}.jpg\", 'rb').read())]))\n",
    "    hbox = HBox(Vbox_list)\n",
    "    display(hbox)\n",
    "    \n",
    "def search_image(k, embedding_vector):\n",
    "    query = {\n",
    "        \"size\":k,\n",
    "        \"query\": {\n",
    "            \"knn\": {\n",
    "                \"embedding\": {\n",
    "                    \"vector\": embedding_vector,\n",
    "                    \"k\": k\n",
    "                }\n",
    "            }\n",
    "        }\n",
    "    }\n",
    "\n",
    "    res = opensearch.search(index = index_name, body=query)\n",
    "    \n",
    "    results = []\n",
    "    for r in res[\"hits\"][\"hits\"]:\n",
    "        results.append([r[\"_score\"], r[\"_source\"][\"product_id\"], r[\"_source\"][\"product_category\"]])\n",
    "    \n",
    "    return results"
   ]
  },
  {
   "cell_type": "code",
   "execution_count": 67,
   "id": "5773965a",
   "metadata": {},
   "outputs": [
    {
     "data": {
      "image/jpeg": "[encoded data removed]",
      "text/plain": [
       "<IPython.core.display.Image object>"
      ]
     },
     "metadata": {},
     "output_type": "display_data"
    },
    {
     "data": {
      "application/vnd.jupyter.widget-view+json": {
       "model_id": "306f4e90fcbb4a4c9c3ba5586770bd02",
       "version_major": 2,
       "version_minor": 0
      },
      "text/plain": [
       "HBox(children=(VBox(children=(Label(value='Score: 144.05'), Label(value='Product ID: e11a34d8-846a-45f0-967a-3…"
      ]
     },
     "metadata": {},
     "output_type": "display_data"
    }
   ],
   "source": [
    "p = 412\n",
    "\n",
    "display_picture(id_to_name[p])\n",
    "\n",
    "display_results(search_image(5, id_to_embedding[p]))"
   ]
  },
  {
   "cell_type": "code",
   "execution_count": 68,
   "id": "bed11139",
   "metadata": {},
   "outputs": [
    {
     "data": {
      "text/plain": [
       "[[144.05258, 'e11a34d8-846a-45f0-967a-39d176b491bc', 'housewares'],\n",
       " [75.50531, '0121f086-4d27-4bbb-bd44-a90b34d86983', 'furniture'],\n",
       " [69.91753, 'c778bc2b-67c4-45d3-ba2d-3d91f7744f15', 'furniture'],\n",
       " [69.20247, '6d9480ff-36c6-4ece-a685-f7b55958b57b', 'furniture'],\n",
       " [68.973854, '36cfd856-dd30-46a9-8654-1f1de77e674a', 'floral']]"
      ]
     },
     "execution_count": 68,
     "metadata": {},
     "output_type": "execute_result"
    }
   ],
   "source": [
    "search_image(5, id_to_embedding[p])"
   ]
  },
  {
   "cell_type": "code",
   "execution_count": null,
   "id": "e65cd7e2",
   "metadata": {},
   "outputs": [],
   "source": []
  }
 ],
 "metadata": {
  "kernelspec": {
   "display_name": "conda_python3",
   "language": "python",
   "name": "conda_python3"
  },
  "language_info": {
   "codemirror_mode": {
    "name": "ipython",
    "version": 3
   },
   "file_extension": ".py",
   "mimetype": "text/x-python",
   "name": "python",
   "nbconvert_exporter": "python",
   "pygments_lexer": "ipython3",
   "version": "3.8.12"
  }
 },
 "nbformat": 4,
 "nbformat_minor": 5
}
