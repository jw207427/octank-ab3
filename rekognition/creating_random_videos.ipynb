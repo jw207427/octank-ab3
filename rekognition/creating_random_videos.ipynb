{
 "cells": [
  {
   "cell_type": "markdown",
   "id": "10f05624",
   "metadata": {},
   "source": [
    "## Set Up"
   ]
  },
  {
   "cell_type": "code",
   "execution_count": 1,
   "id": "e75841ab",
   "metadata": {},
   "outputs": [
    {
     "name": "stdout",
     "output_type": "stream",
     "text": [
      "Requirement already satisfied: opencv-python in /home/ec2-user/anaconda3/envs/python3/lib/python3.6/site-packages (4.5.1.48)\n",
      "Requirement already satisfied: numpy>=1.13.3 in /home/ec2-user/anaconda3/envs/python3/lib/python3.6/site-packages (from opencv-python) (1.19.5)\n",
      "/bin/sh: apt-get: command not found\n",
      "/bin/sh: apt-get: command not found\n"
     ]
    }
   ],
   "source": [
    "!pip install opencv-python\n",
    "!apt-get update\n",
    "!apt-get install ffmpeg libsm6 libxext6  -y"
   ]
  },
  {
   "cell_type": "code",
   "execution_count": 4,
   "id": "d46c7910",
   "metadata": {},
   "outputs": [
    {
     "name": "stdout",
     "output_type": "stream",
     "text": [
      "video generated at videos/movie-5717028.mp4\n"
     ]
    }
   ],
   "source": [
    "import cv2\n",
    "import glob\n",
    "import random\n",
    "import os\n",
    "\n",
    "img_array = []\n",
    "image_dir = 'images'\n",
    "\n",
    "\n",
    "# create an array of available image files\n",
    "for filename in os.listdir(image_dir):\n",
    "    if filename.split('.')[-1]=='jpg':\n",
    "        img_array.append(f'{image_dir}/{filename}')\n",
    "          \n",
    "# all the images should be the same size, so grab teh image size from first image\n",
    "img = cv2.imread(img_array[0])\n",
    "height, width, layers = img.shape\n",
    "size = (width,height)\n",
    "\n",
    "index = random.randint(0,10000000)\n",
    "output_path = f'videos/movie-{index}.mp4'\n",
    "out = cv2.VideoWriter(output_path,cv2.VideoWriter_fourcc(*'MP4V'), .2, size)\n",
    "\n",
    "#random sample images and append as frames into the video\n",
    "for i in range(50):\n",
    "    rand_index = random.randint(0,len(img_array)-1)\n",
    "    img = cv2.imread(img_array[rand_index])\n",
    "    out.write(img)\n",
    "out.release()\n",
    "\n",
    "print(f'video generated at {output_path}')"
   ]
  },
  {
   "cell_type": "code",
   "execution_count": null,
   "id": "e78cee24",
   "metadata": {},
   "outputs": [],
   "source": []
  }
 ],
 "metadata": {
  "kernelspec": {
   "display_name": "conda_python3",
   "language": "python",
   "name": "conda_python3"
  },
  "language_info": {
   "codemirror_mode": {
    "name": "ipython",
    "version": 3
   },
   "file_extension": ".py",
   "mimetype": "text/x-python",
   "name": "python",
   "nbconvert_exporter": "python",
   "pygments_lexer": "ipython3",
   "version": "3.6.13"
  }
 },
 "nbformat": 4,
 "nbformat_minor": 5
}
