{
 "cells": [
  {
   "cell_type": "markdown",
   "metadata": {},
   "source": [
    "## Setup\n",
    "\n",
    "Just as in the first lab, we have to prepare our environment by importing dependencies and creating clients.\n",
    "\n",
    "### Import dependencies\n",
    "\n",
    "The following libraries are needed for this lab."
   ]
  },
  {
   "cell_type": "code",
   "execution_count": 1,
   "metadata": {},
   "outputs": [],
   "source": [
    "import boto3\n",
    "import json\n",
    "import uuid\n",
    "import time\n",
    "import pandas as pd\n",
    "from botocore.exceptions import ClientError\n",
    "import sagemaker\n",
    "sess = sagemaker.Session()\n",
    "\n",
    "bucket = sess.default_bucket()\n",
    "account = sess.account_id()\n",
    "\n",
    "prefix = 'personalize-demo'"
   ]
  },
  {
   "cell_type": "markdown",
   "metadata": {},
   "source": [
    "### Create clients\n",
    "\n",
    "We will need the following AWS service clients in this lab."
   ]
  },
  {
   "cell_type": "code",
   "execution_count": 2,
   "metadata": {},
   "outputs": [],
   "source": [
    "personalize = boto3.client('personalize')\n",
    "\n",
    "s3_client = boto3.client('s3')"
   ]
  },
  {
   "cell_type": "markdown",
   "metadata": {},
   "source": [
    "### Reviewing the dataset"
   ]
  },
  {
   "cell_type": "code",
   "execution_count": 25,
   "metadata": {},
   "outputs": [
    {
     "data": {
      "text/html": [
       "<div>\n",
       "<style scoped>\n",
       "    .dataframe tbody tr th:only-of-type {\n",
       "        vertical-align: middle;\n",
       "    }\n",
       "\n",
       "    .dataframe tbody tr th {\n",
       "        vertical-align: top;\n",
       "    }\n",
       "\n",
       "    .dataframe thead th {\n",
       "        text-align: right;\n",
       "    }\n",
       "</style>\n",
       "<table border=\"1\" class=\"dataframe\">\n",
       "  <thead>\n",
       "    <tr style=\"text-align: right;\">\n",
       "      <th></th>\n",
       "      <th>USER_ID</th>\n",
       "      <th>AGE</th>\n",
       "      <th>GENDER</th>\n",
       "    </tr>\n",
       "  </thead>\n",
       "  <tbody>\n",
       "    <tr>\n",
       "      <th>0</th>\n",
       "      <td>1</td>\n",
       "      <td>31</td>\n",
       "      <td>M</td>\n",
       "    </tr>\n",
       "    <tr>\n",
       "      <th>1</th>\n",
       "      <td>2</td>\n",
       "      <td>58</td>\n",
       "      <td>F</td>\n",
       "    </tr>\n",
       "    <tr>\n",
       "      <th>2</th>\n",
       "      <td>3</td>\n",
       "      <td>43</td>\n",
       "      <td>M</td>\n",
       "    </tr>\n",
       "    <tr>\n",
       "      <th>3</th>\n",
       "      <td>4</td>\n",
       "      <td>38</td>\n",
       "      <td>M</td>\n",
       "    </tr>\n",
       "    <tr>\n",
       "      <th>4</th>\n",
       "      <td>5</td>\n",
       "      <td>24</td>\n",
       "      <td>M</td>\n",
       "    </tr>\n",
       "    <tr>\n",
       "      <th>...</th>\n",
       "      <td>...</td>\n",
       "      <td>...</td>\n",
       "      <td>...</td>\n",
       "    </tr>\n",
       "    <tr>\n",
       "      <th>5245</th>\n",
       "      <td>5246</td>\n",
       "      <td>37</td>\n",
       "      <td>M</td>\n",
       "    </tr>\n",
       "    <tr>\n",
       "      <th>5246</th>\n",
       "      <td>5247</td>\n",
       "      <td>46</td>\n",
       "      <td>M</td>\n",
       "    </tr>\n",
       "    <tr>\n",
       "      <th>5247</th>\n",
       "      <td>5248</td>\n",
       "      <td>50</td>\n",
       "      <td>M</td>\n",
       "    </tr>\n",
       "    <tr>\n",
       "      <th>5248</th>\n",
       "      <td>5249</td>\n",
       "      <td>33</td>\n",
       "      <td>M</td>\n",
       "    </tr>\n",
       "    <tr>\n",
       "      <th>5249</th>\n",
       "      <td>5250</td>\n",
       "      <td>34</td>\n",
       "      <td>F</td>\n",
       "    </tr>\n",
       "  </tbody>\n",
       "</table>\n",
       "<p>5250 rows × 3 columns</p>\n",
       "</div>"
      ],
      "text/plain": [
       "      USER_ID  AGE GENDER\n",
       "0           1   31      M\n",
       "1           2   58      F\n",
       "2           3   43      M\n",
       "3           4   38      M\n",
       "4           5   24      M\n",
       "...       ...  ...    ...\n",
       "5245     5246   37      M\n",
       "5246     5247   46      M\n",
       "5247     5248   50      M\n",
       "5248     5249   33      M\n",
       "5249     5250   34      F\n",
       "\n",
       "[5250 rows x 3 columns]"
      ]
     },
     "execution_count": 25,
     "metadata": {},
     "output_type": "execute_result"
    }
   ],
   "source": [
    "users = 'users.csv'\n",
    "\n",
    "users_filename = f'{prefix}/{users}'\n",
    "s3_client.upload_file(users, bucket, users_filename)\n",
    "\n",
    "product = pd.read_csv(users)\n",
    "product"
   ]
  },
  {
   "cell_type": "code",
   "execution_count": 26,
   "metadata": {},
   "outputs": [
    {
     "data": {
      "text/html": [
       "<div>\n",
       "<style scoped>\n",
       "    .dataframe tbody tr th:only-of-type {\n",
       "        vertical-align: middle;\n",
       "    }\n",
       "\n",
       "    .dataframe tbody tr th {\n",
       "        vertical-align: top;\n",
       "    }\n",
       "\n",
       "    .dataframe thead th {\n",
       "        text-align: right;\n",
       "    }\n",
       "</style>\n",
       "<table border=\"1\" class=\"dataframe\">\n",
       "  <thead>\n",
       "    <tr style=\"text-align: right;\">\n",
       "      <th></th>\n",
       "      <th>ITEM_ID</th>\n",
       "      <th>PRICE</th>\n",
       "      <th>CATEGORY_L1</th>\n",
       "      <th>CATEGORY_L2</th>\n",
       "      <th>PRODUCT_DESCRIPTION</th>\n",
       "      <th>GENDER</th>\n",
       "    </tr>\n",
       "  </thead>\n",
       "  <tbody>\n",
       "    <tr>\n",
       "      <th>0</th>\n",
       "      <td>e1669081-8ffc-4dec-97a6-e9176d7f6651</td>\n",
       "      <td>124.99</td>\n",
       "      <td>apparel</td>\n",
       "      <td>scarf</td>\n",
       "      <td>Sans pareil scarf for women</td>\n",
       "      <td>F</td>\n",
       "    </tr>\n",
       "    <tr>\n",
       "      <th>1</th>\n",
       "      <td>cfafd627-7d6b-43a5-be05-4c7937be417d</td>\n",
       "      <td>57.99</td>\n",
       "      <td>housewares</td>\n",
       "      <td>kitchen</td>\n",
       "      <td>A must-have for your kitchen</td>\n",
       "      <td>Any</td>\n",
       "    </tr>\n",
       "    <tr>\n",
       "      <th>2</th>\n",
       "      <td>6e6ad102-7510-4a02-b8ce-5a0cd6f431d1</td>\n",
       "      <td>133.99</td>\n",
       "      <td>apparel</td>\n",
       "      <td>jacket</td>\n",
       "      <td>This gainsboro jacket for women is perfect for...</td>\n",
       "      <td>F</td>\n",
       "    </tr>\n",
       "    <tr>\n",
       "      <th>3</th>\n",
       "      <td>49b89871-5fe7-4898-b99d-953e15fb42b2</td>\n",
       "      <td>196.99</td>\n",
       "      <td>electronics</td>\n",
       "      <td>speaker</td>\n",
       "      <td>High definition speakers to fill the house wit...</td>\n",
       "      <td>Any</td>\n",
       "    </tr>\n",
       "    <tr>\n",
       "      <th>4</th>\n",
       "      <td>5cb18925-3a3c-4867-8f1c-46efd7eba067</td>\n",
       "      <td>9.99</td>\n",
       "      <td>footwear</td>\n",
       "      <td>sandals</td>\n",
       "      <td>This spiffy pair of sandals for woman is perfe...</td>\n",
       "      <td>F</td>\n",
       "    </tr>\n",
       "    <tr>\n",
       "      <th>...</th>\n",
       "      <td>...</td>\n",
       "      <td>...</td>\n",
       "      <td>...</td>\n",
       "      <td>...</td>\n",
       "      <td>...</td>\n",
       "      <td>...</td>\n",
       "    </tr>\n",
       "    <tr>\n",
       "      <th>2460</th>\n",
       "      <td>36cfd856-dd30-46a9-8654-1f1de77e674a</td>\n",
       "      <td>128.99</td>\n",
       "      <td>floral</td>\n",
       "      <td>wreath</td>\n",
       "      <td>Easter wreath grown sustainably on our organic...</td>\n",
       "      <td>Any</td>\n",
       "    </tr>\n",
       "    <tr>\n",
       "      <th>2461</th>\n",
       "      <td>1ea9439f-dff5-41cf-aac3-718a6b4e7af6</td>\n",
       "      <td>77.99</td>\n",
       "      <td>footwear</td>\n",
       "      <td>sneaker</td>\n",
       "      <td>An all-around voguish pair of white sneakers</td>\n",
       "      <td>F</td>\n",
       "    </tr>\n",
       "    <tr>\n",
       "      <th>2462</th>\n",
       "      <td>ccdf737c-c4fd-4c78-abd2-d5ef0428ef20</td>\n",
       "      <td>56.99</td>\n",
       "      <td>housewares</td>\n",
       "      <td>kitchen</td>\n",
       "      <td>Ideal for every kitchen</td>\n",
       "      <td>Any</td>\n",
       "    </tr>\n",
       "    <tr>\n",
       "      <th>2463</th>\n",
       "      <td>12f93a36-e282-4445-92ae-356eb6a560fd</td>\n",
       "      <td>98.99</td>\n",
       "      <td>floral</td>\n",
       "      <td>arrangement</td>\n",
       "      <td>Roses arrangement grown sustainably on our org...</td>\n",
       "      <td>Any</td>\n",
       "    </tr>\n",
       "    <tr>\n",
       "      <th>2464</th>\n",
       "      <td>23e77743-ff28-400a-811f-e08d3cab5e45</td>\n",
       "      <td>123.99</td>\n",
       "      <td>apparel</td>\n",
       "      <td>scarf</td>\n",
       "      <td>Ultrachic scarf for women for every occasion</td>\n",
       "      <td>F</td>\n",
       "    </tr>\n",
       "  </tbody>\n",
       "</table>\n",
       "<p>2465 rows × 6 columns</p>\n",
       "</div>"
      ],
      "text/plain": [
       "                                   ITEM_ID   PRICE  CATEGORY_L1  CATEGORY_L2  \\\n",
       "0     e1669081-8ffc-4dec-97a6-e9176d7f6651  124.99      apparel        scarf   \n",
       "1     cfafd627-7d6b-43a5-be05-4c7937be417d   57.99   housewares      kitchen   \n",
       "2     6e6ad102-7510-4a02-b8ce-5a0cd6f431d1  133.99      apparel       jacket   \n",
       "3     49b89871-5fe7-4898-b99d-953e15fb42b2  196.99  electronics      speaker   \n",
       "4     5cb18925-3a3c-4867-8f1c-46efd7eba067    9.99     footwear      sandals   \n",
       "...                                    ...     ...          ...          ...   \n",
       "2460  36cfd856-dd30-46a9-8654-1f1de77e674a  128.99       floral       wreath   \n",
       "2461  1ea9439f-dff5-41cf-aac3-718a6b4e7af6   77.99     footwear      sneaker   \n",
       "2462  ccdf737c-c4fd-4c78-abd2-d5ef0428ef20   56.99   housewares      kitchen   \n",
       "2463  12f93a36-e282-4445-92ae-356eb6a560fd   98.99       floral  arrangement   \n",
       "2464  23e77743-ff28-400a-811f-e08d3cab5e45  123.99      apparel        scarf   \n",
       "\n",
       "                                    PRODUCT_DESCRIPTION GENDER  \n",
       "0                           Sans pareil scarf for women      F  \n",
       "1                          A must-have for your kitchen    Any  \n",
       "2     This gainsboro jacket for women is perfect for...      F  \n",
       "3     High definition speakers to fill the house wit...    Any  \n",
       "4     This spiffy pair of sandals for woman is perfe...      F  \n",
       "...                                                 ...    ...  \n",
       "2460  Easter wreath grown sustainably on our organic...    Any  \n",
       "2461       An all-around voguish pair of white sneakers      F  \n",
       "2462                            Ideal for every kitchen    Any  \n",
       "2463  Roses arrangement grown sustainably on our org...    Any  \n",
       "2464       Ultrachic scarf for women for every occasion      F  \n",
       "\n",
       "[2465 rows x 6 columns]"
      ]
     },
     "execution_count": 26,
     "metadata": {},
     "output_type": "execute_result"
    }
   ],
   "source": [
    "items = 'items.csv'\n",
    "items_filename = f'{prefix}/{items}'\n",
    "s3_client.upload_file(items, bucket, items_filename)\n",
    "\n",
    "product = pd.read_csv(items)\n",
    "product"
   ]
  },
  {
   "cell_type": "code",
   "execution_count": 27,
   "metadata": {},
   "outputs": [
    {
     "data": {
      "text/html": [
       "<div>\n",
       "<style scoped>\n",
       "    .dataframe tbody tr th:only-of-type {\n",
       "        vertical-align: middle;\n",
       "    }\n",
       "\n",
       "    .dataframe tbody tr th {\n",
       "        vertical-align: top;\n",
       "    }\n",
       "\n",
       "    .dataframe thead th {\n",
       "        text-align: right;\n",
       "    }\n",
       "</style>\n",
       "<table border=\"1\" class=\"dataframe\">\n",
       "  <thead>\n",
       "    <tr style=\"text-align: right;\">\n",
       "      <th></th>\n",
       "      <th>ITEM_ID</th>\n",
       "      <th>USER_ID</th>\n",
       "      <th>EVENT_TYPE</th>\n",
       "      <th>TIMESTAMP</th>\n",
       "      <th>DISCOUNT</th>\n",
       "    </tr>\n",
       "  </thead>\n",
       "  <tbody>\n",
       "    <tr>\n",
       "      <th>0</th>\n",
       "      <td>26bb732f-9159-432f-91ef-bad14fedd298</td>\n",
       "      <td>3156</td>\n",
       "      <td>View</td>\n",
       "      <td>1591803788</td>\n",
       "      <td>No</td>\n",
       "    </tr>\n",
       "    <tr>\n",
       "      <th>1</th>\n",
       "      <td>26bb732f-9159-432f-91ef-bad14fedd298</td>\n",
       "      <td>3156</td>\n",
       "      <td>View</td>\n",
       "      <td>1591803788</td>\n",
       "      <td>No</td>\n",
       "    </tr>\n",
       "    <tr>\n",
       "      <th>2</th>\n",
       "      <td>dc073623-4b95-47d9-93cb-0171c20baa04</td>\n",
       "      <td>332</td>\n",
       "      <td>View</td>\n",
       "      <td>1591803812</td>\n",
       "      <td>Yes</td>\n",
       "    </tr>\n",
       "    <tr>\n",
       "      <th>3</th>\n",
       "      <td>dc073623-4b95-47d9-93cb-0171c20baa04</td>\n",
       "      <td>332</td>\n",
       "      <td>View</td>\n",
       "      <td>1591803812</td>\n",
       "      <td>Yes</td>\n",
       "    </tr>\n",
       "    <tr>\n",
       "      <th>4</th>\n",
       "      <td>31efcfea-47d6-43f3-97f7-2704a5397e22</td>\n",
       "      <td>3981</td>\n",
       "      <td>View</td>\n",
       "      <td>1591803830</td>\n",
       "      <td>Yes</td>\n",
       "    </tr>\n",
       "    <tr>\n",
       "      <th>...</th>\n",
       "      <td>...</td>\n",
       "      <td>...</td>\n",
       "      <td>...</td>\n",
       "      <td>...</td>\n",
       "      <td>...</td>\n",
       "    </tr>\n",
       "    <tr>\n",
       "      <th>674999</th>\n",
       "      <td>9bc87696-e9bd-4241-86b0-234e054a607b</td>\n",
       "      <td>5165</td>\n",
       "      <td>View</td>\n",
       "      <td>1598204678</td>\n",
       "      <td>Yes</td>\n",
       "    </tr>\n",
       "    <tr>\n",
       "      <th>675000</th>\n",
       "      <td>9bc87696-e9bd-4241-86b0-234e054a607b</td>\n",
       "      <td>5165</td>\n",
       "      <td>AddToCart</td>\n",
       "      <td>1598204681</td>\n",
       "      <td>Yes</td>\n",
       "    </tr>\n",
       "    <tr>\n",
       "      <th>675001</th>\n",
       "      <td>9bc87696-e9bd-4241-86b0-234e054a607b</td>\n",
       "      <td>5165</td>\n",
       "      <td>ViewCart</td>\n",
       "      <td>1598204686</td>\n",
       "      <td>Yes</td>\n",
       "    </tr>\n",
       "    <tr>\n",
       "      <th>675002</th>\n",
       "      <td>9bc87696-e9bd-4241-86b0-234e054a607b</td>\n",
       "      <td>5165</td>\n",
       "      <td>StartCheckout</td>\n",
       "      <td>1598204686</td>\n",
       "      <td>Yes</td>\n",
       "    </tr>\n",
       "    <tr>\n",
       "      <th>675003</th>\n",
       "      <td>9bc87696-e9bd-4241-86b0-234e054a607b</td>\n",
       "      <td>5165</td>\n",
       "      <td>Purchase</td>\n",
       "      <td>1598204689</td>\n",
       "      <td>Yes</td>\n",
       "    </tr>\n",
       "  </tbody>\n",
       "</table>\n",
       "<p>675004 rows × 5 columns</p>\n",
       "</div>"
      ],
      "text/plain": [
       "                                     ITEM_ID  USER_ID     EVENT_TYPE  \\\n",
       "0       26bb732f-9159-432f-91ef-bad14fedd298     3156           View   \n",
       "1       26bb732f-9159-432f-91ef-bad14fedd298     3156           View   \n",
       "2       dc073623-4b95-47d9-93cb-0171c20baa04      332           View   \n",
       "3       dc073623-4b95-47d9-93cb-0171c20baa04      332           View   \n",
       "4       31efcfea-47d6-43f3-97f7-2704a5397e22     3981           View   \n",
       "...                                      ...      ...            ...   \n",
       "674999  9bc87696-e9bd-4241-86b0-234e054a607b     5165           View   \n",
       "675000  9bc87696-e9bd-4241-86b0-234e054a607b     5165      AddToCart   \n",
       "675001  9bc87696-e9bd-4241-86b0-234e054a607b     5165       ViewCart   \n",
       "675002  9bc87696-e9bd-4241-86b0-234e054a607b     5165  StartCheckout   \n",
       "675003  9bc87696-e9bd-4241-86b0-234e054a607b     5165       Purchase   \n",
       "\n",
       "         TIMESTAMP DISCOUNT  \n",
       "0       1591803788       No  \n",
       "1       1591803788       No  \n",
       "2       1591803812      Yes  \n",
       "3       1591803812      Yes  \n",
       "4       1591803830      Yes  \n",
       "...            ...      ...  \n",
       "674999  1598204678      Yes  \n",
       "675000  1598204681      Yes  \n",
       "675001  1598204686      Yes  \n",
       "675002  1598204686      Yes  \n",
       "675003  1598204689      Yes  \n",
       "\n",
       "[675004 rows x 5 columns]"
      ]
     },
     "execution_count": 27,
     "metadata": {},
     "output_type": "execute_result"
    }
   ],
   "source": [
    "interactions = 'interactions.csv'\n",
    "\n",
    "interactions_filename = f'{prefix}/{interactions}'\n",
    "s3_client.upload_file(interactions, bucket, interactions_filename)\n",
    "\n",
    "df_interactions = pd.read_csv(interactions)\n",
    "df_interactions"
   ]
  },
  {
   "cell_type": "code",
   "execution_count": 28,
   "metadata": {},
   "outputs": [
    {
     "data": {
      "text/plain": [
       "{'No', 'Yes'}"
      ]
     },
     "execution_count": 28,
     "metadata": {},
     "output_type": "execute_result"
    }
   ],
   "source": [
    "set(df_interactions['DISCOUNT'])"
   ]
  },
  {
   "cell_type": "markdown",
   "metadata": {},
   "source": [
    "## Configure Amazon Personalize\n",
    "\n",
    "Now that we've prepared our three datasets and uploaded them to S3 we'll need to configure the Amazon Personalize service to understand our data so that it can be used to train models for generating recommendations.\n",
    "\n",
    "Note: if you deployed the Retail Demo Store with the \"auto create Personalize resources\" flag set to \"Yes\", the following steps have already been automatically completed for you."
   ]
  },
  {
   "cell_type": "markdown",
   "metadata": {},
   "source": [
    "### Create Schemas for Datasets\n",
    "\n",
    "Amazon Personalize requires a schema for each dataset so it can map the columns in our CSVs to fields for model training. Each schema is declared in JSON using the [Apache Avro](https://avro.apache.org/) format.\n",
    "\n",
    "Let's define and create schemas in Personalize for our datasets.\n",
    "\n",
    "Note that categorical fields include an additional attribute of `\"categorical\": true` and the textual field has an additional attribute of `\"textual\": true`. Categorical fields are those where one or more values can be specified for the field value (i.e. enumerated values). For example, one or more category names/codes for the `CATEGORY_L1` field. A textual field indicates that Personalize should apply a natural language processing (NLP) model to the field's value to extract model features from unstructured text. In this case, we're using the product description as the textual field. You can only have one textual field in the items dataset. \n",
    "\n",
    "Another detail to note is that when we call the [CreateSchema](https://docs.aws.amazon.com/personalize/latest/dg/API_CreateSchema.html) API, we pass an optional `domain` parameter with a value of `ECOMMERCE`. This tells Personalize that we are creating a schema for Retail/E-commerce domain. We will do this for all three schemas."
   ]
  },
  {
   "cell_type": "markdown",
   "metadata": {},
   "source": [
    "#### Items Datsaset Schema"
   ]
  },
  {
   "cell_type": "code",
   "execution_count": 29,
   "metadata": {},
   "outputs": [
    {
     "name": "stdout",
     "output_type": "stream",
     "text": [
      "You aready created this schema, seemingly\n"
     ]
    }
   ],
   "source": [
    "items_schema_arn = 'arn:aws:personalize:us-west-2:420618410968:schema/octank-products-interactions'\n",
    "items_schema = {\n",
    "    \"type\": \"record\",\n",
    "    \"name\": \"Items\",\n",
    "    \"namespace\": \"com.amazonaws.personalize.schema\",\n",
    "    \"fields\": [\n",
    "        {\n",
    "            \"name\": \"ITEM_ID\",\n",
    "            \"type\": \"string\"\n",
    "        },\n",
    "        {\n",
    "            \"name\": \"PRICE\",\n",
    "            \"type\": \"float\"\n",
    "        },\n",
    "        {\n",
    "            \"name\": \"CATEGORY_L1\",\n",
    "            \"type\": \"string\",\n",
    "            \"categorical\": True,\n",
    "        },\n",
    "        {\n",
    "            \"name\": \"CATEGORY_L2\",\n",
    "            \"type\": \"string\",\n",
    "            \"categorical\": True,\n",
    "        },\n",
    "        {\n",
    "            \"name\": \"PRODUCT_DESCRIPTION\",\n",
    "            \"type\": \"string\",\n",
    "            \"textual\": True\n",
    "        },\n",
    "        {\n",
    "            \"name\": \"GENDER\",\n",
    "            \"type\": \"string\",\n",
    "            \"categorical\": True,\n",
    "        },\n",
    "    ],\n",
    "    \"version\": \"1.0\"\n",
    "}\n",
    "\n",
    "try:\n",
    "    create_schema_response = personalize.create_schema(\n",
    "        name = \"octank-products\",\n",
    "        domain = 'ECOMMERCE',\n",
    "        schema = json.dumps(items_schema)\n",
    "    )\n",
    "    items_schema_arn = create_schema_response['schemaArn']\n",
    "    print(json.dumps(create_schema_response, indent=2))\n",
    "except personalize.exceptions.ResourceAlreadyExistsException:\n",
    "    print('You aready created this schema, seemingly')\n",
    "    paginator = personalize.get_paginator('list_schemas')\n",
    "    for paginate_result in paginator.paginate():\n",
    "        for schema in paginate_result['schemas']:\n",
    "            if schema['name'] == 'retaildemostore-products-items':\n",
    "                items_schema_arn = schema['schemaArn']\n",
    "                print(f\"Using existing schema: {items_schema_arn}\")\n",
    "                break"
   ]
  },
  {
   "cell_type": "markdown",
   "metadata": {},
   "source": [
    "#### Users Dataset Schema"
   ]
  },
  {
   "cell_type": "code",
   "execution_count": 30,
   "metadata": {},
   "outputs": [
    {
     "name": "stdout",
     "output_type": "stream",
     "text": [
      "You aready created this schema, seemingly\n"
     ]
    }
   ],
   "source": [
    "users_schema_arn = 'arn:aws:personalize:us-west-2:420618410968:schema/octank-users'\n",
    "users_schema = {\n",
    "    \"type\": \"record\",\n",
    "    \"name\": \"Users\",\n",
    "    \"namespace\": \"com.amazonaws.personalize.schema\",\n",
    "    \"fields\": [\n",
    "        {\n",
    "            \"name\": \"USER_ID\",\n",
    "            \"type\": \"string\"\n",
    "        },\n",
    "        {\n",
    "            \"name\": \"AGE\",\n",
    "            \"type\": \"int\"\n",
    "        },\n",
    "        {\n",
    "            \"name\": \"GENDER\",\n",
    "            \"type\": \"string\",\n",
    "            \"categorical\": True,\n",
    "        }\n",
    "    ],\n",
    "    \"version\": \"1.0\"\n",
    "}\n",
    "\n",
    "try:\n",
    "    create_schema_response = personalize.create_schema(\n",
    "        name = \"octank-users\",\n",
    "        domain = \"ECOMMERCE\",\n",
    "        schema = json.dumps(users_schema)\n",
    "    )\n",
    "    print(json.dumps(create_schema_response, indent=2))\n",
    "    users_schema_arn = create_schema_response['schemaArn']\n",
    "except personalize.exceptions.ResourceAlreadyExistsException:\n",
    "    print('You aready created this schema, seemingly')\n",
    "    paginator = personalize.get_paginator('list_schemas')\n",
    "    for paginate_result in paginator.paginate():\n",
    "        for schema in paginate_result['schemas']:\n",
    "            if schema['name'] == 'retaildemostore-products-users':\n",
    "                users_schema_arn = schema['schemaArn']\n",
    "                print(f\"Using existing schema: {users_schema_arn}\")\n",
    "                break"
   ]
  },
  {
   "cell_type": "markdown",
   "metadata": {},
   "source": [
    "#### Interactions Dataset Schema"
   ]
  },
  {
   "cell_type": "code",
   "execution_count": 31,
   "metadata": {},
   "outputs": [
    {
     "name": "stdout",
     "output_type": "stream",
     "text": [
      "You aready created this schema, seemingly\n"
     ]
    }
   ],
   "source": [
    "interactions_schema_arn = 'arn:aws:personalize:us-west-2:420618410968:schema/octank-products-interactions'\n",
    "interactions_schema = {\n",
    "    \"type\": \"record\",\n",
    "    \"name\": \"Interactions\",\n",
    "    \"namespace\": \"com.amazonaws.personalize.schema\",\n",
    "    \"fields\": [\n",
    "        {\n",
    "            \"name\": \"ITEM_ID\",\n",
    "            \"type\": \"string\"\n",
    "        },\n",
    "        {\n",
    "            \"name\": \"USER_ID\",\n",
    "            \"type\": \"string\"\n",
    "        },\n",
    "        {\n",
    "            \"name\": \"EVENT_TYPE\",  # \"View\", \"Purchase\", etc.\n",
    "            \"type\": \"string\"\n",
    "        },\n",
    "        {\n",
    "            \"name\": \"TIMESTAMP\",\n",
    "            \"type\": \"long\"\n",
    "        },\n",
    "        {\n",
    "            \"name\": \"DISCOUNT\",  # This is the contextual metadata - \"Yes\" or \"No\".\n",
    "            \"type\": \"string\"\n",
    "        },\n",
    "    ],\n",
    "    \"version\": \"1.0\"\n",
    "}\n",
    "\n",
    "try:\n",
    "    create_schema_response = personalize.create_schema(\n",
    "        name = \"octank-products-interactions\",\n",
    "        domain = \"ECOMMERCE\",\n",
    "        schema = json.dumps(interactions_schema)\n",
    "    )\n",
    "    print(json.dumps(create_schema_response, indent=2))\n",
    "    interactions_schema_arn = create_schema_response['schemaArn']\n",
    "except personalize.exceptions.ResourceAlreadyExistsException:\n",
    "    print('You aready created this schema, seemingly')\n",
    "    paginator = personalize.get_paginator('list_schemas')\n",
    "    for paginate_result in paginator.paginate():\n",
    "        for schema in paginate_result['schemas']:\n",
    "            if schema['name'] == 'retaildemostore-products-interactions':\n",
    "                interactions_schema_arn = schema['schemaArn']\n",
    "                print(f\"Using existing schema: {interactions_schema_arn}\")\n",
    "                break"
   ]
  },
  {
   "cell_type": "markdown",
   "metadata": {},
   "source": [
    "### Create and Wait for Dataset Group\n",
    "\n",
    "Next we need to create the dataset group that will contain our three datasets. This is one of many Personalize operations that are asynchronous. That is, we call an API to create a resource and have to wait for it to become active."
   ]
  },
  {
   "cell_type": "markdown",
   "metadata": {},
   "source": [
    "#### Create Dataset Group\n",
    "\n",
    "Note that we are also passing `ECOMMERCE` for the `domain` parameter here too."
   ]
  },
  {
   "cell_type": "code",
   "execution_count": 32,
   "metadata": {},
   "outputs": [
    {
     "name": "stdout",
     "output_type": "stream",
     "text": [
      "You aready created this dataset group, seemingly\n"
     ]
    }
   ],
   "source": [
    "dataset_group_arn = 'arn:aws:personalize:us-west-2:420618410968:dataset-group/octank-products'\n",
    "try:\n",
    "    create_dataset_group_response = personalize.create_dataset_group(\n",
    "        name = 'octank-products',\n",
    "        domain = 'ECOMMERCE'\n",
    "    )\n",
    "    dataset_group_arn = create_dataset_group_response['datasetGroupArn']\n",
    "    print(json.dumps(create_dataset_group_response, indent=2))\n",
    "except personalize.exceptions.ResourceAlreadyExistsException:\n",
    "    print('You aready created this dataset group, seemingly')\n",
    "    paginator = personalize.get_paginator('list_dataset_groups')\n",
    "    for paginate_result in paginator.paginate():\n",
    "        for dataset_group in paginate_result['datasetGroups']:\n",
    "            if dataset_group['name'] == 'retaildemostore-products':\n",
    "                dataset_group_arn = dataset_group['datasetGroupArn']\n",
    "                break"
   ]
  },
  {
   "cell_type": "markdown",
   "metadata": {},
   "source": [
    "#### Wait for Dataset Group to Have ACTIVE Status"
   ]
  },
  {
   "cell_type": "code",
   "execution_count": 33,
   "metadata": {},
   "outputs": [
    {
     "name": "stdout",
     "output_type": "stream",
     "text": [
      "DatasetGroup: ACTIVE\n"
     ]
    }
   ],
   "source": [
    "status = None\n",
    "max_time = time.time() + 3*60*60 # 3 hours\n",
    "while time.time() < max_time:\n",
    "    describe_dataset_group_response = personalize.describe_dataset_group(\n",
    "        datasetGroupArn = dataset_group_arn\n",
    "    )\n",
    "    status = describe_dataset_group_response[\"datasetGroup\"][\"status\"]\n",
    "    print(\"DatasetGroup: {}\".format(status))\n",
    "    \n",
    "    if status == \"ACTIVE\" or status == \"CREATE FAILED\":\n",
    "        break\n",
    "        \n",
    "    time.sleep(15)"
   ]
  },
  {
   "cell_type": "markdown",
   "metadata": {},
   "source": [
    "### Create Items Dataset\n",
    "\n",
    "Next we will create the datasets in Personalize for our three dataset types. Let's start with the items dataset."
   ]
  },
  {
   "cell_type": "code",
   "execution_count": 34,
   "metadata": {},
   "outputs": [
    {
     "name": "stdout",
     "output_type": "stream",
     "text": [
      "You aready created this dataset, seemingly\n",
      "Items dataset ARN = arn:aws:personalize:us-west-2:420618410968:dataset/octank-products/ITEMS\n"
     ]
    }
   ],
   "source": [
    "items_dataset_arn = 'arn:aws:personalize:us-west-2:420618410968:dataset/octank-products/ITEMS'\n",
    "try:\n",
    "    dataset_type = \"ITEMS\"\n",
    "    create_dataset_response = personalize.create_dataset(\n",
    "        name = \"octank-products-items\",\n",
    "        datasetType = dataset_type,\n",
    "        datasetGroupArn = dataset_group_arn,\n",
    "        schemaArn = items_schema_arn\n",
    "    )\n",
    "\n",
    "    items_dataset_arn = create_dataset_response['datasetArn']\n",
    "    print(json.dumps(create_dataset_response, indent=2))\n",
    "except personalize.exceptions.ResourceAlreadyExistsException:\n",
    "    print('You aready created this dataset, seemingly')\n",
    "    paginator = personalize.get_paginator('list_datasets')\n",
    "    for paginate_result in paginator.paginate(datasetGroupArn = dataset_group_arn):\n",
    "        for dataset in paginate_result['datasets']:\n",
    "            if dataset['name'] == 'retaildemostore-products-items':\n",
    "                items_dataset_arn = dataset['datasetArn']\n",
    "                break\n",
    "                \n",
    "print(f'Items dataset ARN = {items_dataset_arn}')"
   ]
  },
  {
   "cell_type": "markdown",
   "metadata": {},
   "source": [
    "### Create Users Dataset"
   ]
  },
  {
   "cell_type": "code",
   "execution_count": 35,
   "metadata": {},
   "outputs": [
    {
     "name": "stdout",
     "output_type": "stream",
     "text": [
      "You aready created this dataset, seemingly\n",
      "Users dataset ARN = arn:aws:personalize:us-west-2:420618410968:dataset/octank-products/USERS\n"
     ]
    }
   ],
   "source": [
    "users_dataset_arn = 'arn:aws:personalize:us-west-2:420618410968:dataset/octank-products/USERS'\n",
    "try:\n",
    "    dataset_type = \"USERS\"\n",
    "    create_dataset_response = personalize.create_dataset(\n",
    "        name = \"octank-products-users\",\n",
    "        datasetType = dataset_type,\n",
    "        datasetGroupArn = dataset_group_arn,\n",
    "        schemaArn = users_schema_arn\n",
    "    )\n",
    "\n",
    "    users_dataset_arn = create_dataset_response['datasetArn']\n",
    "    print(json.dumps(create_dataset_response, indent=2))\n",
    "except personalize.exceptions.ResourceAlreadyExistsException:\n",
    "    print('You aready created this dataset, seemingly')\n",
    "    paginator = personalize.get_paginator('list_datasets')\n",
    "    for paginate_result in paginator.paginate(datasetGroupArn = dataset_group_arn):\n",
    "        for dataset in paginate_result['datasets']:\n",
    "            if dataset['name'] == 'retaildemostore-products-users':\n",
    "                users_dataset_arn = dataset['datasetArn']\n",
    "                break\n",
    "                \n",
    "print(f'Users dataset ARN = {users_dataset_arn}')"
   ]
  },
  {
   "cell_type": "markdown",
   "metadata": {},
   "source": [
    "### Create Interactions Dataset"
   ]
  },
  {
   "cell_type": "code",
   "execution_count": 36,
   "metadata": {},
   "outputs": [
    {
     "name": "stdout",
     "output_type": "stream",
     "text": [
      "You aready created this dataset, seemingly\n",
      "Interactions dataset ARN = arn:aws:personalize:us-west-2:420618410968:dataset/octank-products/INTERACTIONS\n"
     ]
    }
   ],
   "source": [
    "interactions_dataset_arn = 'arn:aws:personalize:us-west-2:420618410968:dataset/octank-products/INTERACTIONS'\n",
    "try:\n",
    "    dataset_type = \"INTERACTIONS\"\n",
    "    create_dataset_response = personalize.create_dataset(\n",
    "        name = \"octank-products-interactions\",\n",
    "        datasetType = dataset_type,\n",
    "        datasetGroupArn = dataset_group_arn,\n",
    "        schemaArn = interactions_schema_arn\n",
    "    )\n",
    "\n",
    "    interactions_dataset_arn = create_dataset_response['datasetArn']\n",
    "    print(json.dumps(create_dataset_response, indent=2))\n",
    "except personalize.exceptions.ResourceAlreadyExistsException:\n",
    "    print('You aready created this dataset, seemingly')\n",
    "    paginator = personalize.get_paginator('list_datasets')\n",
    "    for paginate_result in paginator.paginate(datasetGroupArn = dataset_group_arn):\n",
    "        for dataset in paginate_result['datasets']:\n",
    "            if dataset['name'] == 'retaildemostore-products-interactions':\n",
    "                interactions_dataset_arn = dataset['datasetArn']\n",
    "                break\n",
    "                \n",
    "print(f'Interactions dataset ARN = {interactions_dataset_arn}')"
   ]
  },
  {
   "cell_type": "markdown",
   "metadata": {},
   "source": [
    "### Wait for datasets to become active\n",
    "\n",
    "It can take a minute or two for the datasets to be created. Let's wait for all three to become active."
   ]
  },
  {
   "cell_type": "code",
   "execution_count": 37,
   "metadata": {},
   "outputs": [
    {
     "name": "stdout",
     "output_type": "stream",
     "text": [
      "Dataset arn:aws:personalize:us-west-2:420618410968:dataset/octank-products/INTERACTIONS successfully completed\n",
      "Dataset arn:aws:personalize:us-west-2:420618410968:dataset/octank-products/USERS successfully completed\n",
      "Dataset arn:aws:personalize:us-west-2:420618410968:dataset/octank-products/ITEMS successfully completed\n",
      "All datasets have completed\n",
      "CPU times: user 10.2 ms, sys: 0 ns, total: 10.2 ms\n",
      "Wall time: 117 ms\n"
     ]
    }
   ],
   "source": [
    "%%time\n",
    "\n",
    "dataset_arns = [ items_dataset_arn, users_dataset_arn, interactions_dataset_arn ]\n",
    "\n",
    "max_time = time.time() + 3*60*60 # 3 hours\n",
    "while time.time() < max_time:\n",
    "    for dataset_arn in reversed(dataset_arns):\n",
    "        response = personalize.describe_dataset(\n",
    "            datasetArn = dataset_arn\n",
    "        )\n",
    "        status = response[\"dataset\"][\"status\"]\n",
    "\n",
    "        if status == \"ACTIVE\":\n",
    "            print(f'Dataset {dataset_arn} successfully completed')\n",
    "            dataset_arns.remove(dataset_arn)\n",
    "        elif status == \"CREATE FAILED\":\n",
    "            print(f'Dataset {dataset_arn} failed')\n",
    "            if response.get('failureReason'):\n",
    "                print('   Reason: ' + response['failureReason'])\n",
    "            dataset_arns.remove(dataset_arn)\n",
    "\n",
    "    if len(dataset_arns) > 0:\n",
    "        print('At least one dataset is still in progress')\n",
    "        time.sleep(60)\n",
    "    else:\n",
    "        print(\"All datasets have completed\")\n",
    "        break"
   ]
  },
  {
   "cell_type": "markdown",
   "metadata": {},
   "source": [
    "## Import Datasets to Personalize\n",
    "\n",
    "Up to this point we have generated CSVs containing data for our users, items, and interactions and staged them in an S3 bucket. We also created schemas in Personalize that define the columns in our CSVs. Then we created a datset group and three datasets in Personalize that will receive our data. In the following steps we will create import jobs with Personalize that will import the datasets from our S3 bucket into the service."
   ]
  },
  {
   "cell_type": "markdown",
   "metadata": {},
   "source": [
    "### Inspect permissions\n",
    "\n",
    "By default, the Personalize service does not have permission to acccess the data we uploaded into the S3 bucket in our account. In order to grant access to the  Personalize service to read our CSVs, we need to set a Bucket Policy and create an IAM role that the Amazon Personalize service will assume.\n",
    "\n",
    "The deployment process for the Retail Demo Store has already setup these resources for you. However, let's take a look at the bucket policy and IAM role to see the required permissions.\n",
    "\n",
    "We'll start by displaying the bucket policy in the S3 staging bucket where we uploaded the CSVs. Note the service principal of `personalize.amazonaws.com` and the actions allowed on the staging bucket. The `s3:GetObject` is needed for import jobs to allow Personalize to read objects from the bucket and the `s3:PutObject` is used for export jobs, batch inference jobs, and batch segment jobs to allow Personalize to write output files to the bucket. The `s3:ListBucket` action allows Personalize to list the contents of a folder."
   ]
  },
  {
   "cell_type": "code",
   "execution_count": 38,
   "metadata": {},
   "outputs": [
    {
     "name": "stdout",
     "output_type": "stream",
     "text": [
      "{\n",
      "  \"Version\": \"2012-10-17\",\n",
      "  \"Statement\": [\n",
      "    {\n",
      "      \"Effect\": \"Allow\",\n",
      "      \"Principal\": {\n",
      "        \"Service\": \"personalize.amazonaws.com\"\n",
      "      },\n",
      "      \"Action\": [\n",
      "        \"s3:GetObject\",\n",
      "        \"s3:PutObject\",\n",
      "        \"s3:ListBucket\"\n",
      "      ],\n",
      "      \"Resource\": [\n",
      "        \"arn:aws:s3:::sagemaker-us-west-2-420618410968\",\n",
      "        \"arn:aws:s3:::sagemaker-us-west-2-420618410968/*\"\n",
      "      ]\n",
      "    }\n",
      "  ]\n",
      "}\n"
     ]
    }
   ],
   "source": [
    "response = s3_client.get_bucket_policy(Bucket = bucket)\n",
    "print(json.dumps(json.loads(response['Policy']), indent=2))"
   ]
  },
  {
   "cell_type": "markdown",
   "metadata": {},
   "source": [
    "Next, let's look at the IAM role that Personalize will need to assume to access the S3 bucket. Again, this role was created for you during the Retail Demo Store deployment. We'll start by inspecting the role itself. Notice the same service principal as the bucket policy."
   ]
  },
  {
   "cell_type": "code",
   "execution_count": 39,
   "metadata": {},
   "outputs": [
    {
     "name": "stdout",
     "output_type": "stream",
     "text": [
      "{\n",
      "  \"Path\": \"/\",\n",
      "  \"RoleName\": \"octank-us-west-2-PersonalizeS3\",\n",
      "  \"RoleId\": \"AROAWD3WPTPMFWCGVRNNU\",\n",
      "  \"Arn\": \"arn:aws:iam::420618410968:role/octank-us-west-2-PersonalizeS3\",\n",
      "  \"CreateDate\": \"2022-07-01 14:46:10+00:00\",\n",
      "  \"AssumeRolePolicyDocument\": {\n",
      "    \"Version\": \"2012-10-17\",\n",
      "    \"Statement\": [\n",
      "      {\n",
      "        \"Sid\": \"\",\n",
      "        \"Effect\": \"Allow\",\n",
      "        \"Principal\": {\n",
      "          \"Service\": \"personalize.amazonaws.com\"\n",
      "        },\n",
      "        \"Action\": \"sts:AssumeRole\"\n",
      "      }\n",
      "    ]\n",
      "  },\n",
      "  \"Description\": \"Allows Amazon Personalize to call AWS services on your behalf.\",\n",
      "  \"MaxSessionDuration\": 3600,\n",
      "  \"Tags\": [\n",
      "    {\n",
      "      \"Key\": \"ab3-demo\",\n",
      "      \"Value\": \"jingswu\"\n",
      "    }\n",
      "  ],\n",
      "  \"RoleLastUsed\": {\n",
      "    \"LastUsedDate\": \"2022-07-01 15:20:12+00:00\",\n",
      "    \"Region\": \"us-west-2\"\n",
      "  }\n",
      "}\n"
     ]
    }
   ],
   "source": [
    "iam = boto3.client(\"iam\")\n",
    "\n",
    "role_name = \"octank-us-west-2-PersonalizeS3\"\n",
    "\n",
    "response = iam.get_role(RoleName = role_name)\n",
    "role_arn = response['Role']['Arn']\n",
    "print(json.dumps(response['Role'], indent=2, default = str))"
   ]
  },
  {
   "cell_type": "markdown",
   "metadata": {},
   "source": [
    "### Create Import Jobs\n",
    "\n",
    "With the permissions in place to allow Personalize to access our CSV files, let's create three import jobs to import each file into its respective dataset. Each import job can take several minutes to complete so we'll create all three import jobs and then wait for them all to complete. This allows them to import in parallel."
   ]
  },
  {
   "cell_type": "markdown",
   "metadata": {},
   "source": [
    "#### Create Items Dataset Import Job"
   ]
  },
  {
   "cell_type": "code",
   "execution_count": 40,
   "metadata": {},
   "outputs": [
    {
     "name": "stdout",
     "output_type": "stream",
     "text": [
      "{\n",
      "  \"datasetImportJobArn\": \"arn:aws:personalize:us-west-2:420618410968:dataset-import-job/octank-products-2e20d416\",\n",
      "  \"ResponseMetadata\": {\n",
      "    \"RequestId\": \"b80ff0a3-514e-4046-9cfe-8601ba495f53\",\n",
      "    \"HTTPStatusCode\": 200,\n",
      "    \"HTTPHeaders\": {\n",
      "      \"date\": \"Fri, 01 Jul 2022 22:41:47 GMT\",\n",
      "      \"content-type\": \"application/x-amz-json-1.1\",\n",
      "      \"content-length\": \"112\",\n",
      "      \"connection\": \"keep-alive\",\n",
      "      \"x-amzn-requestid\": \"b80ff0a3-514e-4046-9cfe-8601ba495f53\"\n",
      "    },\n",
      "    \"RetryAttempts\": 0\n",
      "  }\n",
      "}\n"
     ]
    }
   ],
   "source": [
    "import_job_suffix = str(uuid.uuid4())[:8]\n",
    "\n",
    "items_create_dataset_import_job_response = personalize.create_dataset_import_job(\n",
    "    jobName = \"octank-products-\" + import_job_suffix,\n",
    "    datasetArn = items_dataset_arn,\n",
    "    dataSource = {\n",
    "        \"dataLocation\": \"s3://{}/{}\".format(bucket, items_filename)\n",
    "    },\n",
    "    roleArn = role_arn\n",
    ")\n",
    "\n",
    "items_dataset_import_job_arn = items_create_dataset_import_job_response['datasetImportJobArn']\n",
    "print(json.dumps(items_create_dataset_import_job_response, indent=2))"
   ]
  },
  {
   "cell_type": "markdown",
   "metadata": {},
   "source": [
    "#### Create Users Dataset Import Job"
   ]
  },
  {
   "cell_type": "code",
   "execution_count": 41,
   "metadata": {},
   "outputs": [
    {
     "name": "stdout",
     "output_type": "stream",
     "text": [
      "{\n",
      "  \"datasetImportJobArn\": \"arn:aws:personalize:us-west-2:420618410968:dataset-import-job/octank-products-3e2db439\",\n",
      "  \"ResponseMetadata\": {\n",
      "    \"RequestId\": \"d8a8598b-d803-4603-a725-24981c786eb5\",\n",
      "    \"HTTPStatusCode\": 200,\n",
      "    \"HTTPHeaders\": {\n",
      "      \"date\": \"Fri, 01 Jul 2022 22:41:49 GMT\",\n",
      "      \"content-type\": \"application/x-amz-json-1.1\",\n",
      "      \"content-length\": \"112\",\n",
      "      \"connection\": \"keep-alive\",\n",
      "      \"x-amzn-requestid\": \"d8a8598b-d803-4603-a725-24981c786eb5\"\n",
      "    },\n",
      "    \"RetryAttempts\": 0\n",
      "  }\n",
      "}\n"
     ]
    }
   ],
   "source": [
    "import_job_suffix = str(uuid.uuid4())[:8]\n",
    "\n",
    "users_create_dataset_import_job_response = personalize.create_dataset_import_job(\n",
    "    jobName = \"octank-products-\" + import_job_suffix,\n",
    "    datasetArn = users_dataset_arn,\n",
    "    dataSource = {\n",
    "        \"dataLocation\": \"s3://{}/{}\".format(bucket, users_filename)\n",
    "    },\n",
    "    roleArn = role_arn\n",
    ")\n",
    "\n",
    "users_dataset_import_job_arn = users_create_dataset_import_job_response['datasetImportJobArn']\n",
    "print(json.dumps(users_create_dataset_import_job_response, indent=2))"
   ]
  },
  {
   "cell_type": "markdown",
   "metadata": {},
   "source": [
    "#### Create Interactions Dataset Import Job"
   ]
  },
  {
   "cell_type": "code",
   "execution_count": 42,
   "metadata": {},
   "outputs": [
    {
     "name": "stdout",
     "output_type": "stream",
     "text": [
      "{\n",
      "  \"datasetImportJobArn\": \"arn:aws:personalize:us-west-2:420618410968:dataset-import-job/octank-products-cbc1efae\",\n",
      "  \"ResponseMetadata\": {\n",
      "    \"RequestId\": \"f531b54f-5aa7-4019-afe2-63510be3c97d\",\n",
      "    \"HTTPStatusCode\": 200,\n",
      "    \"HTTPHeaders\": {\n",
      "      \"date\": \"Fri, 01 Jul 2022 22:41:51 GMT\",\n",
      "      \"content-type\": \"application/x-amz-json-1.1\",\n",
      "      \"content-length\": \"112\",\n",
      "      \"connection\": \"keep-alive\",\n",
      "      \"x-amzn-requestid\": \"f531b54f-5aa7-4019-afe2-63510be3c97d\"\n",
      "    },\n",
      "    \"RetryAttempts\": 0\n",
      "  }\n",
      "}\n"
     ]
    }
   ],
   "source": [
    "import_job_suffix = str(uuid.uuid4())[:8]\n",
    "\n",
    "interactions_create_dataset_import_job_response = personalize.create_dataset_import_job(\n",
    "    jobName = \"octank-products-\" + import_job_suffix,\n",
    "    datasetArn = interactions_dataset_arn,\n",
    "    dataSource = {\n",
    "        \"dataLocation\": \"s3://{}/{}\".format(bucket, interactions_filename)\n",
    "    },\n",
    "    roleArn = role_arn\n",
    ")\n",
    "\n",
    "interactions_dataset_import_job_arn = interactions_create_dataset_import_job_response['datasetImportJobArn']\n",
    "print(json.dumps(interactions_create_dataset_import_job_response, indent=2))"
   ]
  },
  {
   "cell_type": "markdown",
   "metadata": {},
   "source": [
    "### Wait for Import Jobs to Complete\n",
    "\n",
    "It will take 10-15 minutes for the import jobs to complete, while you're waiting you can learn more about Datasets and Schemas here: https://docs.aws.amazon.com/personalize/latest/dg/how-it-works-dataset-schema.html\n",
    "\n",
    "We will wait for all three jobs to finish."
   ]
  },
  {
   "cell_type": "markdown",
   "metadata": {},
   "source": [
    "#### Wait for Items Import Job to Complete"
   ]
  },
  {
   "cell_type": "code",
   "execution_count": 43,
   "metadata": {},
   "outputs": [
    {
     "name": "stdout",
     "output_type": "stream",
     "text": [
      "At least one dataset import job still in progress\n",
      "At least one dataset import job still in progress\n",
      "At least one dataset import job still in progress\n",
      "At least one dataset import job still in progress\n",
      "Import job arn:aws:personalize:us-west-2:420618410968:dataset-import-job/octank-products-cbc1efae successfully completed\n",
      "At least one dataset import job still in progress\n",
      "At least one dataset import job still in progress\n",
      "Import job arn:aws:personalize:us-west-2:420618410968:dataset-import-job/octank-products-3e2db439 successfully completed\n",
      "Import job arn:aws:personalize:us-west-2:420618410968:dataset-import-job/octank-products-2e20d416 successfully completed\n",
      "All import jobs have ended\n",
      "CPU times: user 111 ms, sys: 11.6 ms, total: 123 ms\n",
      "Wall time: 6min\n"
     ]
    }
   ],
   "source": [
    "%%time\n",
    "\n",
    "import_job_arns = [ items_dataset_import_job_arn, users_dataset_import_job_arn, interactions_dataset_import_job_arn ]\n",
    "\n",
    "max_time = time.time() + 3*60*60 # 3 hours\n",
    "while time.time() < max_time:\n",
    "    for job_arn in reversed(import_job_arns):\n",
    "        import_job_response = personalize.describe_dataset_import_job(\n",
    "            datasetImportJobArn = job_arn\n",
    "        )\n",
    "        status = import_job_response[\"datasetImportJob\"]['status']\n",
    "\n",
    "        if status == \"ACTIVE\":\n",
    "            print(f'Import job {job_arn} successfully completed')\n",
    "            import_job_arns.remove(job_arn)\n",
    "        elif status == \"CREATE FAILED\":\n",
    "            print(f'Import job {job_arn} failed')\n",
    "            if import_job_response.get('failureReason'):\n",
    "                print('   Reason: ' + import_job_response['failureReason'])\n",
    "            import_job_arns.remove(job_arn)\n",
    "\n",
    "    if len(import_job_arns) > 0:\n",
    "        print('At least one dataset import job still in progress')\n",
    "        time.sleep(60)\n",
    "    else:\n",
    "        print(\"All import jobs have ended\")\n",
    "        break"
   ]
  },
  {
   "cell_type": "markdown",
   "metadata": {},
   "source": [
    "## Create Recommenders"
   ]
  },
  {
   "cell_type": "markdown",
   "metadata": {},
   "source": [
    "List all the recommendation Recipe for Ecommerce"
   ]
  },
  {
   "cell_type": "code",
   "execution_count": 26,
   "metadata": {
    "scrolled": false
   },
   "outputs": [
    {
     "name": "stdout",
     "output_type": "stream",
     "text": [
      "[\n",
      "  {\n",
      "    \"name\": \"aws-ecomm-customers-who-viewed-x-also-viewed\",\n",
      "    \"recipeArn\": \"arn:aws:personalize:::recipe/aws-ecomm-customers-who-viewed-x-also-viewed\",\n",
      "    \"status\": \"ACTIVE\",\n",
      "    \"creationDateTime\": \"2019-06-10 00:00:00+00:00\",\n",
      "    \"lastUpdatedDateTime\": \"2022-06-30 18:30:54.674000+00:00\",\n",
      "    \"domain\": \"ECOMMERCE\"\n",
      "  },\n",
      "  {\n",
      "    \"name\": \"aws-ecomm-frequently-bought-together\",\n",
      "    \"recipeArn\": \"arn:aws:personalize:::recipe/aws-ecomm-frequently-bought-together\",\n",
      "    \"status\": \"ACTIVE\",\n",
      "    \"creationDateTime\": \"2019-06-10 00:00:00+00:00\",\n",
      "    \"lastUpdatedDateTime\": \"2022-06-30 18:30:54.674000+00:00\",\n",
      "    \"domain\": \"ECOMMERCE\"\n",
      "  },\n",
      "  {\n",
      "    \"name\": \"aws-ecomm-popular-items-by-purchases\",\n",
      "    \"recipeArn\": \"arn:aws:personalize:::recipe/aws-ecomm-popular-items-by-purchases\",\n",
      "    \"status\": \"ACTIVE\",\n",
      "    \"creationDateTime\": \"2019-06-10 00:00:00+00:00\",\n",
      "    \"lastUpdatedDateTime\": \"2022-06-30 18:30:54.674000+00:00\",\n",
      "    \"domain\": \"ECOMMERCE\"\n",
      "  },\n",
      "  {\n",
      "    \"name\": \"aws-ecomm-popular-items-by-views\",\n",
      "    \"recipeArn\": \"arn:aws:personalize:::recipe/aws-ecomm-popular-items-by-views\",\n",
      "    \"status\": \"ACTIVE\",\n",
      "    \"creationDateTime\": \"2019-06-10 00:00:00+00:00\",\n",
      "    \"lastUpdatedDateTime\": \"2022-06-30 18:30:54.673000+00:00\",\n",
      "    \"domain\": \"ECOMMERCE\"\n",
      "  },\n",
      "  {\n",
      "    \"name\": \"aws-ecomm-recommended-for-you\",\n",
      "    \"recipeArn\": \"arn:aws:personalize:::recipe/aws-ecomm-recommended-for-you\",\n",
      "    \"status\": \"ACTIVE\",\n",
      "    \"creationDateTime\": \"2019-06-10 00:00:00+00:00\",\n",
      "    \"lastUpdatedDateTime\": \"2022-06-30 18:30:54.674000+00:00\",\n",
      "    \"domain\": \"ECOMMERCE\"\n",
      "  }\n",
      "]\n"
     ]
    }
   ],
   "source": [
    "recommender_response = personalize.list_recipes(domain = \"ECOMMERCE\")\n",
    "print(json.dumps(recommender_response['recipes'], indent=2, default=str))"
   ]
  },
  {
   "cell_type": "markdown",
   "metadata": {},
   "source": [
    "## Recommend For You Recommender\n",
    "\n",
    "aws-ecomm-recommended-for-you"
   ]
  },
  {
   "cell_type": "code",
   "execution_count": 27,
   "metadata": {},
   "outputs": [
    {
     "name": "stdout",
     "output_type": "stream",
     "text": [
      "arn:aws:personalize:::recipe/aws-ecomm-recommended-for-you\n"
     ]
    }
   ],
   "source": [
    "recipe_arn = ''\n",
    "for r in recommender_response['recipes']:\n",
    "    if r['name'] == 'aws-ecomm-recommended-for-you':\n",
    "        recipe_arn = r['recipeArn']\n",
    "print(recipe_arn)"
   ]
  },
  {
   "cell_type": "code",
   "execution_count": 28,
   "metadata": {},
   "outputs": [
    {
     "name": "stdout",
     "output_type": "stream",
     "text": [
      "You aready created this recommender, seemingly\n",
      "Recommended For You recommender ARN = arn:aws:personalize:us-west-2:420618410968:recommender/octank-recommended-for-you\n"
     ]
    }
   ],
   "source": [
    "# dataset_group_arn = 'arn:aws:personalize:us-west-2:420618410968:dataset-group/octank-products'\n",
    "\n",
    "try:\n",
    "    response = personalize.create_recommender(\n",
    "      name = 'octank-recommended-for-you',\n",
    "      recipeArn = recipe_arn,\n",
    "      datasetGroupArn = dataset_group_arn\n",
    "    )\n",
    "    rfy_recommender_arn = response['recommenderArn']\n",
    "    print(json.dumps(response, indent=2))\n",
    "except personalize.exceptions.ResourceAlreadyExistsException:\n",
    "    print('You aready created this recommender, seemingly')\n",
    "    paginator = personalize.get_paginator('list_recommenders')\n",
    "    for paginate_result in paginator.paginate(datasetGroupArn = dataset_group_arn):\n",
    "        for recommender in paginate_result['recommenders']:\n",
    "            if recommender['name'] == 'octank-recommended-for-you':\n",
    "                rfy_recommender_arn = recommender['recommenderArn']\n",
    "                break\n",
    "                \n",
    "print(f'Recommended For You recommender ARN = {rfy_recommender_arn}')"
   ]
  },
  {
   "cell_type": "markdown",
   "metadata": {},
   "source": [
    "Other recommender recipes"
   ]
  },
  {
   "cell_type": "markdown",
   "metadata": {},
   "source": [
    "## Customers Who Viewed X Also Viewed"
   ]
  },
  {
   "cell_type": "code",
   "execution_count": 38,
   "metadata": {},
   "outputs": [
    {
     "name": "stdout",
     "output_type": "stream",
     "text": [
      "arn:aws:personalize:::recipe/aws-ecomm-customers-who-viewed-x-also-viewed\n"
     ]
    }
   ],
   "source": [
    "recipe_arn = ''\n",
    "for r in recommender_response['recipes']:\n",
    "    if r['name'] == 'aws-ecomm-customers-who-viewed-x-also-viewed':\n",
    "        recipe_arn = r['recipeArn']\n",
    "print(recipe_arn)"
   ]
  },
  {
   "cell_type": "code",
   "execution_count": 39,
   "metadata": {},
   "outputs": [
    {
     "name": "stdout",
     "output_type": "stream",
     "text": [
      "You aready created this recommender, seemingly\n",
      "Recommended For You recommender ARN = arn:aws:personalize:us-west-2:420618410968:recommender/octank-who-viewed-x-also-viewed\n"
     ]
    }
   ],
   "source": [
    "# dataset_group_arn = 'arn:aws:personalize:us-west-2:420618410968:dataset-group/octank-products'\n",
    "try:\n",
    "    response = personalize.create_recommender(\n",
    "      name = 'octank-who-viewed-x-also-viewed',\n",
    "      recipeArn = recipe_arn,\n",
    "      datasetGroupArn = dataset_group_arn\n",
    "    )\n",
    "    wvx_recommender_arn = response['recommenderArn']\n",
    "    print(json.dumps(response, indent=2))\n",
    "except personalize.exceptions.ResourceAlreadyExistsException:\n",
    "    print('You aready created this recommender, seemingly')\n",
    "    paginator = personalize.get_paginator('list_recommenders')\n",
    "    for paginate_result in paginator.paginate(datasetGroupArn = dataset_group_arn):\n",
    "        for recommender in paginate_result['recommenders']:\n",
    "            if recommender['name'] == 'octank-who-viewed-x-also-viewed':\n",
    "                wvx_recommender_arn = recommender['recommenderArn']\n",
    "                break\n",
    "                \n",
    "print(f'Recommended For You recommender ARN = {wvx_recommender_arn}')"
   ]
  },
  {
   "cell_type": "markdown",
   "metadata": {},
   "source": [
    "### Check if Recommender Solution Version is Ready"
   ]
  },
  {
   "cell_type": "code",
   "execution_count": null,
   "metadata": {},
   "outputs": [
    {
     "name": "stdout",
     "output_type": "stream",
     "text": [
      "Recommender arn:aws:personalize:us-west-2:420618410968:recommender/octank-recommended-for-you successfully completed\n",
      "At least one recommender is still in progress\n",
      "At least one recommender is still in progress\n",
      "At least one recommender is still in progress\n",
      "At least one recommender is still in progress\n",
      "At least one recommender is still in progress\n",
      "At least one recommender is still in progress\n",
      "At least one recommender is still in progress\n",
      "At least one recommender is still in progress\n",
      "At least one recommender is still in progress\n",
      "At least one recommender is still in progress\n",
      "At least one recommender is still in progress\n",
      "At least one recommender is still in progress\n",
      "At least one recommender is still in progress\n",
      "At least one recommender is still in progress\n",
      "At least one recommender is still in progress\n",
      "At least one recommender is still in progress\n",
      "At least one recommender is still in progress\n",
      "At least one recommender is still in progress\n",
      "At least one recommender is still in progress\n",
      "At least one recommender is still in progress\n",
      "At least one recommender is still in progress\n",
      "At least one recommender is still in progress\n",
      "At least one recommender is still in progress\n",
      "At least one recommender is still in progress\n",
      "At least one recommender is still in progress\n",
      "Recommender arn:aws:personalize:us-west-2:420618410968:recommender/octank-who-viewed-x-also-viewed successfully completed\n",
      "All recommenders have completed\n",
      "CPU times: user 417 ms, sys: 29.9 ms, total: 447 ms\n",
      "Wall time: 28min 2s\n"
     ]
    }
   ],
   "source": [
    "%%time\n",
    "\n",
    "recommender_arns = [rfy_recommender_arn, wvx_recommender_arn]\n",
    "\n",
    "max_time = time.time() + 3*60*60 # 3 hours\n",
    "while time.time() < max_time:\n",
    "    for recommender_arn in reversed(recommender_arns):\n",
    "        response = personalize.describe_recommender(\n",
    "            recommenderArn = recommender_arn\n",
    "        )\n",
    "        status = response[\"recommender\"][\"status\"]\n",
    "\n",
    "        if status == \"ACTIVE\":\n",
    "            print(f'Recommender {recommender_arn} successfully completed')\n",
    "            recommender_arns.remove(recommender_arn)\n",
    "        elif status == \"CREATE FAILED\":\n",
    "            print(f'Recommender {recommender_arn} failed')\n",
    "            if response.get('failureReason'):\n",
    "                print('   Reason: ' + response['failureReason'])\n",
    "            recommender_arns.remove(recommender_arn)\n",
    "\n",
    "    if len(recommender_arns) > 0:\n",
    "        print('At least one recommender is still in progress')\n",
    "        time.sleep(60)\n",
    "    else:\n",
    "        print(\"All recommenders have completed\")\n",
    "        break"
   ]
  },
  {
   "cell_type": "markdown",
   "metadata": {},
   "source": [
    "## Evaluate Recommender"
   ]
  },
  {
   "cell_type": "markdown",
   "metadata": {},
   "source": [
    "### Get user persona"
   ]
  },
  {
   "cell_type": "code",
   "execution_count": 22,
   "metadata": {},
   "outputs": [
    {
     "name": "stdout",
     "output_type": "stream",
     "text": [
      "Shopper persona for user 100 is instruments_books_electronics\n"
     ]
    }
   ],
   "source": [
    "user_id = 100\n",
    "\n",
    "persona = 'instruments_books_electronics'\n",
    "\n",
    "print('Shopper persona for user {} is {}'.format(user_id, persona))"
   ]
  },
  {
   "cell_type": "markdown",
   "metadata": {},
   "source": [
    "### Load product Image and Product info"
   ]
  },
  {
   "cell_type": "code",
   "execution_count": 23,
   "metadata": {},
   "outputs": [
    {
     "data": {
      "text/plain": [
       "{'id': 'e1669081-8ffc-4dec-97a6-e9176d7f6651',\n",
       " 'url': 'http://d23ar2gbu3zcc4.cloudfront.net/#/product/e1669081-8ffc-4dec-97a6-e9176d7f6651',\n",
       " 'sk': nan,\n",
       " 'name': 'Sans Pareil Scarf',\n",
       " 'category': 'apparel',\n",
       " 'style': 'scarf',\n",
       " 'description': 'Sans pareil scarf for women',\n",
       " 'aliases': nan,\n",
       " 'price': 124.99,\n",
       " 'image': 'http://d23ar2gbu3zcc4.cloudfront.net/images/apparel/e1669081-8ffc-4dec-97a6-e9176d7f6651.jpg',\n",
       " 'gender_affinity': 'F',\n",
       " 'current_stock': 12,\n",
       " 'featured': nan}"
      ]
     },
     "execution_count": 23,
     "metadata": {},
     "output_type": "execute_result"
    }
   ],
   "source": [
    "items = pd.read_csv('products-details.csv')\n",
    "\n",
    "item_details = items[items['id']=='e1669081-8ffc-4dec-97a6-e9176d7f6651'].to_dict(orient='records')[0]\n",
    "\n",
    "item_details"
   ]
  },
  {
   "cell_type": "code",
   "execution_count": 35,
   "metadata": {},
   "outputs": [],
   "source": [
    "from ipywidgets import widgets, HBox, VBox\n",
    "from IPython import display\n",
    "\n",
    "personalize_runtime = boto3.client('personalize-runtime')\n",
    "\n",
    "items = pd.read_csv('products-details.csv')\n",
    "\n",
    "def evaluate_item_list(item_list):\n",
    "\n",
    "    Vbox_list = []\n",
    "    for item in item_list:\n",
    "        item_details = items[items['id']==item['itemId']].to_dict(orient='records')[0]\n",
    "        product_id = item_details[\"id\"]\n",
    "        product_name = item_details[\"name\"]\n",
    "        product_category = item_details[\"category\"]\n",
    "\n",
    "        Vbox_list.append(VBox([widgets.Label(f\"Product Id: {product_id}\"),\n",
    "                               widgets.Label(f\"Product Name: {product_name}\"),\n",
    "                               widgets.Label(f\"Product Category: {product_category}\"),\n",
    "                               widgets.Image(value=open(f\"../2-opensearch/images/{product_id}.jpg\", 'rb').read())]))\n",
    "    \n",
    "    hbox = HBox(Vbox_list)\n",
    "    display.display(hbox)"
   ]
  },
  {
   "cell_type": "markdown",
   "metadata": {},
   "source": [
    "### Get recommendation using Recommend For You"
   ]
  },
  {
   "cell_type": "code",
   "execution_count": 37,
   "metadata": {},
   "outputs": [
    {
     "name": "stdout",
     "output_type": "stream",
     "text": [
      "User persona: instruments_books_electronics\n"
     ]
    },
    {
     "data": {
      "application/vnd.jupyter.widget-view+json": {
       "model_id": "90f16ca1c83440a989cdd115d36763fa",
       "version_major": 2,
       "version_minor": 0
      },
      "text/plain": [
       "HBox(children=(VBox(children=(Label(value='Product Id: 76fa669b-1611-4f31-8377-55c3e701ced4'), Label(value='Pr…"
      ]
     },
     "metadata": {},
     "output_type": "display_data"
    }
   ],
   "source": [
    "# rfy_recommender_arn = 'arn:aws:personalize:us-west-2:420618410968:recommender/octank-recommended-for-you'\n",
    "\n",
    "get_recommendations_response = personalize_runtime.get_recommendations(\n",
    "    recommenderArn = rfy_recommender_arn,\n",
    "    userId = str(user_id),\n",
    "    numResults = 5\n",
    ")\n",
    "\n",
    "item_list = get_recommendations_response['itemList']\n",
    "\n",
    "print('User persona: ' + persona)\n",
    "\n",
    "evaluate_item_list(item_list)"
   ]
  },
  {
   "cell_type": "markdown",
   "metadata": {},
   "source": [
    "### Get recommendation using Who Viewed X Also Viewed"
   ]
  },
  {
   "cell_type": "code",
   "execution_count": 40,
   "metadata": {},
   "outputs": [
    {
     "name": "stdout",
     "output_type": "stream",
     "text": [
      "User persona: instruments_books_electronics\n"
     ]
    },
    {
     "data": {
      "application/vnd.jupyter.widget-view+json": {
       "model_id": "e19815bff6a34fcd834da8a53557bdd2",
       "version_major": 2,
       "version_minor": 0
      },
      "text/plain": [
       "HBox(children=(VBox(children=(Label(value='Product Id: 8a94535e-4638-43ed-ab9a-2ac90849a98b'), Label(value='Pr…"
      ]
     },
     "metadata": {},
     "output_type": "display_data"
    }
   ],
   "source": [
    "# wvx_recommender_arn = 'arn:aws:personalize:us-west-2:420618410968:recommender/octank-who-viewed-x-also-viewed'\n",
    "\n",
    "get_recommendations_response = personalize_runtime.get_recommendations(\n",
    "    recommenderArn = wvx_recommender_arn,\n",
    "    userId = str(user_id),\n",
    "    itemId = '5156955f-dda2-4e19-831e-752c92bd8f85',\n",
    "    numResults = 5\n",
    ")\n",
    "\n",
    "item_list = get_recommendations_response['itemList']\n",
    "\n",
    "print('User persona: ' + persona)\n",
    "\n",
    "evaluate_item_list(item_list)"
   ]
  },
  {
   "cell_type": "markdown",
   "metadata": {},
   "source": [
    "### Create event tracker"
   ]
  },
  {
   "cell_type": "code",
   "execution_count": 41,
   "metadata": {},
   "outputs": [
    {
     "name": "stdout",
     "output_type": "stream",
     "text": [
      "Event Tracker ARN: arn:aws:personalize:us-west-2:420618410968:event-tracker/d82a4e40\n",
      "Event Tracking ID: 197ec641-f3a7-4176-bbe1-eb9489c14e8e\n"
     ]
    }
   ],
   "source": [
    "try:\n",
    "    event_tracker_response = personalize.create_event_tracker(\n",
    "        datasetGroupArn=dataset_group_arn,\n",
    "        name='octank-event-tracker'\n",
    "    )\n",
    "\n",
    "    event_tracker_arn = event_tracker_response['eventTrackerArn']\n",
    "    event_tracking_id = event_tracker_response['trackingId']\n",
    "except personalize.exceptions.ResourceAlreadyExistsException:\n",
    "    print('You aready created an event tracker for this dataset group, seemingly')\n",
    "    paginator = personalize.get_paginator('list_event_trackers')\n",
    "    for paginate_result in paginator.paginate(datasetGroupArn = dataset_group_arn):\n",
    "        for event_tracker in paginate_result['eventTrackers']:\n",
    "            if event_tracker['name'] == 'retaildemostore-event-tracker':\n",
    "                event_tracker_arn = event_tracker['eventTrackerArn']\n",
    "                \n",
    "                response = personalize.describe_event_tracker(eventTrackerArn = event_tracker_arn)\n",
    "                event_tracking_id = response['eventTracker']['trackingId']\n",
    "                break\n",
    "\n",
    "print('Event Tracker ARN: ' + event_tracker_arn)\n",
    "print('Event Tracking ID: ' + event_tracking_id)"
   ]
  },
  {
   "cell_type": "markdown",
   "metadata": {},
   "source": [
    "### Check if event tracker is active"
   ]
  },
  {
   "cell_type": "code",
   "execution_count": 42,
   "metadata": {},
   "outputs": [
    {
     "name": "stdout",
     "output_type": "stream",
     "text": [
      "EventTracker: CREATE PENDING\n",
      "EventTracker: CREATE IN_PROGRESS\n",
      "EventTracker: ACTIVE\n"
     ]
    }
   ],
   "source": [
    "status = None\n",
    "max_time = time.time() + 60*60 # 1 hours\n",
    "while time.time() < max_time:\n",
    "    describe_event_tracker_response = personalize.describe_event_tracker(\n",
    "        eventTrackerArn = event_tracker_arn\n",
    "    )\n",
    "    status = describe_event_tracker_response[\"eventTracker\"][\"status\"]\n",
    "    print(\"EventTracker: {}\".format(status))\n",
    "    \n",
    "    if status == \"ACTIVE\" or status == \"CREATE FAILED\":\n",
    "        break\n",
    "        \n",
    "    time.sleep(15)"
   ]
  },
  {
   "cell_type": "markdown",
   "metadata": {},
   "source": [
    "### Filter out purchased product"
   ]
  },
  {
   "cell_type": "code",
   "execution_count": 43,
   "metadata": {},
   "outputs": [
    {
     "name": "stdout",
     "output_type": "stream",
     "text": [
      "Filter ARN: arn:aws:personalize:us-west-2:420618410968:filter/octank-filter-exclude-purchased-products\n"
     ]
    }
   ],
   "source": [
    "response = personalize.create_filter(\n",
    "    name = 'octank-filter-exclude-purchased-products',\n",
    "    datasetGroupArn = dataset_group_arn,\n",
    "    filterExpression = 'EXCLUDE itemId WHERE INTERACTIONS.event_type in (\"Purchase\")'\n",
    ")\n",
    " \n",
    "filter_arn = response['filterArn']\n",
    "print(f'Filter ARN: {filter_arn}')"
   ]
  },
  {
   "cell_type": "code",
   "execution_count": 44,
   "metadata": {},
   "outputs": [
    {
     "name": "stdout",
     "output_type": "stream",
     "text": [
      "Filter: CREATE IN_PROGRESS\n",
      "Filter: CREATE IN_PROGRESS\n",
      "Filter: ACTIVE\n"
     ]
    }
   ],
   "source": [
    "status = None\n",
    "max_time = time.time() + 60*60 # 1 hours\n",
    "while time.time() < max_time:\n",
    "    describe_filter_response = personalize.describe_filter(\n",
    "        filterArn = filter_arn\n",
    "    )\n",
    "    status = describe_filter_response[\"filter\"][\"status\"]\n",
    "    print(\"Filter: {}\".format(status))\n",
    "    \n",
    "    if status == \"ACTIVE\" or status == \"CREATE FAILED\":\n",
    "        break\n",
    "        \n",
    "    time.sleep(15)"
   ]
  },
  {
   "cell_type": "markdown",
   "metadata": {},
   "source": [
    "## Test Kenisis Stream"
   ]
  },
  {
   "cell_type": "code",
   "execution_count": 3,
   "metadata": {},
   "outputs": [],
   "source": [
    "import random\n",
    "\n",
    "event_type_sample_set = {'AddToCart', 'Purchase', 'StartCheckout', 'View', 'ViewCart'}\n",
    "\n",
    "properties_sample_set = {'{\"discount\": \"No\"}', '{\"discount\": \"Yes\"}'}\n",
    "\n",
    "def generate_personalize_event(user_id, item_list, event_tracking_id):\n",
    "    event =dict()\n",
    "    event['trackingId'] = event_tracking_id\n",
    "    event['userId'] = str(user_id)\n",
    "    event['sessionId'] = str(uuid.uuid4())\n",
    "    \n",
    "    event_list = []\n",
    "    for item in item_list:\n",
    "        interaction = dict()\n",
    "        interaction['eventId'] = str(uuid.uuid4())\n",
    "        interaction['eventType'] = random.choice(tuple(event_type_sample_set))\n",
    "        interaction['itemId'] = item['itemId']\n",
    "        interaction['sentAt'] = int(time.time())\n",
    "        interaction['properties'] = random.choice(tuple(properties_sample_set))\n",
    "        \n",
    "        event_list.append(interaction)\n",
    "    \n",
    "    event['eventList'] = event_list\n",
    "    return event"
   ]
  },
  {
   "cell_type": "code",
   "execution_count": 4,
   "metadata": {},
   "outputs": [
    {
     "name": "stdout",
     "output_type": "stream",
     "text": [
      "{'ShardId': 'shardId-000000000000', 'SequenceNumber': '49630994345669250508510890036613360485269689110406103042', 'ResponseMetadata': {'RequestId': 'e1815f97-a270-56ba-bab8-d6b5ec389c8e', 'HTTPStatusCode': 200, 'HTTPHeaders': {'x-amzn-requestid': 'e1815f97-a270-56ba-bab8-d6b5ec389c8e', 'x-amz-id-2': 'Fq73gDWstA94UHGD6TkhWCFbbyfByogkhATWExVYUWvUqI9B/Yav7R+KyGBRnoudbQEyez6U0XUpl6tlxSGAZWUI3Qb+zCKw', 'date': 'Fri, 01 Jul 2022 23:44:34 GMT', 'content-type': 'application/x-amz-json-1.1', 'content-length': '110'}, 'RetryAttempts': 0}}\n",
      "{'ShardId': 'shardId-000000000003', 'SequenceNumber': '49630994345736152744106481906039176565907248824098750514', 'ResponseMetadata': {'RequestId': 'f50fb13b-dc79-1dda-ae36-38199231d7ee', 'HTTPStatusCode': 200, 'HTTPHeaders': {'x-amzn-requestid': 'f50fb13b-dc79-1dda-ae36-38199231d7ee', 'x-amz-id-2': 'IepLqNQTBStgPIJX0GnqywHNHVOQWTyXyUYzze40Z4IbxqYmAGjifnHUEQ6M60EVFkumNADmqic3Tzl0HB3ynYGxdAAFWr7W', 'date': 'Fri, 01 Jul 2022 23:44:34 GMT', 'content-type': 'application/x-amz-json-1.1', 'content-length': '110'}, 'RetryAttempts': 0}}\n",
      "{'ShardId': 'shardId-000000000000', 'SequenceNumber': '49630994345669250508510890036615778336908918368755515394', 'ResponseMetadata': {'RequestId': 'e357aec8-37d4-f41c-b86e-27ea799c3e28', 'HTTPStatusCode': 200, 'HTTPHeaders': {'x-amzn-requestid': 'e357aec8-37d4-f41c-b86e-27ea799c3e28', 'x-amz-id-2': '4tK3o8w8lTwP7MNYF5qb2Zzm3wpXd0X5xQgsbsgQq1baSxX1gXJiH8ZbqnVZVgncvCBbzqQSfes35HaoAA+By4YsFxZQmMzb', 'date': 'Fri, 01 Jul 2022 23:44:34 GMT', 'content-type': 'application/x-amz-json-1.1', 'content-length': '110'}, 'RetryAttempts': 0}}\n",
      "{'ShardId': 'shardId-000000000003', 'SequenceNumber': '49630994345736152744106481906041594417546478082448162866', 'ResponseMetadata': {'RequestId': 'e8845134-2924-7a57-b3bd-d816676cb063', 'HTTPStatusCode': 200, 'HTTPHeaders': {'x-amzn-requestid': 'e8845134-2924-7a57-b3bd-d816676cb063', 'x-amz-id-2': '5RXrkmFQq7ivUcj6BcBmzt1DffMRKOJkdnOXdHZOY2MAJ4a4SL9CAKdAsMC/HhoqqObSJdIzvgJXvoaAbYS142yVtwx2govu', 'date': 'Fri, 01 Jul 2022 23:44:34 GMT', 'content-type': 'application/x-amz-json-1.1', 'content-length': '110'}, 'RetryAttempts': 0}}\n",
      "{'ShardId': 'shardId-000000000000', 'SequenceNumber': '49630994345669250508510890036618196188548147627104927746', 'ResponseMetadata': {'RequestId': 'd1c0bfdd-698e-2a46-8af9-36ff27c6e072', 'HTTPStatusCode': 200, 'HTTPHeaders': {'x-amzn-requestid': 'd1c0bfdd-698e-2a46-8af9-36ff27c6e072', 'x-amz-id-2': 'kSGqQkiir6zmqJ7QWXN9xWN1NoqdhFrxpp/BAlDRDjzjyyUd3JYpRJwZy4EvwNW28hUA13AUbh6E6SMWVJQQTlh3+Zf3xLcI', 'date': 'Fri, 01 Jul 2022 23:44:34 GMT', 'content-type': 'application/x-amz-json-1.1', 'content-length': '110'}, 'RetryAttempts': 0}}\n",
      "{'ShardId': 'shardId-000000000000', 'SequenceNumber': '49630994345669250508510890036619405114367762256279633922', 'ResponseMetadata': {'RequestId': 'd92bfbf5-b3f6-a44b-8212-72d7fdbe6e7f', 'HTTPStatusCode': 200, 'HTTPHeaders': {'x-amzn-requestid': 'd92bfbf5-b3f6-a44b-8212-72d7fdbe6e7f', 'x-amz-id-2': 'XYxTAVKKzl3w46OZR7EcbxFibzAtFxguZ9aR0AI+fE0KrOJ7/yZfN0QqCqXy3EhlinF+/kKM3LAUzcrvJHbqP832f6WtpURE', 'date': 'Fri, 01 Jul 2022 23:44:34 GMT', 'content-type': 'application/x-amz-json-1.1', 'content-length': '110'}, 'RetryAttempts': 0}}\n",
      "{'ShardId': 'shardId-000000000001', 'SequenceNumber': '49630994345691551253709420659762149758460025246960320530', 'ResponseMetadata': {'RequestId': 'dd926c8f-5aa2-5ceb-86ab-e5ad14ea96df', 'HTTPStatusCode': 200, 'HTTPHeaders': {'x-amzn-requestid': 'dd926c8f-5aa2-5ceb-86ab-e5ad14ea96df', 'x-amz-id-2': 'jv/n+01+SDzgIEdmjwRYCM1a5A8p1GusjrDMZf/cbFlB6bcEu5ktWs2CiUK+ffUYxuxHqwS8KjQwDGqVBsYp+5Fm8o7QlX0A', 'date': 'Fri, 01 Jul 2022 23:44:34 GMT', 'content-type': 'application/x-amz-json-1.1', 'content-length': '110'}, 'RetryAttempts': 0}}\n",
      "{'ShardId': 'shardId-000000000002', 'SequenceNumber': '49630994345713851998907951282904894402552288237641007138', 'ResponseMetadata': {'RequestId': 'f108ce37-c232-7969-aa31-47158c7ab35d', 'HTTPStatusCode': 200, 'HTTPHeaders': {'x-amzn-requestid': 'f108ce37-c232-7969-aa31-47158c7ab35d', 'x-amz-id-2': 'K0eUoJRwjGTgdzmiJ9TblrINhyLbJ0J7hP5l9qEA+Vim65TDl4F8LdBVPEBSyTjQ07CSo+U91gq+A0m6TDo6p0/Ed9+7G9c0', 'date': 'Fri, 01 Jul 2022 23:44:34 GMT', 'content-type': 'application/x-amz-json-1.1', 'content-length': '110'}, 'RetryAttempts': 0}}\n",
      "{'ShardId': 'shardId-000000000001', 'SequenceNumber': '49630994345691551253709420659764567610099254505309732882', 'ResponseMetadata': {'RequestId': 'f9d720dd-5ddd-863e-a2ee-a9ff13954c0a', 'HTTPStatusCode': 200, 'HTTPHeaders': {'x-amzn-requestid': 'f9d720dd-5ddd-863e-a2ee-a9ff13954c0a', 'x-amz-id-2': 'NshwPvISNJew89SGmhb7Xc8lLAv1Ge45SHTwJ3H7sbev2LdPLIGcp5+31iYxGcjJUS14yW48d2N8S+pPtbBpDcKYFSdpNx1R', 'date': 'Fri, 01 Jul 2022 23:44:34 GMT', 'content-type': 'application/x-amz-json-1.1', 'content-length': '110'}, 'RetryAttempts': 0}}\n",
      "{'ShardId': 'shardId-000000000000', 'SequenceNumber': '49630994345669250508510890036624240817646220772978458626', 'ResponseMetadata': {'RequestId': 'ed71d629-9e19-93a4-b648-5f0bd0515990', 'HTTPStatusCode': 200, 'HTTPHeaders': {'x-amzn-requestid': 'ed71d629-9e19-93a4-b648-5f0bd0515990', 'x-amz-id-2': 'd90zFVb5tfdxV5qSE708vjVSXrLgTBZgzZN5X6s+UozdtcXCjM8iFwrVgk9cjjLmdc6k7nMXiUM9Vk43rZzdVAZz5T5pc8FL', 'date': 'Fri, 01 Jul 2022 23:44:34 GMT', 'content-type': 'application/x-amz-json-1.1', 'content-length': '110'}, 'RetryAttempts': 0}}\n",
      "{'ShardId': 'shardId-000000000000', 'SequenceNumber': '49630994345669250508510890036625449743465835402153164802', 'ResponseMetadata': {'RequestId': 'dde1aa0c-1e14-b72e-86d8-232e505c7d1a', 'HTTPStatusCode': 200, 'HTTPHeaders': {'x-amzn-requestid': 'dde1aa0c-1e14-b72e-86d8-232e505c7d1a', 'x-amz-id-2': 'CAFdEnblp+sjmJbspYH1YMvPRcaHUsDY8K7P9f1E2RnKXAWqhoMglgaVfSlDDXyeVCAvkX4B35WqvdDid0PaBUv0/9w0ZJ5D', 'date': 'Fri, 01 Jul 2022 23:44:34 GMT', 'content-type': 'application/x-amz-json-1.1', 'content-length': '110'}, 'RetryAttempts': 0}}\n",
      "{'ShardId': 'shardId-000000000003', 'SequenceNumber': '49630994345736152744106481906051265824103395115845812274', 'ResponseMetadata': {'RequestId': 'e57ca6e5-8c25-e0ee-be45-2fc7c26d2ada', 'HTTPStatusCode': 200, 'HTTPHeaders': {'x-amzn-requestid': 'e57ca6e5-8c25-e0ee-be45-2fc7c26d2ada', 'x-amz-id-2': '21q0o8TfH/cog9ipNvDC80E8nkF9ub5JnZvkyLCbomXtuhJUgAJbLqhNNKZaOEpk+EBA/a/ljmBR+jcEPWk4R1V7FVtlERvN', 'date': 'Fri, 01 Jul 2022 23:44:34 GMT', 'content-type': 'application/x-amz-json-1.1', 'content-length': '110'}, 'RetryAttempts': 0}}\n",
      "{'ShardId': 'shardId-000000000002', 'SequenceNumber': '49630994345713851998907951282910939031650361383514538018', 'ResponseMetadata': {'RequestId': 'c1938464-c082-eb69-9aaa-0d468eca215d', 'HTTPStatusCode': 200, 'HTTPHeaders': {'x-amzn-requestid': 'c1938464-c082-eb69-9aaa-0d468eca215d', 'x-amz-id-2': 'loeH9GBiEh13Nn5N50gWxAp9laO5TZ/zwy4KP7iYoHnxe8SDn4RgX5g3OVt/UOguegG78iI0nQxGYznPUTdevEJm/8Q/weic', 'date': 'Fri, 01 Jul 2022 23:44:34 GMT', 'content-type': 'application/x-amz-json-1.1', 'content-length': '110'}, 'RetryAttempts': 0}}\n",
      "{'ShardId': 'shardId-000000000001', 'SequenceNumber': '49630994345691551253709420659770612239197327651183263762', 'ResponseMetadata': {'RequestId': 'e36da572-c23f-ceef-b854-2c508c7704db', 'HTTPStatusCode': 200, 'HTTPHeaders': {'x-amzn-requestid': 'e36da572-c23f-ceef-b854-2c508c7704db', 'x-amz-id-2': 'n4ddh4WRu/+HdTIon4ZUwO76unnhbsE2QJkSlEv+Jn+vVkNPIdFUR1ehVlhXTXr1NIJvcjjws5itQPSeXzKFyOnvwvvooVmW', 'date': 'Fri, 01 Jul 2022 23:44:34 GMT', 'content-type': 'application/x-amz-json-1.1', 'content-length': '110'}, 'RetryAttempts': 0}}\n",
      "{'ShardId': 'shardId-000000000002', 'SequenceNumber': '49630994345713851998907951282913356883289590641863950370', 'ResponseMetadata': {'RequestId': 'f6592fc9-031b-4dd9-ad60-a6eb4d5387ed', 'HTTPStatusCode': 200, 'HTTPHeaders': {'x-amzn-requestid': 'f6592fc9-031b-4dd9-ad60-a6eb4d5387ed', 'x-amz-id-2': '+s+esPtwR6auvYAFlTb3OBOBiYBazQKoxGDYyE2mTdOg73jzrOqcJ1qc4PplmZzml3kkJVpclVB9+3HLo9ENqnqJLV7p5WyP', 'date': 'Fri, 01 Jul 2022 23:44:34 GMT', 'content-type': 'application/x-amz-json-1.1', 'content-length': '110'}, 'RetryAttempts': 0}}\n",
      "{'ShardId': 'shardId-000000000000', 'SequenceNumber': '49630994345669250508510890036631494372563908548026695682', 'ResponseMetadata': {'RequestId': 'dc5a2f24-9fd3-9f85-8763-a606d19b55b1', 'HTTPStatusCode': 200, 'HTTPHeaders': {'x-amzn-requestid': 'dc5a2f24-9fd3-9f85-8763-a606d19b55b1', 'x-amz-id-2': 'snSknajh46KIVHgAQVhDTtwMMVMtWftwG4j7Qxm0R20fAWsGQV062enC+o9IRgt0aeGzJRWcGNHvZhbR4+79/wORZCYvmkN5', 'date': 'Fri, 01 Jul 2022 23:44:34 GMT', 'content-type': 'application/x-amz-json-1.1', 'content-length': '110'}, 'RetryAttempts': 0}}\n",
      "{'ShardId': 'shardId-000000000002', 'SequenceNumber': '49630994345713851998907951282915774734928819900213362722', 'ResponseMetadata': {'RequestId': 'cd040a8f-af0a-80be-963d-83ade1424a8a', 'HTTPStatusCode': 200, 'HTTPHeaders': {'x-amzn-requestid': 'cd040a8f-af0a-80be-963d-83ade1424a8a', 'x-amz-id-2': '0Ydb8NADKQY+FHqIiyUovNnqseIhbHl73k8A8wlgn/Zrt1QVo1JnpxSn2esaRve4v46U2WlbLa2ddDC6Ine6ASVAsKRrlSgN', 'date': 'Fri, 01 Jul 2022 23:44:34 GMT', 'content-type': 'application/x-amz-json-1.1', 'content-length': '110'}, 'RetryAttempts': 0}}\n",
      "{'ShardId': 'shardId-000000000001', 'SequenceNumber': '49630994345691551253709420659775447942475786167882088466', 'ResponseMetadata': {'RequestId': 'c8e32127-dd5e-0374-93da-a8049316c940', 'HTTPStatusCode': 200, 'HTTPHeaders': {'x-amzn-requestid': 'c8e32127-dd5e-0374-93da-a8049316c940', 'x-amz-id-2': 'ioRGnvIbcU3Nl0dUhi7OFulC+W7UD7B/iGjO7l8M4+30kTimfvIXsMYEiwCO/W2doJVus9dUNuRE7O/D/F1QoWHJZeqGEfqI', 'date': 'Fri, 01 Jul 2022 23:44:35 GMT', 'content-type': 'application/x-amz-json-1.1', 'content-length': '110'}, 'RetryAttempts': 0}}\n",
      "{'ShardId': 'shardId-000000000002', 'SequenceNumber': '49630994345713851998907951282918192586568049158562775074', 'ResponseMetadata': {'RequestId': 'ecdf3272-4269-4639-b7e6-bb510c218c0d', 'HTTPStatusCode': 200, 'HTTPHeaders': {'x-amzn-requestid': 'ecdf3272-4269-4639-b7e6-bb510c218c0d', 'x-amz-id-2': 'QpaZ5Hf2WFcEK6R/J7Mmi/vAJSi4E3sFDbUbLWgMd+NuzOiCgmWx0YbgXPPj2ru0+hrb8+ZpXGZ5gx2lZDR4EwzRPZMz0SpT', 'date': 'Fri, 01 Jul 2022 23:44:35 GMT', 'content-type': 'application/x-amz-json-1.1', 'content-length': '110'}, 'RetryAttempts': 0}}\n",
      "{'ShardId': 'shardId-000000000000', 'SequenceNumber': '49630994345669250508510890036636330075842367064725520386', 'ResponseMetadata': {'RequestId': 'c5d41e89-bd13-0a31-9eed-97aaf35bc005', 'HTTPStatusCode': 200, 'HTTPHeaders': {'x-amzn-requestid': 'c5d41e89-bd13-0a31-9eed-97aaf35bc005', 'x-amz-id-2': '82dxzKhk4DmMeDmRiap7xZlpa5uw6zMryzsIxp23Vla+CQMuSOPP2RdHPr2bim07HEl1lYIPeQhv5dtF+6AcjzhVrgVGV0gt', 'date': 'Fri, 01 Jul 2022 23:44:35 GMT', 'content-type': 'application/x-amz-json-1.1', 'content-length': '110'}, 'RetryAttempts': 0}}\n",
      "{'ShardId': 'shardId-000000000002', 'SequenceNumber': '49630994345713851998907951282920610438207278416912187426', 'ResponseMetadata': {'RequestId': 'e7cafd36-5acd-f0bb-bcf3-741514853a8f', 'HTTPStatusCode': 200, 'HTTPHeaders': {'x-amzn-requestid': 'e7cafd36-5acd-f0bb-bcf3-741514853a8f', 'x-amz-id-2': '4RT57WWlsN1XjK7GVDcYkqptTlwT7CWAHvGq0i7or9iGclFYJEUZ2F/NRu2eRCjjbTxfivbcOzt80qONveqw/OAlCljX/XmH', 'date': 'Fri, 01 Jul 2022 23:44:35 GMT', 'content-type': 'application/x-amz-json-1.1', 'content-length': '110'}, 'RetryAttempts': 0}}\n",
      "{'ShardId': 'shardId-000000000001', 'SequenceNumber': '49630994345691551253709420659780283645754244684580913170', 'ResponseMetadata': {'RequestId': 'd1a377d8-e937-6d04-8a9a-fefba77fa730', 'HTTPStatusCode': 200, 'HTTPHeaders': {'x-amzn-requestid': 'd1a377d8-e937-6d04-8a9a-fefba77fa730', 'x-amz-id-2': 'mNs2KjDc6+Yvg2O5+DYKSXvPR9eJnb3Nm7PyU5/UfiH7S0ZmnUliKSXhkGRSRDMUgUOZHN7Jsg+g0Xey6LIoSYrK359vKNgu', 'date': 'Fri, 01 Jul 2022 23:44:35 GMT', 'content-type': 'application/x-amz-json-1.1', 'content-length': '110'}, 'RetryAttempts': 0}}\n",
      "{'ShardId': 'shardId-000000000002', 'SequenceNumber': '49630994345713851998907951282923028289846507675261599778', 'ResponseMetadata': {'RequestId': 'cd77e3d6-25b4-1c3b-964e-6af56bfcd60f', 'HTTPStatusCode': 200, 'HTTPHeaders': {'x-amzn-requestid': 'cd77e3d6-25b4-1c3b-964e-6af56bfcd60f', 'x-amz-id-2': '2Fg4tLyXBSWEQZjHXjZCDYd4pG0diGApaMTRINlV3aqD7j7aDxvzcuCM8qs41mNhXKwN7qh57+51+KNEsvR2GtaReIoy0VCF', 'date': 'Fri, 01 Jul 2022 23:44:35 GMT', 'content-type': 'application/x-amz-json-1.1', 'content-length': '110'}, 'RetryAttempts': 0}}\n",
      "{'ShardId': 'shardId-000000000001', 'SequenceNumber': '49630994345691551253709420659782701497393473942930325522', 'ResponseMetadata': {'RequestId': 'c74f1ea2-e86d-8fea-9c76-9781a62545de', 'HTTPStatusCode': 200, 'HTTPHeaders': {'x-amzn-requestid': 'c74f1ea2-e86d-8fea-9c76-9781a62545de', 'x-amz-id-2': 'gx7wiaonAtSYZPfNiNI3L8tOBFfaztjUqNgl80eXUw42s3dBYa/i78iw69zq72UxSrED44ppxbBp7PSdbLaTti/W/rZ+IN1A', 'date': 'Fri, 01 Jul 2022 23:44:35 GMT', 'content-type': 'application/x-amz-json-1.1', 'content-length': '110'}, 'RetryAttempts': 0}}\n"
     ]
    },
    {
     "name": "stdout",
     "output_type": "stream",
     "text": [
      "{'ShardId': 'shardId-000000000002', 'SequenceNumber': '49630994345713851998907951282925446141485737002330488866', 'ResponseMetadata': {'RequestId': 'c15a49b9-94f1-9812-9a63-c09adab95226', 'HTTPStatusCode': 200, 'HTTPHeaders': {'x-amzn-requestid': 'c15a49b9-94f1-9812-9a63-c09adab95226', 'x-amz-id-2': 'CYdilLxmL4rh+k8+IP7TVsNfH0iMiaVlubdlmVnXkU2yVEE3V0B7IWM4QjUVbRLG+GPBKilvL8LNjYeJd7bKb0IEu7rh61p8', 'date': 'Fri, 01 Jul 2022 23:44:35 GMT', 'content-type': 'application/x-amz-json-1.1', 'content-length': '110'}, 'RetryAttempts': 0}}\n",
      "{'ShardId': 'shardId-000000000002', 'SequenceNumber': '49630994345713851998907951282926655067305351631505195042', 'ResponseMetadata': {'RequestId': 'e4dc7cdc-770a-529c-bfe5-f5ff394298a8', 'HTTPStatusCode': 200, 'HTTPHeaders': {'x-amzn-requestid': 'e4dc7cdc-770a-529c-bfe5-f5ff394298a8', 'x-amz-id-2': 'NXjvD7yrzrTatQf8GcNE962TkZxvSkPbOsLBawDWjmMnkE5GgqqHnFE1KYrRg7WqwLqZH4uloWM+pt4e3typuT34H9qUgoQL', 'date': 'Fri, 01 Jul 2022 23:44:35 GMT', 'content-type': 'application/x-amz-json-1.1', 'content-length': '110'}, 'RetryAttempts': 0}}\n",
      "{'ShardId': 'shardId-000000000002', 'SequenceNumber': '49630994345713851998907951282927863993124966260679901218', 'ResponseMetadata': {'RequestId': 'f2f78dae-c3c4-a66d-a9ce-048d8d8c6c59', 'HTTPStatusCode': 200, 'HTTPHeaders': {'x-amzn-requestid': 'f2f78dae-c3c4-a66d-a9ce-048d8d8c6c59', 'x-amz-id-2': 'cOKlTRQ9fqvXGX2AdtuuwRCGUPzju8UhfGoXStSrWpjE4AW08BIyoLycKRL+xJfr31V0uDb7AZGuaFMqmnkvado7/+s15OMQ', 'date': 'Fri, 01 Jul 2022 23:44:35 GMT', 'content-type': 'application/x-amz-json-1.1', 'content-length': '110'}, 'RetryAttempts': 0}}\n",
      "{'ShardId': 'shardId-000000000000', 'SequenceNumber': '49630994345669250508510890036646001482399284166842646530', 'ResponseMetadata': {'RequestId': 'f1d1fbb5-92aa-e553-aae8-7296dce22f67', 'HTTPStatusCode': 200, 'HTTPHeaders': {'x-amzn-requestid': 'f1d1fbb5-92aa-e553-aae8-7296dce22f67', 'x-amz-id-2': 'sMA92/xZW/ui+8ygZaVIVXAgxGvHO+EPXRJ1gyvAQJqNEBPrJuPYUI85sSiXeglriGGxzM22eoS6WHPBF9sgKYMU9r7F1fPm', 'date': 'Fri, 01 Jul 2022 23:44:35 GMT', 'content-type': 'application/x-amz-json-1.1', 'content-length': '110'}, 'RetryAttempts': 0}}\n",
      "{'ShardId': 'shardId-000000000000', 'SequenceNumber': '49630994345669250508510890036647210408218898796017352706', 'ResponseMetadata': {'RequestId': 'dc7eca88-dde9-efc9-8747-43ab93a125fd', 'HTTPStatusCode': 200, 'HTTPHeaders': {'x-amzn-requestid': 'dc7eca88-dde9-efc9-8747-43ab93a125fd', 'x-amz-id-2': 'OW3WUcNDJZFidp5FkA0BVjfvqVzYDbtHyKchP6QHdb+fK45c2faJyacw4yyXSy0MTjnnIBNuzFVPTyuQM9e5cnj+78r18y1/', 'date': 'Fri, 01 Jul 2022 23:44:35 GMT', 'content-type': 'application/x-amz-json-1.1', 'content-length': '110'}, 'RetryAttempts': 0}}\n",
      "{'ShardId': 'shardId-000000000003', 'SequenceNumber': '49630994345736152744106481906073026488856458509710000178', 'ResponseMetadata': {'RequestId': 'c2d61858-5df5-25cd-99ef-917b13bdeff9', 'HTTPStatusCode': 200, 'HTTPHeaders': {'x-amzn-requestid': 'c2d61858-5df5-25cd-99ef-917b13bdeff9', 'x-amz-id-2': 'wR/1UeAM3mWANbcyPaiaOL9QY/VNY0XcRoFimexk93j6aj6EcamK/KP+izyJ7sbpKExCGoYSqI9k1eCJqf1+0P8R4MV/SfSl', 'date': 'Fri, 01 Jul 2022 23:44:35 GMT', 'content-type': 'application/x-amz-json-1.1', 'content-length': '110'}, 'RetryAttempts': 0}}\n",
      "{'ShardId': 'shardId-000000000003', 'SequenceNumber': '49630994345736152744106481906074235414676073138884706354', 'ResponseMetadata': {'RequestId': 'eb1a3247-4ad8-d1b9-b023-bb6404901b8d', 'HTTPStatusCode': 200, 'HTTPHeaders': {'x-amzn-requestid': 'eb1a3247-4ad8-d1b9-b023-bb6404901b8d', 'x-amz-id-2': '2D2At/eMeNaRamBVLAmIEwlsFCaIIPsCpE/weS1Ll3DRZQX+fWr+QO4wsX/ryxLs99LXxkx+/Efh8Zt/KyGUSIWVq2kML87h', 'date': 'Fri, 01 Jul 2022 23:44:35 GMT', 'content-type': 'application/x-amz-json-1.1', 'content-length': '110'}, 'RetryAttempts': 0}}\n",
      "{'ShardId': 'shardId-000000000003', 'SequenceNumber': '49630994345736152744106481906075444340495687768059412530', 'ResponseMetadata': {'RequestId': 'f700f612-e36c-ac9b-ac39-7f31ad2466af', 'HTTPStatusCode': 200, 'HTTPHeaders': {'x-amzn-requestid': 'f700f612-e36c-ac9b-ac39-7f31ad2466af', 'x-amz-id-2': 'M9u0dor+C617oWnzI0V+xOy5iA+56dQOVwsJa/Jvsrs6OldmUXFAMquyVpO53HNiwLb8HaeqcgHwrEFW/ewcxkM0tUVUb8FZ', 'date': 'Fri, 01 Jul 2022 23:44:35 GMT', 'content-type': 'application/x-amz-json-1.1', 'content-length': '110'}, 'RetryAttempts': 0}}\n",
      "{'ShardId': 'shardId-000000000003', 'SequenceNumber': '49630994345736152744106481906076653266315302397234118706', 'ResponseMetadata': {'RequestId': 'd77749e8-8822-abfc-8c4e-c0cbc66a61c8', 'HTTPStatusCode': 200, 'HTTPHeaders': {'x-amzn-requestid': 'd77749e8-8822-abfc-8c4e-c0cbc66a61c8', 'x-amz-id-2': 'HOWhpTZIgzQOC/h8854QGYTkEVr4vJ6FJMR2Y3DC+fdoe6WlSxFGAHwBbN6sVfzB555wZIuNLkva7g4cqE/wnosR/fLxCQlf', 'date': 'Fri, 01 Jul 2022 23:44:35 GMT', 'content-type': 'application/x-amz-json-1.1', 'content-length': '110'}, 'RetryAttempts': 0}}\n",
      "{'ShardId': 'shardId-000000000002', 'SequenceNumber': '49630994345713851998907951282936326473862268664902844450', 'ResponseMetadata': {'RequestId': 'de3d2bf3-c6ab-635f-8504-a2d088e3a96b', 'HTTPStatusCode': 200, 'HTTPHeaders': {'x-amzn-requestid': 'de3d2bf3-c6ab-635f-8504-a2d088e3a96b', 'x-amz-id-2': 'EqPFX4lsIeCUs06+iplOMhJeDlkP/i1cx5QUcBEpWkSu/cbePTMStedDpuyyhXriYfI5L19NoZXvKcg6crrsPaP3lA9zU3xP', 'date': 'Fri, 01 Jul 2022 23:44:35 GMT', 'content-type': 'application/x-amz-json-1.1', 'content-length': '110'}, 'RetryAttempts': 0}}\n",
      "{'ShardId': 'shardId-000000000003', 'SequenceNumber': '49630994345736152744106481906079071117954531655583531058', 'ResponseMetadata': {'RequestId': 'f74f2789-f597-c60b-ac76-aeaabbdf0c3f', 'HTTPStatusCode': 200, 'HTTPHeaders': {'x-amzn-requestid': 'f74f2789-f597-c60b-ac76-aeaabbdf0c3f', 'x-amz-id-2': '8YewWGEUfb90qugsJhuX+xRsyZMNZyijNzdYpMJyoudO8M6BK39/BYNNuVnhcCbH0Em/2SZxTvKh77I/0llRkYH+80SOoLX0', 'date': 'Fri, 01 Jul 2022 23:44:35 GMT', 'content-type': 'application/x-amz-json-1.1', 'content-length': '110'}, 'RetryAttempts': 0}}\n",
      "{'ShardId': 'shardId-000000000000', 'SequenceNumber': '49630994345669250508510890036655672888956201200240295938', 'ResponseMetadata': {'RequestId': 'd43c3a1e-6f9b-6879-8f05-b33d21d3a24d', 'HTTPStatusCode': 200, 'HTTPHeaders': {'x-amzn-requestid': 'd43c3a1e-6f9b-6879-8f05-b33d21d3a24d', 'x-amz-id-2': 'HxH25DUQTboVtHUcRxZLy8957SGsE4Lyes5IulE1BFKlmN6TDw/qjLCicT+o9sbdddwzdDxoFwCIIWf4V0CllIRWAskToHqa', 'date': 'Fri, 01 Jul 2022 23:44:35 GMT', 'content-type': 'application/x-amz-json-1.1', 'content-length': '110'}, 'RetryAttempts': 0}}\n",
      "{'ShardId': 'shardId-000000000001', 'SequenceNumber': '49630994345691551253709420659798417533048464190920982546', 'ResponseMetadata': {'RequestId': 'f54db5d3-1fd9-84db-ae74-3cf051914eef', 'HTTPStatusCode': 200, 'HTTPHeaders': {'x-amzn-requestid': 'f54db5d3-1fd9-84db-ae74-3cf051914eef', 'x-amz-id-2': '2O3bLR6VOanypqnz6G/dIDFbRbubrMq2sOe4ecH2QLMM+CgqZPlX62wokubLcSbMUERMBa7irUZQ+Ae6m9O2/1Qgcltf1rvX', 'date': 'Fri, 01 Jul 2022 23:44:35 GMT', 'content-type': 'application/x-amz-json-1.1', 'content-length': '110'}, 'RetryAttempts': 0}}\n",
      "{'ShardId': 'shardId-000000000003', 'SequenceNumber': '49630994345736152744106481906082697895413375543107649586', 'ResponseMetadata': {'RequestId': 'e97de3f0-46aa-1b19-b244-6ad308e2d12d', 'HTTPStatusCode': 200, 'HTTPHeaders': {'x-amzn-requestid': 'e97de3f0-46aa-1b19-b244-6ad308e2d12d', 'x-amz-id-2': 'Ylmw5cAAQX0n+nv9w3fnT36/TIgJjCguyjpiKQ/mbXjdgeddaHI35uvepSLi5IwR80ccBCBVmkScyacx6Sq1LRdd82bZSspQ', 'date': 'Fri, 01 Jul 2022 23:44:35 GMT', 'content-type': 'application/x-amz-json-1.1', 'content-length': '110'}, 'RetryAttempts': 0}}\n",
      "{'ShardId': 'shardId-000000000000', 'SequenceNumber': '49630994345669250508510890036659299666415045087764414466', 'ResponseMetadata': {'RequestId': 'd5584bc6-d037-e913-8e61-c2e59e7f2327', 'HTTPStatusCode': 200, 'HTTPHeaders': {'x-amzn-requestid': 'd5584bc6-d037-e913-8e61-c2e59e7f2327', 'x-amz-id-2': 'JEhceZRBE0TFdWe6D3W/iXVfenMgLPW2Sxcpeaj2P2UUMmW6UIx93TidoE4eRQKNe3vemIl0uNT9gXnRn1R4aGQvrPG6iprc', 'date': 'Fri, 01 Jul 2022 23:44:35 GMT', 'content-type': 'application/x-amz-json-1.1', 'content-length': '110'}, 'RetryAttempts': 0}}\n",
      "{'ShardId': 'shardId-000000000003', 'SequenceNumber': '49630994345736152744106481906085115747052604801457061938', 'ResponseMetadata': {'RequestId': 'e4f40fa1-73a0-e51d-bfcd-86823de82f29', 'HTTPStatusCode': 200, 'HTTPHeaders': {'x-amzn-requestid': 'e4f40fa1-73a0-e51d-bfcd-86823de82f29', 'x-amz-id-2': '0R+aowDHe0fbrSpl588o6e+9A9c/rK1CmezvU1+FjdDFv6ZNV4zRG9vNuUTFP8dbpNGN1jLKFdnIWn8Yk5Jge2EIVbj3SnjA', 'date': 'Fri, 01 Jul 2022 23:44:35 GMT', 'content-type': 'application/x-amz-json-1.1', 'content-length': '110'}, 'RetryAttempts': 0}}\n",
      "{'ShardId': 'shardId-000000000003', 'SequenceNumber': '49630994345736152744106481906086324672872219430631768114', 'ResponseMetadata': {'RequestId': 'f5dc2d40-aeaa-f27d-aee5-a463e0e23849', 'HTTPStatusCode': 200, 'HTTPHeaders': {'x-amzn-requestid': 'f5dc2d40-aeaa-f27d-aee5-a463e0e23849', 'x-amz-id-2': 'CrXjS43wFyknKZP2s6qGGZ/JmIyPFfr8I3Kf45H1IpZ4Eg+nhxqn/GgtVzorsbeqe4ZP+ouhDHOoGWXSFD69WGoqeIDlS4yM', 'date': 'Fri, 01 Jul 2022 23:44:35 GMT', 'content-type': 'application/x-amz-json-1.1', 'content-length': '110'}, 'RetryAttempts': 0}}\n",
      "{'ShardId': 'shardId-000000000002', 'SequenceNumber': '49630994345713851998907951282945997880419185698300493858', 'ResponseMetadata': {'RequestId': 'd3e30caf-3e8d-f640-88da-858c70c53c74', 'HTTPStatusCode': 200, 'HTTPHeaders': {'x-amzn-requestid': 'd3e30caf-3e8d-f640-88da-858c70c53c74', 'x-amz-id-2': 'Cc50X5ljh3gQlLanJ0PjOXwWToAmOlfvGaqss9EDOF55G32SaIvKr9IY+g0a7s6IQydLfjN5NIBXlxazIEhl5UB2xEwWH8sU', 'date': 'Fri, 01 Jul 2022 23:44:35 GMT', 'content-type': 'application/x-amz-json-1.1', 'content-length': '110'}, 'RetryAttempts': 0}}\n",
      "{'ShardId': 'shardId-000000000000', 'SequenceNumber': '49630994345669250508510890036664135369693503604463239170', 'ResponseMetadata': {'RequestId': 'f4d06419-a976-ebd4-afe9-ed3ae73e21e0', 'HTTPStatusCode': 200, 'HTTPHeaders': {'x-amzn-requestid': 'f4d06419-a976-ebd4-afe9-ed3ae73e21e0', 'x-amz-id-2': 'cNEAGttbTOymr3/lUBox9i15ULwIrpy355ocHoUi9Ge9oZPapo0XF2nwTX7XrWzkdM7I8l/AVQ04/HxQIFmfTy766MkKvwvD', 'date': 'Fri, 01 Jul 2022 23:44:35 GMT', 'content-type': 'application/x-amz-json-1.1', 'content-length': '110'}, 'RetryAttempts': 0}}\n",
      "{'ShardId': 'shardId-000000000002', 'SequenceNumber': '49630994345713851998907951282948415732058414956649906210', 'ResponseMetadata': {'RequestId': 'e56d98bc-e492-6cfd-be54-119faadaa6c9', 'HTTPStatusCode': 200, 'HTTPHeaders': {'x-amzn-requestid': 'e56d98bc-e492-6cfd-be54-119faadaa6c9', 'x-amz-id-2': 'of8EcGAfGE6f4ixTPzQ6SYrGPonuYo3oCcN9XXkZ+301RLDRN/RLDKMvTqdq7OFuE3e8FxIRJQYFyvIq5bBMewmdaD0MJw+u', 'date': 'Fri, 01 Jul 2022 23:44:35 GMT', 'content-type': 'application/x-amz-json-1.1', 'content-length': '110'}, 'RetryAttempts': 0}}\n",
      "{'ShardId': 'shardId-000000000001', 'SequenceNumber': '49630994345691551253709420659808088939605381224318631954', 'ResponseMetadata': {'RequestId': 'c289ebe5-7f87-3582-99b0-62c631cfffb6', 'HTTPStatusCode': 200, 'HTTPHeaders': {'x-amzn-requestid': 'c289ebe5-7f87-3582-99b0-62c631cfffb6', 'x-amz-id-2': 'SV6BvWjQloNJKGQiapMH+DM0auqXQ3iOfV8WOQVIw8OkhGTvWFhTmnajvt2P3KtWOJQHEDmgQb7QH+opFbREBOTL0BWe880M', 'date': 'Fri, 01 Jul 2022 23:44:35 GMT', 'content-type': 'application/x-amz-json-1.1', 'content-length': '110'}, 'RetryAttempts': 0}}\n",
      "{'ShardId': 'shardId-000000000001', 'SequenceNumber': '49630994345691551253709420659809297865424995853493338130', 'ResponseMetadata': {'RequestId': 'c6b877fc-c36d-514f-9d81-fedf8d259b7b', 'HTTPStatusCode': 200, 'HTTPHeaders': {'x-amzn-requestid': 'c6b877fc-c36d-514f-9d81-fedf8d259b7b', 'x-amz-id-2': '+5z4Yfx+bcXNwd5M4wz+yNzxif/F1CLZc1aB+6S4HoWyT/s+UsvO5sGivqDwbl0pCYWTm8EuPuIYe5fsiIPeC+CEhZPsDs0d', 'date': 'Fri, 01 Jul 2022 23:44:35 GMT', 'content-type': 'application/x-amz-json-1.1', 'content-length': '110'}, 'RetryAttempts': 0}}\n",
      "{'ShardId': 'shardId-000000000001', 'SequenceNumber': '49630994345691551253709420659810506791244610482668044306', 'ResponseMetadata': {'RequestId': 'f3762daa-e9ce-6529-a84f-a489a786af1d', 'HTTPStatusCode': 200, 'HTTPHeaders': {'x-amzn-requestid': 'f3762daa-e9ce-6529-a84f-a489a786af1d', 'x-amz-id-2': 'uBZpdbETlW8bctTjekxrFg4g1i8nrUxoLMtGQ+2b3I/qY7CtOR/A8zEXGaDihoRyIsnBcNPbYp6FzG/ujlELM236CnbQuMDU', 'date': 'Fri, 01 Jul 2022 23:44:35 GMT', 'content-type': 'application/x-amz-json-1.1', 'content-length': '110'}, 'RetryAttempts': 0}}\n",
      "{'ShardId': 'shardId-000000000003', 'SequenceNumber': '49630994345736152744106481906094787153609521834854711346', 'ResponseMetadata': {'RequestId': 'e88f9ad1-4e77-9655-b3b6-13f2003f5c61', 'HTTPStatusCode': 200, 'HTTPHeaders': {'x-amzn-requestid': 'e88f9ad1-4e77-9655-b3b6-13f2003f5c61', 'x-amz-id-2': '3l83Xe+vrO3A5WTH/fYnBAM08QrRzNvkPRxFsSY5VBMowoUuw/muWTyd48EEx8CwRjpA68nj3Q2TqUblJA9Ozo5n1Rg1IsKC', 'date': 'Fri, 01 Jul 2022 23:44:35 GMT', 'content-type': 'application/x-amz-json-1.1', 'content-length': '110'}, 'RetryAttempts': 0}}\n",
      "{'ShardId': 'shardId-000000000003', 'SequenceNumber': '49630994345736152744106481906095996079429136464029417522', 'ResponseMetadata': {'RequestId': 'ed5199fa-abbc-da61-b668-10d9e5f41055', 'HTTPStatusCode': 200, 'HTTPHeaders': {'x-amzn-requestid': 'ed5199fa-abbc-da61-b668-10d9e5f41055', 'x-amz-id-2': '0g29M1uN7TN+dpdv4u8R3NSRD9j4+ycOJyP+S/lbDNcTJWJU37F8J9yKMHPZRWH6vmHY++quj7QWVPEahcFURP1CDalnRROt', 'date': 'Fri, 01 Jul 2022 23:44:35 GMT', 'content-type': 'application/x-amz-json-1.1', 'content-length': '110'}, 'RetryAttempts': 0}}\n"
     ]
    },
    {
     "name": "stdout",
     "output_type": "stream",
     "text": [
      "{'ShardId': 'shardId-000000000002', 'SequenceNumber': '49630994345713851998907951282955669286976102731698143266', 'ResponseMetadata': {'RequestId': 'f3e3fac9-7a3c-aa3e-a8da-73ea3474600a', 'HTTPStatusCode': 200, 'HTTPHeaders': {'x-amzn-requestid': 'f3e3fac9-7a3c-aa3e-a8da-73ea3474600a', 'x-amz-id-2': 'BQWlMS2U9SFiIg1Tt6R2t/uhbSVHvXOp5Si6/Erk9nXxftryYZLuUG+tIAHFJdAcK56otuG/ybfjzBZgsxpkB+Wn0LTccNAf', 'date': 'Fri, 01 Jul 2022 23:44:35 GMT', 'content-type': 'application/x-amz-json-1.1', 'content-length': '110'}, 'RetryAttempts': 0}}\n",
      "{'ShardId': 'shardId-000000000002', 'SequenceNumber': '49630994345713851998907951282956878212795717360872849442', 'ResponseMetadata': {'RequestId': 'fca471f3-ad5b-ed71-a79d-f8d0e3132745', 'HTTPStatusCode': 200, 'HTTPHeaders': {'x-amzn-requestid': 'fca471f3-ad5b-ed71-a79d-f8d0e3132745', 'x-amz-id-2': 'y+78uWr+9sbk/TE1QeIkJerP4sewzsoqcvbtxX4oKJ1W69LWofZ84qXhb+m9ngOPG4T7EMvpSSxHhebpEyHQ77YPFhpHZY7u', 'date': 'Fri, 01 Jul 2022 23:44:35 GMT', 'content-type': 'application/x-amz-json-1.1', 'content-length': '110'}, 'RetryAttempts': 0}}\n",
      "{'ShardId': 'shardId-000000000002', 'SequenceNumber': '49630994345713851998907951282958087138615331990047555618', 'ResponseMetadata': {'RequestId': 'e9f14122-be91-9d92-b2c8-c801f0d957a6', 'HTTPStatusCode': 200, 'HTTPHeaders': {'x-amzn-requestid': 'e9f14122-be91-9d92-b2c8-c801f0d957a6', 'x-amz-id-2': 'euMI35P/RFhusL+uIP4y+rCMspryO9lCH0OWk8I5NS/LSAv64sOh82Lgioz2sXt7KK4aoIvTzdEl4qeB6SvHLLI2kYDau5Zo', 'date': 'Fri, 01 Jul 2022 23:44:35 GMT', 'content-type': 'application/x-amz-json-1.1', 'content-length': '110'}, 'RetryAttempts': 0}}\n",
      "{'ShardId': 'shardId-000000000000', 'SequenceNumber': '49630994345669250508510890036676224627889649896210300930', 'ResponseMetadata': {'RequestId': 'de94dcb5-690e-8638-85ad-559627464c0c', 'HTTPStatusCode': 200, 'HTTPHeaders': {'x-amzn-requestid': 'de94dcb5-690e-8638-85ad-559627464c0c', 'x-amz-id-2': 'Qun53veD5fROpgBv1k4ppWTZgCO5MRRnkJr69PcbLchnah+AU+eBPvtdAA+T6IbMOWsiEj2gfQXt0CrCuyU8VEo2BNr40u6U', 'date': 'Fri, 01 Jul 2022 23:44:35 GMT', 'content-type': 'application/x-amz-json-1.1', 'content-length': '110'}, 'RetryAttempts': 0}}\n",
      "{'ShardId': 'shardId-000000000002', 'SequenceNumber': '49630994345713851998907951282960504990254561248396967970', 'ResponseMetadata': {'RequestId': 'ff92f7a2-39d0-2d8c-a4ab-7e817798e7b8', 'HTTPStatusCode': 200, 'HTTPHeaders': {'x-amzn-requestid': 'ff92f7a2-39d0-2d8c-a4ab-7e817798e7b8', 'x-amz-id-2': 'bJ7MfORKCHPP01Je/G7DqeA5W/fKnIYQjjpCnbXgLJ9nx/UKX+7EBtFJUqpBfOL/8V2TEGbUHM6faseVkZjtCERYR4gjMF/e', 'date': 'Fri, 01 Jul 2022 23:44:35 GMT', 'content-type': 'application/x-amz-json-1.1', 'content-length': '110'}, 'RetryAttempts': 0}}\n",
      "{'ShardId': 'shardId-000000000003', 'SequenceNumber': '49630994345736152744106481906103249634346824239077654578', 'ResponseMetadata': {'RequestId': 'fe2188b0-c9b5-3ef0-a518-019387fdf4c4', 'HTTPStatusCode': 200, 'HTTPHeaders': {'x-amzn-requestid': 'fe2188b0-c9b5-3ef0-a518-019387fdf4c4', 'x-amz-id-2': 'fH9g+oOFYImX645MTkJtnkU53bo+GwAbLMJj5JNCGtZSEq8Pj0eTAMbef047U2klowIckOlRYDlvQkAJITMDJIgAVV1QALxH', 'date': 'Fri, 01 Jul 2022 23:44:35 GMT', 'content-type': 'application/x-amz-json-1.1', 'content-length': '110'}, 'RetryAttempts': 0}}\n",
      "{'ShardId': 'shardId-000000000003', 'SequenceNumber': '49630994345736152744106481906104458560166438868252360754', 'ResponseMetadata': {'RequestId': 'c077cd1f-094c-e9d9-9b4e-443c470423ed', 'HTTPStatusCode': 200, 'HTTPHeaders': {'x-amzn-requestid': 'c077cd1f-094c-e9d9-9b4e-443c470423ed', 'x-amz-id-2': 'ZiKX89vGzu/nRvs7ubRVIZjKXyoMioi0w0A3vML7Wzsxv+1Qktwo8BZccyjWWt+Tp0ivIAqNNwau8hVETAQBiFilbRdPUyXs', 'date': 'Fri, 01 Jul 2022 23:44:35 GMT', 'content-type': 'application/x-amz-json-1.1', 'content-length': '110'}, 'RetryAttempts': 0}}\n",
      "{'ShardId': 'shardId-000000000003', 'SequenceNumber': '49630994345736152744106481906105667485986053497427066930', 'ResponseMetadata': {'RequestId': 'efeb2763-f24c-8b7e-b4d2-ae40bc04414a', 'HTTPStatusCode': 200, 'HTTPHeaders': {'x-amzn-requestid': 'efeb2763-f24c-8b7e-b4d2-ae40bc04414a', 'x-amz-id-2': 'gMXLOlq/6axHakvmJMBE5Go1EEG5dK22I2J7Ge4qUfGj3brEBAdziK7Ut3UnzLifq57EXs3MlwRZ4N7ZIRdBWpFggUvlroMn', 'date': 'Fri, 01 Jul 2022 23:44:35 GMT', 'content-type': 'application/x-amz-json-1.1', 'content-length': '110'}, 'RetryAttempts': 0}}\n",
      "{'ShardId': 'shardId-000000000000', 'SequenceNumber': '49630994345669250508510890036682269256987723042083831810', 'ResponseMetadata': {'RequestId': 'e06d14ca-e56a-4594-bb54-9de9ab228fa0', 'HTTPStatusCode': 200, 'HTTPHeaders': {'x-amzn-requestid': 'e06d14ca-e56a-4594-bb54-9de9ab228fa0', 'x-amz-id-2': '2TtNg7A4JdRyzRZAoMufE++AAKQqjKNJWs8NMhEJU1wH4XP46hiep6PRWQd72xKIKhKCeOQV/QFqp24orRR6IRaHrYdbdj1/', 'date': 'Fri, 01 Jul 2022 23:44:35 GMT', 'content-type': 'application/x-amz-json-1.1', 'content-length': '110'}, 'RetryAttempts': 0}}\n",
      "{'ShardId': 'shardId-000000000002', 'SequenceNumber': '49630994345713851998907951282966549619352634394270498850', 'ResponseMetadata': {'RequestId': 'd736fce1-ea47-b6d3-8c0f-75c2a40f7ce7', 'HTTPStatusCode': 200, 'HTTPHeaders': {'x-amzn-requestid': 'd736fce1-ea47-b6d3-8c0f-75c2a40f7ce7', 'x-amz-id-2': 'qtzwtTiUsy6dP92CV3pLznljLJHP7Q5Mj9p7Eggb7bi6JKVJ4vYBCXjURRFkYviVbC28FajNnux3EZoyNGwAiKxt7T04uqxV', 'date': 'Fri, 01 Jul 2022 23:44:35 GMT', 'content-type': 'application/x-amz-json-1.1', 'content-length': '110'}, 'RetryAttempts': 0}}\n",
      "{'ShardId': 'shardId-000000000000', 'SequenceNumber': '49630994345669250508510890036684687108626952300433244162', 'ResponseMetadata': {'RequestId': 'f77a1065-9183-71f7-ac43-9946dfcbbbc3', 'HTTPStatusCode': 200, 'HTTPHeaders': {'x-amzn-requestid': 'f77a1065-9183-71f7-ac43-9946dfcbbbc3', 'x-amz-id-2': '4TilAOX/zi+/HUfkJ6SzFN8J74nCKyWC8dsbc0HiiNGifN3jj2zvdwCWZEn3nu+LlcMvweWgjrrS3oer8dPtayn8yTCOFZLg', 'date': 'Fri, 01 Jul 2022 23:44:35 GMT', 'content-type': 'application/x-amz-json-1.1', 'content-length': '110'}, 'RetryAttempts': 0}}\n",
      "{'ShardId': 'shardId-000000000000', 'SequenceNumber': '49630994345669250508510890036685896034446566929607950338', 'ResponseMetadata': {'RequestId': 'f1d4f5b5-79b4-caeb-aaed-7c9637fc00df', 'HTTPStatusCode': 200, 'HTTPHeaders': {'x-amzn-requestid': 'f1d4f5b5-79b4-caeb-aaed-7c9637fc00df', 'x-amz-id-2': 'Wy0jJclyIWOK0NFeRj80LaE8H81F64Zi9+Ai53fYh24H2KlxoK1YmqMNKcon+fGKs/HO4XJezaPGApFZdbjC2NRdV48JA77N', 'date': 'Fri, 01 Jul 2022 23:44:35 GMT', 'content-type': 'application/x-amz-json-1.1', 'content-length': '110'}, 'RetryAttempts': 0}}\n",
      "{'ShardId': 'shardId-000000000000', 'SequenceNumber': '49630994345669250508510890036687104960266181558782656514', 'ResponseMetadata': {'RequestId': 'c37c7c86-6e90-9efa-9845-f5a520d854ce', 'HTTPStatusCode': 200, 'HTTPHeaders': {'x-amzn-requestid': 'c37c7c86-6e90-9efa-9845-f5a520d854ce', 'x-amz-id-2': 'kNeHYfDiF25afReTOkvKr5uS6NOSU9564xT2g7fqulIq4LCwMz3hbiw7LLo7tm0sad7evVBxV+kHiUOLd7Km11jzVS85IV6V', 'date': 'Fri, 01 Jul 2022 23:44:35 GMT', 'content-type': 'application/x-amz-json-1.1', 'content-length': '110'}, 'RetryAttempts': 0}}\n",
      "{'ShardId': 'shardId-000000000003', 'SequenceNumber': '49630994345736152744106481906112921040903741272475303986', 'ResponseMetadata': {'RequestId': 'f6dcdaa5-a55a-d944-ade5-5386eb121370', 'HTTPStatusCode': 200, 'HTTPHeaders': {'x-amzn-requestid': 'f6dcdaa5-a55a-d944-ade5-5386eb121370', 'x-amz-id-2': '+YEFoCb4CS+KCfShP8jTBF1PUWegqTumsN/1gudB/SZL3ijcHLCk6bwlXUqc4WJzfAl7bSh5q9Re6ld1erjYhE5Y+m/SbWQw', 'date': 'Fri, 01 Jul 2022 23:44:35 GMT', 'content-type': 'application/x-amz-json-1.1', 'content-length': '110'}, 'RetryAttempts': 0}}\n",
      "{'ShardId': 'shardId-000000000002', 'SequenceNumber': '49630994345713851998907951282972594248450707540144029730', 'ResponseMetadata': {'RequestId': 'e4ab34a3-3180-34c0-bf92-bd807fc8fef4', 'HTTPStatusCode': 200, 'HTTPHeaders': {'x-amzn-requestid': 'e4ab34a3-3180-34c0-bf92-bd807fc8fef4', 'x-amz-id-2': 'TZvMqwkfvayLPMOvTe8ThryB6Q1B+UdclxfkpQEJxxEL88Hxxe6t4IFFRljxOo3N8qCAwCQBhveknF8bppzXQOOClvrLRTFm', 'date': 'Fri, 01 Jul 2022 23:44:35 GMT', 'content-type': 'application/x-amz-json-1.1', 'content-length': '110'}, 'RetryAttempts': 0}}\n",
      "{'ShardId': 'shardId-000000000000', 'SequenceNumber': '49630994345669250508510890036690731737725025446306775042', 'ResponseMetadata': {'RequestId': 'f8ff5f04-4ed3-c067-a3c6-d627009b0a53', 'HTTPStatusCode': 200, 'HTTPHeaders': {'x-amzn-requestid': 'f8ff5f04-4ed3-c067-a3c6-d627009b0a53', 'x-amz-id-2': 'PtvAUqZTRaCSuu/GpvCgATu9j9yISItbjiNnZHPn0P4fruWlpLAQBeHu53VL4Ji6+TtEt79HYZ5y/fe5Six3TLgRf7D4gM9d', 'date': 'Fri, 01 Jul 2022 23:44:35 GMT', 'content-type': 'application/x-amz-json-1.1', 'content-length': '110'}, 'RetryAttempts': 0}}\n",
      "{'ShardId': 'shardId-000000000001', 'SequenceNumber': '49630994345691551253709420659833476381817288436987461650', 'ResponseMetadata': {'RequestId': 'd9d161e0-64ac-0fd8-82e8-e8c32ae4c5ec', 'HTTPStatusCode': 200, 'HTTPHeaders': {'x-amzn-requestid': 'd9d161e0-64ac-0fd8-82e8-e8c32ae4c5ec', 'x-amz-id-2': 'jt56obsDlxoMFSpSS/XMBEPvAx8qf6pyS9xX91ag1/v4hUo4O9FIb6J/FLZCD7nwEVrpkGnqTsbUVqGlbu+7eMWzDv2WIOFx', 'date': 'Fri, 01 Jul 2022 23:44:35 GMT', 'content-type': 'application/x-amz-json-1.1', 'content-length': '110'}, 'RetryAttempts': 0}}\n",
      "{'ShardId': 'shardId-000000000000', 'SequenceNumber': '49630994345669250508510890036693149589364254704656187394', 'ResponseMetadata': {'RequestId': 'fa59b392-9c2e-d4e1-a160-3ab1d2661ed5', 'HTTPStatusCode': 200, 'HTTPHeaders': {'x-amzn-requestid': 'fa59b392-9c2e-d4e1-a160-3ab1d2661ed5', 'x-amz-id-2': 'WE43FQL2JaMDJUKCgSGkeYIH8f4L2mK0Fsizv7+GsIZts1yNipyUI6nKIm99l+AA9FNiN1GDK4q/2KNhXgVYZE/0OjZdXKJg', 'date': 'Fri, 01 Jul 2022 23:44:35 GMT', 'content-type': 'application/x-amz-json-1.1', 'content-length': '110'}, 'RetryAttempts': 0}}\n",
      "{'ShardId': 'shardId-000000000001', 'SequenceNumber': '49630994345691551253709420659835894233456517695336874002', 'ResponseMetadata': {'RequestId': 'f20ff17c-a9f8-b10f-a936-785fe7b07b3b', 'HTTPStatusCode': 200, 'HTTPHeaders': {'x-amzn-requestid': 'f20ff17c-a9f8-b10f-a936-785fe7b07b3b', 'x-amz-id-2': 'CiIdN3VFDvKEGSVU+yxaYJ4zS9OkKZDtsb6iq+qzOf8qzTefmmg526A2CsJ1oLKLxW45TCgktrjPJ/QY0+2rXfoV4WxJ8YyL', 'date': 'Fri, 01 Jul 2022 23:44:35 GMT', 'content-type': 'application/x-amz-json-1.1', 'content-length': '110'}, 'RetryAttempts': 0}}\n",
      "{'ShardId': 'shardId-000000000000', 'SequenceNumber': '49630994345669250508510890036695567441003483963005599746', 'ResponseMetadata': {'RequestId': 'e5f1b907-3fb4-ec1e-bec8-302471fc262a', 'HTTPStatusCode': 200, 'HTTPHeaders': {'x-amzn-requestid': 'e5f1b907-3fb4-ec1e-bec8-302471fc262a', 'x-amz-id-2': 'XSXdxzeuaDVJIPIzS6Zlb5Ql9OfNWbx9uu5J8nGrSlcLYpTBTV4FY4vZRwvHtX18cZUtZxum4XhrghPEGBaMsqu5qsMd4LvJ', 'date': 'Fri, 01 Jul 2022 23:44:35 GMT', 'content-type': 'application/x-amz-json-1.1', 'content-length': '110'}, 'RetryAttempts': 0}}\n",
      "{'ShardId': 'shardId-000000000003', 'SequenceNumber': '49630994345736152744106481906121383521641043676698247218', 'ResponseMetadata': {'RequestId': 'f303492f-65e9-d764-a83a-c00c2ba11d50', 'HTTPStatusCode': 200, 'HTTPHeaders': {'x-amzn-requestid': 'f303492f-65e9-d764-a83a-c00c2ba11d50', 'x-amz-id-2': 'B2Ku+lCJF5XT3q7MCVfMgfHg5GqArLVkvctP45lryo0IQNuaHUfMQ3QPBpVMdKh8oskHsPiU7g7a2pO5uQgkeH7O/ta0eCNd', 'date': 'Fri, 01 Jul 2022 23:44:35 GMT', 'content-type': 'application/x-amz-json-1.1', 'content-length': '110'}, 'RetryAttempts': 0}}\n",
      "{'ShardId': 'shardId-000000000001', 'SequenceNumber': '49630994345691551253709420659839521010915361582860992530', 'ResponseMetadata': {'RequestId': 'd600d423-3998-f7a4-8d39-5d0077d03d90', 'HTTPStatusCode': 200, 'HTTPHeaders': {'x-amzn-requestid': 'd600d423-3998-f7a4-8d39-5d0077d03d90', 'x-amz-id-2': 'ROnpZSajeeSg0g6EEw7q83JRIFgdLQR7MzE4nUuA0Vi54uYV9TgnG2I9KrLLN/19a4tMbcxh3V/Yqoc72BpV7MGTJHSs0Nsg', 'date': 'Fri, 01 Jul 2022 23:44:35 GMT', 'content-type': 'application/x-amz-json-1.1', 'content-length': '110'}, 'RetryAttempts': 0}}\n",
      "{'ShardId': 'shardId-000000000002', 'SequenceNumber': '49630994345713851998907951282982265655007624573541679138', 'ResponseMetadata': {'RequestId': 'de7fe64b-f487-c92d-8546-6f68bacf0319', 'HTTPStatusCode': 200, 'HTTPHeaders': {'x-amzn-requestid': 'de7fe64b-f487-c92d-8546-6f68bacf0319', 'x-amz-id-2': 'lmQJ1+X6Y3gEYK0VOlvkQuYnsTjjcecWOd1yByHm2AXhmNRy+99hk8vH41K0b48NlbVp6Gbv83tOIVuAR/vs/LAtR5xi2q7L', 'date': 'Fri, 01 Jul 2022 23:44:35 GMT', 'content-type': 'application/x-amz-json-1.1', 'content-length': '110'}, 'RetryAttempts': 0}}\n",
      "{'ShardId': 'shardId-000000000002', 'SequenceNumber': '49630994345713851998907951282983474580827239202716385314', 'ResponseMetadata': {'RequestId': 'd1c11a34-fdc0-3101-8af8-9317b388fb35', 'HTTPStatusCode': 200, 'HTTPHeaders': {'x-amzn-requestid': 'd1c11a34-fdc0-3101-8af8-9317b388fb35', 'x-amz-id-2': 'uJKGMeVCoG3AXbxPAa043hLZEFpykD7SOEtUbrGOAWdOb6mrMMRmbA2EZ3s7Xq2EIYezLSu5TJr04/pQE2MYzGnx7tUaTKo6', 'date': 'Fri, 01 Jul 2022 23:44:35 GMT', 'content-type': 'application/x-amz-json-1.1', 'content-length': '110'}, 'RetryAttempts': 0}}\n",
      "{'ShardId': 'shardId-000000000002', 'SequenceNumber': '49630994345713851998907951282984683506646853831891091490', 'ResponseMetadata': {'RequestId': 'eb43c3bb-06ac-5325-b07a-4a9848e49911', 'HTTPStatusCode': 200, 'HTTPHeaders': {'x-amzn-requestid': 'eb43c3bb-06ac-5325-b07a-4a9848e49911', 'x-amz-id-2': 'VxFzL7tTRuAGTsnGwKOrUwzisEs6R7VVpBNstNgxI8n5Qx3BiPv7OAb7JoceFNKLS5kwFe6vXcRpg9h1rJtJtVNjNVqXF3Wh', 'date': 'Fri, 01 Jul 2022 23:44:35 GMT', 'content-type': 'application/x-amz-json-1.1', 'content-length': '110'}, 'RetryAttempts': 0}}\n",
      "{'ShardId': 'shardId-000000000002', 'SequenceNumber': '49630994345713851998907951282985892432466468461065797666', 'ResponseMetadata': {'RequestId': 'd0b49906-08aa-859b-8b8d-102546e24faf', 'HTTPStatusCode': 200, 'HTTPHeaders': {'x-amzn-requestid': 'd0b49906-08aa-859b-8b8d-102546e24faf', 'x-amz-id-2': 'en3G9R11RL40aPl2oNKbi3vmYA4C3RL8w5zdTPyCVAoMCw5l8QZB2zSbJLZrqE6jQUWOOLviZH14Cd0TZA+8WK9YX9UyTw/b', 'date': 'Fri, 01 Jul 2022 23:44:35 GMT', 'content-type': 'application/x-amz-json-1.1', 'content-length': '110'}, 'RetryAttempts': 0}}\n"
     ]
    },
    {
     "name": "stdout",
     "output_type": "stream",
     "text": [
      "{'ShardId': 'shardId-000000000001', 'SequenceNumber': '49630994345691551253709420659845565640013434728734523410', 'ResponseMetadata': {'RequestId': 'e165eb2b-3d60-e7de-ba5c-620873282dea', 'HTTPStatusCode': 200, 'HTTPHeaders': {'x-amzn-requestid': 'e165eb2b-3d60-e7de-ba5c-620873282dea', 'x-amz-id-2': '1LRBvYd9uLUA6apirBTHOU5/PwgUo8Bcbqc63WRzJM5iRUHv+G1MpgDNINlud4s1IbZeHhlWLYA+Q2yMtQynCMAgF446WEri', 'date': 'Fri, 01 Jul 2022 23:44:35 GMT', 'content-type': 'application/x-amz-json-1.1', 'content-length': '110'}, 'RetryAttempts': 0}}\n",
      "{'ShardId': 'shardId-000000000001', 'SequenceNumber': '49630994345691551253709420659846774565833049357909229586', 'ResponseMetadata': {'RequestId': 'f75c5b6f-fe1a-1aaf-ac65-d24cb052d09b', 'HTTPStatusCode': 200, 'HTTPHeaders': {'x-amzn-requestid': 'f75c5b6f-fe1a-1aaf-ac65-d24cb052d09b', 'x-amz-id-2': 'ALFICjrkp1+bozlW1kAs2zG0qVQHvtH9sSbCRDaEwaAQG0939TWlQtHmPcE0mTn79/Igr+iJUO2B+hJrfSXY+fAt3k73JXcy', 'date': 'Fri, 01 Jul 2022 23:44:35 GMT', 'content-type': 'application/x-amz-json-1.1', 'content-length': '110'}, 'RetryAttempts': 0}}\n",
      "{'ShardId': 'shardId-000000000001', 'SequenceNumber': '49630994345691551253709420659847983491652663987083935762', 'ResponseMetadata': {'RequestId': 'eaaaeb04-23e7-0223-b193-62276dafc817', 'HTTPStatusCode': 200, 'HTTPHeaders': {'x-amzn-requestid': 'eaaaeb04-23e7-0223-b193-62276dafc817', 'x-amz-id-2': 'GMZDYR/S4FWI/4Ako9Piiys+Xa+s3UkQCowTcxy3uXbUwGh3MInjkFh3iwTG24EX+EXCnCtp+boClmLDHbtTIuaecxfB3apA', 'date': 'Fri, 01 Jul 2022 23:44:35 GMT', 'content-type': 'application/x-amz-json-1.1', 'content-length': '110'}, 'RetryAttempts': 0}}\n",
      "{'ShardId': 'shardId-000000000001', 'SequenceNumber': '49630994345691551253709420659849192417472278616258641938', 'ResponseMetadata': {'RequestId': 'caba9d74-4d81-b7a3-9183-145703c97d97', 'HTTPStatusCode': 200, 'HTTPHeaders': {'x-amzn-requestid': 'caba9d74-4d81-b7a3-9183-145703c97d97', 'x-amz-id-2': 'yIIsATPtfkrlYwoScKO5NTukIbawYokLyBwWf2v9OBty6Z+IK5SIPD3WqvDZwuj0Tb0Ugjc6g9BU9JrR4m63QFzxqkl3FAK3', 'date': 'Fri, 01 Jul 2022 23:44:35 GMT', 'content-type': 'application/x-amz-json-1.1', 'content-length': '110'}, 'RetryAttempts': 0}}\n",
      "{'ShardId': 'shardId-000000000002', 'SequenceNumber': '49630994345713851998907951282991937061564541606939328546', 'ResponseMetadata': {'RequestId': 'ecb6f34a-6e89-0ef1-b78f-7a6920c1c4c5', 'HTTPStatusCode': 200, 'HTTPHeaders': {'x-amzn-requestid': 'ecb6f34a-6e89-0ef1-b78f-7a6920c1c4c5', 'x-amz-id-2': 'dlQvG8vOf7cY8lfkJTVIOzvcX7PSCRGxqZNTcDyoktH/sE9sBeU5UVnfVw7sNtHNn+vQEz6L4WWnwGczcCoaB+jIHA6DYWAP', 'date': 'Fri, 01 Jul 2022 23:44:35 GMT', 'content-type': 'application/x-amz-json-1.1', 'content-length': '110'}, 'RetryAttempts': 0}}\n",
      "{'ShardId': 'shardId-000000000003', 'SequenceNumber': '49630994345736152744106481906134681705656804597620015154', 'ResponseMetadata': {'RequestId': 'd0793dc5-a761-6833-8b40-b4e6e929a207', 'HTTPStatusCode': 200, 'HTTPHeaders': {'x-amzn-requestid': 'd0793dc5-a761-6833-8b40-b4e6e929a207', 'x-amz-id-2': 'r1MzuEZnbCdHqyM1Q0/V40XqDAVhSUdcgnlW7SuGeRqjLLpcYt73HktaJG9dA1bPiJM4/GnexaEMWHkAdqkj86M0vAKWrx0p', 'date': 'Fri, 01 Jul 2022 23:44:35 GMT', 'content-type': 'application/x-amz-json-1.1', 'content-length': '110'}, 'RetryAttempts': 0}}\n",
      "{'ShardId': 'shardId-000000000001', 'SequenceNumber': '49630994345691551253709420659852819194931122503782760466', 'ResponseMetadata': {'RequestId': 'cccbe7e7-6a7a-019b-97f2-6ec42432cbaf', 'HTTPStatusCode': 200, 'HTTPHeaders': {'x-amzn-requestid': 'cccbe7e7-6a7a-019b-97f2-6ec42432cbaf', 'x-amz-id-2': 'lsfla4IGOqNWswkximVMJXr4cAAm2Q6uykvr8buYPVcZmG75hb0SWSLyrBEx/5VoI2TbU3QeAXRjL8APYPXr2VvCS4lcAGlG', 'date': 'Fri, 01 Jul 2022 23:44:35 GMT', 'content-type': 'application/x-amz-json-1.1', 'content-length': '110'}, 'RetryAttempts': 0}}\n",
      "{'ShardId': 'shardId-000000000001', 'SequenceNumber': '49630994345691551253709420659854028120750737132957466642', 'ResponseMetadata': {'RequestId': 'f49c9cf1-f5de-65fb-afa5-15d2bb96afcf', 'HTTPStatusCode': 200, 'HTTPHeaders': {'x-amzn-requestid': 'f49c9cf1-f5de-65fb-afa5-15d2bb96afcf', 'x-amz-id-2': 'UqCZbrslhesyKE/DmklpVh9OSK0vg53velhJhCF5VTwId9kc0elDLCTkreB42PXPReo24GtzhUcWAaf3ksJf1/u+oVw0y+3Z', 'date': 'Fri, 01 Jul 2022 23:44:35 GMT', 'content-type': 'application/x-amz-json-1.1', 'content-length': '110'}, 'RetryAttempts': 0}}\n",
      "{'ShardId': 'shardId-000000000000', 'SequenceNumber': '49630994345669250508510890036713701328297703400626192386', 'ResponseMetadata': {'RequestId': 'cbdc3da8-0b08-5f9b-90e5-b48b454095af', 'HTTPStatusCode': 200, 'HTTPHeaders': {'x-amzn-requestid': 'cbdc3da8-0b08-5f9b-90e5-b48b454095af', 'x-amz-id-2': 'KXaY+ZlnzcnrMKNS/jukh9/TxQ3yRR7VmTowZlwFvmF7tDrepxXaJ3vK5FV89d3j9sz2FvOBo9Dahb5Uvz9wKjHp+UxuA2SD', 'date': 'Fri, 01 Jul 2022 23:44:35 GMT', 'content-type': 'application/x-amz-json-1.1', 'content-length': '110'}, 'RetryAttempts': 0}}\n",
      "{'ShardId': 'shardId-000000000003', 'SequenceNumber': '49630994345736152744106481906139517408935263114318839858', 'ResponseMetadata': {'RequestId': 'ce289fbe-d2d5-8692-9511-169d9c9d4ca6', 'HTTPStatusCode': 200, 'HTTPHeaders': {'x-amzn-requestid': 'ce289fbe-d2d5-8692-9511-169d9c9d4ca6', 'x-amz-id-2': 'yFmXTvL8GD9kn+DqSzbGdWd9AvnkxdRL3TXn29MkgzbdrF+FE5NXlvqzR2VtKCrTUq7ZwDBPviDj0nD6bHkKu+oVrVhzzLl5', 'date': 'Fri, 01 Jul 2022 23:44:35 GMT', 'content-type': 'application/x-amz-json-1.1', 'content-length': '110'}, 'RetryAttempts': 0}}\n",
      "{'ShardId': 'shardId-000000000003', 'SequenceNumber': '49630994345736152744106481906140726334754877743493546034', 'ResponseMetadata': {'RequestId': 'f518774c-6bfd-4cc2-ae21-fe6f25b586f6', 'HTTPStatusCode': 200, 'HTTPHeaders': {'x-amzn-requestid': 'f518774c-6bfd-4cc2-ae21-fe6f25b586f6', 'x-amz-id-2': 'b2wP5yUBpWuCAlWHvaTvtP14dAYOgMGcCzq073s878DGxQ1gUVtgV2C7pa2w0MOVzi1R2DEaejuwZMyjs0Z4B5dd9+bIppZT', 'date': 'Fri, 01 Jul 2022 23:44:35 GMT', 'content-type': 'application/x-amz-json-1.1', 'content-length': '110'}, 'RetryAttempts': 0}}\n",
      "{'ShardId': 'shardId-000000000002', 'SequenceNumber': '49630994345713851998907951283000399542301844011162271778', 'ResponseMetadata': {'RequestId': 'e2761bd8-4eca-838c-b94f-92fb008249b8', 'HTTPStatusCode': 200, 'HTTPHeaders': {'x-amzn-requestid': 'e2761bd8-4eca-838c-b94f-92fb008249b8', 'x-amz-id-2': '7XYhtRCmsopx06ykM31ySRm4G2udAsIyrIbtycD2NQO0JXpgOJKRwQwYBwz+vF0BfPa3VRaEkJLO1DQXnaxVxyUbq+e8pcbU', 'date': 'Fri, 01 Jul 2022 23:44:35 GMT', 'content-type': 'application/x-amz-json-1.1', 'content-length': '110'}, 'RetryAttempts': 0}}\n",
      "{'ShardId': 'shardId-000000000001', 'SequenceNumber': '49630994345691551253709420659860072749848810278830997522', 'ResponseMetadata': {'RequestId': 'fbf0afee-e9f3-1e12-a0c9-26cda7bbd426', 'HTTPStatusCode': 200, 'HTTPHeaders': {'x-amzn-requestid': 'fbf0afee-e9f3-1e12-a0c9-26cda7bbd426', 'x-amz-id-2': 'UdUBQ8n1/gOwPbt8rglirymKilZtuzM0HPm8e+1ac4OMuLszVTUuHDFLts9ZR5a7zzFnjkaiJaOsuXkiEdG6o0HG72HqfsA/', 'date': 'Fri, 01 Jul 2022 23:44:35 GMT', 'content-type': 'application/x-amz-json-1.1', 'content-length': '110'}, 'RetryAttempts': 0}}\n",
      "{'ShardId': 'shardId-000000000000', 'SequenceNumber': '49630994345669250508510890036719745957395776546499723266', 'ResponseMetadata': {'RequestId': 'e2e91d52-e4ab-63fc-b9d0-9471aae3a9c8', 'HTTPStatusCode': 200, 'HTTPHeaders': {'x-amzn-requestid': 'e2e91d52-e4ab-63fc-b9d0-9471aae3a9c8', 'x-amz-id-2': 'U8KyJSCkmTLc/z46cdAAerqmafWgsVcBOPmNmeqlw/yRV7CQMdPLYnSFo4hoAYrV/0wZkoT2Ud5qfEHsfC1ptX3DEs755eEf', 'date': 'Fri, 01 Jul 2022 23:44:35 GMT', 'content-type': 'application/x-amz-json-1.1', 'content-length': '110'}, 'RetryAttempts': 0}}\n",
      "{'ShardId': 'shardId-000000000003', 'SequenceNumber': '49630994345736152744106481906145562038033336260192370738', 'ResponseMetadata': {'RequestId': 'd40bf87d-ee75-4f07-8f32-715ea03d8533', 'HTTPStatusCode': 200, 'HTTPHeaders': {'x-amzn-requestid': 'd40bf87d-ee75-4f07-8f32-715ea03d8533', 'x-amz-id-2': 'pRFb2S9qW7XhbNwFwXdxwD1exFDDY1Y2Q6QB1JIff7KKDBJ2ujjTP8WJ4YYdo30CyHXJzMH2iqhAlGzKrrE/Ov445WWk9Z9e', 'date': 'Fri, 01 Jul 2022 23:44:35 GMT', 'content-type': 'application/x-amz-json-1.1', 'content-length': '110'}, 'RetryAttempts': 0}}\n",
      "{'ShardId': 'shardId-000000000001', 'SequenceNumber': '49630994345691551253709420659863699527307654166355116050', 'ResponseMetadata': {'RequestId': 'fbfee633-b433-94dc-a0c7-6f10fa7b5ee8', 'HTTPStatusCode': 200, 'HTTPHeaders': {'x-amzn-requestid': 'fbfee633-b433-94dc-a0c7-6f10fa7b5ee8', 'x-amz-id-2': 'PVG0HSN8UXBhROMyaUPdbSY01zd0oAPtJFPyEhpGAA/UJMTntcK+qOwd2FSHgAMJUu4NIf2FysgyS0zW2VmNkJzoBrj9rVvb', 'date': 'Fri, 01 Jul 2022 23:44:35 GMT', 'content-type': 'application/x-amz-json-1.1', 'content-length': '110'}, 'RetryAttempts': 0}}\n",
      "{'ShardId': 'shardId-000000000002', 'SequenceNumber': '49630994345713851998907951283006444171399917157035802658', 'ResponseMetadata': {'RequestId': 'dd44ef49-4893-e96c-867d-666a06db2358', 'HTTPStatusCode': 200, 'HTTPHeaders': {'x-amzn-requestid': 'dd44ef49-4893-e96c-867d-666a06db2358', 'x-amz-id-2': 'PxMk9wk3XHIPmErpEJqajG67ad68tQRMnE5rqX1gdjv2aomdeYovn5fyVkbWCErbr7bq9Vmd3IErz1O65i5AdqMg5shreVWb', 'date': 'Fri, 01 Jul 2022 23:44:35 GMT', 'content-type': 'application/x-amz-json-1.1', 'content-length': '110'}, 'RetryAttempts': 0}}\n",
      "{'ShardId': 'shardId-000000000003', 'SequenceNumber': '49630994345736152744106481906149188815492180147716489266', 'ResponseMetadata': {'RequestId': 'da497c52-41cd-7187-8170-f5710f85bbb3', 'HTTPStatusCode': 200, 'HTTPHeaders': {'x-amzn-requestid': 'da497c52-41cd-7187-8170-f5710f85bbb3', 'x-amz-id-2': 'eMk51AAsDArUlSq2NIKzXekjeHAMJXV1EqC50metYSu5z8WUIVnjRuGF8bEBMIulSKzmJ40eLe23iY6NvnPJk7C78Vsw3yxb', 'date': 'Fri, 01 Jul 2022 23:44:35 GMT', 'content-type': 'application/x-amz-json-1.1', 'content-length': '110'}, 'RetryAttempts': 0}}\n",
      "{'ShardId': 'shardId-000000000002', 'SequenceNumber': '49630994345713851998907951283008862023039146415385215010', 'ResponseMetadata': {'RequestId': 'c010e3f0-0cd8-85aa-9b29-6ad342904f9e', 'HTTPStatusCode': 200, 'HTTPHeaders': {'x-amzn-requestid': 'c010e3f0-0cd8-85aa-9b29-6ad342904f9e', 'x-amz-id-2': 'GOz08cVetzxAtE0IzBJAaK0MspTLQB4phrOnAOpHJ5jYJwf579is3HbWSLK0b87guCNsOH9I/7mtukh1Q857qUpxE5/1LXYr', 'date': 'Fri, 01 Jul 2022 23:44:35 GMT', 'content-type': 'application/x-amz-json-1.1', 'content-length': '110'}, 'RetryAttempts': 0}}\n",
      "{'ShardId': 'shardId-000000000002', 'SequenceNumber': '49630994345713851998907951283010070948858761044559921186', 'ResponseMetadata': {'RequestId': 'f6f95fb6-5600-807a-adc0-d69518484a4e', 'HTTPStatusCode': 200, 'HTTPHeaders': {'x-amzn-requestid': 'f6f95fb6-5600-807a-adc0-d69518484a4e', 'x-amz-id-2': 'hrouyf26Y6LtdrIco/MWiygPOJ48HEHNPwnOfY4A7pnyNhIpW6rWNACvqFvAM3BpfOWBiWH1XbN+yuKb0XWf7G7pmmpGvw1j', 'date': 'Fri, 01 Jul 2022 23:44:35 GMT', 'content-type': 'application/x-amz-json-1.1', 'content-length': '110'}, 'RetryAttempts': 0}}\n",
      "{'ShardId': 'shardId-000000000001', 'SequenceNumber': '49630994345691551253709420659869744156405727312228646930', 'ResponseMetadata': {'RequestId': 'ebcff385-8161-4cd0-b0f6-7aa6cf2986e4', 'HTTPStatusCode': 200, 'HTTPHeaders': {'x-amzn-requestid': 'ebcff385-8161-4cd0-b0f6-7aa6cf2986e4', 'x-amz-id-2': 'YRmqnexDOnjMycThwvgHa1kJbfS0mfm0+jdyEqYMNVeM54N0UapVcSFOeCONEZP7A/Q91EkTsViHbHWunP2cil29LMGmSWn9', 'date': 'Fri, 01 Jul 2022 23:44:35 GMT', 'content-type': 'application/x-amz-json-1.1', 'content-length': '110'}, 'RetryAttempts': 0}}\n",
      "{'ShardId': 'shardId-000000000003', 'SequenceNumber': '49630994345736152744106481906154024518770638664415313970', 'ResponseMetadata': {'RequestId': 'd8b711cd-ed1c-ea2e-838e-98eea354201a', 'HTTPStatusCode': 200, 'HTTPHeaders': {'x-amzn-requestid': 'd8b711cd-ed1c-ea2e-838e-98eea354201a', 'x-amz-id-2': 'Vykhl78KbE9KEczPI/KYgcWttjehOG8L8hTNg7oD9MGxx3tfMiEuDReGl1g03t2LhPen2jGIlg3uNh7GmhEYDUvVJU/JGCO9', 'date': 'Fri, 01 Jul 2022 23:44:35 GMT', 'content-type': 'application/x-amz-json-1.1', 'content-length': '110'}, 'RetryAttempts': 0}}\n",
      "{'ShardId': 'shardId-000000000002', 'SequenceNumber': '49630994345713851998907951283013697726317604932084039714', 'ResponseMetadata': {'RequestId': 'd3ca86ec-1b16-14e4-88f3-0fcf555eded0', 'HTTPStatusCode': 200, 'HTTPHeaders': {'x-amzn-requestid': 'd3ca86ec-1b16-14e4-88f3-0fcf555eded0', 'x-amz-id-2': 'T+s1lv88MDN+s1yXOjP5EANCV9sIOnzX4b4wXEcnWPKTMnA+eKCGySOlfsP/GYjdZt7eDwGd/PLLxf1ptT705N3fC7BVAjE0', 'date': 'Fri, 01 Jul 2022 23:44:35 GMT', 'content-type': 'application/x-amz-json-1.1', 'content-length': '110'}, 'RetryAttempts': 0}}\n",
      "{'ShardId': 'shardId-000000000001', 'SequenceNumber': '49630994345691551253709420659873370933864571199752765458', 'ResponseMetadata': {'RequestId': 'd319301d-d7e7-c990-8820-b93e99af03a4', 'HTTPStatusCode': 200, 'HTTPHeaders': {'x-amzn-requestid': 'd319301d-d7e7-c990-8820-b93e99af03a4', 'x-amz-id-2': 'HqWVskseQmzBvGXQnJgy6aKd4K0aXt9HTapvl1OGgzNTDiw8/SVBE9/wYpzqiyxJe7hf/7ZDfBRyynKaLCyf5nabFWGFsu8l', 'date': 'Fri, 01 Jul 2022 23:44:35 GMT', 'content-type': 'application/x-amz-json-1.1', 'content-length': '110'}, 'RetryAttempts': 0}}\n",
      "{'ShardId': 'shardId-000000000000', 'SequenceNumber': '49630994345669250508510890036733044141411537467421491202', 'ResponseMetadata': {'RequestId': 'f697657b-3060-a56f-adae-ec587e286f5b', 'HTTPStatusCode': 200, 'HTTPHeaders': {'x-amzn-requestid': 'f697657b-3060-a56f-adae-ec587e286f5b', 'x-amz-id-2': '0QoI2jVDHs0wiosVtczTVIOEQ+zD2DWgnPvjN7LsgJ7lUZW7AuC9pjD6+ddUfjHY6xyM/dFIC4abfgzlwNbW7+34HeQTYCkO', 'date': 'Fri, 01 Jul 2022 23:44:35 GMT', 'content-type': 'application/x-amz-json-1.1', 'content-length': '110'}, 'RetryAttempts': 0}}\n"
     ]
    }
   ],
   "source": [
    "kds = boto3.client('kinesis')\n",
    "\n",
    "stream_name = 'octank-event-stream'\n",
    "event_tracking_id = '197ec641-f3a7-4176-bbe1-eb9489c14e8e'\n",
    "\n",
    "item_list = [\n",
    "    {'itemId': '988dde6a-b4a7-45a5-9e05-78dd796b6851'},\n",
    "    {'itemId': '124db2fa-17c0-4e94-9844-d1b64a081df5'},\n",
    "    {'itemId': '56dcfc2b-01d2-42d1-8002-32fdbe1a034a'},\n",
    "]\n",
    "\n",
    "for i in range(100):\n",
    "    event = generate_personalize_event(100, item_list, event_tracking_id)\n",
    "\n",
    "    response = kds.put_record(\n",
    "        StreamName=stream_name,\n",
    "        Data=json.dumps(event),\n",
    "        PartitionKey=str(uuid.uuid4())\n",
    "    )\n",
    "\n",
    "    print(response)"
   ]
  },
  {
   "cell_type": "code",
   "execution_count": null,
   "metadata": {},
   "outputs": [],
   "source": []
  },
  {
   "cell_type": "code",
   "execution_count": null,
   "metadata": {},
   "outputs": [],
   "source": []
  }
 ],
 "metadata": {
  "kernelspec": {
   "display_name": "conda_python3",
   "language": "python",
   "name": "conda_python3"
  },
  "language_info": {
   "codemirror_mode": {
    "name": "ipython",
    "version": 3
   },
   "file_extension": ".py",
   "mimetype": "text/x-python",
   "name": "python",
   "nbconvert_exporter": "python",
   "pygments_lexer": "ipython3",
   "version": "3.8.12"
  }
 },
 "nbformat": 4,
 "nbformat_minor": 4
}
