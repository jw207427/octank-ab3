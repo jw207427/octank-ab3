{
 "cells": [
  {
   "cell_type": "code",
   "execution_count": 24,
   "id": "2235f544",
   "metadata": {},
   "outputs": [],
   "source": [
    "from IPython.display import clear_output, Image, display, Markdown\n",
    "\n",
    "from ipywidgets import interact, widgets, HBox, VBox, Layout, Box\n",
    "\n",
    "from base64 import b64encode\n",
    "import random\n",
    "import cv2\n",
    "import time\n",
    "import requests\n",
    "import boto3\n",
    "import uuid\n",
    "import json\n",
    "\n",
    "#initialized resources\n",
    "servicediscovery = boto3.client('servicediscovery')\n",
    "personalize_runtime = boto3.client('personalize-runtime')\n",
    "kds = boto3.client('kinesis')\n",
    "\n",
    "\n",
    "rfy_recommender_arn = 'arn:aws:personalize:us-east-1:913089978341:recommender/octank-recommended-for-you'\n",
    "\n",
    "wvx_recommender_arn = 'arn:aws:personalize:us-east-1:913089978341:recommender/octank-who-viewed-x-also-viewed'\n",
    "\n",
    "\n",
    "product_image_url='http://d23ar2gbu3zcc4.cloudfront.net/images/{}/{}.jpg'\n",
    "\n",
    "stream_name = 'octank-event-stream'\n",
    "\n",
    "event_tracking_id = 'dc968701-e8f1-4a7c-8e39-730fa9957247'\n",
    "\n",
    "video_id = 'movie-9053391.mp4'\n",
    "video_path = f'videos/{video_id}'"
   ]
  },
  {
   "cell_type": "markdown",
   "id": "ca3df95b",
   "metadata": {},
   "source": [
    "## Connect to user and item microservice"
   ]
  },
  {
   "cell_type": "code",
   "execution_count": 3,
   "id": "1472ce35",
   "metadata": {},
   "outputs": [
    {
     "name": "stdout",
     "output_type": "stream",
     "text": [
      "Users Service Instance IP: 10.215.10.92\n"
     ]
    }
   ],
   "source": [
    "# Pull user info\n",
    "response = servicediscovery.discover_instances(\n",
    "    NamespaceName='retaildemostore.local',\n",
    "    ServiceName='users',\n",
    "    MaxResults=1,\n",
    "    HealthStatus='HEALTHY'\n",
    ")\n",
    "\n",
    "assert len(response['Instances']) > 0, 'Users service instance not found; check ECS to ensure it launched cleanly'\n",
    "\n",
    "users_service_instance = response['Instances'][0]['Attributes']['AWS_INSTANCE_IPV4']\n",
    "print('Users Service Instance IP: {}'.format(users_service_instance))"
   ]
  },
  {
   "cell_type": "code",
   "execution_count": 4,
   "id": "a5245eb0",
   "metadata": {},
   "outputs": [
    {
     "name": "stdout",
     "output_type": "stream",
     "text": [
      "Products Service Instance IP: 10.215.10.136\n"
     ]
    }
   ],
   "source": [
    "# Pull product info\n",
    "response = servicediscovery.discover_instances(\n",
    "    NamespaceName='retaildemostore.local',\n",
    "    ServiceName='products',\n",
    "    MaxResults=1,\n",
    "    HealthStatus='HEALTHY'\n",
    ")\n",
    "\n",
    "assert len(response['Instances']) > 0, 'Products service instance not found; check ECS to ensure it launched cleanly'\n",
    "\n",
    "products_service_instance = response['Instances'][0]['Attributes']['AWS_INSTANCE_IPV4']\n",
    "print('Products Service Instance IP: {}'.format(products_service_instance))"
   ]
  },
  {
   "cell_type": "markdown",
   "id": "4e747192",
   "metadata": {},
   "source": [
    "## Function to help visualize recommended items for this user"
   ]
  },
  {
   "cell_type": "code",
   "execution_count": 7,
   "id": "5b31c602",
   "metadata": {},
   "outputs": [],
   "source": [
    "def evaluate_item_list(item_list, show=False):\n",
    "\n",
    "    Vbox_list = []\n",
    "    for item in item_list:\n",
    "        response = requests.get('http://{}/products/id/{}'.format(products_service_instance, item['itemId']))\n",
    "        item_details = response.json()\n",
    "        \n",
    "        product_image = item_details[\"image\"]\n",
    "        product_name = item_details[\"name\"]\n",
    "        product_category = item_details[\"category\"]\n",
    "\n",
    "        Vbox_list.append(VBox([widgets.Label(product_name),\n",
    "                               widgets.Label(product_category),\n",
    "                               widgets.Image(value=Image(product_image).data)]))\n",
    "    \n",
    "    hbox = HBox(Vbox_list)\n",
    "    if show:\n",
    "        display(hbox)\n",
    "    \n",
    "    return hbox\n",
    "    \n",
    "def recommended_item_layout(item_list, show=False):\n",
    "\n",
    "    # We are going to provide 4 recommendations from the list\n",
    "    left_vbox_list =[]\n",
    "    right_vbox_list =[]\n",
    "    for i in range(len(item_list)):\n",
    "        response = requests.get('http://{}/products/id/{}'.format(products_service_instance, item_list[i]['itemId']))\n",
    "        item_details = response.json()\n",
    "        \n",
    "        product_image = item_details[\"image\"]\n",
    "        \n",
    "        if i%2 != 0:\n",
    "            left_vbox_list.append(widgets.Image(value=Image(product_image).data))\n",
    "        else:\n",
    "            right_vbox_list.append(widgets.Image(value=Image(product_image).data))\n",
    "        \n",
    "    left_box = VBox(left_vbox_list)\n",
    "    right_box = VBox(right_vbox_list)\n",
    "    \n",
    "    hbox = HBox([left_box, right_box])\n",
    "    if show:\n",
    "        display(hbox)\n",
    "    return hbox"
   ]
  },
  {
   "cell_type": "code",
   "execution_count": 8,
   "id": "f35391e0",
   "metadata": {},
   "outputs": [],
   "source": [
    "def get_recommendation(recommender_arn, k, user_id, item_id=None):\n",
    "    \n",
    "    get_recommendations_response = None\n",
    "    \n",
    "    if item_id is None:\n",
    "        #Get recommendation off the first frame\n",
    "        get_recommendations_response = personalize_runtime.get_recommendations(\n",
    "            recommenderArn = recommender_arn,\n",
    "            userId = user_id,\n",
    "            numResults = k)\n",
    "    else:\n",
    "        #Get recommendation off the first frame\n",
    "        get_recommendations_response = personalize_runtime.get_recommendations(\n",
    "            recommenderArn = recommender_arn,\n",
    "            userId = str(user_id),\n",
    "            itemId = str(item_id),\n",
    "            numResults = k)\n",
    "        \n",
    "    item_list = get_recommendations_response['itemList']\n",
    "    return item_list"
   ]
  },
  {
   "cell_type": "markdown",
   "id": "05b68bd8",
   "metadata": {},
   "source": [
    "## Orginal Video"
   ]
  },
  {
   "cell_type": "code",
   "execution_count": 9,
   "id": "d15d69e7",
   "metadata": {},
   "outputs": [
    {
     "data": {
      "application/vnd.jupyter.widget-view+json": {
       "model_id": "79ded2b9576843d883a238d43e695722",
       "version_major": 2,
       "version_minor": 0
      },
      "text/plain": [
       "HBox(children=(Play(value=1, description='Press play', interval=2000, max=50, min=1), IntSlider(value=1, max=5…"
      ]
     },
     "metadata": {},
     "output_type": "display_data"
    },
    {
     "data": {
      "application/vnd.jupyter.widget-view+json": {
       "model_id": "a785f708b1724654829dc44b7de8fe86",
       "version_major": 2,
       "version_minor": 0
      },
      "text/plain": [
       "Output()"
      ]
     },
     "metadata": {},
     "output_type": "display_data"
    }
   ],
   "source": [
    "from IPython.display import display\n",
    "\n",
    "cap = cv2.VideoCapture(video_path)\n",
    "\n",
    "frame_count = int(cap.get(cv2.CAP_PROP_FRAME_COUNT))\n",
    "\n",
    "frame_id = 0\n",
    "\n",
    "orig_video_frames = []\n",
    "\n",
    "while True:\n",
    "    _, frame = cap.read()\n",
    "        \n",
    "    frame_bytes = cv2.imencode('.jpeg', frame)[1].tobytes()\n",
    "\n",
    "    orig_video_frames.append(frame_bytes)\n",
    "    \n",
    "    frame_id += 1\n",
    "    if frame_id >= frame_count:\n",
    "        break\n",
    "        \n",
    "def f(Frame_numb):\n",
    "    i = Frame_numb-1\n",
    "    image = orig_video_frames[i]\n",
    "    \n",
    "    video_frame = Box(children=[widgets.Image(value=image)])\n",
    "    display(video_frame)\n",
    "\n",
    "play = widgets.Play(\n",
    "    value=1,\n",
    "    min=1,\n",
    "    max=frame_count,\n",
    "    step=1,\n",
    "    interval=2000,\n",
    "    description=\"Press play\",\n",
    "    disabled=False\n",
    ")\n",
    "slider = widgets.IntSlider(min=1,max=frame_count,step=1,value=1)\n",
    "widgets.jslink((play, 'value'), (slider, 'value'))\n",
    "ui = widgets.HBox([play, slider])\n",
    "\n",
    "output = widgets.interactive_output(f, {'Frame_numb': play})\n",
    "display(ui, output)"
   ]
  },
  {
   "cell_type": "markdown",
   "id": "07a12c0f",
   "metadata": {},
   "source": [
    "## Demo Processed Video"
   ]
  },
  {
   "cell_type": "code",
   "execution_count": 10,
   "id": "463aaa88",
   "metadata": {},
   "outputs": [],
   "source": [
    "#This function draws bbox on images\n",
    "def draw_bbox(cv2, frame, bbox):\n",
    "    \n",
    "    top = bbox['top']\n",
    "    left = bbox['left']\n",
    "    bottom = bbox['bottom']\n",
    "    right = bbox['right']\n",
    "    \n",
    "    cv2.rectangle(frame, (left, top), (right, bottom), (0, 165, 255), 10)\n",
    "    \n",
    "    return frame"
   ]
  },
  {
   "cell_type": "markdown",
   "id": "0ff1194a",
   "metadata": {},
   "source": [
    "### Load the video frames and render the bboxes"
   ]
  },
  {
   "cell_type": "code",
   "execution_count": 11,
   "id": "cab30278",
   "metadata": {},
   "outputs": [],
   "source": [
    "from IPython.display import display\n",
    "\n",
    "import boto3\n",
    "from boto3.dynamodb.conditions import Key\n",
    "\n",
    "cap = cv2.VideoCapture(video_path)\n",
    "\n",
    "frame_count = int(cap.get(cv2.CAP_PROP_FRAME_COUNT))\n",
    "\n",
    "frame_id = 0\n",
    "\n",
    "video_frames = []\n",
    "\n",
    "# DynamoDB\n",
    "table_name = 'octank_movie'\n",
    "\n",
    "dynamodb = boto3.resource('dynamodb')\n",
    "\n",
    "table = dynamodb.Table(table_name)\n",
    "\n",
    "response = table.query(KeyConditionExpression=Key('video_id').eq(video_id))\n",
    "                       \n",
    "items = response['Items'][0]['detections']\n",
    "\n",
    "product_ids = []\n",
    "product_categories = []\n",
    "\n",
    "while True:\n",
    "    _, frame = cap.read()\n",
    "    \n",
    "    p_id = ''\n",
    "    p_category = ''\n",
    "    detections = items[str(frame_id)]\n",
    "    for d in detections:\n",
    "        frame = draw_bbox(cv2, frame, d['bbox'])\n",
    "        p_id = d['product_id']\n",
    "        p_category = d['product_category']\n",
    "        \n",
    "    \n",
    "    frame_bytes = cv2.imencode('.jpeg', frame)[1].tobytes()\n",
    "\n",
    "    video_frames.append(frame_bytes)\n",
    "    product_ids.append(p_id)\n",
    "    product_categories.append(p_category)\n",
    "    \n",
    "    frame_id += 1\n",
    "    if frame_id >= frame_count:\n",
    "        break"
   ]
  },
  {
   "cell_type": "markdown",
   "id": "cfb3c376",
   "metadata": {},
   "source": [
    "## Get User Info"
   ]
  },
  {
   "cell_type": "code",
   "execution_count": 14,
   "id": "644ec52b",
   "metadata": {},
   "outputs": [
    {
     "data": {
      "text/markdown": [
       "Shopper persona for **user 350** is groceries_seasonal_tools"
      ],
      "text/plain": [
       "<IPython.core.display.Markdown object>"
      ]
     },
     "metadata": {},
     "output_type": "display_data"
    }
   ],
   "source": [
    "user_id = 350\n",
    "\n",
    "response = requests.get('http://{}/users/id/{}'.format(users_service_instance, user_id))\n",
    "user = response.json()\n",
    "persona = user['persona']\n",
    "\n",
    "display(Markdown('Shopper persona for **user {}** is {}'.format(user_id, persona)))"
   ]
  },
  {
   "cell_type": "markdown",
   "id": "e64581c7",
   "metadata": {},
   "source": [
    "## Render Processed Video"
   ]
  },
  {
   "cell_type": "code",
   "execution_count": 31,
   "id": "fab7cf0c",
   "metadata": {},
   "outputs": [
    {
     "data": {
      "text/markdown": [
       "## Recommendation For User 350: groceries_seasonal_tools"
      ],
      "text/plain": [
       "<IPython.core.display.Markdown object>"
      ]
     },
     "metadata": {},
     "output_type": "display_data"
    },
    {
     "data": {
      "application/vnd.jupyter.widget-view+json": {
       "model_id": "da82c11aae4949589e8d2d69268fbcd9",
       "version_major": 2,
       "version_minor": 0
      },
      "text/plain": [
       "HBox(children=(VBox(children=(Label(value='Gainsboro Armchair'), Label(value='furniture'), Image(value=b'\\xff\\…"
      ]
     },
     "metadata": {},
     "output_type": "display_data"
    },
    {
     "data": {
      "application/vnd.jupyter.widget-view+json": {
       "model_id": "0209379278c942f498b9fb2faf812bfe",
       "version_major": 2,
       "version_minor": 0
      },
      "text/plain": [
       "HBox(children=(Play(value=1, description='Press play', interval=2000, max=50, min=1), IntSlider(value=1, max=5…"
      ]
     },
     "metadata": {},
     "output_type": "display_data"
    },
    {
     "data": {
      "application/vnd.jupyter.widget-view+json": {
       "model_id": "5957572afce94944b31ba89d6577d9f7",
       "version_major": 2,
       "version_minor": 0
      },
      "text/plain": [
       "Output()"
      ]
     },
     "metadata": {},
     "output_type": "display_data"
    }
   ],
   "source": [
    "# Get personalized recommendation for the user\n",
    "item_list = get_recommendation(rfy_recommender_arn, 6, str(user_id))\n",
    "display(Markdown(f'## Recommendation For User {user_id}: {persona}'))\n",
    "evaluate_item_list(item_list, show=True)\n",
    "\n",
    "box_layout = Layout(\n",
    "                    display='flex',\n",
    "                    flex_flow='column',\n",
    "                    width='400%')\n",
    "\n",
    "item_list = get_recommendation(wvx_recommender_arn, 4, str(user_id), product_ids[0])\n",
    "\n",
    "recommend_box = recommended_item_layout(item_list, False)\n",
    "\n",
    "vbox1 = VBox(children=[widgets.Image(value=video_frames[0])], layout=box_layout)\n",
    "\n",
    "vbox2 = VBox(children=[widgets.Image(value=Image(product_image_url.format(product_categories[0],\n",
    "                                                                          product_ids[0])).data),\n",
    "                      widgets.Label(f\"product_id: {product_ids[0]}\"),\n",
    "                      widgets.Label(f\"product_category: {product_categories[0]}\"),\n",
    "                      widgets.Label(\"==== Freq Viewed Together =====\"),\n",
    "                      recommend_box])\n",
    "        \n",
    "def f(Frame_numb):\n",
    "    i = Frame_numb-1\n",
    "    image = video_frames[i]\n",
    "    \n",
    "    #Get recommendation of the products\n",
    "    item_list = get_recommendation(wvx_recommender_arn, 4, str(user_id), product_ids[i])\n",
    "\n",
    "    recommend_box = recommended_item_layout(item_list, False)\n",
    "    \n",
    "    vbox1 = VBox(children=[widgets.Image(value=image)], layout=box_layout)\n",
    "    vbox2 = VBox(children=[widgets.Image(value=Image(product_image_url.format(product_categories[i],\n",
    "                                                                          product_ids[i])).data),\n",
    "                      widgets.Label(f\"product_id: {product_ids[i]}\"),\n",
    "                      widgets.Label(f\"product_category: {product_categories[i]}\"),\n",
    "                      widgets.Label(\"==== Freq Viewed Together =====\"),\n",
    "                      recommend_box])\n",
    "    hbox = HBox([vbox1, vbox2])\n",
    "    display(hbox)\n",
    "    \n",
    "hbox = HBox([vbox1, vbox2])\n",
    "\n",
    "play = widgets.Play(\n",
    "    value=1,\n",
    "    min=1,\n",
    "    max=frame_count,\n",
    "    step=1,\n",
    "    interval=2000,\n",
    "    description=\"Press play\",\n",
    "    disabled=False\n",
    ")\n",
    "slider = widgets.IntSlider(min=1,max=frame_count,step=1,value=1)\n",
    "widgets.jslink((play, 'value'), (slider, 'value'))\n",
    "ui = widgets.HBox([play, slider])\n",
    "\n",
    "output = widgets.interactive_output(f, {'Frame_numb': play})\n",
    "display(ui, output)"
   ]
  },
  {
   "cell_type": "markdown",
   "id": "c88c44d9",
   "metadata": {},
   "source": [
    "### Change User Personalized Recommendation"
   ]
  },
  {
   "cell_type": "code",
   "execution_count": 16,
   "id": "f3593835",
   "metadata": {},
   "outputs": [],
   "source": [
    "event_type_sample_set = {'AddToCart', 'Purchase', 'StartCheckout', 'View', 'ViewCart'}\n",
    "\n",
    "properties_sample_set = {'{\"discount\": \"No\"}', '{\"discount\": \"Yes\"}'}\n",
    "\n",
    "def generate_personalize_event(user_id, item_list, event_tracking_id):\n",
    "    event =dict()\n",
    "    event['trackingId'] = event_tracking_id\n",
    "    event['userId'] = str(user_id)\n",
    "    event['sessionId'] = str(uuid.uuid4())\n",
    "    \n",
    "    event_list = []\n",
    "    for item in item_list:\n",
    "        interaction = dict()\n",
    "        interaction['eventId'] = str(uuid.uuid4())\n",
    "        interaction['eventType'] = random.choice(tuple(event_type_sample_set))\n",
    "        interaction['itemId'] = item['itemId']\n",
    "        interaction['sentAt'] = int(time.time())\n",
    "        interaction['properties'] = random.choice(tuple(properties_sample_set))\n",
    "        \n",
    "        event_list.append(interaction)\n",
    "    \n",
    "    event['eventList'] = event_list\n",
    "    return event"
   ]
  },
  {
   "cell_type": "code",
   "execution_count": 18,
   "id": "44a0c8de",
   "metadata": {},
   "outputs": [
    {
     "data": {
      "application/vnd.jupyter.widget-view+json": {
       "model_id": "7d53db023e9643b495f1c9f079b83e72",
       "version_major": 2,
       "version_minor": 0
      },
      "text/plain": [
       "HBox(children=(VBox(children=(Label(value='Hanging Lamp'), Label(value='homedecor'), Image(value=b'\\xff\\xd8\\xf…"
      ]
     },
     "metadata": {},
     "output_type": "display_data"
    }
   ],
   "source": [
    "item_list = [\n",
    "    {'itemId': '988dde6a-b4a7-45a5-9e05-78dd796b6851'},\n",
    "    {'itemId': '124db2fa-17c0-4e94-9844-d1b64a081df5'},\n",
    "    {'itemId': '56dcfc2b-01d2-42d1-8002-32fdbe1a034a'},\n",
    "]\n",
    "\n",
    "evaluate_item_list(item_list, show=False)"
   ]
  },
  {
   "cell_type": "code",
   "execution_count": 30,
   "id": "1b0fdb6f",
   "metadata": {},
   "outputs": [
    {
     "name": "stdout",
     "output_type": "stream",
     "text": [
      "processed 1 interaction event for user 350=======================\n",
      "{'RequestId': 'fffedf8a-d570-08b6-a526-657d47084b36', 'HTTPStatusCode': 200, 'HTTPHeaders': {'x-amzn-requestid': 'fffedf8a-d570-08b6-a526-657d47084b36', 'x-amz-id-2': 'cIFA1xt0nigJyPtQ/3zEutBqp/brcsZalRZn3kCX1uSgWMynthc9gD3OiDMZV5PY2pdHx530BqSWWHk5Eh6cjBHkwsAmwYfY', 'date': 'Tue, 19 Apr 2022 13:27:19 GMT', 'content-type': 'application/x-amz-json-1.1', 'content-length': '110'}, 'RetryAttempts': 0}\n",
      "processed 2 interaction event for user 350=======================\n",
      "{'RequestId': 'd8b4b526-f776-f744-826c-0fd1650eb4c4', 'HTTPStatusCode': 200, 'HTTPHeaders': {'x-amzn-requestid': 'd8b4b526-f776-f744-826c-0fd1650eb4c4', 'x-amz-id-2': 'LOy1335KFpjdTG69CQKBdXHg7BEjSO9EBJ3kegwRM2eduFYk/ivu6pOI1gAgKUcCWBURTgo2XxwtPZKQURF1di1RtL5XL2lM', 'date': 'Tue, 19 Apr 2022 13:27:19 GMT', 'content-type': 'application/x-amz-json-1.1', 'content-length': '110'}, 'RetryAttempts': 0}\n",
      "processed 3 interaction event for user 350=======================\n",
      "{'RequestId': 'f149be9e-24de-4c80-ab91-0469b6a60f00', 'HTTPStatusCode': 200, 'HTTPHeaders': {'x-amzn-requestid': 'f149be9e-24de-4c80-ab91-0469b6a60f00', 'x-amz-id-2': 'nZaVdEh3Q/5W9RI7Y56Cap7DbMNSyvdWJbFNn2cDIMqMs3uSLl0AEc8f0pYJsT+3wmiCpBqf/wcb0LiuZHuQmKYtc8yeMk6u', 'date': 'Tue, 19 Apr 2022 13:27:19 GMT', 'content-type': 'application/x-amz-json-1.1', 'content-length': '110'}, 'RetryAttempts': 0}\n",
      "processed 4 interaction event for user 350=======================\n",
      "{'RequestId': 'e54f7922-ea59-9608-bf97-c3d57821d588', 'HTTPStatusCode': 200, 'HTTPHeaders': {'x-amzn-requestid': 'e54f7922-ea59-9608-bf97-c3d57821d588', 'x-amz-id-2': 'x7TMVWL9f03MuwRIrpuuptZpBGqp9b/th4j0FH3XCC6UHfcsGjvn0RMEOSPSxMBXS5akC+F3tN31AFTn0SY0qWyZE/ZZwa2L', 'date': 'Tue, 19 Apr 2022 13:27:19 GMT', 'content-type': 'application/x-amz-json-1.1', 'content-length': '110'}, 'RetryAttempts': 0}\n",
      "processed 5 interaction event for user 350=======================\n",
      "{'RequestId': 'c74f249e-79c7-f448-9d97-9e69ebbfb7c8', 'HTTPStatusCode': 200, 'HTTPHeaders': {'x-amzn-requestid': 'c74f249e-79c7-f448-9d97-9e69ebbfb7c8', 'x-amz-id-2': 'YN55NBthkgfZD7xhhuc5S81qIDL/vCNzQ/5/N/hYFXgFscNvuFq7bwOW02bGpzqHK3YEEA9Vwt8w7TUAjckhN+Ki5W8OAYho', 'date': 'Tue, 19 Apr 2022 13:27:19 GMT', 'content-type': 'application/x-amz-json-1.1', 'content-length': '110'}, 'RetryAttempts': 0}\n",
      "processed 6 interaction event for user 350=======================\n",
      "{'RequestId': 'e7bce12d-1787-f588-bd64-5bda85ffb608', 'HTTPStatusCode': 200, 'HTTPHeaders': {'x-amzn-requestid': 'e7bce12d-1787-f588-bd64-5bda85ffb608', 'x-amz-id-2': 'JcfJzFxzN24E50nsIQCzad65xfJiuInY0tA8Hl9x86tThgmuPoZ2pXs/l/80yZYwiLvEuflHLvlVGAKPgFtF7+dmnyHlSBop', 'date': 'Tue, 19 Apr 2022 13:27:19 GMT', 'content-type': 'application/x-amz-json-1.1', 'content-length': '110'}, 'RetryAttempts': 0}\n",
      "processed 7 interaction event for user 350=======================\n",
      "{'RequestId': 'e5f00b68-635e-82af-bf28-b19ff126c12f', 'HTTPStatusCode': 200, 'HTTPHeaders': {'x-amzn-requestid': 'e5f00b68-635e-82af-bf28-b19ff126c12f', 'x-amz-id-2': 'oa0sm2+Yxcrd6pq0KFsmuIaXuaD6SO8/WB1z65EsKMKFNaACUBn+Fi8dnGeyT+zWgC4j/BBkNyCwgEbE3UNgjo7H/ucLDxf6', 'date': 'Tue, 19 Apr 2022 13:27:19 GMT', 'content-type': 'application/x-amz-json-1.1', 'content-length': '110'}, 'RetryAttempts': 0}\n",
      "processed 8 interaction event for user 350=======================\n",
      "{'RequestId': 'cdfe93a0-fa16-5327-9726-2957686e10a7', 'HTTPStatusCode': 200, 'HTTPHeaders': {'x-amzn-requestid': 'cdfe93a0-fa16-5327-9726-2957686e10a7', 'x-amz-id-2': 'A74N6IsGbVxCvRHc6cLz0697YGcVf89vvn1hx0B2UN27z+J6QjpEp4jJdp8ecWISmhv4EBODYE1ewCYUvb82PeazWaUHB3Vy', 'date': 'Tue, 19 Apr 2022 13:27:19 GMT', 'content-type': 'application/x-amz-json-1.1', 'content-length': '110'}, 'RetryAttempts': 0}\n",
      "processed 9 interaction event for user 350=======================\n",
      "{'RequestId': 'c8c6a22e-c6b4-0512-921e-18d954cc4692', 'HTTPStatusCode': 200, 'HTTPHeaders': {'x-amzn-requestid': 'c8c6a22e-c6b4-0512-921e-18d954cc4692', 'x-amz-id-2': 'jzH/3Mo24oz3mZSUj+o5QnfldnkWG9m2D2RzZu0OfYbSJ8j4k9KXTKgzaEqEM20CQzUzrfKKr3I0OJuPxuAM+1eSDvlD3h/n', 'date': 'Tue, 19 Apr 2022 13:27:19 GMT', 'content-type': 'application/x-amz-json-1.1', 'content-length': '110'}, 'RetryAttempts': 0}\n",
      "processed 10 interaction event for user 350=======================\n",
      "{'RequestId': 'db840d36-a07d-75e4-815c-b7c132053664', 'HTTPStatusCode': 200, 'HTTPHeaders': {'x-amzn-requestid': 'db840d36-a07d-75e4-815c-b7c132053664', 'x-amz-id-2': 'm1Bl0zuCI2y/Fx0NMYSlLfJ20Aqqb/kJKsj+Xg20zgN2GD7fikYjxgPZ9Xe8KpKfqexTo0KjLSYjrHTPMl70xwrjQttTLdGI', 'date': 'Tue, 19 Apr 2022 13:27:19 GMT', 'content-type': 'application/x-amz-json-1.1', 'content-length': '110'}, 'RetryAttempts': 0}\n",
      "processed 11 interaction event for user 350=======================\n",
      "{'RequestId': 'e2564713-bbe3-d0e6-b88e-fdeb299b9366', 'HTTPStatusCode': 200, 'HTTPHeaders': {'x-amzn-requestid': 'e2564713-bbe3-d0e6-b88e-fdeb299b9366', 'x-amz-id-2': 'lS6dAtNsIvjTPD6tqm3oPjXxQv0MhRIVVGNWYW5tQ6WibnIE/H8GIxr9JLP+sNl1/g7Jjo+Gb2XoTDbmS26UVqLsI5oyOlcx', 'date': 'Tue, 19 Apr 2022 13:27:20 GMT', 'content-type': 'application/x-amz-json-1.1', 'content-length': '110'}, 'RetryAttempts': 0}\n",
      "processed 12 interaction event for user 350=======================\n",
      "{'RequestId': 'fbb20799-c28c-64cc-a16a-bd6150f4274c', 'HTTPStatusCode': 200, 'HTTPHeaders': {'x-amzn-requestid': 'fbb20799-c28c-64cc-a16a-bd6150f4274c', 'x-amz-id-2': '5yTTVuPVHZu2B/MLnK47dZKIcUEZGnGvZcVda7sJwFs9+k9VZryvv0KNpNR9fc6RrYz7ksHx2N9XDJjyzqdByPYLtuKyM5e+', 'date': 'Tue, 19 Apr 2022 13:27:20 GMT', 'content-type': 'application/x-amz-json-1.1', 'content-length': '110'}, 'RetryAttempts': 0}\n",
      "processed 13 interaction event for user 350=======================\n",
      "{'RequestId': 'e41fcc92-6392-bd22-bec7-766af1eafea2', 'HTTPStatusCode': 200, 'HTTPHeaders': {'x-amzn-requestid': 'e41fcc92-6392-bd22-bec7-766af1eafea2', 'x-amz-id-2': 'G+sbndIJWT4tFIsMCFWoWTchuoBaBFMNiR5Um8krrLXrliA84Ia3+9DdDcuMqcb5nODVsxfHJFQYNu8I1OxduSeBLgWZEdSo', 'date': 'Tue, 19 Apr 2022 13:27:20 GMT', 'content-type': 'application/x-amz-json-1.1', 'content-length': '110'}, 'RetryAttempts': 0}\n",
      "processed 14 interaction event for user 350=======================\n",
      "{'RequestId': 'dcf24162-6c22-1a68-862a-fb9afe5a59e8', 'HTTPStatusCode': 200, 'HTTPHeaders': {'x-amzn-requestid': 'dcf24162-6c22-1a68-862a-fb9afe5a59e8', 'x-amz-id-2': '9o+I9O2Jp5FOovZhuRpZcsGwIt6YhfZ9++HLZWVAMGIJi6cW8X6bcztjvhS+nAz7/I18ay/kt2LH++FPbtVotsE2V832MCAK', 'date': 'Tue, 19 Apr 2022 13:27:20 GMT', 'content-type': 'application/x-amz-json-1.1', 'content-length': '110'}, 'RetryAttempts': 0}\n",
      "processed 15 interaction event for user 350=======================\n",
      "{'RequestId': 'e66609cb-d27f-7f73-bcbe-b33340073cf3', 'HTTPStatusCode': 200, 'HTTPHeaders': {'x-amzn-requestid': 'e66609cb-d27f-7f73-bcbe-b33340073cf3', 'x-amz-id-2': 'mxk3a5fJOiMilcdIRsa+vQtsNbjZlYEieO9g74CIgbjkrmT5ctsOHW2hkKIVXWG9clwL2//wZPeeUlO56aACwFMruoxIkbgS', 'date': 'Tue, 19 Apr 2022 13:27:20 GMT', 'content-type': 'application/x-amz-json-1.1', 'content-length': '110'}, 'RetryAttempts': 0}\n",
      "processed 16 interaction event for user 350=======================\n",
      "{'RequestId': 'f96b7e7b-4626-4f19-a3b3-c483d45e0c99', 'HTTPStatusCode': 200, 'HTTPHeaders': {'x-amzn-requestid': 'f96b7e7b-4626-4f19-a3b3-c483d45e0c99', 'x-amz-id-2': 'dBLrvkprBAxdFpJBGhdf9x45az64LCbPeyJlOuYdDit90/tD2vQHrm9KeC71Ke4lNVSmWR+YfBbgj696Y3obtneon3QdL0cZ', 'date': 'Tue, 19 Apr 2022 13:27:20 GMT', 'content-type': 'application/x-amz-json-1.1', 'content-length': '110'}, 'RetryAttempts': 0}\n",
      "processed 17 interaction event for user 350=======================\n",
      "{'RequestId': 'cfdeea01-6883-00b2-9506-50f9fafb4332', 'HTTPStatusCode': 200, 'HTTPHeaders': {'x-amzn-requestid': 'cfdeea01-6883-00b2-9506-50f9fafb4332', 'x-amz-id-2': 'oHJ3jDbhCBGi3Db2SYJ726iJr0CUWYiuf8Pe52s4hjAUCrDfR1wAn3LZi255VpAoQKUvkNl6/NwxL84zKdZc9c+jeA+0L0eo', 'date': 'Tue, 19 Apr 2022 13:27:20 GMT', 'content-type': 'application/x-amz-json-1.1', 'content-length': '110'}, 'RetryAttempts': 0}\n",
      "processed 18 interaction event for user 350=======================\n",
      "{'RequestId': 'f1e73e46-421b-efc4-ab3f-84bed063ac44', 'HTTPStatusCode': 200, 'HTTPHeaders': {'x-amzn-requestid': 'f1e73e46-421b-efc4-ab3f-84bed063ac44', 'x-amz-id-2': 'KR0zfTHHd6cYaqAcuJPKTYkyH/8f2kqimbgMdrYjHodKpKDB/BTgXa5wJmHWt6Qqfv+J+lstkraIUzzm/6mcb00jaHuf0xGW', 'date': 'Tue, 19 Apr 2022 13:27:20 GMT', 'content-type': 'application/x-amz-json-1.1', 'content-length': '110'}, 'RetryAttempts': 0}\n",
      "processed 19 interaction event for user 350=======================\n",
      "{'RequestId': 'f84d1b5f-9f65-9589-a295-a1a70d1dd609', 'HTTPStatusCode': 200, 'HTTPHeaders': {'x-amzn-requestid': 'f84d1b5f-9f65-9589-a295-a1a70d1dd609', 'x-amz-id-2': 'VaSGNyGBVfyb+3lY+teXGmaVB/8ITLCAdpQtvpWZO1LmtjIRKph3dTLZkma2QBtrLEB0aSywcnq7W6RqjdfpI9hVlHFkzKcQ', 'date': 'Tue, 19 Apr 2022 13:27:20 GMT', 'content-type': 'application/x-amz-json-1.1', 'content-length': '110'}, 'RetryAttempts': 0}\n"
     ]
    },
    {
     "name": "stdout",
     "output_type": "stream",
     "text": [
      "processed 20 interaction event for user 350=======================\n",
      "{'RequestId': 'd4d3c4cf-f19c-006f-8e0b-7e3763e443ef', 'HTTPStatusCode': 200, 'HTTPHeaders': {'x-amzn-requestid': 'd4d3c4cf-f19c-006f-8e0b-7e3763e443ef', 'x-amz-id-2': 'EKDEFMmpsdOY2djwHtxL/Cavmxp2ecd+9MDQEEPTKlw8Degeu4bAogOcoHVnPPfxeTJGeM48GbKHj3goCv+uX0g67G2fM01v', 'date': 'Tue, 19 Apr 2022 13:27:20 GMT', 'content-type': 'application/x-amz-json-1.1', 'content-length': '110'}, 'RetryAttempts': 0}\n",
      "processed 21 interaction event for user 350=======================\n",
      "{'RequestId': 'dfaf6f25-63be-94be-8577-d5ddf1c6d73e', 'HTTPStatusCode': 200, 'HTTPHeaders': {'x-amzn-requestid': 'dfaf6f25-63be-94be-8577-d5ddf1c6d73e', 'x-amz-id-2': 'R2OCMjfZK+UBC0n8FR+XS+AJ7THJnshPz3GWHEQToYUg6jtAIToP8axhGBSRjjM21hNjy4tjZQglSSbVTZnWQ63a58jqXwzv', 'date': 'Tue, 19 Apr 2022 13:27:20 GMT', 'content-type': 'application/x-amz-json-1.1', 'content-length': '110'}, 'RetryAttempts': 0}\n",
      "processed 22 interaction event for user 350=======================\n",
      "{'RequestId': 'e4aa2e87-b763-9ed3-be72-947f251bdd53', 'HTTPStatusCode': 200, 'HTTPHeaders': {'x-amzn-requestid': 'e4aa2e87-b763-9ed3-be72-947f251bdd53', 'x-amz-id-2': 'OvjnDJ8Vny6Gj0qrYP7icJbQqOL46Bi7pk/3YoiJUhTVO3N9tXrXUL/I8YO56btwIj4LfUtiMStCy1PNBHg83UWlNa+vpjIj', 'date': 'Tue, 19 Apr 2022 13:27:20 GMT', 'content-type': 'application/x-amz-json-1.1', 'content-length': '110'}, 'RetryAttempts': 0}\n",
      "processed 23 interaction event for user 350=======================\n",
      "{'RequestId': 'dc8f1380-667e-e760-8657-a978f406a4e0', 'HTTPStatusCode': 200, 'HTTPHeaders': {'x-amzn-requestid': 'dc8f1380-667e-e760-8657-a978f406a4e0', 'x-amz-id-2': 'bGgBrgN+ZkkdrbGRGbpc68YmxVJVAT56DkMuQLrF30hpLPbRm/oHIu6lq8bLUEkUwjcg7wdxJrvmyVujIR8xTTBrE5NXEjEK', 'date': 'Tue, 19 Apr 2022 13:27:20 GMT', 'content-type': 'application/x-amz-json-1.1', 'content-length': '110'}, 'RetryAttempts': 0}\n",
      "processed 24 interaction event for user 350=======================\n",
      "{'RequestId': 'fd9cd0cd-7d80-6e54-a744-6a35eff82dd4', 'HTTPStatusCode': 200, 'HTTPHeaders': {'x-amzn-requestid': 'fd9cd0cd-7d80-6e54-a744-6a35eff82dd4', 'x-amz-id-2': 'FktWiZhH1P/QDRRVuNyIVeXsybKt5GtKpwmEzfd+zf0mLG+rfZSI3dYCHkHypQQ+RUqaGrCV21WJp0JCDnDFqNjZ61Ora0cM', 'date': 'Tue, 19 Apr 2022 13:27:20 GMT', 'content-type': 'application/x-amz-json-1.1', 'content-length': '110'}, 'RetryAttempts': 0}\n",
      "processed 25 interaction event for user 350=======================\n",
      "{'RequestId': 'e6902017-04d1-2366-bc48-9aef96a960e6', 'HTTPStatusCode': 200, 'HTTPHeaders': {'x-amzn-requestid': 'e6902017-04d1-2366-bc48-9aef96a960e6', 'x-amz-id-2': '5+HyN8Uhr2zsINoGddrgqCPP3GsDin0faJChfUj8Rw/1k4ibRVrPzhwfR+mSAd9GOpWXQU7t0rJLL4MWhFMpMWbQqOhSMp7l', 'date': 'Tue, 19 Apr 2022 13:27:20 GMT', 'content-type': 'application/x-amz-json-1.1', 'content-length': '110'}, 'RetryAttempts': 0}\n",
      "processed 26 interaction event for user 350=======================\n",
      "{'RequestId': 'f24bc371-c5ab-5667-a893-798957d315e7', 'HTTPStatusCode': 200, 'HTTPHeaders': {'x-amzn-requestid': 'f24bc371-c5ab-5667-a893-798957d315e7', 'x-amz-id-2': 'HylAggyVGp5ex9BnRrf0DBWKNWDHdbTrCjbNAh4+CYAwwZx53WWm7KwbPt4bu4/mIG4dAX7wZKHCcvV9LpHJM9nFKNFEaTvY', 'date': 'Tue, 19 Apr 2022 13:27:20 GMT', 'content-type': 'application/x-amz-json-1.1', 'content-length': '110'}, 'RetryAttempts': 0}\n",
      "processed 27 interaction event for user 350=======================\n",
      "{'RequestId': 'c0f1cdd3-4595-8be6-9a29-772bd7edc866', 'HTTPStatusCode': 200, 'HTTPHeaders': {'x-amzn-requestid': 'c0f1cdd3-4595-8be6-9a29-772bd7edc866', 'x-amz-id-2': 't/66wQO0sBr+25+0VxnmZfLCeQqV/SRmDxCQDM95K5YT5XiPTRap/QFQk+BRWwp1si4cyRvhWG9mROk2/bijEqnMvV8rSZ85', 'date': 'Tue, 19 Apr 2022 13:27:20 GMT', 'content-type': 'application/x-amz-json-1.1', 'content-length': '110'}, 'RetryAttempts': 0}\n",
      "processed 28 interaction event for user 350=======================\n",
      "{'RequestId': 'fff1a9ea-cfb9-8e0c-a529-13125dc1cd8c', 'HTTPStatusCode': 200, 'HTTPHeaders': {'x-amzn-requestid': 'fff1a9ea-cfb9-8e0c-a529-13125dc1cd8c', 'x-amz-id-2': '6mj0ckamtGRU4ZmcWPn6Xco4mz589uAiHq86w/Y+exRl2c01ATR4DJzHz2tKwk/hSPb8EAvEFZrCWiwn98lzLGo3sGdU9jbA', 'date': 'Tue, 19 Apr 2022 13:27:20 GMT', 'content-type': 'application/x-amz-json-1.1', 'content-length': '110'}, 'RetryAttempts': 0}\n",
      "processed 29 interaction event for user 350=======================\n",
      "{'RequestId': 'e4dd5c56-a094-9cf7-be05-e6ae32ecdf77', 'HTTPStatusCode': 200, 'HTTPHeaders': {'x-amzn-requestid': 'e4dd5c56-a094-9cf7-be05-e6ae32ecdf77', 'x-amz-id-2': 'CAy+SNQKemtB/19Go6MOdiY2eRwdxDw53OVScPMc+pRXAshVvISSeG9/fbB3SkU/83R6fcvKGY2tm1aShwh8ALEk/goRE+xw', 'date': 'Tue, 19 Apr 2022 13:27:20 GMT', 'content-type': 'application/x-amz-json-1.1', 'content-length': '110'}, 'RetryAttempts': 0}\n",
      "processed 30 interaction event for user 350=======================\n",
      "{'RequestId': 'e175e611-7ec5-9b74-bbad-5ce9ecbdd8f4', 'HTTPStatusCode': 200, 'HTTPHeaders': {'x-amzn-requestid': 'e175e611-7ec5-9b74-bbad-5ce9ecbdd8f4', 'x-amz-id-2': 'nbqy9KxkxVfHPsTEXgr4NnF8m0GWQEKAeetYqtWCoy5NPgD/NwX/Kd9z76Cg/+i2KcgW75sCAgiQBGeqB6fDanoO5TsLkm42', 'date': 'Tue, 19 Apr 2022 13:27:20 GMT', 'content-type': 'application/x-amz-json-1.1', 'content-length': '110'}, 'RetryAttempts': 0}\n",
      "processed 31 interaction event for user 350=======================\n",
      "{'RequestId': 'ebe8e694-56a3-37cd-b130-5c6cc4db744d', 'HTTPStatusCode': 200, 'HTTPHeaders': {'x-amzn-requestid': 'ebe8e694-56a3-37cd-b130-5c6cc4db744d', 'x-amz-id-2': 'NfCfqv2ApLJXw1gniRX68cgtSWOvHnJWHHadWCnJLRXpPlRifQpWTaTfpoPoj5O+KXV9j6B++JfFmKK71QVss7JCJg6U1CL4', 'date': 'Tue, 19 Apr 2022 13:27:20 GMT', 'content-type': 'application/x-amz-json-1.1', 'content-length': '110'}, 'RetryAttempts': 0}\n",
      "processed 32 interaction event for user 350=======================\n",
      "{'RequestId': 'c4f8fc1f-09d0-0dd9-9e20-46e79ba84e59', 'HTTPStatusCode': 200, 'HTTPHeaders': {'x-amzn-requestid': 'c4f8fc1f-09d0-0dd9-9e20-46e79ba84e59', 'x-amz-id-2': 'c/M1bO0jp8I3hJfyklJ7V32h5yd8zvB5blY77PTRxc8tNwt6Ion+IcgyGEvx7pZPdp66HjcTlH1fRxCsDNdRuV5hQTVyqEG2', 'date': 'Tue, 19 Apr 2022 13:27:20 GMT', 'content-type': 'application/x-amz-json-1.1', 'content-length': '110'}, 'RetryAttempts': 0}\n",
      "processed 33 interaction event for user 350=======================\n",
      "{'RequestId': 'f94fb337-174b-afbd-a397-09cf8533ec3d', 'HTTPStatusCode': 200, 'HTTPHeaders': {'x-amzn-requestid': 'f94fb337-174b-afbd-a397-09cf8533ec3d', 'x-amz-id-2': 'bv0hpbAuIS0FqeeBEpCZcJmatpO+FJIic8Y3UvIu0hJgC5hHXouhVd9O5WxIBiz/qBWCnPUIexeIirmwBDY/qsMExLDsXurV', 'date': 'Tue, 19 Apr 2022 13:27:20 GMT', 'content-type': 'application/x-amz-json-1.1', 'content-length': '110'}, 'RetryAttempts': 0}\n",
      "processed 34 interaction event for user 350=======================\n",
      "{'RequestId': 'd2bd009b-19e4-4adc-8865-ba638b9c095c', 'HTTPStatusCode': 200, 'HTTPHeaders': {'x-amzn-requestid': 'd2bd009b-19e4-4adc-8865-ba638b9c095c', 'x-amz-id-2': 'cgwzfNd8CXkHXJfiq2lt+fRDslwNbPZJAyQKSWRrh4vawvbqxx17jhgQ1R4Gxw3HO3Cb+izLfKMn/sgSFK2syru6GeZVhrTg', 'date': 'Tue, 19 Apr 2022 13:27:20 GMT', 'content-type': 'application/x-amz-json-1.1', 'content-length': '110'}, 'RetryAttempts': 0}\n",
      "processed 35 interaction event for user 350=======================\n",
      "{'RequestId': 'd0dd0014-6871-c399-8a05-baecfa098019', 'HTTPStatusCode': 200, 'HTTPHeaders': {'x-amzn-requestid': 'd0dd0014-6871-c399-8a05-baecfa098019', 'x-amz-id-2': 'maih2XJR3SNmKQCOMe9ZSi/OW5gEPRowzynmNKNB9UrDDR3RjN2hYkVWqfcQRCfYMJdInAoMyftD/k2+DGwsFmqe03Hlj8F1', 'date': 'Tue, 19 Apr 2022 13:27:20 GMT', 'content-type': 'application/x-amz-json-1.1', 'content-length': '110'}, 'RetryAttempts': 0}\n",
      "processed 36 interaction event for user 350=======================\n",
      "{'RequestId': 'ffd2389d-4fb8-b92b-a50a-8265ddc0faab', 'HTTPStatusCode': 200, 'HTTPHeaders': {'x-amzn-requestid': 'ffd2389d-4fb8-b92b-a50a-8265ddc0faab', 'x-amz-id-2': 'YPd3CddQ/MdcWuRDBupL2zzo9sA3K/Ho8/tizmlf/OH/K/jrUeAAVwHiOBh43q6vh9amK/IRzJXmTA7MzxhC6oi91tfvBKt1', 'date': 'Tue, 19 Apr 2022 13:27:20 GMT', 'content-type': 'application/x-amz-json-1.1', 'content-length': '110'}, 'RetryAttempts': 0}\n",
      "processed 37 interaction event for user 350=======================\n",
      "{'RequestId': 'c36a9e65-bbe0-0d09-99b2-249d29984e89', 'HTTPStatusCode': 200, 'HTTPHeaders': {'x-amzn-requestid': 'c36a9e65-bbe0-0d09-99b2-249d29984e89', 'x-amz-id-2': 'RFq+UefkeXe/eTtcNoaWrKkxL3eN6X3ZoZwL7K+B3zBgqp0lOGuCwYnj0M/8SSflQYmaGE3Vk4ayJBZ+JV/sMeViMOvQroNz', 'date': 'Tue, 19 Apr 2022 13:27:20 GMT', 'content-type': 'application/x-amz-json-1.1', 'content-length': '110'}, 'RetryAttempts': 0}\n",
      "processed 38 interaction event for user 350=======================\n",
      "{'RequestId': 'f0fe52c3-2c70-4095-aa26-e83bbe080315', 'HTTPStatusCode': 200, 'HTTPHeaders': {'x-amzn-requestid': 'f0fe52c3-2c70-4095-aa26-e83bbe080315', 'x-amz-id-2': 'dvDaMn+5XBcbpfzhcIohvBdQifXDuU2o8qBlDPyTKe/xrO8i/CNciG+yhvgEIsWzHZ2OGR6OwE3Z88spRxgAERCCARqnz/ad', 'date': 'Tue, 19 Apr 2022 13:27:20 GMT', 'content-type': 'application/x-amz-json-1.1', 'content-length': '110'}, 'RetryAttempts': 0}\n"
     ]
    },
    {
     "name": "stdout",
     "output_type": "stream",
     "text": [
      "processed 39 interaction event for user 350=======================\n",
      "{'RequestId': 'd806a0c9-6359-e3e3-82de-1a31f121a063', 'HTTPStatusCode': 200, 'HTTPHeaders': {'x-amzn-requestid': 'd806a0c9-6359-e3e3-82de-1a31f121a063', 'x-amz-id-2': 'LKGt7F2ies27ev11zloxxGhpEMomHWEjvFS/IdjTqhUtuGi0AffX/g0YHVlTEyS5aSbN5k9RO7us4+WmX/uTkUeP5LJjNHXh', 'date': 'Tue, 19 Apr 2022 13:27:20 GMT', 'content-type': 'application/x-amz-json-1.1', 'content-length': '110'}, 'RetryAttempts': 0}\n",
      "processed 40 interaction event for user 350=======================\n",
      "{'RequestId': 'eab2b671-fd86-9ab0-b06a-0c896ffed930', 'HTTPStatusCode': 200, 'HTTPHeaders': {'x-amzn-requestid': 'eab2b671-fd86-9ab0-b06a-0c896ffed930', 'x-amz-id-2': 's41WjUQY1++71nlrv6I6+vEwjv27Msjrcl6TsYPg0N34w4C8i6PhJe0N3qzvCLSH1kgqkFQAQdEF3m0o7fFPu5ohEMPwc8sM', 'date': 'Tue, 19 Apr 2022 13:27:20 GMT', 'content-type': 'application/x-amz-json-1.1', 'content-length': '110'}, 'RetryAttempts': 0}\n",
      "processed 41 interaction event for user 350=======================\n",
      "{'RequestId': 'e35a7371-5e33-7814-b982-c989cc4b3b94', 'HTTPStatusCode': 200, 'HTTPHeaders': {'x-amzn-requestid': 'e35a7371-5e33-7814-b982-c989cc4b3b94', 'x-amz-id-2': 'uXTb6FhU0pnYZIvRzaheznOY8uWPg68Tu2DuEUiSIzhVPs9ZPRYgIAeVr2YRv/hbg2z93LWeIw8n2v39YUPZgm6ycFezVxtc', 'date': 'Tue, 19 Apr 2022 13:27:20 GMT', 'content-type': 'application/x-amz-json-1.1', 'content-length': '110'}, 'RetryAttempts': 0}\n",
      "processed 42 interaction event for user 350=======================\n",
      "{'RequestId': 'ef3af5cb-4af8-316f-b5e2-4f33d88072ef', 'HTTPStatusCode': 200, 'HTTPHeaders': {'x-amzn-requestid': 'ef3af5cb-4af8-316f-b5e2-4f33d88072ef', 'x-amz-id-2': 'SrfkLWlo1ShlgblpBj8zzmuaGq4g4FPHSyufUnRysPgjvO1gn2Qb5Fl4madgfKV7qpI9n/u/sNITRfi+Fo5pZ+Ube0uN4BoJ', 'date': 'Tue, 19 Apr 2022 13:27:20 GMT', 'content-type': 'application/x-amz-json-1.1', 'content-length': '110'}, 'RetryAttempts': 0}\n",
      "processed 43 interaction event for user 350=======================\n",
      "{'RequestId': 'e5ca2f50-ace8-0a98-bf12-95a83e904918', 'HTTPStatusCode': 200, 'HTTPHeaders': {'x-amzn-requestid': 'e5ca2f50-ace8-0a98-bf12-95a83e904918', 'x-amz-id-2': 'iCgQ7pzMs9wkZhyKs0Jkx6Ch7PCmC2P3i42ebrKl1+sl0nxcMK/S+UwGWYTGwHHEm95m179vBAixtgQQ0QXtgY9zPqt6DQbz', 'date': 'Tue, 19 Apr 2022 13:27:20 GMT', 'content-type': 'application/x-amz-json-1.1', 'content-length': '110'}, 'RetryAttempts': 0}\n",
      "processed 44 interaction event for user 350=======================\n",
      "{'RequestId': 'ffbabdad-2cb5-f965-a562-0755becdbae5', 'HTTPStatusCode': 200, 'HTTPHeaders': {'x-amzn-requestid': 'ffbabdad-2cb5-f965-a562-0755becdbae5', 'x-amz-id-2': 'zZR+7t4s5rRpQysywUtGADTqpKtgn+ShyX1H3rum8kUYapXMbM08Ba5Q4YxUrHR5mLxB2Qnbf3tezIK1jwuwalY8laWdf9+2', 'date': 'Tue, 19 Apr 2022 13:27:20 GMT', 'content-type': 'application/x-amz-json-1.1', 'content-length': '110'}, 'RetryAttempts': 0}\n",
      "processed 45 interaction event for user 350=======================\n",
      "{'RequestId': 'df37198d-e458-964a-85ef-a3757620d5ca', 'HTTPStatusCode': 200, 'HTTPHeaders': {'x-amzn-requestid': 'df37198d-e458-964a-85ef-a3757620d5ca', 'x-amz-id-2': 'j6lCowmM+ZeYV90+UHAZfAJlTcRwpfOOGyaLSIYfZDWxRSgVHQz2Rcqpxzy/5j/3B2eF5WgZRNugYCDa+hT5Ofyxi1bZNiIK', 'date': 'Tue, 19 Apr 2022 13:27:20 GMT', 'content-type': 'application/x-amz-json-1.1', 'content-length': '110'}, 'RetryAttempts': 0}\n",
      "processed 46 interaction event for user 350=======================\n",
      "{'RequestId': 'f3635942-5229-30b1-a9bb-e3bac0517331', 'HTTPStatusCode': 200, 'HTTPHeaders': {'x-amzn-requestid': 'f3635942-5229-30b1-a9bb-e3bac0517331', 'x-amz-id-2': 'AY/oJIQA30jvg5k/D2qub3TxfFSLsMBKST2DHnwweIa2nylC0Ne7snRlEvEFeUyfE7Sw14iWsLpsJoyp5zSokymiIOyGg/VR', 'date': 'Tue, 19 Apr 2022 13:27:20 GMT', 'content-type': 'application/x-amz-json-1.1', 'content-length': '110'}, 'RetryAttempts': 0}\n",
      "processed 47 interaction event for user 350=======================\n",
      "{'RequestId': 'd23c18e0-e368-3f19-88e4-a21871107c99', 'HTTPStatusCode': 200, 'HTTPHeaders': {'x-amzn-requestid': 'd23c18e0-e368-3f19-88e4-a21871107c99', 'x-amz-id-2': 'knnZht+pa0zuRc42tkKgktDbLG3jAprLKjL44z9LPWHvq857vStvp5Uk2wIctn6H1OqE28Ayj/ke2hLhNu66WI0vPg9GIKCj', 'date': 'Tue, 19 Apr 2022 13:27:20 GMT', 'content-type': 'application/x-amz-json-1.1', 'content-length': '110'}, 'RetryAttempts': 0}\n",
      "processed 48 interaction event for user 350=======================\n",
      "{'RequestId': 'dba3d642-81b6-425c-817b-6cba13ce01dc', 'HTTPStatusCode': 200, 'HTTPHeaders': {'x-amzn-requestid': 'dba3d642-81b6-425c-817b-6cba13ce01dc', 'x-amz-id-2': '4A+6YJQ5cjeiFiSGYCeB9j36R/KknNmDaTc1zZerIBrgTf/PlQ6jKNObuzFKMe3Q6E24nUXH/eVbLMdIhI9RGt+E0KxHHchq', 'date': 'Tue, 19 Apr 2022 13:27:20 GMT', 'content-type': 'application/x-amz-json-1.1', 'content-length': '110'}, 'RetryAttempts': 0}\n",
      "processed 49 interaction event for user 350=======================\n",
      "{'RequestId': 'eb417c49-f2c4-9eef-b199-c6b160bcdd6f', 'HTTPStatusCode': 200, 'HTTPHeaders': {'x-amzn-requestid': 'eb417c49-f2c4-9eef-b199-c6b160bcdd6f', 'x-amz-id-2': '3RnzuIzDAUDOzo+pavX8OhhvpOqzOqEbpUvUxO/OUx0APLYIrdeNuVVrF9C3bkX7tGKRzwX/C2CRpaJMqlqLyShuCEr22TSE', 'date': 'Tue, 19 Apr 2022 13:27:20 GMT', 'content-type': 'application/x-amz-json-1.1', 'content-length': '110'}, 'RetryAttempts': 0}\n",
      "processed 50 interaction event for user 350=======================\n",
      "{'RequestId': 'fa8803b1-1e63-db31-a050-b9498c1b98b1', 'HTTPStatusCode': 200, 'HTTPHeaders': {'x-amzn-requestid': 'fa8803b1-1e63-db31-a050-b9498c1b98b1', 'x-amz-id-2': 'TUWWakMvscUr+cz6jB/Me5kViVN5RCSslyCFDXCURM0V4z9Yh485nX+lrhWPnY81xuSxL32mWS3VAlCVurh10ggfoqdSg6WO', 'date': 'Tue, 19 Apr 2022 13:27:20 GMT', 'content-type': 'application/x-amz-json-1.1', 'content-length': '110'}, 'RetryAttempts': 0}\n",
      "processed 51 interaction event for user 350=======================\n",
      "{'RequestId': 'f544d0ba-cc0d-8967-af9c-6a425e75cae7', 'HTTPStatusCode': 200, 'HTTPHeaders': {'x-amzn-requestid': 'f544d0ba-cc0d-8967-af9c-6a425e75cae7', 'x-amz-id-2': '5kDPvu9o0eY+UziS/I650RluVgFgyB0CCE3OhwA6ubMzD4Sy13DoaZ27/eJN5wgJzM1OgObj2mVTrYrdUpoDrxb5M5+3GmCC', 'date': 'Tue, 19 Apr 2022 13:27:20 GMT', 'content-type': 'application/x-amz-json-1.1', 'content-length': '110'}, 'RetryAttempts': 0}\n",
      "processed 52 interaction event for user 350=======================\n",
      "{'RequestId': 'db81a2bf-b59e-13ea-8159-184727e6506a', 'HTTPStatusCode': 200, 'HTTPHeaders': {'x-amzn-requestid': 'db81a2bf-b59e-13ea-8159-184727e6506a', 'x-amz-id-2': 'FEm8dg9jxuMRGABZLQEr/WJPaBsnBsKiuam8QAJ9B4EhZHfWn+jVIzuej5GU9MQVrkOwFqjK0RDcnjF2EvzlnN86PE4EbQNs', 'date': 'Tue, 19 Apr 2022 13:27:20 GMT', 'content-type': 'application/x-amz-json-1.1', 'content-length': '110'}, 'RetryAttempts': 0}\n",
      "processed 53 interaction event for user 350=======================\n",
      "{'RequestId': 'f37161fd-1a3a-dc90-a9a9-db0588429f10', 'HTTPStatusCode': 200, 'HTTPHeaders': {'x-amzn-requestid': 'f37161fd-1a3a-dc90-a9a9-db0588429f10', 'x-amz-id-2': 'gnoc6P4Z1AKV4HIZ7pA+x14DUSVHVpOnhe3xt4BTNd89NdMAksduUdRwJ5gTGg3iXxWy3KQPvYkdwy6Ii4wBKhUwQN0QDp44', 'date': 'Tue, 19 Apr 2022 13:27:20 GMT', 'content-type': 'application/x-amz-json-1.1', 'content-length': '110'}, 'RetryAttempts': 0}\n",
      "processed 54 interaction event for user 350=======================\n",
      "{'RequestId': 'd1cc5ede-14b2-8506-8b14-e42686cac686', 'HTTPStatusCode': 200, 'HTTPHeaders': {'x-amzn-requestid': 'd1cc5ede-14b2-8506-8b14-e42686cac686', 'x-amz-id-2': 'jIqG5sGcmLJGgjIbW3Jm9npn024A1bqWjoiCfj0VoVJtUvGrxAUzfoIA9TflUtrMAKvJaY8+mHLGev+8/+IdyLTlLZrd9i1r', 'date': 'Tue, 19 Apr 2022 13:27:20 GMT', 'content-type': 'application/x-amz-json-1.1', 'content-length': '110'}, 'RetryAttempts': 0}\n",
      "processed 55 interaction event for user 350=======================\n",
      "{'RequestId': 'fbae3411-2c6d-8a5a-a176-8ee9be15c9da', 'HTTPStatusCode': 200, 'HTTPHeaders': {'x-amzn-requestid': 'fbae3411-2c6d-8a5a-a176-8ee9be15c9da', 'x-amz-id-2': 'zKEr2b0pCrysAx8suIbKiYfPNVr08cnAvsBbtfAhW7Biw8AmNOqvGVf/zTlfj+zyH24Qzc1e3u+X/6gDROlf0uXncPSxW9uR', 'date': 'Tue, 19 Apr 2022 13:27:20 GMT', 'content-type': 'application/x-amz-json-1.1', 'content-length': '110'}, 'RetryAttempts': 0}\n",
      "processed 56 interaction event for user 350=======================\n",
      "{'RequestId': 'e0ae340e-3316-f146-ba76-8ef6a16eb2c6', 'HTTPStatusCode': 200, 'HTTPHeaders': {'x-amzn-requestid': 'e0ae340e-3316-f146-ba76-8ef6a16eb2c6', 'x-amz-id-2': '2+RaoXoRrVU8F31F5IPPVCcuIkjD4IOQHPt8fBFetwnc6aEsh4EZl5ixC0Msjh1cDUy8RsZopjywcG1liK4qPR+DPpD5WRGC', 'date': 'Tue, 19 Apr 2022 13:27:20 GMT', 'content-type': 'application/x-amz-json-1.1', 'content-length': '110'}, 'RetryAttempts': 0}\n",
      "processed 57 interaction event for user 350=======================\n"
     ]
    },
    {
     "name": "stdout",
     "output_type": "stream",
     "text": [
      "{'RequestId': 'dcc86bef-4b6a-3f28-8610-d117d9127ca8', 'HTTPStatusCode': 200, 'HTTPHeaders': {'x-amzn-requestid': 'dcc86bef-4b6a-3f28-8610-d117d9127ca8', 'x-amz-id-2': 'EUfocz8tG8t052vJnmWSuXe0T9SsDVXl1hk5TzacOVEJBJC/iGeP08rKO3/STWlke+O9BGlxFPrTYS0tBWK2SutJ94IzpAvb', 'date': 'Tue, 19 Apr 2022 13:27:20 GMT', 'content-type': 'application/x-amz-json-1.1', 'content-length': '110'}, 'RetryAttempts': 0}\n",
      "processed 58 interaction event for user 350=======================\n",
      "{'RequestId': 'fe75d934-2b03-1f87-a4ad-63ccb97b5c07', 'HTTPStatusCode': 200, 'HTTPHeaders': {'x-amzn-requestid': 'fe75d934-2b03-1f87-a4ad-63ccb97b5c07', 'x-amz-id-2': 'wT72HYXq6GBhFLZgv2SryReaBykKc8a7ov1xt2LBs2sPFwtpWN4IXv7eNBZ8VUb2ZB5xP1KqbsCwBX3aLTxhjBgoFcElRfYA', 'date': 'Tue, 19 Apr 2022 13:27:20 GMT', 'content-type': 'application/x-amz-json-1.1', 'content-length': '110'}, 'RetryAttempts': 0}\n",
      "processed 59 interaction event for user 350=======================\n",
      "{'RequestId': 'e81dbe0a-4a0c-10ac-b2c5-04f2d874532c', 'HTTPStatusCode': 200, 'HTTPHeaders': {'x-amzn-requestid': 'e81dbe0a-4a0c-10ac-b2c5-04f2d874532c', 'x-amz-id-2': 'idKlGxpC8mZTe8ftxiLUbvyDB9qVbcAJuctlhfkRXz96C+MUmzQb9wGJVluyOxSCSpxoKOyUb7cg1aslvZuNqLUME1CuIogi', 'date': 'Tue, 19 Apr 2022 13:27:20 GMT', 'content-type': 'application/x-amz-json-1.1', 'content-length': '110'}, 'RetryAttempts': 0}\n",
      "processed 60 interaction event for user 350=======================\n",
      "{'RequestId': 'db854be0-1409-b748-815d-f1188671f4c8', 'HTTPStatusCode': 200, 'HTTPHeaders': {'x-amzn-requestid': 'db854be0-1409-b748-815d-f1188671f4c8', 'x-amz-id-2': 'b/wEEhF4O1q1JxYH3T5gDp+9/On7iAfrsQs6nYUqACfSoucwOn6XueWiW8p2pJNo1e5Rg9P6L2acX4uqCgXrK2hkfmy4DQZ1', 'date': 'Tue, 19 Apr 2022 13:27:20 GMT', 'content-type': 'application/x-amz-json-1.1', 'content-length': '110'}, 'RetryAttempts': 0}\n",
      "processed 61 interaction event for user 350=======================\n",
      "{'RequestId': 'f6c77e37-2e8f-066b-ac1f-c4cfbcf745eb', 'HTTPStatusCode': 200, 'HTTPHeaders': {'x-amzn-requestid': 'f6c77e37-2e8f-066b-ac1f-c4cfbcf745eb', 'x-amz-id-2': 'lWGDYwBPE1y1tdWiL2Kt2XKz+u17uu4cl35NzhJk6VrMqH40f3dsARAm8+aUuruRJeZsSibVpday/gaunSa7Y7akrhfPOsX1', 'date': 'Tue, 19 Apr 2022 13:27:20 GMT', 'content-type': 'application/x-amz-json-1.1', 'content-length': '110'}, 'RetryAttempts': 0}\n",
      "processed 62 interaction event for user 350=======================\n",
      "{'RequestId': 'fadd8cb9-b6ec-4cc7-a005-364124940f47', 'HTTPStatusCode': 200, 'HTTPHeaders': {'x-amzn-requestid': 'fadd8cb9-b6ec-4cc7-a005-364124940f47', 'x-amz-id-2': 'o3iS6HfJY6iF6C4eONKBPyAivlklwxbJNnzL+yq9mQ9gYF8hbWjotS4ef/nnSSPWx7/clRxpPJ6D8nJW/OYqHDvn17wCSHUK', 'date': 'Tue, 19 Apr 2022 13:27:20 GMT', 'content-type': 'application/x-amz-json-1.1', 'content-length': '110'}, 'RetryAttempts': 0}\n",
      "processed 63 interaction event for user 350=======================\n",
      "{'RequestId': 'cd043688-f448-b5c6-97dc-8c706630f646', 'HTTPStatusCode': 200, 'HTTPHeaders': {'x-amzn-requestid': 'cd043688-f448-b5c6-97dc-8c706630f646', 'x-amz-id-2': '5HQG6IXH5WQVGCslwhJiGQsByWAOqYWhKd7g33BDofWfXCpdov6VChDBhv/QlX5eXvZOLsmxUgVDgdVsLXWwJPsjir43mYWM', 'date': 'Tue, 19 Apr 2022 13:27:20 GMT', 'content-type': 'application/x-amz-json-1.1', 'content-length': '110'}, 'RetryAttempts': 0}\n",
      "processed 64 interaction event for user 350=======================\n",
      "{'RequestId': 'e7da7824-23c8-d0d2-bd02-c2dcb1b09352', 'HTTPStatusCode': 200, 'HTTPHeaders': {'x-amzn-requestid': 'e7da7824-23c8-d0d2-bd02-c2dcb1b09352', 'x-amz-id-2': 'TSTno7l0YRtCZKQNOR/qdq5pDY19XXwcpL+1LWLzVbC4AzkMZAy0MdJMqt1PUXO/l6Aq56Ggk10g9lhgqBGqbpOFB57i/Yxp', 'date': 'Tue, 19 Apr 2022 13:27:20 GMT', 'content-type': 'application/x-amz-json-1.1', 'content-length': '110'}, 'RetryAttempts': 0}\n",
      "processed 65 interaction event for user 350=======================\n",
      "{'RequestId': 'e5d48c46-0882-b95f-bf0c-36be9afafadf', 'HTTPStatusCode': 200, 'HTTPHeaders': {'x-amzn-requestid': 'e5d48c46-0882-b95f-bf0c-36be9afafadf', 'x-amz-id-2': 'q5x5lbKy4sMvvXTSm4N9hwXtjaAcHqD5O5hWf7afR2dpXd1Zceg28Q3yPla6UJ8nbxRpjLHC4olhL4+r5Iu+botJ/yEfZ0k4', 'date': 'Tue, 19 Apr 2022 13:27:20 GMT', 'content-type': 'application/x-amz-json-1.1', 'content-length': '110'}, 'RetryAttempts': 0}\n",
      "processed 66 interaction event for user 350=======================\n",
      "{'RequestId': 'cd1075bf-cd0f-43e4-97c8-cf475f770064', 'HTTPStatusCode': 200, 'HTTPHeaders': {'x-amzn-requestid': 'cd1075bf-cd0f-43e4-97c8-cf475f770064', 'x-amz-id-2': 'm6WHuN2HQKWRnXI/gww8QPHA/h8PGxTSz1xdw0f+1n76wdMBOmD/yrajyqSD3iLDeJUv4eBNG1UC+S58jvH0xuG/KO3lWpLm', 'date': 'Tue, 19 Apr 2022 13:27:20 GMT', 'content-type': 'application/x-amz-json-1.1', 'content-length': '110'}, 'RetryAttempts': 0}\n",
      "processed 67 interaction event for user 350=======================\n",
      "{'RequestId': 'f23b9fef-1582-d410-a8e3-251787fa9790', 'HTTPStatusCode': 200, 'HTTPHeaders': {'x-amzn-requestid': 'f23b9fef-1582-d410-a8e3-251787fa9790', 'x-amz-id-2': 'ySclKt0cSpFKUWCTBINGOTDsNGMxhvtFHwQ0GEfX/siGEyZ9G00etCNDjIqonDZO4m7uae2Sjq54X//sbARI8bVUwzbYq3Ih', 'date': 'Tue, 19 Apr 2022 13:27:20 GMT', 'content-type': 'application/x-amz-json-1.1', 'content-length': '110'}, 'RetryAttempts': 0}\n",
      "processed 68 interaction event for user 350=======================\n",
      "{'RequestId': 'df0b0546-2158-da90-85d3-bfbeb3209910', 'HTTPStatusCode': 200, 'HTTPHeaders': {'x-amzn-requestid': 'df0b0546-2158-da90-85d3-bfbeb3209910', 'x-amz-id-2': '9HwYUZj8Jb76CouSEATis5OgZ55cJN86y+VnIdO8lkYj6mwoo9dl8tdGC3g84FCR2zgx8lgA0BvdhQ5m7OFqfRs4Y18ezmyy', 'date': 'Tue, 19 Apr 2022 13:27:20 GMT', 'content-type': 'application/x-amz-json-1.1', 'content-length': '110'}, 'RetryAttempts': 0}\n",
      "processed 69 interaction event for user 350=======================\n",
      "{'RequestId': 'ea3ad921-c764-c20b-b0e2-63d9551c818b', 'HTTPStatusCode': 200, 'HTTPHeaders': {'x-amzn-requestid': 'ea3ad921-c764-c20b-b0e2-63d9551c818b', 'x-amz-id-2': 'dIu8cFyTPG2Tgna0PKRRGALlH9WLeSE/Mp8E1Ma+dHVryYZKxS2Si8f60KKIFVNc+kAmRXg1xiKiHXrF/UnLAJG6Bn4pWbFa', 'date': 'Tue, 19 Apr 2022 13:27:20 GMT', 'content-type': 'application/x-amz-json-1.1', 'content-length': '110'}, 'RetryAttempts': 0}\n",
      "processed 70 interaction event for user 350=======================\n",
      "{'RequestId': 'c0579892-ff54-c19d-9a8f-226a6d2c821d', 'HTTPStatusCode': 200, 'HTTPHeaders': {'x-amzn-requestid': 'c0579892-ff54-c19d-9a8f-226a6d2c821d', 'x-amz-id-2': 'JB0Kve2kzvTI7WFEiGQNk2imw0bPuF1CEcgIz/rzB5qaD5Ai1ma8rmiICwGP2C9C/XDssVX7HoRM5CIHq3zyYpqLw4X+XxBA', 'date': 'Tue, 19 Apr 2022 13:27:20 GMT', 'content-type': 'application/x-amz-json-1.1', 'content-length': '110'}, 'RetryAttempts': 0}\n",
      "processed 71 interaction event for user 350=======================\n",
      "{'RequestId': 'e7f39bea-f34c-45c1-bd2b-211261340641', 'HTTPStatusCode': 200, 'HTTPHeaders': {'x-amzn-requestid': 'e7f39bea-f34c-45c1-bd2b-211261340641', 'x-amz-id-2': 'LBNnFOW6pNYeEHZVEBeOYdq5WEVVuousLv+D0zGhy7/apopZGDJ/R3gdYK0o3KVybDBwPBOBAw1ss1/9xJX9KqLe9DXysAPU', 'date': 'Tue, 19 Apr 2022 13:27:20 GMT', 'content-type': 'application/x-amz-json-1.1', 'content-length': '110'}, 'RetryAttempts': 0}\n",
      "processed 72 interaction event for user 350=======================\n",
      "{'RequestId': 'fa7aa853-d7cf-ca4f-a0a2-12ab45b789cf', 'HTTPStatusCode': 200, 'HTTPHeaders': {'x-amzn-requestid': 'fa7aa853-d7cf-ca4f-a0a2-12ab45b789cf', 'x-amz-id-2': 'n02DUYDRNVDmrSIB6k6g+bQGk6y/j5Tnnqoh/XMIGe/OmAKG2YYJ7VQAiDUVGFhUkCxejflUBbPU+yMG/rhz330QZPhtpgYT', 'date': 'Tue, 19 Apr 2022 13:27:20 GMT', 'content-type': 'application/x-amz-json-1.1', 'content-length': '110'}, 'RetryAttempts': 0}\n",
      "processed 73 interaction event for user 350=======================\n",
      "{'RequestId': 'ca87cf64-628c-b3a7-905f-759cf0f4f027', 'HTTPStatusCode': 200, 'HTTPHeaders': {'x-amzn-requestid': 'ca87cf64-628c-b3a7-905f-759cf0f4f027', 'x-amz-id-2': 'nENsPpeCmkl5/Hqw/MTrzmSDNQ4irT0Pw9ZAABL8RHQU8Xr5UNm6CvNmjVEhz5vzXDUrfUnIlX/8f//MxXPPBkuV1X/IkazM', 'date': 'Tue, 19 Apr 2022 13:27:20 GMT', 'content-type': 'application/x-amz-json-1.1', 'content-length': '110'}, 'RetryAttempts': 0}\n",
      "processed 74 interaction event for user 350=======================\n",
      "{'RequestId': 'ed741aac-8377-df37-b7ac-a054110f9cb7', 'HTTPStatusCode': 200, 'HTTPHeaders': {'x-amzn-requestid': 'ed741aac-8377-df37-b7ac-a054110f9cb7', 'x-amz-id-2': 'EpflCKokfHEH4Os3j4QUPRlV7UP8qx8TneAwI9SW5m/lPCp2STRvRsftSEDAq/lEa8gSg9PoMR4fcPpH8+5rcrENWWE+SOAk', 'date': 'Tue, 19 Apr 2022 13:27:20 GMT', 'content-type': 'application/x-amz-json-1.1', 'content-length': '110'}, 'RetryAttempts': 0}\n"
     ]
    },
    {
     "name": "stdout",
     "output_type": "stream",
     "text": [
      "processed 75 interaction event for user 350=======================\n",
      "{'RequestId': 'd0c1f544-de76-2e66-8a19-4fbc4c0e6de6', 'HTTPStatusCode': 200, 'HTTPHeaders': {'x-amzn-requestid': 'd0c1f544-de76-2e66-8a19-4fbc4c0e6de6', 'x-amz-id-2': 'TO2VGy6EuAyDa4MThb9NNszpXjateR5bfVjfevd+4oVp6HhyId9Me2BYKkalyVpLPWmZ+kyuRehH5QVhrXhMQP51P33rnXXZ', 'date': 'Tue, 19 Apr 2022 13:27:20 GMT', 'content-type': 'application/x-amz-json-1.1', 'content-length': '110'}, 'RetryAttempts': 0}\n",
      "processed 76 interaction event for user 350=======================\n",
      "{'RequestId': 'e3483e29-2691-fe7e-b990-84d1b4e9bdfe', 'HTTPStatusCode': 200, 'HTTPHeaders': {'x-amzn-requestid': 'e3483e29-2691-fe7e-b990-84d1b4e9bdfe', 'x-amz-id-2': 'RcyQUXPhMcM46jPi3GeRGTz7lvDTeHVzbSNmHwxW3xL4vY1FNXAH2xSnAIP5THRb+lLO9TaKWqEx9X2rRxrVoeNjk5qncPM5', 'date': 'Tue, 19 Apr 2022 13:27:20 GMT', 'content-type': 'application/x-amz-json-1.1', 'content-length': '110'}, 'RetryAttempts': 0}\n",
      "processed 77 interaction event for user 350=======================\n",
      "{'RequestId': 'c6c5c960-e859-68d3-9c1d-73987a212b53', 'HTTPStatusCode': 200, 'HTTPHeaders': {'x-amzn-requestid': 'c6c5c960-e859-68d3-9c1d-73987a212b53', 'x-amz-id-2': 'bF99Y9uhVdSLkPkEb6/Z7NqLEDfFl5dwONlEFYrdczoxVb3rMU1cqvP4+4GdvB74741geWnmwvRqJGY280a8lsNZDNsHnpbG', 'date': 'Tue, 19 Apr 2022 13:27:20 GMT', 'content-type': 'application/x-amz-json-1.1', 'content-length': '110'}, 'RetryAttempts': 0}\n",
      "processed 78 interaction event for user 350=======================\n",
      "{'RequestId': 'd96ccaac-ecb6-95f2-83b4-70547eced672', 'HTTPStatusCode': 200, 'HTTPHeaders': {'x-amzn-requestid': 'd96ccaac-ecb6-95f2-83b4-70547eced672', 'x-amz-id-2': 'LpUfJFOliUnQEIsxJq7CwmHlQk+lRnCMqV5HrqsAUnFi28UkJCBI4Wu+fFO55iH6D0a+abSNaW4ul71qxmOPaGKg8WmuDlAa', 'date': 'Tue, 19 Apr 2022 13:27:20 GMT', 'content-type': 'application/x-amz-json-1.1', 'content-length': '110'}, 'RetryAttempts': 0}\n",
      "processed 79 interaction event for user 350=======================\n",
      "{'RequestId': 'd343b72f-11f4-df92-899b-0dd7838c9c12', 'HTTPStatusCode': 200, 'HTTPHeaders': {'x-amzn-requestid': 'd343b72f-11f4-df92-899b-0dd7838c9c12', 'x-amz-id-2': 'B8kydocvpotR6ySuievC1rd8ZT8C7xIGtOD3H23uljjByKBAVnCB6CmBk9OjkPyh449NV85FFue8kQkl3us5t7jz0YjkxbBC', 'date': 'Tue, 19 Apr 2022 13:27:20 GMT', 'content-type': 'application/x-amz-json-1.1', 'content-length': '110'}, 'RetryAttempts': 0}\n",
      "processed 80 interaction event for user 350=======================\n",
      "{'RequestId': 'f74f3865-9ec1-662d-ad97-829d0cb925ad', 'HTTPStatusCode': 200, 'HTTPHeaders': {'x-amzn-requestid': 'f74f3865-9ec1-662d-ad97-829d0cb925ad', 'x-amz-id-2': 'AkZ49c4X2tniZFjBecFM2489d2551nFY9NdV8cFcbj9iGO7UzFk9yHQrtgcbLke18fRHnIV83ha83d5WjVt4Sf1Wa5FzWFHD', 'date': 'Tue, 19 Apr 2022 13:27:20 GMT', 'content-type': 'application/x-amz-json-1.1', 'content-length': '110'}, 'RetryAttempts': 0}\n",
      "processed 81 interaction event for user 350=======================\n",
      "{'RequestId': 'e5d174e2-8fe3-4768-bf09-ce1a1d9b04e8', 'HTTPStatusCode': 200, 'HTTPHeaders': {'x-amzn-requestid': 'e5d174e2-8fe3-4768-bf09-ce1a1d9b04e8', 'x-amz-id-2': 'bAJj8UJRa25qD/+2Amh7boCbgy+Mqz50kHyqoaGYCIUshNBHpMnAaseOxhHJV/TrdnAwxq179MCtVU2p+qUTI1+Bqtw41+Kt', 'date': 'Tue, 19 Apr 2022 13:27:20 GMT', 'content-type': 'application/x-amz-json-1.1', 'content-length': '110'}, 'RetryAttempts': 0}\n",
      "processed 82 interaction event for user 350=======================\n",
      "{'RequestId': 'c6bf0317-82b8-28b9-9c67-b9ef10c06b39', 'HTTPStatusCode': 200, 'HTTPHeaders': {'x-amzn-requestid': 'c6bf0317-82b8-28b9-9c67-b9ef10c06b39', 'x-amz-id-2': 'IDjKh2bzlukrNiNLXSSOU9wMa3YKJwNEZfaS5PISRkSpuNAzHXL5DFCnB1iuXqr0DEKuwqQTYPFCrVdHJevnIl9I74FOf55/', 'date': 'Tue, 19 Apr 2022 13:27:20 GMT', 'content-type': 'application/x-amz-json-1.1', 'content-length': '110'}, 'RetryAttempts': 0}\n",
      "processed 83 interaction event for user 350=======================\n",
      "{'RequestId': 'db3832eb-6985-78bf-81e0-8813fbfd3b3f', 'HTTPStatusCode': 200, 'HTTPHeaders': {'x-amzn-requestid': 'db3832eb-6985-78bf-81e0-8813fbfd3b3f', 'x-amz-id-2': 'nEcG6IEA318uy/zZCV051IQbgbY/m/PJZwFXyxPEnQ+m2Wef0aU6CogGxvWMrozPQ5ScoKCtw4xekIZ8tt4J9VvEIuaJ8q+L', 'date': 'Tue, 19 Apr 2022 13:27:21 GMT', 'content-type': 'application/x-amz-json-1.1', 'content-length': '110'}, 'RetryAttempts': 0}\n",
      "processed 84 interaction event for user 350=======================\n",
      "{'RequestId': 'd5937a39-973d-1a3b-8f4b-c0c0054559bb', 'HTTPStatusCode': 200, 'HTTPHeaders': {'x-amzn-requestid': 'd5937a39-973d-1a3b-8f4b-c0c0054559bb', 'x-amz-id-2': 'u7QnPdTbT9udgozoIswL5uCy2B6gArmhaKzF+iXhdET9nNV+N9B1K8jG7pmehIGskZGqg/ajFKIkcvdHi9AdLuO74TM83tbS', 'date': 'Tue, 19 Apr 2022 13:27:21 GMT', 'content-type': 'application/x-amz-json-1.1', 'content-length': '110'}, 'RetryAttempts': 0}\n",
      "processed 85 interaction event for user 350=======================\n",
      "{'RequestId': 'c66156ac-6c81-6ce1-9cb9-ec55fef92f61', 'HTTPStatusCode': 200, 'HTTPHeaders': {'x-amzn-requestid': 'c66156ac-6c81-6ce1-9cb9-ec55fef92f61', 'x-amz-id-2': 'fw8zbF7iiFozX6Y6D5hhYgy6gR5LL3UPrOaWcx8x/O1NqU8/5zhT2P4swjcMI89IgRnLufkIm+ppwKa51xP6O2E43l9zMFXG', 'date': 'Tue, 19 Apr 2022 13:27:21 GMT', 'content-type': 'application/x-amz-json-1.1', 'content-length': '110'}, 'RetryAttempts': 0}\n",
      "processed 86 interaction event for user 350=======================\n",
      "{'RequestId': 'cd38ca23-1c61-0fdc-97e0-70da8e194c5c', 'HTTPStatusCode': 200, 'HTTPHeaders': {'x-amzn-requestid': 'cd38ca23-1c61-0fdc-97e0-70da8e194c5c', 'x-amz-id-2': 'gOMR4+nqkVPNms2Tp2pyB/N16IAaOChLbAJ9hQ2Y9LWgcKnLpwdEwwqO2CQPNjhVGaeV/XcAaBelXPh0js/6ayZ9sQo7p90f', 'date': 'Tue, 19 Apr 2022 13:27:21 GMT', 'content-type': 'application/x-amz-json-1.1', 'content-length': '110'}, 'RetryAttempts': 0}\n",
      "processed 87 interaction event for user 350=======================\n",
      "{'RequestId': 'fd75aee9-5c8a-de79-a7ad-1410cef29df9', 'HTTPStatusCode': 200, 'HTTPHeaders': {'x-amzn-requestid': 'fd75aee9-5c8a-de79-a7ad-1410cef29df9', 'x-amz-id-2': 'Yqha07fpJtgoccGiCcDrH+AlVWDK1LWDRTUXgCNu9GyuOZaUWXtHnKyyfmsovRqp0eH+OhXRUKgJO46fvCkbAI3MmP9bB4G6', 'date': 'Tue, 19 Apr 2022 13:27:21 GMT', 'content-type': 'application/x-amz-json-1.1', 'content-length': '110'}, 'RetryAttempts': 0}\n",
      "processed 88 interaction event for user 350=======================\n",
      "{'RequestId': 'fcb89be9-140d-5150-a660-2110867512d0', 'HTTPStatusCode': 200, 'HTTPHeaders': {'x-amzn-requestid': 'fcb89be9-140d-5150-a660-2110867512d0', 'x-amz-id-2': 'WC5e/d1XdXmARezq+xEKxp9nsjM4kCE+2zPnbKUbyhHtvkN4bblmErHDAsFq4Jiw4NkJ19Oi7O8gjBM2dnq7r95Q9CQT9hQC', 'date': 'Tue, 19 Apr 2022 13:27:21 GMT', 'content-type': 'application/x-amz-json-1.1', 'content-length': '110'}, 'RetryAttempts': 0}\n",
      "processed 89 interaction event for user 350=======================\n",
      "{'RequestId': 'e3b4ae45-7e25-cb50-b96c-14bcec5d88d0', 'HTTPStatusCode': 200, 'HTTPHeaders': {'x-amzn-requestid': 'e3b4ae45-7e25-cb50-b96c-14bcec5d88d0', 'x-amz-id-2': 'FzfQ+4rW7heRgWfee4rBk/Y/F7ndMZzzBc1Yvhb1111yu+WhDlPjezVqEVolzTAhQRorcYCxUuyYZtUuh+9oBQwm/cm79pbR', 'date': 'Tue, 19 Apr 2022 13:27:21 GMT', 'content-type': 'application/x-amz-json-1.1', 'content-length': '110'}, 'RetryAttempts': 0}\n",
      "processed 90 interaction event for user 350=======================\n",
      "{'RequestId': 'ca4c3cfe-ffd1-3ab6-9094-86076da97936', 'HTTPStatusCode': 200, 'HTTPHeaders': {'x-amzn-requestid': 'ca4c3cfe-ffd1-3ab6-9094-86076da97936', 'x-amz-id-2': 'UxWy0LL5/jlGnuLgE0jjqHd+PXe2A/X683VBKvbITY8t2GpxC7y2Wg0ylnEr1qga1rCIaWydXyg3+BUizkHeJc5sv9IIuMIV', 'date': 'Tue, 19 Apr 2022 13:27:21 GMT', 'content-type': 'application/x-amz-json-1.1', 'content-length': '110'}, 'RetryAttempts': 0}\n",
      "processed 91 interaction event for user 350=======================\n",
      "{'RequestId': 'fab807aa-b8e0-418e-a060-bd532a98020e', 'HTTPStatusCode': 200, 'HTTPHeaders': {'x-amzn-requestid': 'fab807aa-b8e0-418e-a060-bd532a98020e', 'x-amz-id-2': 'spTP6PSvxvJ5PBO+ZYIBwvvfJ4CerkTM2KzzTUuu2bSKQPZfUsZsqx/sTbvbRRMt52XbHZr3u8eRA7hEOq7gSh4Qqg1cKsHv', 'date': 'Tue, 19 Apr 2022 13:27:21 GMT', 'content-type': 'application/x-amz-json-1.1', 'content-length': '110'}, 'RetryAttempts': 0}\n",
      "processed 92 interaction event for user 350=======================\n",
      "{'RequestId': 'e9a9130a-b20e-1cdd-b371-a9f320765f5d', 'HTTPStatusCode': 200, 'HTTPHeaders': {'x-amzn-requestid': 'e9a9130a-b20e-1cdd-b371-a9f320765f5d', 'x-amz-id-2': 'LiXcw0di1WaHr/hzIq2Am0AZJqr3uO1n0ectGEZ103IHn1ac/jEZo6+Oa/qhjTnS8tRCsP7e9qFfMhwWLPtVdusNxvxLvphO', 'date': 'Tue, 19 Apr 2022 13:27:21 GMT', 'content-type': 'application/x-amz-json-1.1', 'content-length': '110'}, 'RetryAttempts': 0}\n",
      "processed 93 interaction event for user 350=======================\n",
      "{'RequestId': 'd2767377-e55e-6f88-88ae-c98e77262c08', 'HTTPStatusCode': 200, 'HTTPHeaders': {'x-amzn-requestid': 'd2767377-e55e-6f88-88ae-c98e77262c08', 'x-amz-id-2': '24wtIbTFrTbPEwppbIxLD3PdXITqFK6eMjWieMwC4ulnTZvYUhuesY7Q5uWa8R7Qxskh8zVxqoJY76FFXOgxPWkXHL6Ddo2t', 'date': 'Tue, 19 Apr 2022 13:27:21 GMT', 'content-type': 'application/x-amz-json-1.1', 'content-length': '110'}, 'RetryAttempts': 0}\n",
      "processed 94 interaction event for user 350=======================\n",
      "{'RequestId': 'df7f0926-06ea-7997-85a7-b3df94923a17', 'HTTPStatusCode': 200, 'HTTPHeaders': {'x-amzn-requestid': 'df7f0926-06ea-7997-85a7-b3df94923a17', 'x-amz-id-2': '3rTPmGSXQA4lPiclkyXKBA9BR3fSsP2fQxhNIL6t8nRgeQlVmSmA/6SbBDVp6Bdn6vJ1Lp01Km3xpkri3rXKP9WDdCDudf3s', 'date': 'Tue, 19 Apr 2022 13:27:21 GMT', 'content-type': 'application/x-amz-json-1.1', 'content-length': '110'}, 'RetryAttempts': 0}\n",
      "processed 95 interaction event for user 350=======================\n",
      "{'RequestId': 'e2829adf-81f9-889a-b85a-20261381cb1a', 'HTTPStatusCode': 200, 'HTTPHeaders': {'x-amzn-requestid': 'e2829adf-81f9-889a-b85a-20261381cb1a', 'x-amz-id-2': 'PQnnu6m01NBqn+oMt4weW7fasmvc6d/eUBUMEDovsFs0XAIt2nKCWl18/yPhEQmZi2Nn+xA5LepK5XfLkfePwqVXhfz0wqup', 'date': 'Tue, 19 Apr 2022 13:27:21 GMT', 'content-type': 'application/x-amz-json-1.1', 'content-length': '110'}, 'RetryAttempts': 0}\n",
      "processed 96 interaction event for user 350=======================\n",
      "{'RequestId': 'd48d0eae-0690-c9b3-8e55-b45794e88a33', 'HTTPStatusCode': 200, 'HTTPHeaders': {'x-amzn-requestid': 'd48d0eae-0690-c9b3-8e55-b45794e88a33', 'x-amz-id-2': 'py7mWmiMRF4BpjN5TW1X3Hs5FeCcOeQIfPxFplSyhPArARc/liskfYtQLfCvW+ZY8L89uFVzqo5nxarkGeO72Q1ewZ7ssJVb', 'date': 'Tue, 19 Apr 2022 13:27:21 GMT', 'content-type': 'application/x-amz-json-1.1', 'content-length': '110'}, 'RetryAttempts': 0}\n",
      "processed 97 interaction event for user 350=======================\n",
      "{'RequestId': 'f67cba41-201d-ea13-aca4-00b8b265a993', 'HTTPStatusCode': 200, 'HTTPHeaders': {'x-amzn-requestid': 'f67cba41-201d-ea13-aca4-00b8b265a993', 'x-amz-id-2': 'GFmLXqcgx74BqAqNXZy4RbF25WlbBAiisbClNamWjp3VGIRkigxYwKm6vq2LXftwWToGeQjKf2YVp54c9c0JBl2nqhgbpM1u', 'date': 'Tue, 19 Apr 2022 13:27:21 GMT', 'content-type': 'application/x-amz-json-1.1', 'content-length': '110'}, 'RetryAttempts': 0}\n",
      "processed 98 interaction event for user 350=======================\n",
      "{'RequestId': 'dedb6dcc-275a-3e6e-8403-d735b5227dee', 'HTTPStatusCode': 200, 'HTTPHeaders': {'x-amzn-requestid': 'dedb6dcc-275a-3e6e-8403-d735b5227dee', 'x-amz-id-2': 'x8zDyoG0GneCTWscFsjacfWf75u4biirAo68EOIJhOaCLtbK+FgHulghqEWLa+wNAq0W9Nyl2FytNc5sKAAknc88ZIthyMOl', 'date': 'Tue, 19 Apr 2022 13:27:21 GMT', 'content-type': 'application/x-amz-json-1.1', 'content-length': '110'}, 'RetryAttempts': 0}\n",
      "processed 99 interaction event for user 350=======================\n",
      "{'RequestId': 'f45a9d28-dce9-f896-ae82-27d14e91bb16', 'HTTPStatusCode': 200, 'HTTPHeaders': {'x-amzn-requestid': 'f45a9d28-dce9-f896-ae82-27d14e91bb16', 'x-amz-id-2': 'nBmA3Uv4uRFoMAueL8PCwy28CuY/v3aG3J+xrx70SD4P30Mu4tJtoMx4y7/hvuiv+bDRu+uVu3pbWrvObfdZFef+Tnh5SqiU', 'date': 'Tue, 19 Apr 2022 13:27:21 GMT', 'content-type': 'application/x-amz-json-1.1', 'content-length': '110'}, 'RetryAttempts': 0}\n",
      "processed 100 interaction event for user 350=======================\n",
      "{'RequestId': 'c0809718-bb3b-6518-9a58-2de129432698', 'HTTPStatusCode': 200, 'HTTPHeaders': {'x-amzn-requestid': 'c0809718-bb3b-6518-9a58-2de129432698', 'x-amz-id-2': '9CUBREnBEJpHmAQndGpg8Xuzc33SyA5aDAiFtgwBZFkbZ1WsC27F8JWY7H24nWmYRHkXqcijm9o7W2F2Ivc8BaafZO/aE3o0', 'date': 'Tue, 19 Apr 2022 13:27:21 GMT', 'content-type': 'application/x-amz-json-1.1', 'content-length': '110'}, 'RetryAttempts': 0}\n"
     ]
    }
   ],
   "source": [
    "for i in range(100):\n",
    "    event = generate_personalize_event(user_id, item_list, event_tracking_id)\n",
    "\n",
    "    response = kds.put_record(\n",
    "        StreamName=stream_name,\n",
    "        Data=json.dumps(event),\n",
    "        PartitionKey=str(uuid.uuid4())\n",
    "    )\n",
    "    \n",
    "    print(f'processed {i+1} interaction event for user {user_id}=======================')\n",
    "    print(response['ResponseMetadata'])"
   ]
  },
  {
   "cell_type": "code",
   "execution_count": null,
   "id": "cd356928",
   "metadata": {},
   "outputs": [],
   "source": []
  }
 ],
 "metadata": {
  "kernelspec": {
   "display_name": "conda_python3",
   "language": "python",
   "name": "conda_python3"
  },
  "language_info": {
   "codemirror_mode": {
    "name": "ipython",
    "version": 3
   },
   "file_extension": ".py",
   "mimetype": "text/x-python",
   "name": "python",
   "nbconvert_exporter": "python",
   "pygments_lexer": "ipython3",
   "version": "3.6.13"
  }
 },
 "nbformat": 4,
 "nbformat_minor": 5
}
